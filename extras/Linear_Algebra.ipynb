{
 "cells": [
  {
   "cell_type": "markdown",
   "metadata": {},
   "source": [
    "# VII. Linear Algebra"
   ]
  },
  {
   "cell_type": "markdown",
   "metadata": {},
   "source": [
    "Now that we've been introduced to Julia arrays, we can look at some basic linear algrebra operations in Julia. Julia has a **LinearAlgebra** package that contains many of the essential linear algebra operations you'll want to do."
   ]
  },
  {
   "cell_type": "code",
   "execution_count": 1,
   "metadata": {},
   "outputs": [],
   "source": [
    "using LinearAlgebra, Random"
   ]
  },
  {
   "cell_type": "markdown",
   "metadata": {},
   "source": [
    "Let's first create some random arrays and a random vector to work with:"
   ]
  },
  {
   "cell_type": "code",
   "execution_count": 2,
   "metadata": {},
   "outputs": [],
   "source": [
    "Random.seed!(3456)\n",
    "\n",
    "A = randn(8, 8);\n",
    "B = randn(8, 3);\n",
    "v = randn(8, 1);\n",
    "w = randn(8, 1);"
   ]
  },
  {
   "cell_type": "markdown",
   "metadata": {},
   "source": [
    "The `diag` function extracts the diagonal elements of a matrix."
   ]
  },
  {
   "cell_type": "code",
   "execution_count": 3,
   "metadata": {},
   "outputs": [
    {
     "data": {
      "text/plain": [
       "8×8 Array{Float64,2}:\n",
       " -0.688339  -0.615253  -0.0611418  …  -2.1661      0.300158   -1.69806 \n",
       "  0.750255   1.2797     0.97558        0.0173633  -0.265884    1.10663 \n",
       " -0.153923   1.18711    0.593917       0.378665   -0.477716    2.3565  \n",
       " -0.287362  -0.943374  -0.256029      -0.0168396  -0.606196   -1.79008 \n",
       "  0.496566   0.152166  -0.802633       0.672111    0.0473015   0.625508\n",
       " -1.30766   -1.22183   -0.138292   …  -0.860421    0.363679   -0.901924\n",
       "  1.53377    1.30441    1.22024       -0.221994   -0.707533   -1.03049 \n",
       "  1.16425    1.4722     0.268278      -0.183815    0.343814    0.337883"
      ]
     },
     "execution_count": 3,
     "metadata": {},
     "output_type": "execute_result"
    }
   ],
   "source": [
    "A"
   ]
  },
  {
   "cell_type": "code",
   "execution_count": 4,
   "metadata": {},
   "outputs": [
    {
     "data": {
      "text/plain": [
       "8-element Array{Float64,1}:\n",
       " -0.688339244654015 \n",
       "  1.2797017247893248\n",
       "  0.5939169844595573\n",
       "  0.3214764664573483\n",
       " -1.0760225011915077\n",
       " -0.8604209660698918\n",
       " -0.7075332840681599\n",
       "  0.3378828203256559"
      ]
     },
     "execution_count": 4,
     "metadata": {},
     "output_type": "execute_result"
    }
   ],
   "source": [
    "diag(A)"
   ]
  },
  {
   "cell_type": "markdown",
   "metadata": {},
   "source": [
    "To create a diagonal matrix you can use `diagm`"
   ]
  },
  {
   "cell_type": "code",
   "execution_count": 5,
   "metadata": {},
   "outputs": [
    {
     "data": {
      "text/plain": [
       "4×4 Array{Int64,2}:\n",
       " 1  0  0  0\n",
       " 0  2  0  0\n",
       " 0  0  8  0\n",
       " 0  0  0  9"
      ]
     },
     "execution_count": 5,
     "metadata": {},
     "output_type": "execute_result"
    }
   ],
   "source": [
    "diagm(0 => [1, 2, 8, 9])"
   ]
  },
  {
   "cell_type": "markdown",
   "metadata": {},
   "source": [
    "The first argument in `diagm` specifies the offset. So if wanted the diagonal to be offset by -1:"
   ]
  },
  {
   "cell_type": "code",
   "execution_count": 6,
   "metadata": {},
   "outputs": [
    {
     "data": {
      "text/plain": [
       "5×5 Array{Int64,2}:\n",
       " 0  0  0  0  0\n",
       " 1  0  0  0  0\n",
       " 0  2  0  0  0\n",
       " 0  0  8  0  0\n",
       " 0  0  0  9  0"
      ]
     },
     "execution_count": 6,
     "metadata": {},
     "output_type": "execute_result"
    }
   ],
   "source": [
    "diagm(-1 => [ 1, 2, 8, 9 ])"
   ]
  },
  {
   "cell_type": "markdown",
   "metadata": {},
   "source": [
    "You can use the multiply operator to multiply matrices and vectors:"
   ]
  },
  {
   "cell_type": "code",
   "execution_count": 7,
   "metadata": {},
   "outputs": [
    {
     "data": {
      "text/plain": [
       "8×1 Array{Float64,2}:\n",
       " -1.894275219319194 \n",
       " -1.574451449913416 \n",
       " -2.2740644986044667\n",
       "  1.1028995224502975\n",
       "  2.7464497635390233\n",
       " -2.359082872070786 \n",
       "  1.5493335118305405\n",
       "  1.3116334236881408"
      ]
     },
     "execution_count": 7,
     "metadata": {},
     "output_type": "execute_result"
    }
   ],
   "source": [
    "A * v"
   ]
  },
  {
   "cell_type": "code",
   "execution_count": 8,
   "metadata": {},
   "outputs": [
    {
     "data": {
      "text/plain": [
       "8×3 Array{Float64,2}:\n",
       "  3.25825     3.42568     2.33589 \n",
       "  3.69917     1.22678    -0.139054\n",
       "  1.02256     0.0480705  -3.86294 \n",
       "  1.39681     0.5078      2.04395 \n",
       " -0.290529   -2.85541    -1.18417 \n",
       " -0.0660184   1.71239     2.61554 \n",
       " -1.96583     2.38908    -3.74341 \n",
       "  1.92449    -0.0749196  -1.68102 "
      ]
     },
     "execution_count": 8,
     "metadata": {},
     "output_type": "execute_result"
    }
   ],
   "source": [
    "A * B"
   ]
  },
  {
   "cell_type": "markdown",
   "metadata": {},
   "source": [
    "To take the transpose you use `'`:"
   ]
  },
  {
   "cell_type": "code",
   "execution_count": 9,
   "metadata": {},
   "outputs": [
    {
     "data": {
      "text/plain": [
       "1×8 Array{Float64,2}:\n",
       " -3.27157  -5.16092  -0.875946  -1.68548  …  -5.23001  1.16359  -8.10716"
      ]
     },
     "execution_count": 9,
     "metadata": {},
     "output_type": "execute_result"
    }
   ],
   "source": [
    "v' * A"
   ]
  },
  {
   "cell_type": "markdown",
   "metadata": {},
   "source": [
    "To take the innerproduct of two vectors you can use the `dot` function or the `*` operator. If using the latter you will need to make sure the dimensions match accordingly."
   ]
  },
  {
   "cell_type": "code",
   "execution_count": 10,
   "metadata": {},
   "outputs": [
    {
     "data": {
      "text/plain": [
       "3.151491586581374"
      ]
     },
     "execution_count": 10,
     "metadata": {},
     "output_type": "execute_result"
    }
   ],
   "source": [
    "dot(v, w)"
   ]
  },
  {
   "cell_type": "code",
   "execution_count": 11,
   "metadata": {},
   "outputs": [
    {
     "data": {
      "text/plain": [
       "1×1 Array{Float64,2}:\n",
       " 3.151491586581374"
      ]
     },
     "execution_count": 11,
     "metadata": {},
     "output_type": "execute_result"
    }
   ],
   "source": [
    "v'w"
   ]
  },
  {
   "cell_type": "markdown",
   "metadata": {},
   "source": [
    "And to solve a system of linear equations you can use the `\\` operator. Here we solve **Ax = v**:"
   ]
  },
  {
   "cell_type": "code",
   "execution_count": 12,
   "metadata": {},
   "outputs": [
    {
     "data": {
      "text/plain": [
       "8×1 Array{Float64,2}:\n",
       "  1.8741948731473514\n",
       " -3.8634670537453597\n",
       "  2.6586260523284357\n",
       "  0.6571841081509148\n",
       " -0.8693949071465388\n",
       " -0.5360585167187878\n",
       "  1.4021793966802156\n",
       "  0.8645722503074343"
      ]
     },
     "execution_count": 12,
     "metadata": {},
     "output_type": "execute_result"
    }
   ],
   "source": [
    "A \\ v"
   ]
  },
  {
   "cell_type": "markdown",
   "metadata": {},
   "source": [
    "Other common operations such as taking the trace of a matrix, finding the rank of matrix, eigenvalues and eigenvectors, etc. are also easily accomplished in Julia. We'll look at a few examples. To get the trace and rank you can use the `tr` and `rank` functions respectively:"
   ]
  },
  {
   "cell_type": "code",
   "execution_count": 13,
   "metadata": {},
   "outputs": [
    {
     "data": {
      "text/plain": [
       "-0.7993379999516881"
      ]
     },
     "execution_count": 13,
     "metadata": {},
     "output_type": "execute_result"
    }
   ],
   "source": [
    "tr(A)"
   ]
  },
  {
   "cell_type": "code",
   "execution_count": 14,
   "metadata": {},
   "outputs": [
    {
     "data": {
      "text/plain": [
       "3"
      ]
     },
     "execution_count": 14,
     "metadata": {},
     "output_type": "execute_result"
    }
   ],
   "source": [
    "rank(B)"
   ]
  },
  {
   "cell_type": "markdown",
   "metadata": {},
   "source": [
    "The `eigvals` and `eigvecs` functions will calculate the eigenvalues and eigenvectors:"
   ]
  },
  {
   "cell_type": "code",
   "execution_count": 15,
   "metadata": {},
   "outputs": [
    {
     "data": {
      "text/plain": [
       "8-element Array{Float64,1}:\n",
       "  0.0027342675581935242\n",
       "  0.06123498292205849  \n",
       "  1.2230516730658783   \n",
       "  2.820060271634031    \n",
       "  3.472141278626742    \n",
       "  8.161489860015513    \n",
       " 12.45370294410773     \n",
       " 27.431336714194117    "
      ]
     },
     "execution_count": 15,
     "metadata": {},
     "output_type": "execute_result"
    }
   ],
   "source": [
    "eigvals(A'A) "
   ]
  },
  {
   "cell_type": "code",
   "execution_count": 16,
   "metadata": {},
   "outputs": [
    {
     "data": {
      "text/plain": [
       "8×8 Array{Float64,2}:\n",
       "  0.0784544  -0.581292    0.379408   …  -0.0068975   0.449079   0.35738  \n",
       " -0.540378    0.490536    0.164697      -0.187269    0.2857     0.549461 \n",
       "  0.598159    0.103318   -0.0770459     -0.298606    0.211155   0.192422 \n",
       "  0.235625    0.108552   -0.337435      -0.640926   -0.149396   0.220085 \n",
       " -0.282685   -0.0963093   0.354044      -0.412479   -0.539055  -0.121225 \n",
       "  0.213714    0.4187     -0.0775658  …   0.51268    -0.200564   0.276396 \n",
       "  0.39848     0.321408    0.759841      -0.0216461  -0.115031  -0.0791276\n",
       "  0.0644371  -0.333359   -0.0201042      0.177434   -0.552956   0.622541 "
      ]
     },
     "execution_count": 16,
     "metadata": {},
     "output_type": "execute_result"
    }
   ],
   "source": [
    "eigvecs(A'A)"
   ]
  },
  {
   "cell_type": "markdown",
   "metadata": {},
   "source": [
    "And then to get the inverse of a matrix Julia has the `inv` function."
   ]
  },
  {
   "cell_type": "code",
   "execution_count": 17,
   "metadata": {},
   "outputs": [
    {
     "data": {
      "text/plain": [
       "8×8 Array{Float64,2}:\n",
       "  0.273535   1.14925   -0.853812   …   0.342561   0.709775  -1.30653 \n",
       "  1.08729   -3.48032    0.441585      -7.11021   -2.45727    0.972984\n",
       " -1.95288    3.30035    0.197284       8.71245    2.67588    0.645943\n",
       " -0.648251   1.37833    0.181362       3.3338     0.76654    0.572716\n",
       "  0.771246  -1.24497   -0.329684      -4.04235   -1.21241   -0.52638 \n",
       " -1.40747    0.729643   0.271954   …   3.40471    0.6389     1.20826 \n",
       " -1.57538    1.79417   -0.132232       6.1133     1.32994    1.49463 \n",
       "  0.166394   0.691746  -0.0805754      0.55625    0.363769  -0.860359"
      ]
     },
     "execution_count": 17,
     "metadata": {},
     "output_type": "execute_result"
    }
   ],
   "source": [
    "inv(A)"
   ]
  },
  {
   "cell_type": "markdown",
   "metadata": {},
   "source": [
    "The `det` function will return the determinant:"
   ]
  },
  {
   "cell_type": "code",
   "execution_count": 18,
   "metadata": {},
   "outputs": [
    {
     "data": {
      "text/plain": [
       "-2.3644386884338826"
      ]
     },
     "execution_count": 18,
     "metadata": {},
     "output_type": "execute_result"
    }
   ],
   "source": [
    "det(A)"
   ]
  },
  {
   "cell_type": "markdown",
   "metadata": {},
   "source": [
    "Now that we've covered some of the basic linear algebra operations let's move on to discuss more advanced linear algebra operations in Julia."
   ]
  },
  {
   "cell_type": "markdown",
   "metadata": {},
   "source": [
    "Julia has a number of special matrix types built into it. Furthermore, it has specialized routines specifically developed for particular matrix types. We'll cover a few of these matrix types. The first is triangular matrices. In Julia upper and lower triangular matrices are an actual type."
   ]
  },
  {
   "cell_type": "markdown",
   "metadata": {},
   "source": [
    "Here we create a matrix A and create a lower triangular version of it using the `LowerTriangular` function."
   ]
  },
  {
   "cell_type": "code",
   "execution_count": 19,
   "metadata": {},
   "outputs": [
    {
     "data": {
      "text/plain": [
       "4×4 Array{Int64,2}:\n",
       " 1  3  4  9\n",
       " 2  4  4  6\n",
       " 7  4  3  2\n",
       " 1  1  8  1"
      ]
     },
     "execution_count": 19,
     "metadata": {},
     "output_type": "execute_result"
    }
   ],
   "source": [
    "A = [1 3 4 9; 2 4 4 6; 7 4 3 2; 1 1 8 1]"
   ]
  },
  {
   "cell_type": "code",
   "execution_count": 20,
   "metadata": {},
   "outputs": [
    {
     "data": {
      "text/plain": [
       "4×4 LowerTriangular{Int64,Array{Int64,2}}:\n",
       " 1  ⋅  ⋅  ⋅\n",
       " 2  4  ⋅  ⋅\n",
       " 7  4  3  ⋅\n",
       " 1  1  8  1"
      ]
     },
     "execution_count": 20,
     "metadata": {},
     "output_type": "execute_result"
    }
   ],
   "source": [
    "lowertrA = LowerTriangular(A)"
   ]
  },
  {
   "cell_type": "markdown",
   "metadata": {},
   "source": [
    "Similarly we can create an upper triangular version of A:"
   ]
  },
  {
   "cell_type": "code",
   "execution_count": 21,
   "metadata": {},
   "outputs": [
    {
     "data": {
      "text/plain": [
       "4×4 UpperTriangular{Int64,Array{Int64,2}}:\n",
       " 1  3  4  9\n",
       " ⋅  4  4  6\n",
       " ⋅  ⋅  3  2\n",
       " ⋅  ⋅  ⋅  1"
      ]
     },
     "execution_count": 21,
     "metadata": {},
     "output_type": "execute_result"
    }
   ],
   "source": [
    "uppertrA = UpperTriangular(A)"
   ]
  },
  {
   "cell_type": "markdown",
   "metadata": {},
   "source": [
    "As you can see the matrices are typed as **LowerTriangular** and **UpperTriangular**. Therefore if you pass these matrices to functions that have specialized versions to work on these matrix types those specialized versions of the function will be used."
   ]
  },
  {
   "cell_type": "markdown",
   "metadata": {},
   "source": [
    "You can use the `Symmetric` function to create symmetric matrices."
   ]
  },
  {
   "cell_type": "code",
   "execution_count": 22,
   "metadata": {},
   "outputs": [
    {
     "data": {
      "text/plain": [
       "4×4 Symmetric{Int64,Array{Int64,2}}:\n",
       " 1  3  4  9\n",
       " 3  4  4  6\n",
       " 4  4  3  2\n",
       " 9  6  2  1"
      ]
     },
     "execution_count": 22,
     "metadata": {},
     "output_type": "execute_result"
    }
   ],
   "source": [
    "SymAUpper = Symmetric(A, :U) #create a symmetric matrix using the upper triangular part of matrix A"
   ]
  },
  {
   "cell_type": "code",
   "execution_count": 23,
   "metadata": {},
   "outputs": [
    {
     "data": {
      "text/plain": [
       "4×4 Symmetric{Int64,Array{Int64,2}}:\n",
       " 1  2  7  1\n",
       " 2  4  4  1\n",
       " 7  4  3  8\n",
       " 1  1  8  1"
      ]
     },
     "execution_count": 23,
     "metadata": {},
     "output_type": "execute_result"
    }
   ],
   "source": [
    "SymALower = Symmetric(A, :L) #create a symmetric matrix using the lower triangular part of matrix A"
   ]
  },
  {
   "cell_type": "markdown",
   "metadata": {},
   "source": [
    "Note that even if you create an array that is symmetric in its elements it won't be typed as **Symmetric** by default."
   ]
  },
  {
   "cell_type": "code",
   "execution_count": 24,
   "metadata": {},
   "outputs": [
    {
     "data": {
      "text/plain": [
       "4×4 Array{Int64,2}:\n",
       " 1  2   3  4\n",
       " 2  8   9  7\n",
       " 3  9  12  0\n",
       " 4  7   0  1"
      ]
     },
     "execution_count": 24,
     "metadata": {},
     "output_type": "execute_result"
    }
   ],
   "source": [
    "myarray = [1 2 3 4; 2 8 9 7; 3 9 12 0; 4 7 0 1]"
   ]
  },
  {
   "cell_type": "code",
   "execution_count": 25,
   "metadata": {},
   "outputs": [
    {
     "data": {
      "text/plain": [
       "4×4 Symmetric{Int64,Array{Int64,2}}:\n",
       " 1  2   3  4\n",
       " 2  8   9  7\n",
       " 3  9  12  0\n",
       " 4  7   0  1"
      ]
     },
     "execution_count": 25,
     "metadata": {},
     "output_type": "execute_result"
    }
   ],
   "source": [
    "Symmetric(myarray)"
   ]
  },
  {
   "cell_type": "markdown",
   "metadata": {},
   "source": [
    "We covered diagonal matrices earlier, but Julia also has built in functions that allow you easily to create bidiagonal and tridiagonal matrices."
   ]
  },
  {
   "cell_type": "markdown",
   "metadata": {},
   "source": [
    "Using two one dimensional vectors you can create a bidiagonal matrix using the `Bidiagonal` function:"
   ]
  },
  {
   "cell_type": "code",
   "execution_count": 26,
   "metadata": {},
   "outputs": [],
   "source": [
    "#create the diagonal vector\n",
    "d = [1, 3, 5, 7, 9]\n",
    "\n",
    "#create the off diagonal vector\n",
    "od = [5, 9, 1, 4];"
   ]
  },
  {
   "cell_type": "markdown",
   "metadata": {},
   "source": [
    "If you pass *:L* to the `Bidiagonal` function it will put the off diagonal vector below the main diagonal. "
   ]
  },
  {
   "cell_type": "code",
   "execution_count": 27,
   "metadata": {},
   "outputs": [
    {
     "data": {
      "text/plain": [
       "5×5 Bidiagonal{Int64,Array{Int64,1}}:\n",
       " 1  ⋅  ⋅  ⋅  ⋅\n",
       " 5  3  ⋅  ⋅  ⋅\n",
       " ⋅  9  5  ⋅  ⋅\n",
       " ⋅  ⋅  1  7  ⋅\n",
       " ⋅  ⋅  ⋅  4  9"
      ]
     },
     "execution_count": 27,
     "metadata": {},
     "output_type": "execute_result"
    }
   ],
   "source": [
    "Bidiagonal(d, od, :L)"
   ]
  },
  {
   "cell_type": "markdown",
   "metadata": {},
   "source": [
    "Passing *:U* to the `Bidiagonal` function will place the off diagonal vector above the main diagonal."
   ]
  },
  {
   "cell_type": "code",
   "execution_count": 28,
   "metadata": {},
   "outputs": [
    {
     "data": {
      "text/plain": [
       "5×5 Bidiagonal{Int64,Array{Int64,1}}:\n",
       " 1  5  ⋅  ⋅  ⋅\n",
       " ⋅  3  9  ⋅  ⋅\n",
       " ⋅  ⋅  5  1  ⋅\n",
       " ⋅  ⋅  ⋅  7  4\n",
       " ⋅  ⋅  ⋅  ⋅  9"
      ]
     },
     "execution_count": 28,
     "metadata": {},
     "output_type": "execute_result"
    }
   ],
   "source": [
    "Bidiagonal(d, od, :U)"
   ]
  },
  {
   "cell_type": "markdown",
   "metadata": {},
   "source": [
    "You can also pass a dense matrix to `Bidiagonal` and it will extract a bidiagonal matrix depending on whether *:L* or *:U* is specified."
   ]
  },
  {
   "cell_type": "code",
   "execution_count": 29,
   "metadata": {},
   "outputs": [
    {
     "data": {
      "text/plain": [
       "4×4 Array{Int64,2}:\n",
       " 1  3  4  9\n",
       " 2  4  4  6\n",
       " 7  4  3  2\n",
       " 1  1  8  1"
      ]
     },
     "execution_count": 29,
     "metadata": {},
     "output_type": "execute_result"
    }
   ],
   "source": [
    "A"
   ]
  },
  {
   "cell_type": "code",
   "execution_count": 30,
   "metadata": {},
   "outputs": [
    {
     "data": {
      "text/plain": [
       "4×4 Bidiagonal{Int64,Array{Int64,1}}:\n",
       " 1  ⋅  ⋅  ⋅\n",
       " 2  4  ⋅  ⋅\n",
       " ⋅  4  3  ⋅\n",
       " ⋅  ⋅  8  1"
      ]
     },
     "execution_count": 30,
     "metadata": {},
     "output_type": "execute_result"
    }
   ],
   "source": [
    "Bidiagonal( A, :L )"
   ]
  },
  {
   "cell_type": "code",
   "execution_count": 31,
   "metadata": {},
   "outputs": [
    {
     "data": {
      "text/plain": [
       "4×4 Bidiagonal{Int64,Array{Int64,1}}:\n",
       " 1  3  ⋅  ⋅\n",
       " ⋅  4  4  ⋅\n",
       " ⋅  ⋅  3  2\n",
       " ⋅  ⋅  ⋅  1"
      ]
     },
     "execution_count": 31,
     "metadata": {},
     "output_type": "execute_result"
    }
   ],
   "source": [
    "Bidiagonal( A, :U )"
   ]
  },
  {
   "cell_type": "markdown",
   "metadata": {},
   "source": [
    "The `Tridiagonal` function does similar opertions for tridiagonal matrices. In this case, you need to provide three one dimensional vectors: for the diagonal, for the lower off diagonal, and the upper off diagonal."
   ]
  },
  {
   "cell_type": "code",
   "execution_count": 32,
   "metadata": {},
   "outputs": [],
   "source": [
    "#create the diagonal vector\n",
    "d = [ 1, 3, 5, 7, 9 ]\n",
    "\n",
    "#create the lower off diagonal vector\n",
    "lod = [ 5, 9, 1, 4 ] \n",
    "\n",
    "#create the upper off diagonal vector\n",
    "uod = [ 9, 9, 8, 2 ] ;"
   ]
  },
  {
   "cell_type": "markdown",
   "metadata": {},
   "source": [
    "In the function call, you specify the lower off diagonal, then the main diagonal, and finally the upper off diagonal."
   ]
  },
  {
   "cell_type": "code",
   "execution_count": 33,
   "metadata": {},
   "outputs": [
    {
     "data": {
      "text/plain": [
       "5×5 Tridiagonal{Int64,Array{Int64,1}}:\n",
       " 1  9  ⋅  ⋅  ⋅\n",
       " 5  3  9  ⋅  ⋅\n",
       " ⋅  9  5  8  ⋅\n",
       " ⋅  ⋅  1  7  2\n",
       " ⋅  ⋅  ⋅  4  9"
      ]
     },
     "execution_count": 33,
     "metadata": {},
     "output_type": "execute_result"
    }
   ],
   "source": [
    "Tridiagonal(lod, d, uod)"
   ]
  },
  {
   "cell_type": "markdown",
   "metadata": {},
   "source": [
    "You can also pass in a matrix to the `Tridiagonal` function and it will extract a tridagonal matrix."
   ]
  },
  {
   "cell_type": "code",
   "execution_count": 34,
   "metadata": {},
   "outputs": [
    {
     "data": {
      "text/plain": [
       "4×4 Array{Int64,2}:\n",
       " 1  3  4  9\n",
       " 2  4  4  6\n",
       " 7  4  3  2\n",
       " 1  1  8  1"
      ]
     },
     "execution_count": 34,
     "metadata": {},
     "output_type": "execute_result"
    }
   ],
   "source": [
    "A"
   ]
  },
  {
   "cell_type": "code",
   "execution_count": 35,
   "metadata": {},
   "outputs": [
    {
     "data": {
      "text/plain": [
       "4×4 Tridiagonal{Int64,Array{Int64,1}}:\n",
       " 1  3  ⋅  ⋅\n",
       " 2  4  4  ⋅\n",
       " ⋅  4  3  2\n",
       " ⋅  ⋅  8  1"
      ]
     },
     "execution_count": 35,
     "metadata": {},
     "output_type": "execute_result"
    }
   ],
   "source": [
    "Tridiagonal(A)"
   ]
  },
  {
   "cell_type": "markdown",
   "metadata": {},
   "source": [
    "The last thing we'll cover are matrix factorizations. Julia has a wide variety of matrix factorizations available but we'll just cover a few of the main ones here."
   ]
  },
  {
   "cell_type": "markdown",
   "metadata": {},
   "source": [
    "The `qr` function will do the QR decomposition."
   ]
  },
  {
   "cell_type": "code",
   "execution_count": 36,
   "metadata": {},
   "outputs": [
    {
     "data": {
      "text/plain": [
       "5×5 Array{Float64,2}:\n",
       "  0.389393  -0.124904   -0.426251   0.824186  -0.699019\n",
       "  0.127935  -1.50031    -0.364123  -1.19986    0.910552\n",
       "  2.08576   -1.2144      0.610558  -0.42114    0.807478\n",
       " -0.472536   0.0125305   0.528363  -0.115136  -0.19075 \n",
       " -0.665111   0.675867    0.942072  -0.731561  -0.329135"
      ]
     },
     "execution_count": 36,
     "metadata": {},
     "output_type": "execute_result"
    }
   ],
   "source": [
    "M = randn(5, 5)"
   ]
  },
  {
   "cell_type": "code",
   "execution_count": 37,
   "metadata": {},
   "outputs": [
    {
     "data": {
      "text/plain": [
       "4×4 Array{Int64,2}:\n",
       " 1  3  4  9\n",
       " 2  4  4  6\n",
       " 7  4  3  2\n",
       " 1  1  8  1"
      ]
     },
     "execution_count": 37,
     "metadata": {},
     "output_type": "execute_result"
    }
   ],
   "source": [
    "A"
   ]
  },
  {
   "cell_type": "code",
   "execution_count": 38,
   "metadata": {},
   "outputs": [
    {
     "data": {
      "text/plain": [
       "LinearAlgebra.QRCompactWY{Float64,Array{Float64,2}}\n",
       "Q factor:\n",
       "5×5 LinearAlgebra.QRCompactWYQ{Float64,Array{Float64,2}}:\n",
       " -0.171023    0.0795459   0.365862   -0.494885    0.765283 \n",
       " -0.0561894  -0.96062    -0.0245296   0.171453    0.209893 \n",
       " -0.916072    0.0573073  -0.396084   -0.0054166  -0.0248227\n",
       "  0.207539   -0.190551   -0.482856   -0.799433   -0.219942 \n",
       "  0.292119    0.176887   -0.689574    0.294227    0.56683  \n",
       "R factor:\n",
       "5×5 Array{Float64,2}:\n",
       " -2.27685  1.41818  -0.0811032   0.0746611  -0.807058\n",
       "  0.0      1.47886   0.416826    1.08657    -0.905896\n",
       "  0.0      0.0      -1.2936      1.05784    -0.278842\n",
       "  0.0      0.0       0.0        -0.734516    0.553328\n",
       "  0.0      0.0       0.0         0.0        -0.508482"
      ]
     },
     "execution_count": 38,
     "metadata": {},
     "output_type": "execute_result"
    }
   ],
   "source": [
    "Mqr = qr(M)"
   ]
  },
  {
   "cell_type": "markdown",
   "metadata": {},
   "source": [
    "You can reference the components of the QR factorization using dot notation."
   ]
  },
  {
   "cell_type": "code",
   "execution_count": 39,
   "metadata": {},
   "outputs": [
    {
     "data": {
      "text/plain": [
       "5×5 LinearAlgebra.QRCompactWYQ{Float64,Array{Float64,2}}:\n",
       " -0.171023    0.0795459   0.365862   -0.494885    0.765283 \n",
       " -0.0561894  -0.96062    -0.0245296   0.171453    0.209893 \n",
       " -0.916072    0.0573073  -0.396084   -0.0054166  -0.0248227\n",
       "  0.207539   -0.190551   -0.482856   -0.799433   -0.219942 \n",
       "  0.292119    0.176887   -0.689574    0.294227    0.56683  "
      ]
     },
     "execution_count": 39,
     "metadata": {},
     "output_type": "execute_result"
    }
   ],
   "source": [
    "Mqr.Q #get the orthogonal matrix Q"
   ]
  },
  {
   "cell_type": "code",
   "execution_count": 40,
   "metadata": {},
   "outputs": [
    {
     "data": {
      "text/plain": [
       "5×5 Array{Float64,2}:\n",
       " -2.27685  1.41818  -0.0811032   0.0746611  -0.807058\n",
       "  0.0      1.47886   0.416826    1.08657    -0.905896\n",
       "  0.0      0.0      -1.2936      1.05784    -0.278842\n",
       "  0.0      0.0       0.0        -0.734516    0.553328\n",
       "  0.0      0.0       0.0         0.0        -0.508482"
      ]
     },
     "execution_count": 40,
     "metadata": {},
     "output_type": "execute_result"
    }
   ],
   "source": [
    "Mqr.R #get the upper triangular matrix R"
   ]
  },
  {
   "cell_type": "markdown",
   "metadata": {},
   "source": [
    "Another common factorization is the LU decomposition which can be called in Julia using the `lu` function."
   ]
  },
  {
   "cell_type": "code",
   "execution_count": 41,
   "metadata": {},
   "outputs": [
    {
     "data": {
      "text/plain": [
       "LU{Float64,Array{Float64,2}}\n",
       "L factor:\n",
       "5×5 Array{Float64,2}:\n",
       "  1.0         0.0         0.0       0.0     0.0\n",
       "  0.0613373   1.0         0.0       0.0     0.0\n",
       " -0.318882   -0.202421    1.0       0.0     0.0\n",
       " -0.226554    0.184173    0.701715  1.0     0.0\n",
       "  0.186691   -0.0714082  -0.539008  0.2874  1.0\n",
       "U factor:\n",
       "5×5 Array{Float64,2}:\n",
       " 2.08576  -1.2144    0.610558  -0.42114   0.807478\n",
       " 0.0      -1.42582  -0.401573  -1.17403   0.861023\n",
       " 0.0       0.0       1.05548   -1.1035    0.102644\n",
       " 0.0       0.0       0.0        0.78002  -0.238416\n",
       " 0.0       0.0       0.0        0.0      -0.664437"
      ]
     },
     "execution_count": 41,
     "metadata": {},
     "output_type": "execute_result"
    }
   ],
   "source": [
    "Mlu = lu(M)"
   ]
  },
  {
   "cell_type": "markdown",
   "metadata": {},
   "source": [
    "Again you can use dot notation to reference the L and U components:"
   ]
  },
  {
   "cell_type": "code",
   "execution_count": 42,
   "metadata": {},
   "outputs": [
    {
     "data": {
      "text/plain": [
       "5×5 Array{Float64,2}:\n",
       "  1.0         0.0         0.0       0.0     0.0\n",
       "  0.0613373   1.0         0.0       0.0     0.0\n",
       " -0.318882   -0.202421    1.0       0.0     0.0\n",
       " -0.226554    0.184173    0.701715  1.0     0.0\n",
       "  0.186691   -0.0714082  -0.539008  0.2874  1.0"
      ]
     },
     "execution_count": 42,
     "metadata": {},
     "output_type": "execute_result"
    }
   ],
   "source": [
    "Mlu.L #get the lower triangular matrix L"
   ]
  },
  {
   "cell_type": "code",
   "execution_count": 43,
   "metadata": {},
   "outputs": [
    {
     "data": {
      "text/plain": [
       "5×5 Array{Float64,2}:\n",
       " 2.08576  -1.2144    0.610558  -0.42114   0.807478\n",
       " 0.0      -1.42582  -0.401573  -1.17403   0.861023\n",
       " 0.0       0.0       1.05548   -1.1035    0.102644\n",
       " 0.0       0.0       0.0        0.78002  -0.238416\n",
       " 0.0       0.0       0.0        0.0      -0.664437"
      ]
     },
     "execution_count": 43,
     "metadata": {},
     "output_type": "execute_result"
    }
   ],
   "source": [
    "Mlu.U #get the upper triangular matrix U"
   ]
  },
  {
   "cell_type": "markdown",
   "metadata": {},
   "source": [
    "Functions exist for other common decompositions: `svd` for SVD, `cholesky` for Cholesky, `eigen` for Eigen decomposition, etc."
   ]
  }
 ],
 "metadata": {
  "kernelspec": {
   "display_name": "Julia 1.3.0",
   "language": "julia",
   "name": "julia-1.3"
  },
  "language_info": {
   "file_extension": ".jl",
   "mimetype": "application/julia",
   "name": "julia",
   "version": "1.3.0"
  }
 },
 "nbformat": 4,
 "nbformat_minor": 4
}

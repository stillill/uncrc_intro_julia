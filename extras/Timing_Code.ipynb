{
 "cells": [
  {
   "cell_type": "markdown",
   "metadata": {},
   "source": [
    "# VII. Timing Code"
   ]
  },
  {
   "cell_type": "markdown",
   "metadata": {},
   "source": [
    "Julia has a built-in macro `@time` that can be used to time code."
   ]
  },
  {
   "cell_type": "code",
   "execution_count": 1,
   "metadata": {},
   "outputs": [],
   "source": [
    "using LinearAlgebra\n",
    "using Random\n",
    "\n",
    "Random.seed!(1234);"
   ]
  },
  {
   "cell_type": "code",
   "execution_count": 2,
   "metadata": {},
   "outputs": [
    {
     "data": {
      "text/plain": [
       "ExpMat (generic function with 1 method)"
      ]
     },
     "execution_count": 2,
     "metadata": {},
     "output_type": "execute_result"
    }
   ],
   "source": [
    "# Exponentiate a matrix\n",
    "\n",
    "function ExpMat(A,n)\n",
    "    nr = size(A,1)\n",
    "    I = Diagonal(ones(nr,nr))\n",
    "    s = I + A\n",
    "    t = A\n",
    "    for j = 2:n\n",
    "        s += t*A / n\n",
    "    end\n",
    "    return s\n",
    "end"
   ]
  },
  {
   "cell_type": "code",
   "execution_count": 3,
   "metadata": {},
   "outputs": [],
   "source": [
    "U = randn(1000,1000);"
   ]
  },
  {
   "cell_type": "markdown",
   "metadata": {},
   "source": [
    "The first time Julia encounters a user-written function it will compile and then cache this compiled function. Therefore the first very first timing will include the compilation time. To get an accurate timing of the function's execution time you will want to time the function a few times. "
   ]
  },
  {
   "cell_type": "code",
   "execution_count": 4,
   "metadata": {},
   "outputs": [
    {
     "name": "stdout",
     "output_type": "stream",
     "text": [
      "  2.561447 seconds (3.93 M allocations: 635.974 MiB, 10.67% gc time)\n"
     ]
    }
   ],
   "source": [
    "@time ExpMat(U, 20);"
   ]
  },
  {
   "cell_type": "code",
   "execution_count": 5,
   "metadata": {},
   "outputs": [
    {
     "name": "stdout",
     "output_type": "stream",
     "text": [
      "  1.270768 seconds (126 allocations: 450.147 MiB, 1.77% gc time)\n"
     ]
    }
   ],
   "source": [
    "@time ExpMat(U, 20);"
   ]
  },
  {
   "cell_type": "code",
   "execution_count": 6,
   "metadata": {},
   "outputs": [
    {
     "name": "stdout",
     "output_type": "stream",
     "text": [
      "  1.278146 seconds (126 allocations: 450.147 MiB, 1.85% gc time)\n"
     ]
    }
   ],
   "source": [
    "@time ExpMat(U, 20);"
   ]
  },
  {
   "cell_type": "markdown",
   "metadata": {},
   "source": [
    "An alternative is to use the __BenchmarkTools__ package which will provide a benchmark based on a sample of runs and provides sample statistics."
   ]
  },
  {
   "cell_type": "code",
   "execution_count": 7,
   "metadata": {},
   "outputs": [],
   "source": [
    "using BenchmarkTools"
   ]
  },
  {
   "cell_type": "code",
   "execution_count": 8,
   "metadata": {},
   "outputs": [
    {
     "data": {
      "text/plain": [
       "BenchmarkTools.Trial: \n",
       "  memory estimate:  450.15 MiB\n",
       "  allocs estimate:  122\n",
       "  --------------\n",
       "  minimum time:     1.243 s (1.40% GC)\n",
       "  median time:      1.280 s (1.68% GC)\n",
       "  mean time:        1.308 s (4.16% GC)\n",
       "  maximum time:     1.440 s (12.79% GC)\n",
       "  --------------\n",
       "  samples:          5\n",
       "  evals/sample:     1"
      ]
     },
     "execution_count": 8,
     "metadata": {},
     "output_type": "execute_result"
    }
   ],
   "source": [
    "@benchmark ExpMat(U, 20) seconds = 6"
   ]
  },
  {
   "cell_type": "markdown",
   "metadata": {},
   "source": [
    "We saw before there were three ways to do apply a function to a collection of values: array comprehension, map function, using the dot syntax, and a for loop. We can benchmark these approaches to see how they compare."
   ]
  },
  {
   "cell_type": "code",
   "execution_count": 9,
   "metadata": {},
   "outputs": [],
   "source": [
    "array = randn(10^6);"
   ]
  },
  {
   "cell_type": "code",
   "execution_count": 10,
   "metadata": {},
   "outputs": [
    {
     "data": {
      "text/plain": [
       "BenchmarkTools.Trial: \n",
       "  memory estimate:  7.63 MiB\n",
       "  allocs estimate:  3\n",
       "  --------------\n",
       "  minimum time:     23.284 ms (0.00% GC)\n",
       "  median time:      23.576 ms (0.00% GC)\n",
       "  mean time:        24.743 ms (1.17% GC)\n",
       "  maximum time:     28.660 ms (4.60% GC)\n",
       "  --------------\n",
       "  samples:          20\n",
       "  evals/sample:     1"
      ]
     },
     "execution_count": 10,
     "metadata": {},
     "output_type": "execute_result"
    }
   ],
   "source": [
    "@benchmark [exp(cos(u)) for u in array] samples = 20"
   ]
  },
  {
   "cell_type": "code",
   "execution_count": 11,
   "metadata": {},
   "outputs": [
    {
     "data": {
      "text/plain": [
       "BenchmarkTools.Trial: \n",
       "  memory estimate:  7.63 MiB\n",
       "  allocs estimate:  3\n",
       "  --------------\n",
       "  minimum time:     23.233 ms (0.00% GC)\n",
       "  median time:      23.376 ms (0.00% GC)\n",
       "  mean time:        24.599 ms (1.28% GC)\n",
       "  maximum time:     28.503 ms (4.35% GC)\n",
       "  --------------\n",
       "  samples:          20\n",
       "  evals/sample:     1"
      ]
     },
     "execution_count": 11,
     "metadata": {},
     "output_type": "execute_result"
    }
   ],
   "source": [
    "@benchmark map(x -> exp(cos(x)), array) samples = 20"
   ]
  },
  {
   "cell_type": "code",
   "execution_count": 12,
   "metadata": {},
   "outputs": [
    {
     "data": {
      "text/plain": [
       "BenchmarkTools.Trial: \n",
       "  memory estimate:  7.63 MiB\n",
       "  allocs estimate:  7\n",
       "  --------------\n",
       "  minimum time:     22.677 ms (0.00% GC)\n",
       "  median time:      22.953 ms (0.00% GC)\n",
       "  mean time:        24.045 ms (1.27% GC)\n",
       "  maximum time:     28.443 ms (3.95% GC)\n",
       "  --------------\n",
       "  samples:          20\n",
       "  evals/sample:     1"
      ]
     },
     "execution_count": 12,
     "metadata": {},
     "output_type": "execute_result"
    }
   ],
   "source": [
    "@benchmark exp.(cos.(array)) samples = 20"
   ]
  },
  {
   "cell_type": "code",
   "execution_count": 13,
   "metadata": {},
   "outputs": [
    {
     "data": {
      "text/plain": [
       "floop (generic function with 1 method)"
      ]
     },
     "execution_count": 13,
     "metadata": {},
     "output_type": "execute_result"
    }
   ],
   "source": [
    "function floop(array)\n",
    "    for i in 1:length(array); \n",
    "        exp(cos(array[i])); \n",
    "    end\n",
    "    nothing\n",
    "end"
   ]
  },
  {
   "cell_type": "code",
   "execution_count": 14,
   "metadata": {},
   "outputs": [
    {
     "data": {
      "text/plain": [
       "BenchmarkTools.Trial: \n",
       "  memory estimate:  0 bytes\n",
       "  allocs estimate:  0\n",
       "  --------------\n",
       "  minimum time:     22.475 ms (0.00% GC)\n",
       "  median time:      22.644 ms (0.00% GC)\n",
       "  mean time:        22.697 ms (0.00% GC)\n",
       "  maximum time:     23.370 ms (0.00% GC)\n",
       "  --------------\n",
       "  samples:          20\n",
       "  evals/sample:     1"
      ]
     },
     "execution_count": 14,
     "metadata": {},
     "output_type": "execute_result"
    }
   ],
   "source": [
    "@benchmark floop(array) samples = 20"
   ]
  },
  {
   "cell_type": "code",
   "execution_count": null,
   "metadata": {},
   "outputs": [],
   "source": []
  }
 ],
 "metadata": {
  "kernelspec": {
   "display_name": "Julia 1.3.0",
   "language": "julia",
   "name": "julia-1.3"
  },
  "language_info": {
   "file_extension": ".jl",
   "mimetype": "application/julia",
   "name": "julia",
   "version": "1.3.0"
  }
 },
 "nbformat": 4,
 "nbformat_minor": 2
}

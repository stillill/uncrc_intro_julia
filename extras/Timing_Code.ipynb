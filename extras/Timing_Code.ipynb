{
 "cells": [
  {
   "cell_type": "markdown",
   "metadata": {},
   "source": [
    "# VII. Timing Code"
   ]
  },
  {
   "cell_type": "markdown",
   "metadata": {},
   "source": [
    "Julia has a built-in macro `@time` that can be used to time code."
   ]
  },
  {
   "cell_type": "code",
   "execution_count": 1,
   "metadata": {},
   "outputs": [],
   "source": [
    "using LinearAlgebra\n",
    "using Random\n",
    "\n",
    "Random.seed!(1234);"
   ]
  },
  {
   "cell_type": "code",
   "execution_count": 2,
   "metadata": {},
   "outputs": [
    {
     "data": {
      "text/plain": [
       "ExpMat (generic function with 1 method)"
      ]
     },
     "execution_count": 2,
     "metadata": {},
     "output_type": "execute_result"
    }
   ],
   "source": [
    "# Exponentiate a matrix\n",
    "\n",
    "function ExpMat(A,n)\n",
    "    nr = size(A,1)\n",
    "    I = Diagonal(ones(nr,nr))\n",
    "    s = I + A\n",
    "    t = A\n",
    "    for j = 2:n\n",
    "        s += t*A / n\n",
    "    end\n",
    "    return s\n",
    "end"
   ]
  },
  {
   "cell_type": "code",
   "execution_count": 3,
   "metadata": {},
   "outputs": [],
   "source": [
    "U = randn(1000,1000);"
   ]
  },
  {
   "cell_type": "markdown",
   "metadata": {},
   "source": [
    "The first time Julia encounters a user-written function it will compile and then cache this compiled function. Therefore the first very first timing will include the compilation time. To get an accurate timing of the function's execution time you will want to time the function a few times. "
   ]
  },
  {
   "cell_type": "code",
   "execution_count": 4,
   "metadata": {},
   "outputs": [
    {
     "name": "stdout",
     "output_type": "stream",
     "text": [
      "  2.561447 seconds (3.93 M allocations: 635.974 MiB, 10.67% gc time)\n"
     ]
    }
   ],
   "source": [
    "@time ExpMat(U, 20);"
   ]
  },
  {
   "cell_type": "code",
   "execution_count": 5,
   "metadata": {},
   "outputs": [
    {
     "name": "stdout",
     "output_type": "stream",
     "text": [
      "  1.270768 seconds (126 allocations: 450.147 MiB, 1.77% gc time)\n"
     ]
    }
   ],
   "source": [
    "@time ExpMat(U, 20);"
   ]
  },
  {
   "cell_type": "code",
   "execution_count": 6,
   "metadata": {},
   "outputs": [
    {
     "name": "stdout",
     "output_type": "stream",
     "text": [
      "  1.278146 seconds (126 allocations: 450.147 MiB, 1.85% gc time)\n"
     ]
    }
   ],
   "source": [
    "@time ExpMat(U, 20);"
   ]
  },
  {
   "cell_type": "markdown",
   "metadata": {},
   "source": [
    "An alternative is to use the __BenchmarkTools__ package which will provide a benchmark based on a sample of runs and provides sample statistics."
   ]
  },
  {
   "cell_type": "code",
   "execution_count": 7,
   "metadata": {},
   "outputs": [],
   "source": [
    "using BenchmarkTools"
   ]
  },
  {
   "cell_type": "code",
   "execution_count": 8,
   "metadata": {},
   "outputs": [
    {
     "data": {
      "text/plain": [
       "BenchmarkTools.Trial: \n",
       "  memory estimate:  450.15 MiB\n",
       "  allocs estimate:  122\n",
       "  --------------\n",
       "  minimum time:     1.243 s (1.40% GC)\n",
       "  median time:      1.280 s (1.68% GC)\n",
       "  mean time:        1.308 s (4.16% GC)\n",
       "  maximum time:     1.440 s (12.79% GC)\n",
       "  --------------\n",
       "  samples:          5\n",
       "  evals/sample:     1"
      ]
     },
     "execution_count": 8,
     "metadata": {},
     "output_type": "execute_result"
    }
   ],
   "source": [
    "@benchmark ExpMat(U, 20) seconds = 6"
   ]
  },
  {
   "cell_type": "code",
   "execution_count": null,
   "metadata": {},
   "outputs": [],
   "source": []
  }
 ],
 "metadata": {
  "kernelspec": {
   "display_name": "Julia 1.6.3",
   "language": "julia",
   "name": "julia-1.6"
  },
  "language_info": {
   "file_extension": ".jl",
   "mimetype": "application/julia",
   "name": "julia",
   "version": "1.6.3"
  }
 },
 "nbformat": 4,
 "nbformat_minor": 4
}

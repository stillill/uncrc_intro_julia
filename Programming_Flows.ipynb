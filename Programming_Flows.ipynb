{
 "cells": [
  {
   "cell_type": "markdown",
   "metadata": {},
   "source": [
    "# IV. Programming Flows"
   ]
  },
  {
   "cell_type": "markdown",
   "metadata": {},
   "source": [
    "You can implement basic control structures in your code. Here we'll cover the most important ones: the __if__ statement, the __for__ loop, and the __while__ loop."
   ]
  },
  {
   "cell_type": "markdown",
   "metadata": {},
   "source": [
    "The basic structure of the **if** statement is <br>\n",
    "<br>\n",
    "__if__ *expression* <br>\n",
    "&nbsp;&nbsp;&nbsp;&nbsp;&nbsp;*statements* <br>\n",
    "__end__ <br>"
   ]
  },
  {
   "cell_type": "code",
   "execution_count": 1,
   "metadata": {},
   "outputs": [
    {
     "name": "stdout",
     "output_type": "stream",
     "text": [
      "a is greater than b\n"
     ]
    }
   ],
   "source": [
    "a = 4; b = 3;\n",
    "\n",
    "if a > b\n",
    "    println(\"a is greater than b\")\n",
    "end"
   ]
  },
  {
   "cell_type": "markdown",
   "metadata": {},
   "source": [
    "You can add an additional branch using __else__:"
   ]
  },
  {
   "cell_type": "code",
   "execution_count": 2,
   "metadata": {},
   "outputs": [
    {
     "name": "stdout",
     "output_type": "stream",
     "text": [
      "a is greater than b\n"
     ]
    }
   ],
   "source": [
    "if a > b\n",
    "    println(\"a is greater than b\")\n",
    "else\n",
    "    println(\"b is greater than or equal to a\")\n",
    "end"
   ]
  },
  {
   "cell_type": "markdown",
   "metadata": {},
   "source": [
    "A nice alternative to the __if-else__ construct is the __ternary__ operator which has the following syntax:\n",
    "\n",
    "x ? y : z\n",
    "\n",
    "The above can be interpreted as _\"if x is true do y otherwise do z\"_. Rewriting the above __if-else__ statement using the ternary operator becomes:"
   ]
  },
  {
   "cell_type": "code",
   "execution_count": 3,
   "metadata": {},
   "outputs": [
    {
     "name": "stdout",
     "output_type": "stream",
     "text": [
      "a is greater than b\n"
     ]
    }
   ],
   "source": [
    "a > b ? println(\"a is greater than b\") : println(\"b is greater than or equal to a\")"
   ]
  },
  {
   "cell_type": "markdown",
   "metadata": {},
   "source": [
    "If you need more than two branches you can add (multiple) __elseif__ statements:"
   ]
  },
  {
   "cell_type": "code",
   "execution_count": 4,
   "metadata": {},
   "outputs": [
    {
     "name": "stdout",
     "output_type": "stream",
     "text": [
      "b is greater than a\n"
     ]
    }
   ],
   "source": [
    "a = 2; b = 4;\n",
    "\n",
    "if a > b\n",
    "    println(\"a is greater than b\")\n",
    "elseif b > a\n",
    "    println(\"b is greater than a\")\n",
    "else\n",
    "    println(\"a and b are equal\")\n",
    "end"
   ]
  },
  {
   "cell_type": "markdown",
   "metadata": {},
   "source": [
    "We'll next look at the __for__ loop and for that we'll use Julia's *Distributions.jl* package to generate some randomn numbers from the Poisson distribution."
   ]
  },
  {
   "cell_type": "code",
   "execution_count": 5,
   "metadata": {},
   "outputs": [],
   "source": [
    "#using Pkg; Pkg.add( \"Distributions\" )\n",
    "using Random, Distributions\n",
    "\n",
    "#=\n",
    "First set the seed\n",
    "Then generate 20 random numbers from a Poisson distribution with rate parameter 2 \n",
    "And multiply by 1 or -1 element-wise.\n",
    "=#\n",
    "\n",
    "Random.seed!(723) # Setting the seed\n",
    "x = rand(Poisson(2), 20) .* rand([-1, 1], 20); \n",
    "#x = [-4, -3, 1, 1, 1, 5, -5, -3, -3, 2, -2, 0, 2, 0, -2, -4, -3, -2, 2, 2];"
   ]
  },
  {
   "cell_type": "code",
   "execution_count": 6,
   "metadata": {},
   "outputs": [
    {
     "name": "stdout",
     "output_type": "stream",
     "text": [
      "[-4, -3, 1, 1, 1, 5, -5, -3, -3, 2, -2, 0, 2, 0, -2, -4, -3, -2, 2, 2]"
     ]
    }
   ],
   "source": [
    "show(x)"
   ]
  },
  {
   "cell_type": "markdown",
   "metadata": {},
   "source": [
    "The basic structure of the **for** loop is <br>\n",
    "<br>\n",
    "__for__ *variable = expression* <br>\n",
    "&nbsp;&nbsp;&nbsp;&nbsp;&nbsp;*statements* <br>\n",
    "__end__ <br>"
   ]
  },
  {
   "cell_type": "markdown",
   "metadata": {},
   "source": [
    "The __for__ loop is convenient for iterating over a block of code."
   ]
  },
  {
   "cell_type": "code",
   "execution_count": 7,
   "metadata": {},
   "outputs": [
    {
     "name": "stdout",
     "output_type": "stream",
     "text": [
      "Element 1 of x is less than 0\n",
      "Element 2 of x is less than 0\n",
      "Element 3 of x is greater than 0\n",
      "Element 4 of x is greater than 0\n",
      "Element 5 of x is greater than 0\n",
      "Element 6 of x is greater than 0\n",
      "Element 7 of x is less than 0\n",
      "Element 8 of x is less than 0\n",
      "Element 9 of x is less than 0\n",
      "Element 10 of x is greater than 0\n",
      "Element 11 of x is less than 0\n",
      "Element 12 of x is equal to 0\n",
      "Element 13 of x is greater than 0\n",
      "Element 14 of x is equal to 0\n",
      "Element 15 of x is less than 0\n",
      "Element 16 of x is less than 0\n",
      "Element 17 of x is less than 0\n",
      "Element 18 of x is less than 0\n",
      "Element 19 of x is greater than 0\n",
      "Element 20 of x is greater than 0\n"
     ]
    }
   ],
   "source": [
    "for j = 1:length(x)\n",
    "    if x[j] > 0\n",
    "        println(\"Element $j of x is greater than 0\")\n",
    "    elseif x[j] < 0\n",
    "        println(\"Element $j of x is less than 0\")\n",
    "    else\n",
    "       println(\"Element $j of x is equal to 0\") \n",
    "    end\n",
    "end"
   ]
  },
  {
   "cell_type": "markdown",
   "metadata": {},
   "source": [
    "With for loops you can use the __in__ keyword in the __for__ statement."
   ]
  },
  {
   "cell_type": "code",
   "execution_count": 8,
   "metadata": {},
   "outputs": [
    {
     "name": "stdout",
     "output_type": "stream",
     "text": [
      "a\n",
      "b\n",
      "c\n",
      "d\n",
      "e\n",
      "f\n",
      "g\n"
     ]
    }
   ],
   "source": [
    "letters = ['a', 'b', 'c', 'd', 'e', 'f', 'g']\n",
    "for el in letters\n",
    "    println(el)\n",
    "end"
   ]
  },
  {
   "cell_type": "markdown",
   "metadata": {},
   "source": [
    "Julia offers the following convenient syntax to do nested __for__ loops that allows for less typing:"
   ]
  },
  {
   "cell_type": "code",
   "execution_count": 9,
   "metadata": {},
   "outputs": [
    {
     "name": "stdout",
     "output_type": "stream",
     "text": [
      "The product of i = 1 and j = 1 is 1\n",
      "The product of i = 1 and j = 2 is 2\n",
      "The product of i = 1 and j = 3 is 3\n",
      "The product of i = 1 and j = 4 is 4\n",
      "The product of i = 1 and j = 5 is 5\n",
      "The product of i = 1 and j = 6 is 6\n",
      "The product of i = 2 and j = 1 is 2\n",
      "The product of i = 2 and j = 2 is 4\n",
      "The product of i = 2 and j = 3 is 6\n",
      "The product of i = 2 and j = 4 is 8\n",
      "The product of i = 2 and j = 5 is 10\n",
      "The product of i = 2 and j = 6 is 12\n",
      "The product of i = 3 and j = 1 is 3\n",
      "The product of i = 3 and j = 2 is 6\n",
      "The product of i = 3 and j = 3 is 9\n",
      "The product of i = 3 and j = 4 is 12\n",
      "The product of i = 3 and j = 5 is 15\n",
      "The product of i = 3 and j = 6 is 18\n",
      "The product of i = 4 and j = 1 is 4\n",
      "The product of i = 4 and j = 2 is 8\n",
      "The product of i = 4 and j = 3 is 12\n",
      "The product of i = 4 and j = 4 is 16\n",
      "The product of i = 4 and j = 5 is 20\n",
      "The product of i = 4 and j = 6 is 24\n",
      "The product of i = 5 and j = 1 is 5\n",
      "The product of i = 5 and j = 2 is 10\n",
      "The product of i = 5 and j = 3 is 15\n",
      "The product of i = 5 and j = 4 is 20\n",
      "The product of i = 5 and j = 5 is 25\n",
      "The product of i = 5 and j = 6 is 30\n"
     ]
    }
   ],
   "source": [
    "for i in 1:5, j in 1:6\n",
    "    println( \"The product of i = \", i, \" and j = \", j, \" is \", i * j )\n",
    "end"
   ]
  },
  {
   "cell_type": "markdown",
   "metadata": {},
   "source": [
    "Like Python, Julia offers a __zip__ function to simultaneously traverse through pairs from two sequences."
   ]
  },
  {
   "cell_type": "code",
   "execution_count": 10,
   "metadata": {},
   "outputs": [
    {
     "name": "stdout",
     "output_type": "stream",
     "text": [
      "1 times 6 is 6\n",
      "2 times 7 is 14\n",
      "3 times 8 is 24\n",
      "4 times 9 is 36\n",
      "5 times 10 is 50\n"
     ]
    }
   ],
   "source": [
    "for (a, b) in zip(1:5, 6:10)\n",
    "    println(\"$a times $b is \", a * b)\n",
    "end"
   ]
  },
  {
   "cell_type": "markdown",
   "metadata": {},
   "source": [
    "Related to the __for__ loop is something called an *array comprehension*. It can be a convenient syntax for doing something iteratively. \n",
    "\n",
    "Let's suppose we wanted to create a new array called __y__ which was equal to the exponentiation of each element of the array __x__. We could use a __for__ loop to do this."
   ]
  },
  {
   "cell_type": "code",
   "execution_count": 11,
   "metadata": {},
   "outputs": [],
   "source": [
    "y = Array{Float64}(undef, length(x))\n",
    "\n",
    "for j in 1:length(x)\n",
    "    y[j] = exp(x[j])\n",
    "end"
   ]
  },
  {
   "cell_type": "code",
   "execution_count": 12,
   "metadata": {},
   "outputs": [
    {
     "name": "stdout",
     "output_type": "stream",
     "text": [
      "[0.01831563888873418, 0.049787068367863944, 2.718281828459045, 2.718281828459045, 2.718281828459045, 148.4131591025766, 0.006737946999085467, 0.049787068367863944, 0.049787068367863944, 7.38905609893065, 0.1353352832366127, 1.0, 7.38905609893065, 1.0, 0.1353352832366127, 0.01831563888873418, 0.049787068367863944, 0.1353352832366127, 7.38905609893065, 7.38905609893065]"
     ]
    }
   ],
   "source": [
    "show(y)"
   ]
  },
  {
   "cell_type": "markdown",
   "metadata": {},
   "source": [
    "Julia also has array comprehensions built into it. To do something like the above for loop using an array comprehension you would do:"
   ]
  },
  {
   "cell_type": "code",
   "execution_count": 13,
   "metadata": {},
   "outputs": [
    {
     "name": "stdout",
     "output_type": "stream",
     "text": [
      "[0.01831563888873418, 0.049787068367863944, 2.718281828459045, 2.718281828459045, 2.718281828459045, 148.4131591025766, 0.006737946999085467, 0.049787068367863944, 0.049787068367863944, 7.38905609893065, 0.1353352832366127, 1.0, 7.38905609893065, 1.0, 0.1353352832366127, 0.01831563888873418, 0.049787068367863944, 0.1353352832366127, 7.38905609893065, 7.38905609893065]"
     ]
    }
   ],
   "source": [
    "z = [exp(el) for el in x]\n",
    "\n",
    "show(z)"
   ]
  },
  {
   "cell_type": "markdown",
   "metadata": {},
   "source": [
    "Note you could've also done the same thing using dot notation:"
   ]
  },
  {
   "cell_type": "code",
   "execution_count": 14,
   "metadata": {},
   "outputs": [
    {
     "name": "stdout",
     "output_type": "stream",
     "text": [
      "[0.01831563888873418, 0.049787068367863944, 2.718281828459045, 2.718281828459045, 2.718281828459045, 148.4131591025766, 0.006737946999085467, 0.049787068367863944, 0.049787068367863944, 7.38905609893065, 0.1353352832366127, 1.0, 7.38905609893065, 1.0, 0.1353352832366127, 0.01831563888873418, 0.049787068367863944, 0.1353352832366127, 7.38905609893065, 7.38905609893065]"
     ]
    }
   ],
   "source": [
    "u = exp.(x)\n",
    "show(u)"
   ]
  },
  {
   "cell_type": "markdown",
   "metadata": {},
   "source": [
    "Or you could've also used the `map` function:"
   ]
  },
  {
   "cell_type": "code",
   "execution_count": 15,
   "metadata": {},
   "outputs": [
    {
     "name": "stdout",
     "output_type": "stream",
     "text": [
      "[0.01831563888873418, 0.049787068367863944, 2.718281828459045, 2.718281828459045, 2.718281828459045, 148.4131591025766, 0.006737946999085467, 0.049787068367863944, 0.049787068367863944, 7.38905609893065, 0.1353352832366127, 1.0, 7.38905609893065, 1.0, 0.1353352832366127, 0.01831563888873418, 0.049787068367863944, 0.1353352832366127, 7.38905609893065, 7.38905609893065]"
     ]
    }
   ],
   "source": [
    "v = map(exp, x)\n",
    "show(v)"
   ]
  },
  {
   "cell_type": "markdown",
   "metadata": {},
   "source": [
    "The last control structure we'll cover here is the __while__ loop. It's basic structure is <br>\n",
    "<br>\n",
    "__while__ *expression* <br>\n",
    "&nbsp;&nbsp;&nbsp;&nbsp;&nbsp;*statements* <br>\n",
    "__end__ <br>\n",
    "\n",
    "The __while__ loop is used to iterate over a block of code while the *expression* is __true__."
   ]
  },
  {
   "cell_type": "code",
   "execution_count": 16,
   "metadata": {},
   "outputs": [
    {
     "name": "stdout",
     "output_type": "stream",
     "text": [
      "true\n",
      "false\n",
      "true\n",
      "true\n",
      "false\n",
      "false\n",
      "false\n",
      "true\n",
      "true\n",
      "false\n",
      "false\n",
      "true\n",
      "false\n",
      "false\n",
      "false\n",
      "false\n",
      "true\n",
      "false\n",
      "true\n",
      "true\n"
     ]
    }
   ],
   "source": [
    "x = randn(20);\n",
    "count = 20\n",
    "\n",
    "while count > 0\n",
    "    println(x[count] > 0)\n",
    "    global count -= 1  # need to use global since count is defined outside the scope of the while block\n",
    "end"
   ]
  },
  {
   "cell_type": "markdown",
   "metadata": {},
   "source": [
    "# Exercise 4\n",
    "* Generate a one-dimensional array of 30 numbers using rand called *a*.\n",
    "* Use a for loop to create a new array called *b* that is the log of each element of *a*.\n",
    "* Use an array comprehension to create a new array called *c* that is the square of element of *b*."
   ]
  },
  {
   "cell_type": "code",
   "execution_count": null,
   "metadata": {},
   "outputs": [],
   "source": []
  },
  {
   "cell_type": "markdown",
   "metadata": {},
   "source": [
    "In this lesson we covered: <br\\>\n",
    "* Common programming flows: if statement, for loops, while loops\n",
    "* Array comprehensions"
   ]
  }
 ],
 "metadata": {
  "kernelspec": {
   "display_name": "Julia 1.3.0",
   "language": "julia",
   "name": "julia-1.3"
  },
  "language_info": {
   "file_extension": ".jl",
   "mimetype": "application/julia",
   "name": "julia",
   "version": "1.3.0"
  }
 },
 "nbformat": 4,
 "nbformat_minor": 4
}

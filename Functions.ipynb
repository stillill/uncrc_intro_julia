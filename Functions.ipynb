{
 "cells": [
  {
   "cell_type": "markdown",
   "metadata": {},
   "source": [
    "# V. Functions"
   ]
  },
  {
   "cell_type": "markdown",
   "metadata": {},
   "source": [
    "Julia will not have every function you need to use so there will be times when you will neet to write your own functions. More importantly, according to the official Julia documentation, __\"code that is performance critical should be inside a function.\"__  In general you will want to have as little code as possible running in global scope.\n",
    "The syntax for writing user-defined functions in Julia is similar to that in other scientfic programming languages."
   ]
  },
  {
   "cell_type": "markdown",
   "metadata": {},
   "source": [
    "The function definition starts with the __function__ keyword and ends with the __end__ keyword. The basic structure is as follows:"
   ]
  },
  {
   "cell_type": "markdown",
   "metadata": {},
   "source": [
    "__function__ *functionname*(list of inputs) <br>\n",
    "&nbsp;&nbsp;statements <br>\n",
    "__end__"
   ]
  },
  {
   "cell_type": "markdown",
   "metadata": {},
   "source": [
    "*functionname* is the name of the function and the list of inputs is a comma separated list of arguments being passed into the function. You pass arguments to functions via **()**. Julia follows the \"pass-by-sharing\" convention for passing arguments.\n",
    "\n",
    "The following is a simple example:"
   ]
  },
  {
   "cell_type": "code",
   "execution_count": 1,
   "metadata": {},
   "outputs": [
    {
     "name": "stdout",
     "output_type": "stream",
     "text": [
      "f(3,4) is -0.454\n"
     ]
    }
   ],
   "source": [
    "#Define the function\n",
    "\n",
    "function f(a, b)\n",
    "    return 4 * exp(-a) + cos(b)\n",
    "end\n",
    "\n",
    "#Call the function with values\n",
    "x = 3; y = 4\n",
    "res = f(x, y)\n",
    "\n",
    "println(\"f($x,$y) is \", round(res, digits = 3))"
   ]
  },
  {
   "cell_type": "markdown",
   "metadata": {},
   "source": [
    "The return statment is optional in the function. When left out, the function returns the last computed value, so we could've simply done:"
   ]
  },
  {
   "cell_type": "code",
   "execution_count": 2,
   "metadata": {},
   "outputs": [
    {
     "name": "stdout",
     "output_type": "stream",
     "text": [
      "f1(3,4) is -0.454\n"
     ]
    }
   ],
   "source": [
    "function f1(a, b)\n",
    "    4 * exp(-a) + cos(b)\n",
    "end\n",
    "\n",
    "x = 3; y = 4;\n",
    "res = f1(x, y)\n",
    "\n",
    "println(\"f1($x,$y) is \", round(f1(x, y), digits = 3))"
   ]
  },
  {
   "cell_type": "markdown",
   "metadata": {},
   "source": [
    "To define a function that returns multiple values include the multiple values (comma-separated) in the function's return statement. Here we also include a docstring using triple quotes to document the function."
   ]
  },
  {
   "cell_type": "code",
   "execution_count": 3,
   "metadata": {},
   "outputs": [
    {
     "name": "stdout",
     "output_type": "stream",
     "text": [
      "The first returned value of f2 is 1.97096. The second returned value of f2 is -0.454495.\n"
     ]
    }
   ],
   "source": [
    "\"\"\"\n",
    "    f2(a,b)\n",
    "\n",
    "Compute two expressions using the inputs a and b.\n",
    "\"\"\"\n",
    "function f2(a, b) \n",
    "    return 3 * sin(a + b), 4 * exp(-a) + cos(b)\n",
    "end\n",
    "\n",
    "x = 3; y = 4;\n",
    "res1, res2 = f2(x, y)\n",
    "\n",
    "println( \"The first returned value of f2 is \", round(res1, digits = 6), \". The second returned value of f2 is \", \n",
    "    round(res2, digits = 6), \".\")"
   ]
  },
  {
   "cell_type": "code",
   "execution_count": 4,
   "metadata": {},
   "outputs": [
    {
     "name": "stdout",
     "output_type": "stream",
     "text": [
      "search: \u001b[0m\u001b[1mF\u001b[22mloat3\u001b[0m\u001b[1m2\u001b[22m \u001b[0m\u001b[1mf\u001b[22m\u001b[0m\u001b[1m2\u001b[22m In\u001b[0m\u001b[1mf\u001b[22m3\u001b[0m\u001b[1m2\u001b[22m Complex\u001b[0m\u001b[1mF\u001b[22m3\u001b[0m\u001b[1m2\u001b[22m\n",
      "\n"
     ]
    },
    {
     "data": {
      "text/latex": [
       "\\begin{verbatim}\n",
       "f2(a,b)\n",
       "\\end{verbatim}\n",
       "Compute two expressions using the inputs a and b.\n",
       "\n"
      ],
      "text/markdown": [
       "```\n",
       "f2(a,b)\n",
       "```\n",
       "\n",
       "Compute two expressions using the inputs a and b.\n"
      ],
      "text/plain": [
       "\u001b[36m  f2(a,b)\u001b[39m\n",
       "\n",
       "  Compute two expressions using the inputs a and b."
      ]
     },
     "execution_count": 4,
     "metadata": {},
     "output_type": "execute_result"
    }
   ],
   "source": [
    "?f2"
   ]
  },
  {
   "cell_type": "markdown",
   "metadata": {},
   "source": [
    "If a function is really simply you can define it using a more succint one-line syntax:"
   ]
  },
  {
   "cell_type": "code",
   "execution_count": 5,
   "metadata": {},
   "outputs": [
    {
     "data": {
      "text/plain": [
       "f3 (generic function with 1 method)"
      ]
     },
     "execution_count": 5,
     "metadata": {},
     "output_type": "execute_result"
    }
   ],
   "source": [
    "f3(a, b) = 4 * exp(-a) + cos( b )"
   ]
  },
  {
   "cell_type": "code",
   "execution_count": 6,
   "metadata": {},
   "outputs": [
    {
     "name": "stdout",
     "output_type": "stream",
     "text": [
      "f3(3,4) is -0.454\n"
     ]
    }
   ],
   "source": [
    "x = 3; y = 4;\n",
    "res = f3(x, y)\n",
    "\n",
    "println(\"f3($x,$y) is \", round(f3(x, y), digits = 3))"
   ]
  },
  {
   "cell_type": "markdown",
   "metadata": {},
   "source": [
    "It's possible to incorporate default values for function arguments. This can be done in the function header. For example, for our function above we could set __b__ to a default value of one. Doing so allows the user not to specify the value of __b__ in their function call; so that it is set to the value of one unless the user specifies the value of __b__ in the function call."
   ]
  },
  {
   "cell_type": "code",
   "execution_count": 7,
   "metadata": {},
   "outputs": [
    {
     "name": "stdout",
     "output_type": "stream",
     "text": [
      "f4(3,1) is 0.739\n",
      "f4(3,4) is -0.454\n"
     ]
    }
   ],
   "source": [
    "function f4(a, b = 1)\n",
    "    return 4 * exp( -a ) + cos( b )\n",
    "end\n",
    "\n",
    "u = 3;\n",
    "res = f4(u)\n",
    "println( \"f4($u,1) is \", round(res, digits = 3))\n",
    "\n",
    "u = 3; v = 4\n",
    "println( \"f4($u,$v) is \", round(f4(u, v), digits = 3))"
   ]
  },
  {
   "cell_type": "markdown",
   "metadata": {},
   "source": [
    "You can also use keyword function arguments by using a `;` in the function header to separate the keyword arguments from the positional arguments."
   ]
  },
  {
   "cell_type": "code",
   "execution_count": 8,
   "metadata": {},
   "outputs": [
    {
     "data": {
      "text/plain": [
       "f5 (generic function with 1 method)"
      ]
     },
     "execution_count": 8,
     "metadata": {},
     "output_type": "execute_result"
    }
   ],
   "source": [
    "function f5(a; b)\n",
    "    return 4 * exp(-a) + cos(b)\n",
    "end"
   ]
  },
  {
   "cell_type": "code",
   "execution_count": 9,
   "metadata": {},
   "outputs": [
    {
     "data": {
      "text/plain": [
       "1.055370928138627"
      ]
     },
     "execution_count": 9,
     "metadata": {},
     "output_type": "execute_result"
    }
   ],
   "source": [
    "f5(1, b = 2)"
   ]
  },
  {
   "cell_type": "markdown",
   "metadata": {},
   "source": [
    "### Passing Array Arguments to Functions:"
   ]
  },
  {
   "cell_type": "markdown",
   "metadata": {},
   "source": [
    "In general when you pass arguments to functions, the value of the argument can not be modified by the function."
   ]
  },
  {
   "cell_type": "markdown",
   "metadata": {},
   "source": [
    "However, in Julia, **arrays are passed to functions by reference** versus being passed by copy. What this means is that if modifications are done on the array in the body of the function then the array will be permanently modified."
   ]
  },
  {
   "cell_type": "code",
   "execution_count": 10,
   "metadata": {},
   "outputs": [
    {
     "data": {
      "text/plain": [
       "AddFiveToDiag"
      ]
     },
     "execution_count": 10,
     "metadata": {},
     "output_type": "execute_result"
    }
   ],
   "source": [
    "\"\"\"\n",
    "    AddFiveToDiag(B)\n",
    "\n",
    "Adds five to the diagonal elements of an array .\n",
    "\"\"\"\n",
    "function AddFiveToDiag(B)\n",
    "    for j = 1:size(B,1)\n",
    "        B[j,j] += 5\n",
    "    end\n",
    "end"
   ]
  },
  {
   "cell_type": "code",
   "execution_count": 11,
   "metadata": {},
   "outputs": [
    {
     "data": {
      "text/plain": [
       "5×5 Matrix{Float64}:\n",
       " -0.795991  -1.80321   -0.5481      0.409311    1.39217\n",
       " -0.875162   0.679608   0.525403   -0.0499564  -1.25004\n",
       "  1.34918    0.774063   1.19687     0.385656   -1.85823\n",
       " -0.295505  -0.244964   0.0459239   0.0882468   1.70927\n",
       " -0.296284  -1.31677    1.88455     1.12555    -0.387414"
      ]
     },
     "execution_count": 11,
     "metadata": {},
     "output_type": "execute_result"
    }
   ],
   "source": [
    "# The array before the function call\n",
    "A = randn(5,5)"
   ]
  },
  {
   "cell_type": "code",
   "execution_count": 12,
   "metadata": {},
   "outputs": [],
   "source": [
    "# Pass the array to the function\n",
    "\n",
    "AddFiveToDiag(A)"
   ]
  },
  {
   "cell_type": "code",
   "execution_count": 13,
   "metadata": {},
   "outputs": [
    {
     "data": {
      "text/plain": [
       "5×5 Matrix{Float64}:\n",
       "  4.20401   -1.80321   -0.5481      0.409311    1.39217\n",
       " -0.875162   5.67961    0.525403   -0.0499564  -1.25004\n",
       "  1.34918    0.774063   6.19687     0.385656   -1.85823\n",
       " -0.295505  -0.244964   0.0459239   5.08825     1.70927\n",
       " -0.296284  -1.31677    1.88455     1.12555     4.61259"
      ]
     },
     "execution_count": 13,
     "metadata": {},
     "output_type": "execute_result"
    }
   ],
   "source": [
    "# Array after function call\n",
    "\n",
    "A"
   ]
  },
  {
   "cell_type": "markdown",
   "metadata": {},
   "source": [
    "# Exercise 5\n",
    "* Write a function that takes an array as input, squares each element, sums up all the squared elements and returns the result.\n",
    "* Test your function on the array [1,4,3,-1]."
   ]
  },
  {
   "cell_type": "code",
   "execution_count": null,
   "metadata": {},
   "outputs": [],
   "source": []
  },
  {
   "cell_type": "markdown",
   "metadata": {},
   "source": [
    "In this lesson we covered:\n",
    "* Writing your own functions.\n",
    "* Anonymous functions.\n",
    "* Using default values for keyword arguments."
   ]
  },
  {
   "cell_type": "code",
   "execution_count": null,
   "metadata": {},
   "outputs": [],
   "source": []
  }
 ],
 "metadata": {
  "@webio": {
   "lastCommId": null,
   "lastKernelId": null
  },
  "kernelspec": {
   "display_name": "Julia 1.8.0",
   "language": "julia",
   "name": "julia-1.8"
  },
  "language_info": {
   "file_extension": ".jl",
   "mimetype": "application/julia",
   "name": "julia",
   "version": "1.8.0"
  }
 },
 "nbformat": 4,
 "nbformat_minor": 4
}

{
 "cells": [
  {
   "cell_type": "markdown",
   "metadata": {},
   "source": [
    "# VI. Functions"
   ]
  },
  {
   "cell_type": "markdown",
   "metadata": {},
   "source": [
    "Julia will not have every function you need to use. There will be times when you will want to write your own functions. The syntax for writing user-defined functions in Julia is similar to that in other scientfic programming languages."
   ]
  },
  {
   "cell_type": "markdown",
   "metadata": {},
   "source": [
    "The function definition starts with the __function__ keyword and ends with the __end__ keyword. The basic structure is as follows:"
   ]
  },
  {
   "cell_type": "markdown",
   "metadata": {
    "collapsed": true
   },
   "source": [
    "__function__ *functionname*(list of inputs) <br>\n",
    "&nbsp;&nbsp;statements <br>\n",
    "__end__"
   ]
  },
  {
   "cell_type": "markdown",
   "metadata": {},
   "source": [
    "*functionname* is the name of the function and (list of inputs) is a comma separated list of arguments being passed into the function. You pass arguments to functions via **()**.\n",
    "\n",
    "The following is a simple example:"
   ]
  },
  {
   "cell_type": "code",
   "execution_count": null,
   "metadata": {},
   "outputs": [],
   "source": [
    "#Define the function\n",
    "\n",
    "function f(a,b)\n",
    "    return 4*exp(-a)+cos(b)\n",
    "end\n",
    "\n",
    "#Call the function with values\n",
    "x = 3; y = 4\n",
    "res = f(x,y)\n",
    "println(\"f($x,$y) is \", round(res, digits = 6))\n",
    "\n",
    "x = 2.3; y = 5\n",
    "println(\"f($x,$y) is \", round(f(x,y), digits = 6))"
   ]
  },
  {
   "cell_type": "markdown",
   "metadata": {},
   "source": [
    "The return statment is optional in the function. When left out the function returns the last computed value, so we could've simply done:"
   ]
  },
  {
   "cell_type": "code",
   "execution_count": null,
   "metadata": {},
   "outputs": [],
   "source": [
    "function f1(a,b)\n",
    "    4*exp(-a)+cos(b)\n",
    "end\n",
    "\n",
    "x = 3; y = 4;\n",
    "res = f1(x,y)\n",
    "println(\"f1($x,$y) is \", round(f1(x,y), digits = 6))\n",
    "\n",
    "x = 2.3; y = 5\n",
    "println(\"f1($x,$y) is \", round(f1(x,y), digits = 6))"
   ]
  },
  {
   "cell_type": "markdown",
   "metadata": {},
   "source": [
    "You can define functions using a more succint one-line syntax which may come in handy sometimes:"
   ]
  },
  {
   "cell_type": "markdown",
   "metadata": {},
   "source": [
    "To define a function that returns multiple values include the multiple values (comma-separated) in the function's return statement."
   ]
  },
  {
   "cell_type": "code",
   "execution_count": null,
   "metadata": {},
   "outputs": [],
   "source": [
    "function f2(a,b)\n",
    "    return 3*sin(a+b), 4*exp(-a)+cos(b)\n",
    "end\n",
    "\n",
    "x = 3;y = 4;\n",
    "res1, res2 = f2(x,y)\n",
    "println(\"The first returned value of f2 is \", round(res1, digits = 6), \". The second returned value of f2 is \", \n",
    "    round(res2, digits = 6), \".\")\n",
    "\n",
    "x = 2.3;y = 5\n",
    "res1, res2 = f2(x,y)\n",
    "println(\"The first returned value of f2 is \", round(res1, digits = 6), \". The second returned value of f2 is \", \n",
    "    round(res2, digits = 6), \".\")"
   ]
  },
  {
   "cell_type": "code",
   "execution_count": null,
   "metadata": {},
   "outputs": [],
   "source": [
    "f3(a,b) = 4*exp(-a) + cos(b)"
   ]
  },
  {
   "cell_type": "code",
   "execution_count": null,
   "metadata": {},
   "outputs": [],
   "source": [
    "x = 3; y = 4;\n",
    "res = f3(x,y)\n",
    "println(\"f3($x,$y) is \", round(f3(x,y), digits = 6))\n",
    "x = 2.3;y = 5\n",
    "println(\"f3($x,$y) is \", round(f3(x,y), digits = 6))"
   ]
  },
  {
   "cell_type": "markdown",
   "metadata": {},
   "source": [
    "If you don't want to bother coming up with a name for your function, again sometimes, convenient, you can create an \"anonymous\" function. These are akin to lambda functions in Python."
   ]
  },
  {
   "cell_type": "code",
   "execution_count": null,
   "metadata": {},
   "outputs": [],
   "source": [
    "(a,b) -> 4*exp(-a) + cos(b);"
   ]
  },
  {
   "cell_type": "markdown",
   "metadata": {},
   "source": [
    "To actually use the function you would do something like:"
   ]
  },
  {
   "cell_type": "code",
   "execution_count": null,
   "metadata": {},
   "outputs": [],
   "source": [
    "x = 3;y = 4;\n",
    "((a,b) -> 4*exp(-a) + cos(b))(x,y)"
   ]
  },
  {
   "cell_type": "markdown",
   "metadata": {},
   "source": [
    "Anonymous funtions are typically used as arguments to other functions such as **map** or **filter**:"
   ]
  },
  {
   "cell_type": "code",
   "execution_count": null,
   "metadata": {},
   "outputs": [],
   "source": [
    "((a,b) -> 4*exp(-a) + cos(b))(2.3,5)"
   ]
  },
  {
   "cell_type": "code",
   "execution_count": null,
   "metadata": {},
   "outputs": [],
   "source": [
    "a = (3,2.3)\n",
    "b = (4,5)\n",
    "map((a,b) -> 4*exp(-a) + cos(b), a,b)"
   ]
  },
  {
   "cell_type": "markdown",
   "metadata": {},
   "source": [
    "The last thing I want to cover regarding functions is the use of default values for function arguments. This can be done in the function header. For example, for our function above we could set __b__ to a default value of one. \n",
    "\n",
    "Doing so allows the user not to specify the value of __b__ in their function call; so that it is set to the value of one unless the user specifies the value of __b__ in the function call."
   ]
  },
  {
   "cell_type": "code",
   "execution_count": null,
   "metadata": {},
   "outputs": [],
   "source": [
    "function f3(a, b=1)\n",
    "    return 4*exp(-a)+cos(b)\n",
    "end\n",
    "\n",
    "u=3;\n",
    "res = f3(u)\n",
    "println(\"f3($u,1) is \", round(res, digits = 6))\n",
    "u=3;v=4\n",
    "println(\"f3($u,$v) is \", round(f3(x,y), digits = 6))"
   ]
  },
  {
   "cell_type": "markdown",
   "metadata": {},
   "source": [
    "# Exercise 5\n",
    "* Write a function that takes an array as input, squares each element, sums up all the squared elements and returns the result.\n",
    "* Test your function on the array [1,4,3,-1]."
   ]
  },
  {
   "cell_type": "code",
   "execution_count": null,
   "metadata": {},
   "outputs": [],
   "source": []
  },
  {
   "cell_type": "markdown",
   "metadata": {},
   "source": [
    "In this lesson we covered:\n",
    "* Writing your own functions.\n",
    "* Anonymous functions.\n",
    "* Using default values for keyword arguments."
   ]
  },
  {
   "cell_type": "code",
   "execution_count": null,
   "metadata": {},
   "outputs": [],
   "source": []
  }
 ],
 "metadata": {
  "@webio": {
   "lastCommId": null,
   "lastKernelId": null
  },
  "kernelspec": {
   "display_name": "Julia 1.1.1",
   "language": "julia",
   "name": "julia-1.1"
  },
  "language_info": {
   "file_extension": ".jl",
   "mimetype": "application/julia",
   "name": "julia",
   "version": "1.1.1"
  }
 },
 "nbformat": 4,
 "nbformat_minor": 2
}

{
 "cells": [
  {
   "cell_type": "markdown",
   "metadata": {},
   "source": [
    "# III. Working with arrays"
   ]
  },
  {
   "cell_type": "markdown",
   "metadata": {},
   "source": [
    "Julia has built-in functions that can be used to create arrays of random numbers. We can use the `rand` function to generate random floats between 0 and 1."
   ]
  },
  {
   "cell_type": "code",
   "execution_count": 1,
   "metadata": {},
   "outputs": [
    {
     "name": "stdout",
     "output_type": "stream",
     "text": [
      "[0.19927441672995716, 0.5995918327449121, 0.3141570026895182, 0.4446245154559061, 0.1495385302183222, 0.12771791317770165, 0.6479098707621335, 0.16261916628339923, 0.044064284343234394, 0.23051503533847573, 0.763469665315854, 0.7398896139733794, 0.6270256801833655, 0.3238792421957988, 0.8440816260527113, 0.03815436074199585, 0.3660353643894211, 0.4110789499291604, 0.3905430238564215, 0.07163177855466774]\n"
     ]
    }
   ],
   "source": [
    "a = rand(20);\n",
    "println(a)"
   ]
  },
  {
   "cell_type": "markdown",
   "metadata": {},
   "source": [
    "The `rand` function can be used to sample from an arbitrary set of numbers. Here we sample three values from the values 1 through 20."
   ]
  },
  {
   "cell_type": "code",
   "execution_count": 2,
   "metadata": {},
   "outputs": [
    {
     "data": {
      "text/plain": [
       "3-element Vector{Int64}:\n",
       " 14\n",
       " 14\n",
       " 14"
      ]
     },
     "execution_count": 2,
     "metadata": {},
     "output_type": "execute_result"
    }
   ],
   "source": [
    "rand(1:20, 3)"
   ]
  },
  {
   "cell_type": "markdown",
   "metadata": {},
   "source": [
    "Here we use indexing to get the first three elements of __a__."
   ]
  },
  {
   "cell_type": "code",
   "execution_count": 3,
   "metadata": {},
   "outputs": [
    {
     "data": {
      "text/plain": [
       "3-element Vector{Float64}:\n",
       " 0.19927441672995716\n",
       " 0.5995918327449121\n",
       " 0.3141570026895182"
      ]
     },
     "execution_count": 3,
     "metadata": {},
     "output_type": "execute_result"
    }
   ],
   "source": [
    "a[1:3]"
   ]
  },
  {
   "cell_type": "markdown",
   "metadata": {},
   "source": [
    "The __end__ keyword can be used to go to the last element along the dimension. The following will get the elements of __a__ starting from index 14 to the end."
   ]
  },
  {
   "cell_type": "code",
   "execution_count": 4,
   "metadata": {},
   "outputs": [
    {
     "data": {
      "text/plain": [
       "7-element Vector{Float64}:\n",
       " 0.3238792421957988\n",
       " 0.8440816260527113\n",
       " 0.03815436074199585\n",
       " 0.3660353643894211\n",
       " 0.4110789499291604\n",
       " 0.3905430238564215\n",
       " 0.07163177855466774"
      ]
     },
     "execution_count": 4,
     "metadata": {},
     "output_type": "execute_result"
    }
   ],
   "source": [
    "a[14:end]"
   ]
  },
  {
   "cell_type": "markdown",
   "metadata": {},
   "source": [
    "You can use a stride index to get skip over elements in the array. For example to get every 2nd element of __a__ starting with the second element."
   ]
  },
  {
   "cell_type": "code",
   "execution_count": 5,
   "metadata": {},
   "outputs": [
    {
     "name": "stdout",
     "output_type": "stream",
     "text": [
      "[0.5995918327449121, 0.4446245154559061, 0.12771791317770165, 0.16261916628339923, 0.23051503533847573, 0.7398896139733794, 0.3238792421957988, 0.03815436074199585, 0.4110789499291604, 0.07163177855466774]\n"
     ]
    }
   ],
   "source": [
    "println(a[2:2:end])"
   ]
  },
  {
   "cell_type": "markdown",
   "metadata": {},
   "source": [
    "You can use `length` to get the number of elements in the array:"
   ]
  },
  {
   "cell_type": "code",
   "execution_count": 6,
   "metadata": {},
   "outputs": [
    {
     "data": {
      "text/plain": [
       "20"
      ]
     },
     "execution_count": 6,
     "metadata": {},
     "output_type": "execute_result"
    }
   ],
   "source": [
    "length(a)"
   ]
  },
  {
   "cell_type": "markdown",
   "metadata": {},
   "source": [
    "In Julia, you'll likely often be working with multidimensional arrays. Multidimensional arrays have a fixed size."
   ]
  },
  {
   "cell_type": "code",
   "execution_count": 7,
   "metadata": {},
   "outputs": [
    {
     "data": {
      "text/plain": [
       "2×3 Matrix{Int64}:\n",
       " 1  2  3\n",
       " 4  5  6"
      ]
     },
     "execution_count": 7,
     "metadata": {},
     "output_type": "execute_result"
    }
   ],
   "source": [
    "A = [1 2 3; 4 5 6]"
   ]
  },
  {
   "cell_type": "markdown",
   "metadata": {},
   "source": [
    "Generating random matrices and indexing works the same as before. Below we generate an 8 by 10 matrix of random numbers each distributed according to a standard normal distribution."
   ]
  },
  {
   "cell_type": "code",
   "execution_count": 8,
   "metadata": {},
   "outputs": [
    {
     "data": {
      "text/plain": [
       "8×10 Matrix{Float64}:\n",
       "  0.973697   0.812296    0.490786  …  -1.68223    0.34287      1.06284\n",
       "  1.7321     0.311126   -0.179409      1.43486   -1.30827     -0.148748\n",
       " -0.45186    0.144392   -0.581856     -1.16749    0.00404931   0.339289\n",
       " -0.222257  -0.0443037   0.806962      1.29716   -0.218827    -1.13649\n",
       "  0.594657  -0.310453    0.266167      0.524631  -1.3974      -1.25448\n",
       "  0.67643   -1.67176     1.23838   …   0.611056  -0.909847    -1.29287\n",
       "  2.28001    0.4196     -1.24784      -0.870307  -1.12289     -1.13253\n",
       "  0.636739  -1.46484    -2.11761      -1.0498    -0.768066     0.323589"
      ]
     },
     "execution_count": 8,
     "metadata": {},
     "output_type": "execute_result"
    }
   ],
   "source": [
    "A = randn(8, 10)"
   ]
  },
  {
   "cell_type": "markdown",
   "metadata": {},
   "source": [
    "If we wanted all the rows but only columns 6 through 10 from our matrix __A__:"
   ]
  },
  {
   "cell_type": "code",
   "execution_count": 9,
   "metadata": {},
   "outputs": [
    {
     "data": {
      "text/plain": [
       "8×5 Matrix{Float64}:\n",
       "  0.434399    0.178926  -1.68223    0.34287      1.06284\n",
       "  0.213584    0.170761   1.43486   -1.30827     -0.148748\n",
       "  0.898987    1.0996    -1.16749    0.00404931   0.339289\n",
       " -0.764447   -1.10217    1.29716   -0.218827    -1.13649\n",
       " -0.182708   -0.627109   0.524631  -1.3974      -1.25448\n",
       " -1.57946     1.8385     0.611056  -0.909847    -1.29287\n",
       " -1.24615    -0.717542  -0.870307  -1.12289     -1.13253\n",
       "  0.0038362  -1.59851   -1.0498    -0.768066     0.323589"
      ]
     },
     "execution_count": 9,
     "metadata": {},
     "output_type": "execute_result"
    }
   ],
   "source": [
    "A[:, 6:10]"
   ]
  },
  {
   "cell_type": "markdown",
   "metadata": {},
   "source": [
    "You can also use boolean indexing to extract elements. Here a random 8 x 10 matrix of booleans is generated:"
   ]
  },
  {
   "cell_type": "code",
   "execution_count": 10,
   "metadata": {},
   "outputs": [
    {
     "data": {
      "text/plain": [
       "8×10 Matrix{Bool}:\n",
       " 0  1  1  1  1  1  0  1  1  1\n",
       " 1  1  1  1  1  0  0  1  1  1\n",
       " 0  0  1  1  0  0  1  1  0  0\n",
       " 1  0  1  1  1  0  1  1  1  1\n",
       " 1  0  1  1  0  1  0  1  1  1\n",
       " 1  0  1  1  1  1  1  0  0  1\n",
       " 1  0  0  1  1  0  0  0  1  1\n",
       " 0  1  1  0  0  1  0  0  1  1"
      ]
     },
     "execution_count": 10,
     "metadata": {},
     "output_type": "execute_result"
    }
   ],
   "source": [
    "mask = rand(Bool, 8, 10)"
   ]
  },
  {
   "cell_type": "markdown",
   "metadata": {},
   "source": [
    "The following statment will return the elements of __A__ that correspond to the elemnts of *mask* that have an entry of *true*."
   ]
  },
  {
   "cell_type": "code",
   "execution_count": 11,
   "metadata": {},
   "outputs": [
    {
     "data": {
      "text/plain": [
       "52-element Vector{Float64}:\n",
       "  1.732100772312294\n",
       " -0.22225660721625645\n",
       "  0.5946572403707867\n",
       "  0.676429639324167\n",
       "  2.280012531511149\n",
       "  0.812295735452236\n",
       "  0.31112636227091894\n",
       " -1.4648393961749453\n",
       "  0.49078555170277244\n",
       " -0.17940917289358693\n",
       " -0.5818556189707039\n",
       "  0.8069622896871417\n",
       "  0.26616725042596934\n",
       "  ⋮\n",
       " -1.3082735475653529\n",
       " -0.21882717092901138\n",
       " -1.3974026473613164\n",
       " -1.1228902333754627\n",
       " -0.7680656821970078\n",
       "  1.0628375960734013\n",
       " -0.14874801850928454\n",
       " -1.1364907862561782\n",
       " -1.2544847974329836\n",
       " -1.2928677432882052\n",
       " -1.1325283148660696\n",
       "  0.3235886768723595"
      ]
     },
     "execution_count": 11,
     "metadata": {},
     "output_type": "execute_result"
    }
   ],
   "source": [
    "A[mask]"
   ]
  },
  {
   "cell_type": "markdown",
   "metadata": {},
   "source": [
    "So if you wanted to return the elements of __A__ that were, say, greater than zero you could do something like the following:"
   ]
  },
  {
   "cell_type": "code",
   "execution_count": 12,
   "metadata": {},
   "outputs": [
    {
     "data": {
      "text/plain": [
       "8×10 BitMatrix:\n",
       " 1  1  1  1  0  1  1  0  1  1\n",
       " 1  1  0  1  0  1  1  1  0  0\n",
       " 0  1  0  0  1  1  1  0  1  1\n",
       " 0  0  1  1  0  0  0  1  0  0\n",
       " 1  0  1  0  1  0  0  1  0  0\n",
       " 1  0  1  1  1  0  1  1  0  0\n",
       " 1  1  0  1  0  0  0  0  0  0\n",
       " 1  0  0  0  0  1  0  0  0  1"
      ]
     },
     "execution_count": 12,
     "metadata": {},
     "output_type": "execute_result"
    }
   ],
   "source": [
    "A .> 0"
   ]
  },
  {
   "cell_type": "code",
   "execution_count": 13,
   "metadata": {},
   "outputs": [
    {
     "data": {
      "text/plain": [
       "39-element Vector{Float64}:\n",
       " 0.9736972219551492\n",
       " 1.732100772312294\n",
       " 0.5946572403707867\n",
       " 0.676429639324167\n",
       " 2.280012531511149\n",
       " 0.6367391000387295\n",
       " 0.812295735452236\n",
       " 0.31112636227091894\n",
       " 0.14439197390354283\n",
       " 0.41960018101231866\n",
       " 0.49078555170277244\n",
       " 0.8069622896871417\n",
       " 0.26616725042596934\n",
       " ⋮\n",
       " 0.17076051361363173\n",
       " 1.099596480767417\n",
       " 1.8385039189955548\n",
       " 1.434862939520989\n",
       " 1.2971625645035785\n",
       " 0.5246310471871164\n",
       " 0.6110562571010552\n",
       " 0.34287046129876875\n",
       " 0.004049308790014412\n",
       " 1.0628375960734013\n",
       " 0.3392891993682771\n",
       " 0.3235886768723595"
      ]
     },
     "execution_count": 13,
     "metadata": {},
     "output_type": "execute_result"
    }
   ],
   "source": [
    "A[A .> 0]"
   ]
  },
  {
   "cell_type": "markdown",
   "metadata": {},
   "source": [
    "Note the dot notation used above which is necessary here to do an element-wise comparison."
   ]
  },
  {
   "cell_type": "markdown",
   "metadata": {},
   "source": [
    "One thing to be aware of when you do an assignment with arrays is that the new array is actually a *view* of the original array."
   ]
  },
  {
   "cell_type": "code",
   "execution_count": 14,
   "metadata": {},
   "outputs": [
    {
     "data": {
      "text/plain": [
       "8×10 Matrix{Float64}:\n",
       "  0.973697   0.812296    0.490786  …  -1.68223    0.34287      1.06284\n",
       "  1.7321     0.311126   -0.179409      1.43486   -1.30827     -0.148748\n",
       " -0.45186    0.144392   -0.581856     -1.16749    0.00404931   0.339289\n",
       " -0.222257  -0.0443037   0.806962      1.29716   -0.218827    -1.13649\n",
       "  0.594657  -0.310453    0.266167      0.524631  -1.3974      -1.25448\n",
       "  0.67643   -1.67176     1.23838   …   0.611056  -0.909847    -1.29287\n",
       "  2.28001    0.4196     -1.24784      -0.870307  -1.12289     -1.13253\n",
       "  0.636739  -1.46484    -2.11761      -1.0498    -0.768066     0.323589"
      ]
     },
     "execution_count": 14,
     "metadata": {},
     "output_type": "execute_result"
    }
   ],
   "source": [
    "B = A"
   ]
  },
  {
   "cell_type": "code",
   "execution_count": 15,
   "metadata": {},
   "outputs": [
    {
     "data": {
      "text/plain": [
       "true"
      ]
     },
     "execution_count": 15,
     "metadata": {},
     "output_type": "execute_result"
    }
   ],
   "source": [
    "isequal(B, A)   #use isequal when comparisons involve floats"
   ]
  },
  {
   "cell_type": "markdown",
   "metadata": {},
   "source": [
    "The `===` tests if __B__ and __A__ point to the same location in memory:"
   ]
  },
  {
   "cell_type": "code",
   "execution_count": 16,
   "metadata": {},
   "outputs": [
    {
     "data": {
      "text/plain": [
       "true"
      ]
     },
     "execution_count": 16,
     "metadata": {},
     "output_type": "execute_result"
    }
   ],
   "source": [
    "B === A"
   ]
  },
  {
   "cell_type": "markdown",
   "metadata": {},
   "source": [
    "Now let's change some elements of __B__. What do you think will happen to __A__?"
   ]
  },
  {
   "cell_type": "code",
   "execution_count": 17,
   "metadata": {},
   "outputs": [],
   "source": [
    "B[1, 1:end] .= 999;"
   ]
  },
  {
   "cell_type": "code",
   "execution_count": 18,
   "metadata": {},
   "outputs": [
    {
     "data": {
      "text/plain": [
       "8×10 Matrix{Float64}:\n",
       " 999.0       999.0        999.0       …  999.0         999.0\n",
       "   1.7321      0.311126    -0.179409      -1.30827      -0.148748\n",
       "  -0.45186     0.144392    -0.581856       0.00404931    0.339289\n",
       "  -0.222257   -0.0443037    0.806962      -0.218827     -1.13649\n",
       "   0.594657   -0.310453     0.266167      -1.3974       -1.25448\n",
       "   0.67643    -1.67176      1.23838   …   -0.909847     -1.29287\n",
       "   2.28001     0.4196      -1.24784       -1.12289      -1.13253\n",
       "   0.636739   -1.46484     -2.11761       -0.768066      0.323589"
      ]
     },
     "execution_count": 18,
     "metadata": {},
     "output_type": "execute_result"
    }
   ],
   "source": [
    "B"
   ]
  },
  {
   "cell_type": "markdown",
   "metadata": {},
   "source": [
    "Note that even though we changed the elements of __B__ the elements of the original array __A__ also changed."
   ]
  },
  {
   "cell_type": "code",
   "execution_count": 19,
   "metadata": {},
   "outputs": [
    {
     "data": {
      "text/plain": [
       "8×10 Matrix{Float64}:\n",
       " 999.0       999.0        999.0       …  999.0         999.0\n",
       "   1.7321      0.311126    -0.179409      -1.30827      -0.148748\n",
       "  -0.45186     0.144392    -0.581856       0.00404931    0.339289\n",
       "  -0.222257   -0.0443037    0.806962      -0.218827     -1.13649\n",
       "   0.594657   -0.310453     0.266167      -1.3974       -1.25448\n",
       "   0.67643    -1.67176      1.23838   …   -0.909847     -1.29287\n",
       "   2.28001     0.4196      -1.24784       -1.12289      -1.13253\n",
       "   0.636739   -1.46484     -2.11761       -0.768066      0.323589"
      ]
     },
     "execution_count": 19,
     "metadata": {},
     "output_type": "execute_result"
    }
   ],
   "source": [
    "A"
   ]
  },
  {
   "cell_type": "markdown",
   "metadata": {},
   "source": [
    "If you want to avoid this behavior then you can use the `copy` function to make a copy of the original array:"
   ]
  },
  {
   "cell_type": "code",
   "execution_count": 20,
   "metadata": {},
   "outputs": [],
   "source": [
    "C = copy(A);"
   ]
  },
  {
   "cell_type": "code",
   "execution_count": 21,
   "metadata": {},
   "outputs": [
    {
     "data": {
      "text/plain": [
       "true"
      ]
     },
     "execution_count": 21,
     "metadata": {},
     "output_type": "execute_result"
    }
   ],
   "source": [
    "isequal(C, A)"
   ]
  },
  {
   "cell_type": "code",
   "execution_count": 22,
   "metadata": {},
   "outputs": [
    {
     "data": {
      "text/plain": [
       "false"
      ]
     },
     "execution_count": 22,
     "metadata": {},
     "output_type": "execute_result"
    }
   ],
   "source": [
    "C === A"
   ]
  },
  {
   "cell_type": "markdown",
   "metadata": {},
   "source": [
    "What the above shows is that __C__ points to a different location in memory than __A__, so you can change __C__ without affecting __A__."
   ]
  },
  {
   "cell_type": "markdown",
   "metadata": {},
   "source": [
    "Let's move on and look at some basic functions and operations that you can with arrays."
   ]
  },
  {
   "cell_type": "markdown",
   "metadata": {},
   "source": [
    "To check the dimension of an array you can use the `ndims` function:"
   ]
  },
  {
   "cell_type": "code",
   "execution_count": 23,
   "metadata": {},
   "outputs": [
    {
     "data": {
      "text/plain": [
       "8×10 Matrix{Float64}:\n",
       "  0.316048  -1.36823     0.157945  …  -0.764642    1.38092    -0.727657\n",
       "  0.843301  -0.756339   -0.917414     -1.29919    -0.58761     0.17818\n",
       "  0.360375  -0.335528    0.579074     -0.610191   -0.880904    0.9426\n",
       " -0.736977  -0.895995   -0.593636      1.77534    -0.320131    0.38059\n",
       " -1.12776    0.0374451   0.673967     -0.282021   -0.0330874   0.399979\n",
       " -1.89336    0.72704     1.98249   …   0.705806   -1.4006     -0.125531\n",
       "  0.597657  -0.421783    0.997781     -1.29215    -2.94024     0.271466\n",
       " -1.64747    1.50509     0.755699      0.0666121  -0.481064    1.56306"
      ]
     },
     "execution_count": 23,
     "metadata": {},
     "output_type": "execute_result"
    }
   ],
   "source": [
    "A = randn(8, 10)"
   ]
  },
  {
   "cell_type": "code",
   "execution_count": 24,
   "metadata": {},
   "outputs": [
    {
     "data": {
      "text/plain": [
       "2"
      ]
     },
     "execution_count": 24,
     "metadata": {},
     "output_type": "execute_result"
    }
   ],
   "source": [
    "ndims(A)"
   ]
  },
  {
   "cell_type": "markdown",
   "metadata": {},
   "source": [
    "To get the number of rows and columns use `size`:"
   ]
  },
  {
   "cell_type": "code",
   "execution_count": 25,
   "metadata": {},
   "outputs": [
    {
     "data": {
      "text/plain": [
       "(8, 10)"
      ]
     },
     "execution_count": 25,
     "metadata": {},
     "output_type": "execute_result"
    }
   ],
   "source": [
    "size(A)"
   ]
  },
  {
   "cell_type": "markdown",
   "metadata": {},
   "source": [
    "Ae before `length` returns the number of elements in the matrix."
   ]
  },
  {
   "cell_type": "code",
   "execution_count": 26,
   "metadata": {},
   "outputs": [
    {
     "data": {
      "text/plain": [
       "80"
      ]
     },
     "execution_count": 26,
     "metadata": {},
     "output_type": "execute_result"
    }
   ],
   "source": [
    "length(A)"
   ]
  },
  {
   "cell_type": "markdown",
   "metadata": {},
   "source": [
    "The `reshape` function will change the shape of the array:"
   ]
  },
  {
   "cell_type": "markdown",
   "metadata": {},
   "source": [
    "The `zeros` function is available to create a matrix of zeros; the `fill` function can create a matrix with an arbitrary element."
   ]
  },
  {
   "cell_type": "code",
   "execution_count": 27,
   "metadata": {},
   "outputs": [
    {
     "data": {
      "text/plain": [
       "4×5 Matrix{Float64}:\n",
       " 0.0  0.0  0.0  0.0  0.0\n",
       " 0.0  0.0  0.0  0.0  0.0\n",
       " 0.0  0.0  0.0  0.0  0.0\n",
       " 0.0  0.0  0.0  0.0  0.0"
      ]
     },
     "execution_count": 27,
     "metadata": {},
     "output_type": "execute_result"
    }
   ],
   "source": [
    "zeros(4, 5)"
   ]
  },
  {
   "cell_type": "code",
   "execution_count": 28,
   "metadata": {},
   "outputs": [
    {
     "data": {
      "text/plain": [
       "4×5 Matrix{String}:\n",
       " \"foo\"  \"foo\"  \"foo\"  \"foo\"  \"foo\"\n",
       " \"foo\"  \"foo\"  \"foo\"  \"foo\"  \"foo\"\n",
       " \"foo\"  \"foo\"  \"foo\"  \"foo\"  \"foo\"\n",
       " \"foo\"  \"foo\"  \"foo\"  \"foo\"  \"foo\""
      ]
     },
     "execution_count": 28,
     "metadata": {},
     "output_type": "execute_result"
    }
   ],
   "source": [
    "fill(\"foo\", 4, 5)"
   ]
  },
  {
   "cell_type": "markdown",
   "metadata": {},
   "source": [
    "As mentioned before, if you want to do element-wise operations on an array you use dot notation. To demonstrate let's first generate a random matrix."
   ]
  },
  {
   "cell_type": "code",
   "execution_count": 29,
   "metadata": {},
   "outputs": [
    {
     "data": {
      "text/plain": [
       "4×5 Matrix{Float64}:\n",
       "  1.14584    -2.88168   -1.00279    0.250774   0.201406\n",
       " -2.1494      0.223862   0.863263  -1.35843   -1.4132\n",
       " -0.439279    0.954469   0.978425  -0.869607  -1.0674\n",
       " -0.0993304  -0.824938  -0.644342   0.243111   0.800969"
      ]
     },
     "execution_count": 29,
     "metadata": {},
     "output_type": "execute_result"
    }
   ],
   "source": [
    "A = randn(4, 5)"
   ]
  },
  {
   "cell_type": "markdown",
   "metadata": {},
   "source": [
    "Now we square every element of __A__ using the dot syntax:"
   ]
  },
  {
   "cell_type": "code",
   "execution_count": 30,
   "metadata": {},
   "outputs": [
    {
     "data": {
      "text/plain": [
       "4×5 Matrix{Float64}:\n",
       " 1.31294     8.30406    1.00559   0.0628875  0.0405645\n",
       " 4.61993     0.0501143  0.745223  1.84533    1.99715\n",
       " 0.192966    0.911012   0.957316  0.756217   1.13935\n",
       " 0.00986652  0.680523   0.415177  0.0591028  0.641551"
      ]
     },
     "execution_count": 30,
     "metadata": {},
     "output_type": "execute_result"
    }
   ],
   "source": [
    "A.^2"
   ]
  },
  {
   "cell_type": "markdown",
   "metadata": {},
   "source": [
    "Similarly we can do element-wise division between two matrices. Below we can create a new random matrix __B__ then divide the elements of __A__ by their corresponding elements in __B__."
   ]
  },
  {
   "cell_type": "code",
   "execution_count": 31,
   "metadata": {},
   "outputs": [
    {
     "data": {
      "text/plain": [
       "4×5 Matrix{Float64}:\n",
       " -0.586188  -1.04906    0.666724   0.00120521  -0.00571764\n",
       "  0.202614  -0.158226  -0.724277  -1.72377     -0.196249\n",
       "  1.40491   -0.547284  -1.06172   -1.60088      0.530513\n",
       "  1.85506   -1.02089    0.973248  -0.0152956    0.934886"
      ]
     },
     "execution_count": 31,
     "metadata": {},
     "output_type": "execute_result"
    }
   ],
   "source": [
    "B =  randn(4, 5)"
   ]
  },
  {
   "cell_type": "code",
   "execution_count": 32,
   "metadata": {},
   "outputs": [
    {
     "data": {
      "text/plain": [
       "4×5 Matrix{Float64}:\n",
       "  -1.95472     2.74692   -1.50405   208.075     -35.2254\n",
       " -10.6083     -1.41483   -1.1919      0.788058    7.20106\n",
       "  -0.312675   -1.74401   -0.921548    0.543205   -2.01202\n",
       "  -0.0535455   0.808061  -0.662053  -15.8942      0.856756"
      ]
     },
     "execution_count": 32,
     "metadata": {},
     "output_type": "execute_result"
    }
   ],
   "source": [
    "A ./ B"
   ]
  },
  {
   "cell_type": "markdown",
   "metadata": {},
   "source": [
    "There are a lot of basic functions that can be applied to arrays: `sum`, `mean`, `sort`, etc."
   ]
  },
  {
   "cell_type": "code",
   "execution_count": 33,
   "metadata": {},
   "outputs": [
    {
     "data": {
      "text/plain": [
       "3×4 Matrix{Int64}:\n",
       " 1  -1   2  3\n",
       " 4  -3   1  0\n",
       " 7  -3  -3  2"
      ]
     },
     "execution_count": 33,
     "metadata": {},
     "output_type": "execute_result"
    }
   ],
   "source": [
    "A = [1 -1 2 3; 4 -3 1 0; 7 -3 -3 2]"
   ]
  },
  {
   "cell_type": "markdown",
   "metadata": {},
   "source": [
    "To sum all the elements of **A**:"
   ]
  },
  {
   "cell_type": "code",
   "execution_count": 34,
   "metadata": {},
   "outputs": [
    {
     "data": {
      "text/plain": [
       "3×4 Matrix{Int64}:\n",
       " 1  -1   2  3\n",
       " 4  -3   1  0\n",
       " 7  -3  -3  2"
      ]
     },
     "execution_count": 34,
     "metadata": {},
     "output_type": "execute_result"
    }
   ],
   "source": [
    "A"
   ]
  },
  {
   "cell_type": "code",
   "execution_count": 35,
   "metadata": {},
   "outputs": [
    {
     "data": {
      "text/plain": [
       "10"
      ]
     },
     "execution_count": 35,
     "metadata": {},
     "output_type": "execute_result"
    }
   ],
   "source": [
    "sum(A)"
   ]
  },
  {
   "cell_type": "code",
   "execution_count": 36,
   "metadata": {},
   "outputs": [
    {
     "data": {
      "text/plain": [
       "1×4 Matrix{Int64}:\n",
       " 12  -7  0  5"
      ]
     },
     "execution_count": 36,
     "metadata": {},
     "output_type": "execute_result"
    }
   ],
   "source": [
    "sum(A, dims = 1) #sums each column"
   ]
  },
  {
   "cell_type": "code",
   "execution_count": 37,
   "metadata": {},
   "outputs": [
    {
     "data": {
      "text/plain": [
       "3×1 Matrix{Int64}:\n",
       " 5\n",
       " 2\n",
       " 3"
      ]
     },
     "execution_count": 37,
     "metadata": {},
     "output_type": "execute_result"
    }
   ],
   "source": [
    "sum(A, dims = 2) #sums each row"
   ]
  },
  {
   "cell_type": "markdown",
   "metadata": {},
   "source": [
    "# Exercise 3\n",
    "* Create a 5 by 8 random array called *B* using **randn**.\n",
    "* Find the elements of *B* that are less than 0.2.\n",
    "* Retrieve the number of rows and columns of *B*.\n",
    "* Multiply every element of *B* by 3 and assign that to a new array called *C*.\n",
    "* Sort each row of *C* in ascending order."
   ]
  },
  {
   "cell_type": "code",
   "execution_count": null,
   "metadata": {},
   "outputs": [],
   "source": []
  },
  {
   "cell_type": "markdown",
   "metadata": {},
   "source": [
    "In this lesson we covered:\n",
    "* Single and multi-dimensional arrays.\n",
    "* Array indexing.\n",
    "* Applying functions to arrays."
   ]
  }
 ],
 "metadata": {
  "kernelspec": {
   "display_name": "Julia 1.8.0",
   "language": "julia",
   "name": "julia-1.8"
  },
  "language_info": {
   "file_extension": ".jl",
   "mimetype": "application/julia",
   "name": "julia",
   "version": "1.8.0"
  }
 },
 "nbformat": 4,
 "nbformat_minor": 4
}

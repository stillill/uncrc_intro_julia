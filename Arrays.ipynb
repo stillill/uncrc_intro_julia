{
 "cells": [
  {
   "cell_type": "markdown",
   "metadata": {},
   "source": [
    "# III. Working with arrays"
   ]
  },
  {
   "cell_type": "markdown",
   "metadata": {},
   "source": [
    "Julia has built-in functions that can be used to create arrays of random numbers. We can use the `rand` function to generate random floats between 0 and 1."
   ]
  },
  {
   "cell_type": "code",
   "execution_count": 1,
   "metadata": {},
   "outputs": [
    {
     "name": "stdout",
     "output_type": "stream",
     "text": [
      "[0.4660981148138049, 0.258749901395646, 0.9721783266817419, 0.4717384593440128, 0.6591903941482612, 0.708907890556231, 0.3725024212529774, 0.07680706843600082, 0.34178412903671895, 0.5411231742443114, 0.3164062053083231, 0.6557893629367703, 0.009502522457330964, 0.6493643975151135, 0.41391698055909265, 0.18743145382574555, 0.2549600996121155, 0.04592092180944651, 0.6003033250855557, 0.6118436539964646]\n"
     ]
    }
   ],
   "source": [
    "a = rand(20);\n",
    "println(a)"
   ]
  },
  {
   "cell_type": "markdown",
   "metadata": {},
   "source": [
    "The `rand` function can be used to sample from an arbitrary set of numbers. Here we sample three values from the values 1 through 20."
   ]
  },
  {
   "cell_type": "code",
   "execution_count": 2,
   "metadata": {},
   "outputs": [
    {
     "data": {
      "text/plain": [
       "3-element Vector{Int64}:\n",
       "  1\n",
       "  4\n",
       " 17"
      ]
     },
     "execution_count": 2,
     "metadata": {},
     "output_type": "execute_result"
    }
   ],
   "source": [
    "rand(1:20, 3)"
   ]
  },
  {
   "cell_type": "markdown",
   "metadata": {},
   "source": [
    "Here we use indexing to get the first three elements of __a__."
   ]
  },
  {
   "cell_type": "code",
   "execution_count": 3,
   "metadata": {},
   "outputs": [
    {
     "data": {
      "text/plain": [
       "3-element Vector{Float64}:\n",
       " 0.4660981148138049\n",
       " 0.258749901395646\n",
       " 0.9721783266817419"
      ]
     },
     "execution_count": 3,
     "metadata": {},
     "output_type": "execute_result"
    }
   ],
   "source": [
    "a[1:3]"
   ]
  },
  {
   "cell_type": "markdown",
   "metadata": {},
   "source": [
    "The __end__ keyword can be used to go to the last element along the dimension. The following will get the elements of __a__ starting from index 14 to the end."
   ]
  },
  {
   "cell_type": "code",
   "execution_count": 4,
   "metadata": {},
   "outputs": [
    {
     "data": {
      "text/plain": [
       "7-element Vector{Float64}:\n",
       " 0.6493643975151135\n",
       " 0.41391698055909265\n",
       " 0.18743145382574555\n",
       " 0.2549600996121155\n",
       " 0.04592092180944651\n",
       " 0.6003033250855557\n",
       " 0.6118436539964646"
      ]
     },
     "execution_count": 4,
     "metadata": {},
     "output_type": "execute_result"
    }
   ],
   "source": [
    "a[14:end]"
   ]
  },
  {
   "cell_type": "markdown",
   "metadata": {},
   "source": [
    "You can use a stride index to get skip over elements in the array. For example to get every 2nd element of __a__ starting with the second element."
   ]
  },
  {
   "cell_type": "code",
   "execution_count": 5,
   "metadata": {},
   "outputs": [
    {
     "name": "stdout",
     "output_type": "stream",
     "text": [
      "[0.258749901395646, 0.4717384593440128, 0.708907890556231, 0.07680706843600082, 0.5411231742443114, 0.6557893629367703, 0.6493643975151135, 0.18743145382574555, 0.04592092180944651, 0.6118436539964646]\n"
     ]
    }
   ],
   "source": [
    "println(a[2:2:end])"
   ]
  },
  {
   "cell_type": "markdown",
   "metadata": {},
   "source": [
    "You can use `length` to get the number of elements in the array:"
   ]
  },
  {
   "cell_type": "code",
   "execution_count": 6,
   "metadata": {},
   "outputs": [
    {
     "data": {
      "text/plain": [
       "20"
      ]
     },
     "execution_count": 6,
     "metadata": {},
     "output_type": "execute_result"
    }
   ],
   "source": [
    "length(a)"
   ]
  },
  {
   "cell_type": "markdown",
   "metadata": {},
   "source": [
    "In Julia, you'll likely often be working with multidimensional arrays. Multidimensional arrays have a fixed size."
   ]
  },
  {
   "cell_type": "code",
   "execution_count": 7,
   "metadata": {},
   "outputs": [
    {
     "data": {
      "text/plain": [
       "2×3 Matrix{Int64}:\n",
       " 1  2  3\n",
       " 4  5  6"
      ]
     },
     "execution_count": 7,
     "metadata": {},
     "output_type": "execute_result"
    }
   ],
   "source": [
    "A = [1 2 3; 4 5 6]"
   ]
  },
  {
   "cell_type": "markdown",
   "metadata": {},
   "source": [
    "Generating random matrices and indexing works the same as before. Below we generate an 8 by 10 matrix of random numbers each distributed according to a standard normal distribution."
   ]
  },
  {
   "cell_type": "code",
   "execution_count": 8,
   "metadata": {},
   "outputs": [
    {
     "data": {
      "text/plain": [
       "8×10 Matrix{Float64}:\n",
       " -0.355498    0.390379  -0.335696  …  -0.851937     0.659678   0.431441\n",
       "  0.298782   -0.861078  -0.165863      0.869274     0.142576   0.0934272\n",
       "  0.0856952   0.667525  -1.0695       -1.11277     -1.61006    0.58925\n",
       "  1.10653     0.713133  -0.789897     -0.749046    -0.341754   0.411418\n",
       " -0.0438247  -1.17669   -1.64958      -0.282738    -1.5237     0.484183\n",
       " -0.505133    1.06316   -0.216403  …  -0.174368     0.209036   0.385284\n",
       "  0.703956    1.18219    1.01599       0.715476    -1.28158   -0.0762283\n",
       "  0.46209    -0.655671   0.530031     -0.00418628   2.31305    0.614096"
      ]
     },
     "execution_count": 8,
     "metadata": {},
     "output_type": "execute_result"
    }
   ],
   "source": [
    "A = randn(8, 10)"
   ]
  },
  {
   "cell_type": "markdown",
   "metadata": {},
   "source": [
    "If we wanted all the rows but only columns 6 through 10 from our matrix __A__:"
   ]
  },
  {
   "cell_type": "code",
   "execution_count": 9,
   "metadata": {},
   "outputs": [
    {
     "data": {
      "text/plain": [
       "8×5 Matrix{Float64}:\n",
       " -0.207179   0.32398   -0.851937     0.659678   0.431441\n",
       "  2.06717    0.794282   0.869274     0.142576   0.0934272\n",
       " -1.15624   -0.552023  -1.11277     -1.61006    0.58925\n",
       "  0.818427   1.36385   -0.749046    -0.341754   0.411418\n",
       " -1.00825    1.2028    -0.282738    -1.5237     0.484183\n",
       "  0.612498   2.3267    -0.174368     0.209036   0.385284\n",
       " -0.331876  -2.02105    0.715476    -1.28158   -0.0762283\n",
       " -1.99851    1.67513   -0.00418628   2.31305    0.614096"
      ]
     },
     "execution_count": 9,
     "metadata": {},
     "output_type": "execute_result"
    }
   ],
   "source": [
    "A[:, 6:10]"
   ]
  },
  {
   "cell_type": "markdown",
   "metadata": {},
   "source": [
    "You can also use boolean indexing to extract elements. Here a random 8 x 10 matrix of booleans is generated:"
   ]
  },
  {
   "cell_type": "code",
   "execution_count": 10,
   "metadata": {},
   "outputs": [
    {
     "data": {
      "text/plain": [
       "8×10 Matrix{Bool}:\n",
       " 0  0  0  0  0  0  1  0  1  1\n",
       " 0  1  1  0  0  1  1  0  0  1\n",
       " 1  1  1  0  1  1  0  0  0  1\n",
       " 0  0  1  1  1  1  0  1  0  0\n",
       " 1  1  1  1  1  1  0  1  0  1\n",
       " 0  1  0  1  0  1  1  1  0  0\n",
       " 0  0  1  0  0  1  1  0  0  1\n",
       " 1  1  1  1  0  0  1  0  0  1"
      ]
     },
     "execution_count": 10,
     "metadata": {},
     "output_type": "execute_result"
    }
   ],
   "source": [
    "mask = rand(Bool, 8, 10)"
   ]
  },
  {
   "cell_type": "markdown",
   "metadata": {},
   "source": [
    "The following statment will return the elements of __A__ that correspond to the elemnts of *mask* that have an entry of *true*."
   ]
  },
  {
   "cell_type": "code",
   "execution_count": 11,
   "metadata": {},
   "outputs": [
    {
     "data": {
      "text/plain": [
       "42-element Vector{Float64}:\n",
       "  0.08569524191116054\n",
       " -0.043824726113830044\n",
       "  0.4620900109588872\n",
       " -0.8610782374822157\n",
       "  0.667524628740573\n",
       " -1.1766887108006634\n",
       "  1.0631620460418445\n",
       " -0.6556705643122412\n",
       " -0.16586335252100196\n",
       " -1.0695011508976193\n",
       " -0.7898965826484503\n",
       " -1.6495843927410507\n",
       "  1.0159928677072467\n",
       "  ⋮\n",
       " -2.0210534636372754\n",
       "  1.6751280591226032\n",
       " -0.7490463986370255\n",
       " -0.28273788701830377\n",
       " -0.17436765178390115\n",
       "  0.659677729983345\n",
       "  0.43144142757161147\n",
       "  0.09342715271460794\n",
       "  0.5892498057550751\n",
       "  0.4841825956385701\n",
       " -0.07622828077869469\n",
       "  0.6140963584813235"
      ]
     },
     "execution_count": 11,
     "metadata": {},
     "output_type": "execute_result"
    }
   ],
   "source": [
    "A[mask]"
   ]
  },
  {
   "cell_type": "markdown",
   "metadata": {},
   "source": [
    "So if you wanted to return the elements of __A__ that were, say, greater than zero you could do something like the following:"
   ]
  },
  {
   "cell_type": "code",
   "execution_count": 12,
   "metadata": {},
   "outputs": [
    {
     "data": {
      "text/plain": [
       "8×10 BitMatrix:\n",
       " 0  1  0  1  1  0  1  0  1  1\n",
       " 1  0  0  0  0  1  1  1  1  1\n",
       " 1  1  0  0  1  0  0  0  0  1\n",
       " 1  1  0  0  1  1  1  0  0  1\n",
       " 0  0  0  0  1  0  1  0  0  1\n",
       " 0  1  0  0  1  1  1  0  1  1\n",
       " 1  1  1  0  0  0  0  1  0  0\n",
       " 1  0  1  1  1  0  1  0  1  1"
      ]
     },
     "execution_count": 12,
     "metadata": {},
     "output_type": "execute_result"
    }
   ],
   "source": [
    "A .> 0"
   ]
  },
  {
   "cell_type": "code",
   "execution_count": 13,
   "metadata": {},
   "outputs": [
    {
     "data": {
      "text/plain": [
       "42-element Vector{Float64}:\n",
       " 0.2987822118320379\n",
       " 0.08569524191116054\n",
       " 1.1065340517212878\n",
       " 0.7039563237994257\n",
       " 0.4620900109588872\n",
       " 0.39037876519315484\n",
       " 0.667524628740573\n",
       " 0.7131334671927712\n",
       " 1.0631620460418445\n",
       " 1.1821920852986016\n",
       " 1.0159928677072467\n",
       " 0.5300309936660865\n",
       " 0.03935927747090346\n",
       " ⋮\n",
       " 0.7154760079761578\n",
       " 0.659677729983345\n",
       " 0.14257572802156943\n",
       " 0.20903641117055347\n",
       " 2.3130507190709917\n",
       " 0.43144142757161147\n",
       " 0.09342715271460794\n",
       " 0.5892498057550751\n",
       " 0.4114175343620462\n",
       " 0.4841825956385701\n",
       " 0.3852841065262688\n",
       " 0.6140963584813235"
      ]
     },
     "execution_count": 13,
     "metadata": {},
     "output_type": "execute_result"
    }
   ],
   "source": [
    "A[A .> 0]"
   ]
  },
  {
   "cell_type": "markdown",
   "metadata": {},
   "source": [
    "Note the dot notation used above which is necessary here to do an element-wise comparison."
   ]
  },
  {
   "cell_type": "markdown",
   "metadata": {},
   "source": [
    "One thing to be aware of when you do an assignment with arrays is that the new array is actually a *view* of the original array."
   ]
  },
  {
   "cell_type": "code",
   "execution_count": 14,
   "metadata": {},
   "outputs": [
    {
     "data": {
      "text/plain": [
       "8×10 Matrix{Float64}:\n",
       " -0.355498    0.390379  -0.335696  …  -0.851937     0.659678   0.431441\n",
       "  0.298782   -0.861078  -0.165863      0.869274     0.142576   0.0934272\n",
       "  0.0856952   0.667525  -1.0695       -1.11277     -1.61006    0.58925\n",
       "  1.10653     0.713133  -0.789897     -0.749046    -0.341754   0.411418\n",
       " -0.0438247  -1.17669   -1.64958      -0.282738    -1.5237     0.484183\n",
       " -0.505133    1.06316   -0.216403  …  -0.174368     0.209036   0.385284\n",
       "  0.703956    1.18219    1.01599       0.715476    -1.28158   -0.0762283\n",
       "  0.46209    -0.655671   0.530031     -0.00418628   2.31305    0.614096"
      ]
     },
     "execution_count": 14,
     "metadata": {},
     "output_type": "execute_result"
    }
   ],
   "source": [
    "B = A"
   ]
  },
  {
   "cell_type": "code",
   "execution_count": 15,
   "metadata": {},
   "outputs": [
    {
     "data": {
      "text/plain": [
       "true"
      ]
     },
     "execution_count": 15,
     "metadata": {},
     "output_type": "execute_result"
    }
   ],
   "source": [
    "isequal(B, A)   #use isequal when comparisons involve floats"
   ]
  },
  {
   "cell_type": "markdown",
   "metadata": {},
   "source": [
    "The `===` tests if __B__ and __A__ point to the same location in memory:"
   ]
  },
  {
   "cell_type": "code",
   "execution_count": 16,
   "metadata": {},
   "outputs": [
    {
     "data": {
      "text/plain": [
       "true"
      ]
     },
     "execution_count": 16,
     "metadata": {},
     "output_type": "execute_result"
    }
   ],
   "source": [
    "B === A"
   ]
  },
  {
   "cell_type": "markdown",
   "metadata": {},
   "source": [
    "Now let's change some elements of __B__. What do you think will happen to __A__?"
   ]
  },
  {
   "cell_type": "code",
   "execution_count": 17,
   "metadata": {},
   "outputs": [],
   "source": [
    "B[1, 1:end] .= 999;"
   ]
  },
  {
   "cell_type": "code",
   "execution_count": 18,
   "metadata": {},
   "outputs": [
    {
     "data": {
      "text/plain": [
       "8×10 Matrix{Float64}:\n",
       " 999.0        999.0       999.0       …  999.0       999.0\n",
       "   0.298782    -0.861078   -0.165863       0.142576    0.0934272\n",
       "   0.0856952    0.667525   -1.0695        -1.61006     0.58925\n",
       "   1.10653      0.713133   -0.789897      -0.341754    0.411418\n",
       "  -0.0438247   -1.17669    -1.64958       -1.5237      0.484183\n",
       "  -0.505133     1.06316    -0.216403  …    0.209036    0.385284\n",
       "   0.703956     1.18219     1.01599       -1.28158    -0.0762283\n",
       "   0.46209     -0.655671    0.530031       2.31305     0.614096"
      ]
     },
     "execution_count": 18,
     "metadata": {},
     "output_type": "execute_result"
    }
   ],
   "source": [
    "B"
   ]
  },
  {
   "cell_type": "markdown",
   "metadata": {},
   "source": [
    "Note that even though we changed the elements of __B__ the elements of the original array __A__ also changed."
   ]
  },
  {
   "cell_type": "code",
   "execution_count": 19,
   "metadata": {},
   "outputs": [
    {
     "data": {
      "text/plain": [
       "8×10 Matrix{Float64}:\n",
       " 999.0        999.0       999.0       …  999.0       999.0\n",
       "   0.298782    -0.861078   -0.165863       0.142576    0.0934272\n",
       "   0.0856952    0.667525   -1.0695        -1.61006     0.58925\n",
       "   1.10653      0.713133   -0.789897      -0.341754    0.411418\n",
       "  -0.0438247   -1.17669    -1.64958       -1.5237      0.484183\n",
       "  -0.505133     1.06316    -0.216403  …    0.209036    0.385284\n",
       "   0.703956     1.18219     1.01599       -1.28158    -0.0762283\n",
       "   0.46209     -0.655671    0.530031       2.31305     0.614096"
      ]
     },
     "execution_count": 19,
     "metadata": {},
     "output_type": "execute_result"
    }
   ],
   "source": [
    "A"
   ]
  },
  {
   "cell_type": "markdown",
   "metadata": {},
   "source": [
    "If you want to avoid this behavior then you can use the `copy` function to make a copy of the original array:"
   ]
  },
  {
   "cell_type": "code",
   "execution_count": 20,
   "metadata": {},
   "outputs": [],
   "source": [
    "C = copy(A);"
   ]
  },
  {
   "cell_type": "code",
   "execution_count": 21,
   "metadata": {},
   "outputs": [
    {
     "data": {
      "text/plain": [
       "true"
      ]
     },
     "execution_count": 21,
     "metadata": {},
     "output_type": "execute_result"
    }
   ],
   "source": [
    "isequal(C, A)"
   ]
  },
  {
   "cell_type": "code",
   "execution_count": 22,
   "metadata": {},
   "outputs": [
    {
     "data": {
      "text/plain": [
       "false"
      ]
     },
     "execution_count": 22,
     "metadata": {},
     "output_type": "execute_result"
    }
   ],
   "source": [
    "C === A"
   ]
  },
  {
   "cell_type": "markdown",
   "metadata": {},
   "source": [
    "What the above shows is that __C__ points to a different location in memory than __A__, so you can change __C__ without affecting __A__."
   ]
  },
  {
   "cell_type": "markdown",
   "metadata": {},
   "source": [
    "Let's move on and look at some basic functions and operations that you can with arrays."
   ]
  },
  {
   "cell_type": "markdown",
   "metadata": {},
   "source": [
    "To check the dimension of an array you can use the `ndims` function:"
   ]
  },
  {
   "cell_type": "code",
   "execution_count": 23,
   "metadata": {},
   "outputs": [
    {
     "data": {
      "text/plain": [
       "8×10 Matrix{Float64}:\n",
       "  0.851655   -0.336184   -0.551639  …  -2.2881    -0.860342   0.495898\n",
       "  0.779324   -0.41162     0.469769      1.01999   -0.489706  -1.54691\n",
       " -0.0653381   0.432461    1.47853      -0.550678  -1.73238   -1.42522\n",
       " -1.43632     1.27308     0.486607     -1.26745    0.582721   1.41277\n",
       " -0.425849    0.575888    1.16204      -1.1074    -0.19815    1.15737\n",
       "  1.58684    -1.3536     -0.155946  …   0.348709  -0.67193    1.48505\n",
       "  0.205722    0.326895    0.804621     -1.17124    0.110225  -0.134096\n",
       "  0.581264    0.0303504   0.919418     -1.67499   -0.270776   0.424266"
      ]
     },
     "execution_count": 23,
     "metadata": {},
     "output_type": "execute_result"
    }
   ],
   "source": [
    "A = randn(8, 10)"
   ]
  },
  {
   "cell_type": "code",
   "execution_count": 24,
   "metadata": {},
   "outputs": [
    {
     "data": {
      "text/plain": [
       "2"
      ]
     },
     "execution_count": 24,
     "metadata": {},
     "output_type": "execute_result"
    }
   ],
   "source": [
    "ndims(A)"
   ]
  },
  {
   "cell_type": "markdown",
   "metadata": {},
   "source": [
    "To get the number of rows and columns use `size`:"
   ]
  },
  {
   "cell_type": "code",
   "execution_count": 25,
   "metadata": {},
   "outputs": [
    {
     "data": {
      "text/plain": [
       "(8, 10)"
      ]
     },
     "execution_count": 25,
     "metadata": {},
     "output_type": "execute_result"
    }
   ],
   "source": [
    "size(A)"
   ]
  },
  {
   "cell_type": "markdown",
   "metadata": {},
   "source": [
    "Ae before `length` returns the number of elements in the matrix."
   ]
  },
  {
   "cell_type": "code",
   "execution_count": 26,
   "metadata": {},
   "outputs": [
    {
     "data": {
      "text/plain": [
       "80"
      ]
     },
     "execution_count": 26,
     "metadata": {},
     "output_type": "execute_result"
    }
   ],
   "source": [
    "length(A)"
   ]
  },
  {
   "cell_type": "markdown",
   "metadata": {},
   "source": [
    "The `reshape` function will change the shape of the array:"
   ]
  },
  {
   "cell_type": "markdown",
   "metadata": {},
   "source": [
    "The `zeros` function is available to create a matrix of zeros; the `fill` function can create a matrix with an arbitrary element."
   ]
  },
  {
   "cell_type": "code",
   "execution_count": 27,
   "metadata": {},
   "outputs": [
    {
     "data": {
      "text/plain": [
       "4×5 Matrix{Float64}:\n",
       " 0.0  0.0  0.0  0.0  0.0\n",
       " 0.0  0.0  0.0  0.0  0.0\n",
       " 0.0  0.0  0.0  0.0  0.0\n",
       " 0.0  0.0  0.0  0.0  0.0"
      ]
     },
     "execution_count": 27,
     "metadata": {},
     "output_type": "execute_result"
    }
   ],
   "source": [
    "zeros(4, 5)"
   ]
  },
  {
   "cell_type": "code",
   "execution_count": 28,
   "metadata": {},
   "outputs": [
    {
     "data": {
      "text/plain": [
       "4×5 Matrix{String}:\n",
       " \"foo\"  \"foo\"  \"foo\"  \"foo\"  \"foo\"\n",
       " \"foo\"  \"foo\"  \"foo\"  \"foo\"  \"foo\"\n",
       " \"foo\"  \"foo\"  \"foo\"  \"foo\"  \"foo\"\n",
       " \"foo\"  \"foo\"  \"foo\"  \"foo\"  \"foo\""
      ]
     },
     "execution_count": 28,
     "metadata": {},
     "output_type": "execute_result"
    }
   ],
   "source": [
    "fill(\"foo\", 4, 5)"
   ]
  },
  {
   "cell_type": "markdown",
   "metadata": {},
   "source": [
    "As mentioned before, if you want to do element-wise operations on an array you use dot notation. To demonstrate let's first generate a random matrix."
   ]
  },
  {
   "cell_type": "code",
   "execution_count": 29,
   "metadata": {},
   "outputs": [
    {
     "data": {
      "text/plain": [
       "4×5 Matrix{Float64}:\n",
       " -0.84056    0.307935  -1.13092   0.184802   0.0047621\n",
       "  0.332732  -0.973966   1.06585   0.675855   0.12169\n",
       "  0.947012   0.560921   1.14328  -0.0754592  0.406881\n",
       " -0.96819    0.371349  -0.76365   1.20987    1.62662"
      ]
     },
     "execution_count": 29,
     "metadata": {},
     "output_type": "execute_result"
    }
   ],
   "source": [
    "A = randn(4, 5)"
   ]
  },
  {
   "cell_type": "markdown",
   "metadata": {},
   "source": [
    "Now we square every element of __A__ using the dot syntax:"
   ]
  },
  {
   "cell_type": "code",
   "execution_count": 30,
   "metadata": {},
   "outputs": [
    {
     "data": {
      "text/plain": [
       "4×5 Matrix{Float64}:\n",
       " 0.706542  0.0948241  1.27898   0.0341518   2.26776e-5\n",
       " 0.11071   0.948609   1.13604   0.45678     0.0148084\n",
       " 0.896831  0.314632   1.30709   0.00569409  0.165552\n",
       " 0.937393  0.1379     0.583162  1.46379     2.6459"
      ]
     },
     "execution_count": 30,
     "metadata": {},
     "output_type": "execute_result"
    }
   ],
   "source": [
    "A.^2"
   ]
  },
  {
   "cell_type": "markdown",
   "metadata": {},
   "source": [
    "Similarly we can do element-wise division between two matrices. Below we can create a new random matrix __B__ then divide the elements of __A__ by their corresponding elements in __B__."
   ]
  },
  {
   "cell_type": "code",
   "execution_count": 31,
   "metadata": {},
   "outputs": [
    {
     "data": {
      "text/plain": [
       "4×5 Matrix{Float64}:\n",
       " -1.56714   0.124203   0.131469  -1.24547   1.10425\n",
       "  0.740822  2.0477     0.867374  -0.051259  0.00212268\n",
       " -0.844861  1.53316    0.937298  -0.958591  0.460477\n",
       " -1.34959   2.16777   -0.994619   1.3733    0.0548412"
      ]
     },
     "execution_count": 31,
     "metadata": {},
     "output_type": "execute_result"
    }
   ],
   "source": [
    "B =  randn(4, 5)"
   ]
  },
  {
   "cell_type": "code",
   "execution_count": 32,
   "metadata": {},
   "outputs": [
    {
     "data": {
      "text/plain": [
       "4×5 Matrix{Float64}:\n",
       "  0.536367   2.47928   -8.60217    -0.14838     0.00431252\n",
       "  0.449139  -0.475639   1.22883   -13.1851     57.3283\n",
       " -1.12091    0.365861   1.21976     0.0787188   0.883608\n",
       "  0.717397   0.171305   0.767782    0.880996   29.6606"
      ]
     },
     "execution_count": 32,
     "metadata": {},
     "output_type": "execute_result"
    }
   ],
   "source": [
    "A ./ B"
   ]
  },
  {
   "cell_type": "markdown",
   "metadata": {},
   "source": [
    "There are a lot of basic functions that can be applied to arrays: `sum`, `mean`, `sort`, etc."
   ]
  },
  {
   "cell_type": "code",
   "execution_count": 33,
   "metadata": {},
   "outputs": [
    {
     "data": {
      "text/plain": [
       "3×4 Matrix{Int64}:\n",
       " 1  -1   2  3\n",
       " 4  -3   1  0\n",
       " 7  -3  -3  2"
      ]
     },
     "execution_count": 33,
     "metadata": {},
     "output_type": "execute_result"
    }
   ],
   "source": [
    "A = [1 -1 2 3; 4 -3 1 0; 7 -3 -3 2]"
   ]
  },
  {
   "cell_type": "markdown",
   "metadata": {},
   "source": [
    "To sum all the elements of **A**:"
   ]
  },
  {
   "cell_type": "code",
   "execution_count": 34,
   "metadata": {},
   "outputs": [
    {
     "data": {
      "text/plain": [
       "3×4 Matrix{Int64}:\n",
       " 1  -1   2  3\n",
       " 4  -3   1  0\n",
       " 7  -3  -3  2"
      ]
     },
     "execution_count": 34,
     "metadata": {},
     "output_type": "execute_result"
    }
   ],
   "source": [
    "A"
   ]
  },
  {
   "cell_type": "code",
   "execution_count": 35,
   "metadata": {},
   "outputs": [
    {
     "data": {
      "text/plain": [
       "10"
      ]
     },
     "execution_count": 35,
     "metadata": {},
     "output_type": "execute_result"
    }
   ],
   "source": [
    "sum(A)"
   ]
  },
  {
   "cell_type": "code",
   "execution_count": 36,
   "metadata": {},
   "outputs": [
    {
     "data": {
      "text/plain": [
       "1×4 Matrix{Int64}:\n",
       " 12  -7  0  5"
      ]
     },
     "execution_count": 36,
     "metadata": {},
     "output_type": "execute_result"
    }
   ],
   "source": [
    "sum(A, dims = 1) #sums each column"
   ]
  },
  {
   "cell_type": "code",
   "execution_count": 37,
   "metadata": {},
   "outputs": [
    {
     "data": {
      "text/plain": [
       "3×1 Matrix{Int64}:\n",
       " 5\n",
       " 2\n",
       " 3"
      ]
     },
     "execution_count": 37,
     "metadata": {},
     "output_type": "execute_result"
    }
   ],
   "source": [
    "sum(A, dims = 2) #sums each row"
   ]
  },
  {
   "cell_type": "markdown",
   "metadata": {},
   "source": [
    "# Exercise 3\n",
    "* Create a 5 by 8 random array called *B* using **randn**.\n",
    "* Find the elements of *B* that are less than 0.2.\n",
    "* Retrieve the number of rows and columns of *B*.\n",
    "* Multiply every element of *B* by 3 and assign that to a new array called *C*.\n",
    "* Sort each row of *C* in ascending order."
   ]
  },
  {
   "cell_type": "code",
   "execution_count": null,
   "metadata": {},
   "outputs": [],
   "source": []
  },
  {
   "cell_type": "markdown",
   "metadata": {},
   "source": [
    "In this lesson we covered:\n",
    "* Single and multi-dimensional arrays.\n",
    "* Array indexing.\n",
    "* Applying functions to arrays."
   ]
  }
 ],
 "metadata": {
  "kernelspec": {
   "display_name": "Julia 1.8.0",
   "language": "julia",
   "name": "julia-1.8"
  },
  "language_info": {
   "file_extension": ".jl",
   "mimetype": "application/julia",
   "name": "julia",
   "version": "1.8.0"
  }
 },
 "nbformat": 4,
 "nbformat_minor": 4
}

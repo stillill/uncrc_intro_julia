{
 "cells": [
  {
   "cell_type": "markdown",
   "metadata": {},
   "source": [
    "# III. Working with arrays"
   ]
  },
  {
   "cell_type": "markdown",
   "metadata": {},
   "source": [
    "Julia has built-in functions that can be used to create arrays of random numbers. We can use the `rand` function to generate random floats between 0 and 1."
   ]
  },
  {
   "cell_type": "code",
   "execution_count": 1,
   "metadata": {},
   "outputs": [
    {
     "name": "stdout",
     "output_type": "stream",
     "text": [
      "[0.48922170677183385, 0.23398820595670644, 0.3511448150688934, 0.2516944582440892, 0.5921796350799822, 0.9103196842639933, 0.6356949498027129, 0.15023800215840244, 0.23179112898203824, 0.9450957619342832, 0.8256604575028219, 0.5693926499018602, 0.4004953160232465, 0.659404301050567, 0.5934412844980641, 0.6916471595570342, 0.275160495655973, 0.1269230780611743, 0.683779800718552, 0.5833469693461528]"
     ]
    }
   ],
   "source": [
    "a = rand(20);\n",
    "show(a)"
   ]
  },
  {
   "cell_type": "code",
   "execution_count": 2,
   "metadata": {},
   "outputs": [
    {
     "data": {
      "text/plain": [
       "Array{Float64,1}"
      ]
     },
     "execution_count": 2,
     "metadata": {},
     "output_type": "execute_result"
    }
   ],
   "source": [
    "typeof(a)"
   ]
  },
  {
   "cell_type": "markdown",
   "metadata": {},
   "source": [
    "The `rand` function can be used to sample from an arbitrary set of numbers. Here we sample three values from the values 1 through 20."
   ]
  },
  {
   "cell_type": "code",
   "execution_count": 3,
   "metadata": {},
   "outputs": [
    {
     "data": {
      "text/plain": [
       "3-element Array{Int64,1}:\n",
       " 10\n",
       "  3\n",
       "  5"
      ]
     },
     "execution_count": 3,
     "metadata": {},
     "output_type": "execute_result"
    }
   ],
   "source": [
    "rand(1:20, 3)"
   ]
  },
  {
   "cell_type": "markdown",
   "metadata": {},
   "source": [
    "Here we use indexing to get the first three elements of __a__."
   ]
  },
  {
   "cell_type": "code",
   "execution_count": 4,
   "metadata": {},
   "outputs": [
    {
     "data": {
      "text/plain": [
       "3-element Array{Float64,1}:\n",
       " 0.48922170677183385\n",
       " 0.23398820595670644\n",
       " 0.3511448150688934 "
      ]
     },
     "execution_count": 4,
     "metadata": {},
     "output_type": "execute_result"
    }
   ],
   "source": [
    "a[1:3]"
   ]
  },
  {
   "cell_type": "markdown",
   "metadata": {},
   "source": [
    "The __end__ keyword can be used to go to the last element along the dimension. The following will get the elements of __a__ starting from index 14 to the end."
   ]
  },
  {
   "cell_type": "code",
   "execution_count": 5,
   "metadata": {},
   "outputs": [
    {
     "data": {
      "text/plain": [
       "7-element Array{Float64,1}:\n",
       " 0.659404301050567 \n",
       " 0.5934412844980641\n",
       " 0.6916471595570342\n",
       " 0.275160495655973 \n",
       " 0.1269230780611743\n",
       " 0.683779800718552 \n",
       " 0.5833469693461528"
      ]
     },
     "execution_count": 5,
     "metadata": {},
     "output_type": "execute_result"
    }
   ],
   "source": [
    "a[14:end]"
   ]
  },
  {
   "cell_type": "markdown",
   "metadata": {},
   "source": [
    "You can use a stride index to get skip over elements in the array. For example to get every 2nd element of __a__ starting with the second element."
   ]
  },
  {
   "cell_type": "code",
   "execution_count": 6,
   "metadata": {},
   "outputs": [
    {
     "name": "stdout",
     "output_type": "stream",
     "text": [
      "[0.23398820595670644, 0.2516944582440892, 0.9103196842639933, 0.15023800215840244, 0.9450957619342832, 0.5693926499018602, 0.659404301050567, 0.6916471595570342, 0.1269230780611743, 0.5833469693461528]"
     ]
    }
   ],
   "source": [
    "show(a[2:2:end])"
   ]
  },
  {
   "cell_type": "markdown",
   "metadata": {},
   "source": [
    "You can use `length` to get the number of elements in the array:"
   ]
  },
  {
   "cell_type": "code",
   "execution_count": 7,
   "metadata": {},
   "outputs": [
    {
     "data": {
      "text/plain": [
       "20"
      ]
     },
     "execution_count": 7,
     "metadata": {},
     "output_type": "execute_result"
    }
   ],
   "source": [
    "length(a)"
   ]
  },
  {
   "cell_type": "markdown",
   "metadata": {},
   "source": [
    "There are a few very  useful functions Julia provides that are easy to understand in the context of one dimensional arrays: `map`, `filter`, `reduce`, `mapreduce`."
   ]
  },
  {
   "cell_type": "code",
   "execution_count": 8,
   "metadata": {},
   "outputs": [
    {
     "name": "stdout",
     "output_type": "stream",
     "text": [
      "[-0.9324118099711859, 0.4494861785132772, -1.9199083892308229, 0.23792681677809793, -0.012643964275971462, 0.3042749140951158, -0.7072116260068939, 1.577918548746474, -1.0801253299863138, -1.4114393782767616, -1.071505863466822, 0.2617045687700058, 1.0211372482706103, 1.0876196821174606, 1.4937735588634948]"
     ]
    }
   ],
   "source": [
    "a = randn(15)\n",
    "show(a)"
   ]
  },
  {
   "cell_type": "markdown",
   "metadata": {},
   "source": [
    "The `map` function will apply a function elemenwise to an array. Here we take the exponential of every element of __a__. The first argument to `map` is the function you want to apply to every element in the second object. The function can be an anonymous function, a user-defined function, a built-in function, etc."
   ]
  },
  {
   "cell_type": "code",
   "execution_count": 9,
   "metadata": {},
   "outputs": [
    {
     "name": "stdout",
     "output_type": "stream",
     "text": [
      "[0.39360326840218096, 1.5675065599829474, 0.1466203935221383, 1.2686163479959065, 0.9874356348045037, 1.3556416898746582, 0.4930169984067904, 4.8448609669860385, 0.3395529668093627, 0.2437921214031746, 0.34249238213568384, 1.2991426784100435, 2.7763503689267206, 2.9672027741084324, 4.45387079146031]"
     ]
    }
   ],
   "source": [
    "exp_a = map(exp, a)\n",
    "show(exp_a)"
   ]
  },
  {
   "cell_type": "markdown",
   "metadata": {},
   "source": [
    "The `filter` function will only return elements that satisfy a specified condition. Here we return elements of __a__ greater than zero."
   ]
  },
  {
   "cell_type": "code",
   "execution_count": 10,
   "metadata": {},
   "outputs": [
    {
     "name": "stdout",
     "output_type": "stream",
     "text": [
      "[0.4494861785132772, 0.23792681677809793, 0.3042749140951158, 1.577918548746474, 0.2617045687700058, 1.0211372482706103, 1.0876196821174606, 1.4937735588634948]"
     ]
    }
   ],
   "source": [
    "filt_a = filter(x -> x > 0, a)\n",
    "show((filt_a))"
   ]
  },
  {
   "cell_type": "markdown",
   "metadata": {},
   "source": [
    "You can apply a reduction operation using `reduce`. Here we apply `reduce` to an array using the multiplication operator:"
   ]
  },
  {
   "cell_type": "code",
   "execution_count": 11,
   "metadata": {},
   "outputs": [
    {
     "data": {
      "text/plain": [
       "-0.0005829342476231348"
      ]
     },
     "execution_count": 11,
     "metadata": {},
     "output_type": "execute_result"
    }
   ],
   "source": [
    "red_a = reduce(*, a)"
   ]
  },
  {
   "cell_type": "markdown",
   "metadata": {},
   "source": [
    "You can easily combine the `map` and `reduce` functions in Julia by using the `mapreduce` function. In what follows, the first argument does the map (i.e. square each element in __a__), and the second argument specifies the type of reduction to be applied (i.e. sum), and the last argument specifies what the `mapreduce` is being applied to."
   ]
  },
  {
   "cell_type": "code",
   "execution_count": 12,
   "metadata": {},
   "outputs": [
    {
     "data": {
      "text/plain": [
       "16.72924856652884"
      ]
     },
     "execution_count": 12,
     "metadata": {},
     "output_type": "execute_result"
    }
   ],
   "source": [
    "eucnormsq = mapreduce(x -> x ^ 2, +, a)"
   ]
  },
  {
   "cell_type": "markdown",
   "metadata": {},
   "source": [
    "There is also a useful `|>` operator that can be used to pass the result of one function as input to another function. For example, we can rewrite the above expression for __eucnormsq__ using this \"pipe-greater-than\" syntax:"
   ]
  },
  {
   "cell_type": "code",
   "execution_count": 13,
   "metadata": {},
   "outputs": [
    {
     "data": {
      "text/plain": [
       "16.72924856652884"
      ]
     },
     "execution_count": 13,
     "metadata": {},
     "output_type": "execute_result"
    }
   ],
   "source": [
    "eucnormsq = map(x -> x ^ 2, a) |> sum"
   ]
  },
  {
   "cell_type": "markdown",
   "metadata": {},
   "source": [
    "What we did above first was to apply the mapping to __a__ (i.e. squaring each element of __a__) and then we passed the result of `map` as input into the `sum` function which summed up the squared elements."
   ]
  },
  {
   "cell_type": "markdown",
   "metadata": {},
   "source": [
    "In Julia, you'll likely often be working with multidimensional arrays."
   ]
  },
  {
   "cell_type": "code",
   "execution_count": 14,
   "metadata": {},
   "outputs": [
    {
     "data": {
      "text/plain": [
       "2×3 Array{Int64,2}:\n",
       " 1  2  3\n",
       " 4  5  6"
      ]
     },
     "execution_count": 14,
     "metadata": {},
     "output_type": "execute_result"
    }
   ],
   "source": [
    "A = [1 2 3; 4 5 6]"
   ]
  },
  {
   "cell_type": "markdown",
   "metadata": {},
   "source": [
    "Generating random matrices and indexing works the same as before. Below we generate an 8 by 10 matrix of random numbers each distributed according to a standard normal distribution."
   ]
  },
  {
   "cell_type": "code",
   "execution_count": 15,
   "metadata": {},
   "outputs": [
    {
     "data": {
      "text/plain": [
       "8×10 Array{Float64,2}:\n",
       "  0.052261   0.245111  -0.0832386  …  -0.476504  1.70146    0.29428  \n",
       " -1.81725    0.402847   0.160868      -1.18155   0.043404   0.255165 \n",
       "  0.309988   0.945666   0.287139      -0.130548  0.786618   0.653011 \n",
       "  2.10265   -0.765735  -1.45954        0.216652  0.440409  -0.0089227\n",
       "  0.247881  -1.32097   -0.873619       0.769605  0.228119  -0.500876 \n",
       "  0.15384   -0.719572  -0.888789   …   2.02883   0.698597   0.190656 \n",
       "  0.423731   0.565354  -1.89544        1.05145   0.475646   0.265792 \n",
       "  0.40453    0.848234   0.263717       0.321172  0.496757   0.22709  "
      ]
     },
     "execution_count": 15,
     "metadata": {},
     "output_type": "execute_result"
    }
   ],
   "source": [
    "A = randn(8, 10)"
   ]
  },
  {
   "cell_type": "markdown",
   "metadata": {},
   "source": [
    "If we wanted all the rows but only columns 6 through 10 from our matrix __A__:"
   ]
  },
  {
   "cell_type": "code",
   "execution_count": 16,
   "metadata": {},
   "outputs": [
    {
     "data": {
      "text/plain": [
       "8×5 Array{Float64,2}:\n",
       " -0.48165   -0.05413   -0.476504  1.70146    0.29428  \n",
       " -0.423648   1.33057   -1.18155   0.043404   0.255165 \n",
       " -1.00506   -0.550859  -0.130548  0.786618   0.653011 \n",
       " -0.284291   0.80626    0.216652  0.440409  -0.0089227\n",
       " -0.971473   0.687713   0.769605  0.228119  -0.500876 \n",
       "  0.129743  -1.44741    2.02883   0.698597   0.190656 \n",
       " -0.475728   0.467158   1.05145   0.475646   0.265792 \n",
       "  0.9355    -2.48807    0.321172  0.496757   0.22709  "
      ]
     },
     "execution_count": 16,
     "metadata": {},
     "output_type": "execute_result"
    }
   ],
   "source": [
    "A[:, 6:10]"
   ]
  },
  {
   "cell_type": "markdown",
   "metadata": {},
   "source": [
    "If you wanted rows two through four and only columns 1, 4, and 8 through 10 of __A__:"
   ]
  },
  {
   "cell_type": "code",
   "execution_count": 17,
   "metadata": {},
   "outputs": [
    {
     "data": {
      "text/plain": [
       "3×5 Array{Float64,2}:\n",
       " -1.81725   -0.277849  -1.18155   0.043404   0.255165 \n",
       "  0.309988   0.634486  -0.130548  0.786618   0.653011 \n",
       "  2.10265   -0.708673   0.216652  0.440409  -0.0089227"
      ]
     },
     "execution_count": 17,
     "metadata": {},
     "output_type": "execute_result"
    }
   ],
   "source": [
    "A[2:4, union(1, 4, 8:10)]"
   ]
  },
  {
   "cell_type": "markdown",
   "metadata": {},
   "source": [
    "You can also use boolean indexing to extract elements. Here a random 8 x 10 matrix of booleans is generated:"
   ]
  },
  {
   "cell_type": "code",
   "execution_count": 18,
   "metadata": {},
   "outputs": [
    {
     "data": {
      "text/plain": [
       "8×10 Array{Bool,2}:\n",
       " 0  1  1  1  0  0  0  1  0  1\n",
       " 1  0  0  0  1  1  0  0  1  1\n",
       " 0  0  1  0  1  1  0  1  0  1\n",
       " 1  0  1  1  1  0  0  0  0  1\n",
       " 0  0  1  0  1  0  1  0  0  1\n",
       " 0  0  0  0  1  0  1  1  1  1\n",
       " 1  0  0  1  1  0  1  1  0  0\n",
       " 1  1  1  0  1  0  1  0  0  0"
      ]
     },
     "execution_count": 18,
     "metadata": {},
     "output_type": "execute_result"
    }
   ],
   "source": [
    "mask = rand(Bool, 8, 10)"
   ]
  },
  {
   "cell_type": "markdown",
   "metadata": {},
   "source": [
    "The following statment will return the elements of __A__ that correspond to the elemnts of *mask* that have an entry of *true*."
   ]
  },
  {
   "cell_type": "code",
   "execution_count": 19,
   "metadata": {},
   "outputs": [
    {
     "data": {
      "text/plain": [
       "39-element Array{Float64,1}:\n",
       " -1.8172537984266395  \n",
       "  2.102649021655136   \n",
       "  0.4237309346732946  \n",
       "  0.40453028773749167 \n",
       "  0.24511148274128544 \n",
       "  0.8482340577630565  \n",
       " -0.08323860268359817 \n",
       "  0.2871385862755773  \n",
       " -1.4595398328479714  \n",
       " -0.8736188707377037  \n",
       "  0.2637165640969634  \n",
       "  0.0693355670289256  \n",
       " -0.7086727549338354  \n",
       "  ⋮                   \n",
       " -0.4765042726474644  \n",
       " -0.13054789972892253 \n",
       "  2.028831584254096   \n",
       "  1.0514464093139515  \n",
       "  0.043403952274139575\n",
       "  0.6985966577211443  \n",
       "  0.2942801700353856  \n",
       "  0.25516504789215766 \n",
       "  0.6530108280571782  \n",
       " -0.008922699747143594\n",
       " -0.5008762893193759  \n",
       "  0.1906557317892771  "
      ]
     },
     "execution_count": 19,
     "metadata": {},
     "output_type": "execute_result"
    }
   ],
   "source": [
    "A[mask]"
   ]
  },
  {
   "cell_type": "markdown",
   "metadata": {},
   "source": [
    "Similarly if you wanted to return the elements of __A__ that were, say, greater than zero you could do something like the following:"
   ]
  },
  {
   "cell_type": "code",
   "execution_count": 20,
   "metadata": {},
   "outputs": [
    {
     "data": {
      "text/plain": [
       "46-element Array{Float64,1}:\n",
       " 0.0522609960451947 \n",
       " 0.3099876832056938 \n",
       " 2.102649021655136  \n",
       " 0.24788102929147882\n",
       " 0.15383973714882138\n",
       " 0.4237309346732946 \n",
       " 0.40453028773749167\n",
       " 0.24511148274128544\n",
       " 0.40284743536916967\n",
       " 0.9456664156893394 \n",
       " 0.5653543951135697 \n",
       " 0.8482340577630565 \n",
       " 0.1608678889479038 \n",
       " ⋮                  \n",
       " 0.7866184487203483 \n",
       " 0.44040926100676325\n",
       " 0.22811866622875532\n",
       " 0.6985966577211443 \n",
       " 0.47564613698981667\n",
       " 0.4967567273301734 \n",
       " 0.2942801700353856 \n",
       " 0.25516504789215766\n",
       " 0.6530108280571782 \n",
       " 0.1906557317892771 \n",
       " 0.26579222952232545\n",
       " 0.2270898684562241 "
      ]
     },
     "execution_count": 20,
     "metadata": {},
     "output_type": "execute_result"
    }
   ],
   "source": [
    "A[A .> 0]"
   ]
  },
  {
   "cell_type": "markdown",
   "metadata": {},
   "source": [
    "Note the dot notation used above which is necessary here to do an element-wise comparison."
   ]
  },
  {
   "cell_type": "markdown",
   "metadata": {},
   "source": [
    "One thing to be aware of when you do an assignment with arrays is that the new array is actually a *view* of the original array."
   ]
  },
  {
   "cell_type": "code",
   "execution_count": 21,
   "metadata": {},
   "outputs": [
    {
     "data": {
      "text/plain": [
       "8×10 Array{Float64,2}:\n",
       "  0.052261   0.245111  -0.0832386  …  -0.476504  1.70146    0.29428  \n",
       " -1.81725    0.402847   0.160868      -1.18155   0.043404   0.255165 \n",
       "  0.309988   0.945666   0.287139      -0.130548  0.786618   0.653011 \n",
       "  2.10265   -0.765735  -1.45954        0.216652  0.440409  -0.0089227\n",
       "  0.247881  -1.32097   -0.873619       0.769605  0.228119  -0.500876 \n",
       "  0.15384   -0.719572  -0.888789   …   2.02883   0.698597   0.190656 \n",
       "  0.423731   0.565354  -1.89544        1.05145   0.475646   0.265792 \n",
       "  0.40453    0.848234   0.263717       0.321172  0.496757   0.22709  "
      ]
     },
     "execution_count": 21,
     "metadata": {},
     "output_type": "execute_result"
    }
   ],
   "source": [
    "B = A"
   ]
  },
  {
   "cell_type": "code",
   "execution_count": 22,
   "metadata": {},
   "outputs": [
    {
     "data": {
      "text/plain": [
       "true"
      ]
     },
     "execution_count": 22,
     "metadata": {},
     "output_type": "execute_result"
    }
   ],
   "source": [
    "isequal(B, A)"
   ]
  },
  {
   "cell_type": "markdown",
   "metadata": {},
   "source": [
    "The `===` tests if __B__ and __A__ point to the same location in memory:"
   ]
  },
  {
   "cell_type": "code",
   "execution_count": 23,
   "metadata": {},
   "outputs": [
    {
     "data": {
      "text/plain": [
       "true"
      ]
     },
     "execution_count": 23,
     "metadata": {},
     "output_type": "execute_result"
    }
   ],
   "source": [
    "B === A"
   ]
  },
  {
   "cell_type": "markdown",
   "metadata": {},
   "source": [
    "Now let's change some elements of __B__. What do you think will happen to __A__?"
   ]
  },
  {
   "cell_type": "code",
   "execution_count": 24,
   "metadata": {},
   "outputs": [],
   "source": [
    "B[1, 1:end] .= 999;"
   ]
  },
  {
   "cell_type": "code",
   "execution_count": 25,
   "metadata": {},
   "outputs": [
    {
     "data": {
      "text/plain": [
       "8×10 Array{Float64,2}:\n",
       " 999.0       999.0       999.0       …  999.0       999.0       999.0      \n",
       "  -1.81725     0.402847    0.160868      -1.18155     0.043404    0.255165 \n",
       "   0.309988    0.945666    0.287139      -0.130548    0.786618    0.653011 \n",
       "   2.10265    -0.765735   -1.45954        0.216652    0.440409   -0.0089227\n",
       "   0.247881   -1.32097    -0.873619       0.769605    0.228119   -0.500876 \n",
       "   0.15384    -0.719572   -0.888789  …    2.02883     0.698597    0.190656 \n",
       "   0.423731    0.565354   -1.89544        1.05145     0.475646    0.265792 \n",
       "   0.40453     0.848234    0.263717       0.321172    0.496757    0.22709  "
      ]
     },
     "execution_count": 25,
     "metadata": {},
     "output_type": "execute_result"
    }
   ],
   "source": [
    "B"
   ]
  },
  {
   "cell_type": "markdown",
   "metadata": {},
   "source": [
    "Note that even though we changed the elements of __B__ the elements of the original array __A__ also changed."
   ]
  },
  {
   "cell_type": "code",
   "execution_count": 26,
   "metadata": {},
   "outputs": [
    {
     "data": {
      "text/plain": [
       "8×10 Array{Float64,2}:\n",
       " 999.0       999.0       999.0       …  999.0       999.0       999.0      \n",
       "  -1.81725     0.402847    0.160868      -1.18155     0.043404    0.255165 \n",
       "   0.309988    0.945666    0.287139      -0.130548    0.786618    0.653011 \n",
       "   2.10265    -0.765735   -1.45954        0.216652    0.440409   -0.0089227\n",
       "   0.247881   -1.32097    -0.873619       0.769605    0.228119   -0.500876 \n",
       "   0.15384    -0.719572   -0.888789  …    2.02883     0.698597    0.190656 \n",
       "   0.423731    0.565354   -1.89544        1.05145     0.475646    0.265792 \n",
       "   0.40453     0.848234    0.263717       0.321172    0.496757    0.22709  "
      ]
     },
     "execution_count": 26,
     "metadata": {},
     "output_type": "execute_result"
    }
   ],
   "source": [
    "A"
   ]
  },
  {
   "cell_type": "markdown",
   "metadata": {},
   "source": [
    "If you want to avoid this behavior then you can use the `copy` function to make a copy of the original array:"
   ]
  },
  {
   "cell_type": "code",
   "execution_count": 27,
   "metadata": {},
   "outputs": [],
   "source": [
    "C = copy(A);"
   ]
  },
  {
   "cell_type": "code",
   "execution_count": 28,
   "metadata": {},
   "outputs": [
    {
     "data": {
      "text/plain": [
       "true"
      ]
     },
     "execution_count": 28,
     "metadata": {},
     "output_type": "execute_result"
    }
   ],
   "source": [
    "isequal(C, A)"
   ]
  },
  {
   "cell_type": "code",
   "execution_count": 29,
   "metadata": {},
   "outputs": [
    {
     "data": {
      "text/plain": [
       "false"
      ]
     },
     "execution_count": 29,
     "metadata": {},
     "output_type": "execute_result"
    }
   ],
   "source": [
    "C === A"
   ]
  },
  {
   "cell_type": "markdown",
   "metadata": {},
   "source": [
    "What the above shows is that __C__ points to a different location in memory than __A__, so you can change __C__ without affecting __A__."
   ]
  },
  {
   "cell_type": "markdown",
   "metadata": {},
   "source": [
    "Let's move on and look at some basic functions and operations that you can with arrays."
   ]
  },
  {
   "cell_type": "markdown",
   "metadata": {},
   "source": [
    "To check the dimension of an array you can use the `ndims` function:"
   ]
  },
  {
   "cell_type": "code",
   "execution_count": 30,
   "metadata": {},
   "outputs": [
    {
     "data": {
      "text/plain": [
       "8×10 Array{Float64,2}:\n",
       "  1.46816   -0.00323373  -0.984092  …   0.394842  -0.477097   0.185557 \n",
       " -0.134089   1.37991     -0.915052      1.96685    1.2546     1.79164  \n",
       "  0.164207  -0.478126    -0.35573      -0.338896  -0.418068   0.678582 \n",
       " -0.4873    -1.14405     -0.703901     -1.11022   -0.39306   -1.54468  \n",
       "  0.963068   0.120289    -0.811619     -2.04663    1.34058    0.270189 \n",
       "  1.55257   -0.751351     0.763494  …  -1.22276    0.562637  -0.0520285\n",
       "  0.543123  -1.7885      -0.81668       0.4301    -2.02303   -1.25026  \n",
       "  2.65575   -2.60739      0.249087      0.384562   0.101902  -0.942166 "
      ]
     },
     "execution_count": 30,
     "metadata": {},
     "output_type": "execute_result"
    }
   ],
   "source": [
    "A = randn(8, 10)"
   ]
  },
  {
   "cell_type": "code",
   "execution_count": 31,
   "metadata": {},
   "outputs": [
    {
     "data": {
      "text/plain": [
       "2"
      ]
     },
     "execution_count": 31,
     "metadata": {},
     "output_type": "execute_result"
    }
   ],
   "source": [
    "ndims(A)"
   ]
  },
  {
   "cell_type": "markdown",
   "metadata": {},
   "source": [
    "To get the number of rows and columns use `size`:"
   ]
  },
  {
   "cell_type": "code",
   "execution_count": 32,
   "metadata": {},
   "outputs": [
    {
     "data": {
      "text/plain": [
       "(8, 10)"
      ]
     },
     "execution_count": 32,
     "metadata": {},
     "output_type": "execute_result"
    }
   ],
   "source": [
    "size(A)"
   ]
  },
  {
   "cell_type": "markdown",
   "metadata": {},
   "source": [
    "Ae before `length` returns the number of elements in the matrix."
   ]
  },
  {
   "cell_type": "code",
   "execution_count": 33,
   "metadata": {},
   "outputs": [
    {
     "data": {
      "text/plain": [
       "80"
      ]
     },
     "execution_count": 33,
     "metadata": {},
     "output_type": "execute_result"
    }
   ],
   "source": [
    "length(A)"
   ]
  },
  {
   "cell_type": "markdown",
   "metadata": {},
   "source": [
    "The `reshape` function will change the shape of the array:"
   ]
  },
  {
   "cell_type": "code",
   "execution_count": 34,
   "metadata": {},
   "outputs": [
    {
     "data": {
      "text/plain": [
       "8×10 Array{Float64,2}:\n",
       "  1.46816   -0.00323373  -0.984092  …   0.394842  -0.477097   0.185557 \n",
       " -0.134089   1.37991     -0.915052      1.96685    1.2546     1.79164  \n",
       "  0.164207  -0.478126    -0.35573      -0.338896  -0.418068   0.678582 \n",
       " -0.4873    -1.14405     -0.703901     -1.11022   -0.39306   -1.54468  \n",
       "  0.963068   0.120289    -0.811619     -2.04663    1.34058    0.270189 \n",
       "  1.55257   -0.751351     0.763494  …  -1.22276    0.562637  -0.0520285\n",
       "  0.543123  -1.7885      -0.81668       0.4301    -2.02303   -1.25026  \n",
       "  2.65575   -2.60739      0.249087      0.384562   0.101902  -0.942166 "
      ]
     },
     "execution_count": 34,
     "metadata": {},
     "output_type": "execute_result"
    }
   ],
   "source": [
    "A"
   ]
  },
  {
   "cell_type": "code",
   "execution_count": 35,
   "metadata": {},
   "outputs": [
    {
     "data": {
      "text/plain": [
       "2×40 Array{Float64,2}:\n",
       "  1.46816    0.164207  0.963068  …   0.678582   0.270189   -1.25026 \n",
       " -0.134089  -0.4873    1.55257      -1.54468   -0.0520285  -0.942166"
      ]
     },
     "execution_count": 35,
     "metadata": {},
     "output_type": "execute_result"
    }
   ],
   "source": [
    "C = reshape(A, 2, 40)"
   ]
  },
  {
   "cell_type": "code",
   "execution_count": 36,
   "metadata": {},
   "outputs": [
    {
     "data": {
      "text/plain": [
       "(2, 40)"
      ]
     },
     "execution_count": 36,
     "metadata": {},
     "output_type": "execute_result"
    }
   ],
   "source": [
    "size(C)"
   ]
  },
  {
   "cell_type": "code",
   "execution_count": 37,
   "metadata": {},
   "outputs": [
    {
     "data": {
      "text/plain": [
       "5×5 Array{Float64,2}:\n",
       " -0.696523  -0.471784   0.820062   0.128029   -0.657384 \n",
       "  0.431981   0.120459   0.445679  -0.784718   -0.391408 \n",
       "  1.7356    -0.178117  -1.98435   -0.905685    1.33795  \n",
       " -1.87878    0.848242  -0.194669  -0.0984287   0.0338903\n",
       "  1.20802    0.739109   0.245352   0.308893   -0.356952 "
      ]
     },
     "execution_count": 37,
     "metadata": {},
     "output_type": "execute_result"
    }
   ],
   "source": [
    "A = randn(5, 5)"
   ]
  },
  {
   "cell_type": "markdown",
   "metadata": {},
   "source": [
    "There are a few ways to initialize arrays. Here we use constructor notation along with the **undef** keyword to initialize an array to nothing in particular (some undefined strings or some undefined integers):"
   ]
  },
  {
   "cell_type": "code",
   "execution_count": 38,
   "metadata": {},
   "outputs": [
    {
     "data": {
      "text/plain": [
       "5×5 Array{String,2}:\n",
       " #undef  #undef  #undef  #undef  #undef\n",
       " #undef  #undef  #undef  #undef  #undef\n",
       " #undef  #undef  #undef  #undef  #undef\n",
       " #undef  #undef  #undef  #undef  #undef\n",
       " #undef  #undef  #undef  #undef  #undef"
      ]
     },
     "execution_count": 38,
     "metadata": {},
     "output_type": "execute_result"
    }
   ],
   "source": [
    "InitStringArray = Array{String}(undef, 5, 5)"
   ]
  },
  {
   "cell_type": "code",
   "execution_count": 39,
   "metadata": {},
   "outputs": [
    {
     "data": {
      "text/plain": [
       "5×5 Array{Int64,2}:\n",
       " 140549209058800  140549209059120  …  140549209059760  140549209060080\n",
       " 140549209058864  140549209059184     140549209059824  140549209060144\n",
       " 140549209058928  140549209059248     140549209059888  140549209060208\n",
       " 140549209058992  140549209059312     140549209059952  140549209060272\n",
       " 140549209059056  140549209059376     140549209060016  140549209060336"
      ]
     },
     "execution_count": 39,
     "metadata": {},
     "output_type": "execute_result"
    }
   ],
   "source": [
    "InitIntArray = Array{Int64}(undef, 5, 5)"
   ]
  },
  {
   "cell_type": "markdown",
   "metadata": {},
   "source": [
    "The `zeros` function is available to create a matrix of zeros; the `fill` function can create a matrix with an arbitrary element."
   ]
  },
  {
   "cell_type": "code",
   "execution_count": 40,
   "metadata": {},
   "outputs": [
    {
     "data": {
      "text/plain": [
       "4×5 Array{Float64,2}:\n",
       " 0.0  0.0  0.0  0.0  0.0\n",
       " 0.0  0.0  0.0  0.0  0.0\n",
       " 0.0  0.0  0.0  0.0  0.0\n",
       " 0.0  0.0  0.0  0.0  0.0"
      ]
     },
     "execution_count": 40,
     "metadata": {},
     "output_type": "execute_result"
    }
   ],
   "source": [
    "zeros(4, 5)"
   ]
  },
  {
   "cell_type": "code",
   "execution_count": 41,
   "metadata": {},
   "outputs": [
    {
     "data": {
      "text/plain": [
       "4×5 Array{String,2}:\n",
       " \"foo\"  \"foo\"  \"foo\"  \"foo\"  \"foo\"\n",
       " \"foo\"  \"foo\"  \"foo\"  \"foo\"  \"foo\"\n",
       " \"foo\"  \"foo\"  \"foo\"  \"foo\"  \"foo\"\n",
       " \"foo\"  \"foo\"  \"foo\"  \"foo\"  \"foo\""
      ]
     },
     "execution_count": 41,
     "metadata": {},
     "output_type": "execute_result"
    }
   ],
   "source": [
    "fill(\"foo\", 4, 5)"
   ]
  },
  {
   "cell_type": "markdown",
   "metadata": {},
   "source": [
    "You can use the following constructor notation to create an identity matrix:"
   ]
  },
  {
   "cell_type": "code",
   "execution_count": 42,
   "metadata": {},
   "outputs": [
    {
     "data": {
      "text/plain": [
       "5×5 Array{Float64,2}:\n",
       " 1.0  0.0  0.0  0.0  0.0\n",
       " 0.0  1.0  0.0  0.0  0.0\n",
       " 0.0  0.0  1.0  0.0  0.0\n",
       " 0.0  0.0  0.0  1.0  0.0\n",
       " 0.0  0.0  0.0  0.0  1.0"
      ]
     },
     "execution_count": 42,
     "metadata": {},
     "output_type": "execute_result"
    }
   ],
   "source": [
    "using LinearAlgebra #this package contains linear algebra functionality\n",
    "\n",
    "Imatfirst = Array{Float64}(I, 5, 5)"
   ]
  },
  {
   "cell_type": "markdown",
   "metadata": {},
   "source": [
    "To create a sparse version of the identity matrix you can use the `Diagonal` function. The `Diagonal` function creates a diagonal matrix given an input matrix."
   ]
  },
  {
   "cell_type": "code",
   "execution_count": 43,
   "metadata": {},
   "outputs": [
    {
     "data": {
      "text/plain": [
       "5×5 Diagonal{Float64,Array{Float64,1}}:\n",
       " 1.0   ⋅    ⋅    ⋅    ⋅ \n",
       "  ⋅   1.0   ⋅    ⋅    ⋅ \n",
       "  ⋅    ⋅   1.0   ⋅    ⋅ \n",
       "  ⋅    ⋅    ⋅   1.0   ⋅ \n",
       "  ⋅    ⋅    ⋅    ⋅   1.0"
      ]
     },
     "execution_count": 43,
     "metadata": {},
     "output_type": "execute_result"
    }
   ],
   "source": [
    "Imatsec = Diagonal(ones(5, 5))"
   ]
  },
  {
   "cell_type": "markdown",
   "metadata": {},
   "source": [
    "You can see the sparse version takes up less space:"
   ]
  },
  {
   "cell_type": "code",
   "execution_count": 44,
   "metadata": {},
   "outputs": [
    {
     "data": {
      "text/latex": [
       "\\begin{tabular}\n",
       "{l | r | l}\n",
       "name & size & summary \\\\\n",
       "\\hline\n",
       "A & 240 bytes & 5×5 Array\\{Float64,2\\} \\\\\n",
       "B & 680 bytes & 8×10 Array\\{Float64,2\\} \\\\\n",
       "Base &  & Module \\\\\n",
       "C & 680 bytes & 2×40 Array\\{Float64,2\\} \\\\\n",
       "Core &  & Module \\\\\n",
       "Imatfirst & 240 bytes & 5×5 Array\\{Float64,2\\} \\\\\n",
       "Imatsec & 88 bytes & 5×5 Diagonal\\{Float64,Array\\{Float64,1\\}\\} \\\\\n",
       "InitIntArray & 240 bytes & 5×5 Array\\{Int64,2\\} \\\\\n",
       "InitStringArray & 240 bytes & 5×5 Array\\{String,2\\} \\\\\n",
       "Main &  & Module \\\\\n",
       "a & 160 bytes & 15-element Array\\{Float64,1\\} \\\\\n",
       "eucnormsq & 8 bytes & Float64 \\\\\n",
       "exp\\_a & 160 bytes & 15-element Array\\{Float64,1\\} \\\\\n",
       "filt\\_a & 104 bytes & 8-element Array\\{Float64,1\\} \\\\\n",
       "mask & 120 bytes & 8×10 Array\\{Bool,2\\} \\\\\n",
       "red\\_a & 8 bytes & Float64 \\\\\n",
       "\\end{tabular}\n"
      ],
      "text/markdown": [
       "| name            |      size | summary                                |\n",
       "|:--------------- | ---------:|:-------------------------------------- |\n",
       "| A               | 240 bytes | 5×5 Array{Float64,2}                   |\n",
       "| B               | 680 bytes | 8×10 Array{Float64,2}                  |\n",
       "| Base            |           | Module                                 |\n",
       "| C               | 680 bytes | 2×40 Array{Float64,2}                  |\n",
       "| Core            |           | Module                                 |\n",
       "| Imatfirst       | 240 bytes | 5×5 Array{Float64,2}                   |\n",
       "| Imatsec         |  88 bytes | 5×5 Diagonal{Float64,Array{Float64,1}} |\n",
       "| InitIntArray    | 240 bytes | 5×5 Array{Int64,2}                     |\n",
       "| InitStringArray | 240 bytes | 5×5 Array{String,2}                    |\n",
       "| Main            |           | Module                                 |\n",
       "| a               | 160 bytes | 15-element Array{Float64,1}            |\n",
       "| eucnormsq       |   8 bytes | Float64                                |\n",
       "| exp_a           | 160 bytes | 15-element Array{Float64,1}            |\n",
       "| filt_a          | 104 bytes | 8-element Array{Float64,1}             |\n",
       "| mask            | 120 bytes | 8×10 Array{Bool,2}                     |\n",
       "| red_a           |   8 bytes | Float64                                |\n"
      ],
      "text/plain": [
       "  name                 size summary                               \n",
       "  ––––––––––––––– ––––––––– ––––––––––––––––––––––––––––––––––––––\n",
       "  A               240 bytes 5×5 Array{Float64,2}                  \n",
       "  B               680 bytes 8×10 Array{Float64,2}                 \n",
       "  Base                      Module                                \n",
       "  C               680 bytes 2×40 Array{Float64,2}                 \n",
       "  Core                      Module                                \n",
       "  Imatfirst       240 bytes 5×5 Array{Float64,2}                  \n",
       "  Imatsec          88 bytes 5×5 Diagonal{Float64,Array{Float64,1}}\n",
       "  InitIntArray    240 bytes 5×5 Array{Int64,2}                    \n",
       "  InitStringArray 240 bytes 5×5 Array{String,2}                   \n",
       "  Main                      Module                                \n",
       "  a               160 bytes 15-element Array{Float64,1}           \n",
       "  eucnormsq         8 bytes Float64                               \n",
       "  exp_a           160 bytes 15-element Array{Float64,1}           \n",
       "  filt_a          104 bytes 8-element Array{Float64,1}            \n",
       "  mask            120 bytes 8×10 Array{Bool,2}                    \n",
       "  red_a             8 bytes Float64                               "
      ]
     },
     "execution_count": 44,
     "metadata": {},
     "output_type": "execute_result"
    }
   ],
   "source": [
    "varinfo() # see what objects are in your session"
   ]
  },
  {
   "cell_type": "markdown",
   "metadata": {},
   "source": [
    "As mentioned before, if you want to do element-wise operations on an array you use dot notation. To demonstrate let's first generate a random matrix."
   ]
  },
  {
   "cell_type": "code",
   "execution_count": 45,
   "metadata": {},
   "outputs": [
    {
     "data": {
      "text/plain": [
       "4×5 Array{Float64,2}:\n",
       " -0.869221  -0.385225   -0.600609   1.00794   -1.48471  \n",
       " -1.10019   -1.79143    -0.241786   0.435377   0.339543 \n",
       "  1.50909    0.777673   -1.49495    0.113104   0.0440349\n",
       "  0.681267  -0.0608676   0.311107  -0.673308  -1.2748   "
      ]
     },
     "execution_count": 45,
     "metadata": {},
     "output_type": "execute_result"
    }
   ],
   "source": [
    "A = randn(4, 5)"
   ]
  },
  {
   "cell_type": "markdown",
   "metadata": {},
   "source": [
    "Now we square every element of __A__ using the dot syntax:"
   ]
  },
  {
   "cell_type": "code",
   "execution_count": 46,
   "metadata": {},
   "outputs": [
    {
     "data": {
      "text/plain": [
       "4×5 Array{Float64,2}:\n",
       " 0.755545  0.148398    0.360731   1.01595    2.20436   \n",
       " 1.21042   3.20921     0.0584604  0.189553   0.11529   \n",
       " 2.27735   0.604776    2.23486    0.0127926  0.00193907\n",
       " 0.464125  0.00370486  0.0967876  0.453344   1.62511   "
      ]
     },
     "execution_count": 46,
     "metadata": {},
     "output_type": "execute_result"
    }
   ],
   "source": [
    "A.^2"
   ]
  },
  {
   "cell_type": "markdown",
   "metadata": {},
   "source": [
    "Similarly we can do element-wise division between two matrices. Below we can create a new random matrix __B__ then divide the elements of __A__ by their corresponding elements in __B__."
   ]
  },
  {
   "cell_type": "code",
   "execution_count": 47,
   "metadata": {},
   "outputs": [
    {
     "data": {
      "text/plain": [
       "4×5 Array{Float64,2}:\n",
       " -0.130132   -1.50535   -1.94737   -1.00755    0.158515\n",
       " -0.0305581   1.35545    1.36826    0.431192   0.37851 \n",
       "  0.198628    0.172688  -0.271589  -0.225997  -0.958321\n",
       "  1.15803     0.197988   1.74994    0.774213  -0.248607"
      ]
     },
     "execution_count": 47,
     "metadata": {},
     "output_type": "execute_result"
    }
   ],
   "source": [
    "B =  randn(4, 5)"
   ]
  },
  {
   "cell_type": "code",
   "execution_count": 48,
   "metadata": {},
   "outputs": [
    {
     "data": {
      "text/plain": [
       "4×5 Array{Float64,2}:\n",
       "  6.67951    0.255904   0.30842   -1.00039   -9.36635  \n",
       " 36.0033    -1.32164   -0.176711   1.0097     0.897053 \n",
       "  7.59754    4.50334    5.50444   -0.500467  -0.0459501\n",
       "  0.588299  -0.307431   0.177782  -0.869668   5.12776  "
      ]
     },
     "execution_count": 48,
     "metadata": {},
     "output_type": "execute_result"
    }
   ],
   "source": [
    "A ./ B"
   ]
  },
  {
   "cell_type": "markdown",
   "metadata": {},
   "source": [
    "There are a lot of basic functions that can be applied to arrays: `sum`, `mean`, `sort`, etc."
   ]
  },
  {
   "cell_type": "code",
   "execution_count": 49,
   "metadata": {},
   "outputs": [
    {
     "data": {
      "text/plain": [
       "3×4 Array{Int64,2}:\n",
       " 1  -1   2  3\n",
       " 4  -3   1  0\n",
       " 7  -3  -3  2"
      ]
     },
     "execution_count": 49,
     "metadata": {},
     "output_type": "execute_result"
    }
   ],
   "source": [
    "A = [[1 -1 2 3]; [4 -3 1 0]; [7 -3 -3 2]]"
   ]
  },
  {
   "cell_type": "markdown",
   "metadata": {},
   "source": [
    "To sum all the elements of **A**:"
   ]
  },
  {
   "cell_type": "code",
   "execution_count": 50,
   "metadata": {},
   "outputs": [
    {
     "data": {
      "text/plain": [
       "3×4 Array{Int64,2}:\n",
       " 1  -1   2  3\n",
       " 4  -3   1  0\n",
       " 7  -3  -3  2"
      ]
     },
     "execution_count": 50,
     "metadata": {},
     "output_type": "execute_result"
    }
   ],
   "source": [
    "A"
   ]
  },
  {
   "cell_type": "code",
   "execution_count": 51,
   "metadata": {},
   "outputs": [
    {
     "data": {
      "text/plain": [
       "10"
      ]
     },
     "execution_count": 51,
     "metadata": {},
     "output_type": "execute_result"
    }
   ],
   "source": [
    "sum(A)"
   ]
  },
  {
   "cell_type": "code",
   "execution_count": 52,
   "metadata": {},
   "outputs": [
    {
     "data": {
      "text/plain": [
       "1×4 Array{Int64,2}:\n",
       " 12  -7  0  5"
      ]
     },
     "execution_count": 52,
     "metadata": {},
     "output_type": "execute_result"
    }
   ],
   "source": [
    "sum(A, dims = 1) #sums each column"
   ]
  },
  {
   "cell_type": "code",
   "execution_count": 53,
   "metadata": {},
   "outputs": [
    {
     "data": {
      "text/plain": [
       "3×1 Array{Int64,2}:\n",
       " 5\n",
       " 2\n",
       " 3"
      ]
     },
     "execution_count": 53,
     "metadata": {},
     "output_type": "execute_result"
    }
   ],
   "source": [
    "sum(A, dims = 2) #sums each row"
   ]
  },
  {
   "cell_type": "markdown",
   "metadata": {},
   "source": [
    "The `sort` function will sort the array along the indicated dimension."
   ]
  },
  {
   "cell_type": "code",
   "execution_count": 54,
   "metadata": {},
   "outputs": [
    {
     "data": {
      "text/plain": [
       "3×4 Array{Int64,2}:\n",
       " 1  -1   2  3\n",
       " 4  -3   1  0\n",
       " 7  -3  -3  2"
      ]
     },
     "execution_count": 54,
     "metadata": {},
     "output_type": "execute_result"
    }
   ],
   "source": [
    "A"
   ]
  },
  {
   "cell_type": "code",
   "execution_count": 55,
   "metadata": {},
   "outputs": [
    {
     "data": {
      "text/plain": [
       "3×4 Array{Int64,2}:\n",
       " 1  -3  -3  0\n",
       " 4  -3   1  2\n",
       " 7  -1   2  3"
      ]
     },
     "execution_count": 55,
     "metadata": {},
     "output_type": "execute_result"
    }
   ],
   "source": [
    "sort(A, dims = 1) #sort each column in ascending order"
   ]
  },
  {
   "cell_type": "code",
   "execution_count": 56,
   "metadata": {},
   "outputs": [
    {
     "data": {
      "text/plain": [
       "3×4 Array{Int64,2}:\n",
       " 7  -1   2  3\n",
       " 4  -3   1  2\n",
       " 1  -3  -3  0"
      ]
     },
     "execution_count": 56,
     "metadata": {},
     "output_type": "execute_result"
    }
   ],
   "source": [
    "sort(A, dims= 1, rev=true) #sort each column in descending order"
   ]
  },
  {
   "cell_type": "code",
   "execution_count": 57,
   "metadata": {},
   "outputs": [
    {
     "data": {
      "text/plain": [
       "3×4 Array{Int64,2}:\n",
       " -1   1  2  3\n",
       " -3   0  1  4\n",
       " -3  -3  2  7"
      ]
     },
     "execution_count": 57,
     "metadata": {},
     "output_type": "execute_result"
    }
   ],
   "source": [
    "sort(A, dims = 2) #sort each row in ascending order"
   ]
  },
  {
   "cell_type": "markdown",
   "metadata": {},
   "source": [
    "# Exercise 3\n",
    "* Create a 5 by 8 random array called *B* using **randn**.\n",
    "* Find the elements of *B* that are less than 0.2.\n",
    "* Retrieve the number of rows and columns of *B*.\n",
    "* Multiply every element of *B* by 3 and assign that to a new array called *C*.\n",
    "* Sort each row of *C* in ascending order."
   ]
  },
  {
   "cell_type": "code",
   "execution_count": null,
   "metadata": {},
   "outputs": [],
   "source": []
  },
  {
   "cell_type": "markdown",
   "metadata": {},
   "source": [
    "In this lesson we covered:\n",
    "* Single and multi-dimensional arrays.\n",
    "* Array indexing.\n",
    "* Applying functions to arrays."
   ]
  }
 ],
 "metadata": {
  "kernelspec": {
   "display_name": "Julia 1.3.0",
   "language": "julia",
   "name": "julia-1.3"
  },
  "language_info": {
   "file_extension": ".jl",
   "mimetype": "application/julia",
   "name": "julia",
   "version": "1.3.0"
  }
 },
 "nbformat": 4,
 "nbformat_minor": 4
}

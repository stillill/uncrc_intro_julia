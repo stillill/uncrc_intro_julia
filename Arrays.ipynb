{
 "cells": [
  {
   "cell_type": "markdown",
   "metadata": {},
   "source": [
    "# III. Working with arrays"
   ]
  },
  {
   "cell_type": "markdown",
   "metadata": {},
   "source": [
    "Julia has built-in functions that can be used to create arrays of random numbers. We can use the `rand` function to generate random floats between 0 and 1."
   ]
  },
  {
   "cell_type": "code",
   "execution_count": 1,
   "metadata": {},
   "outputs": [
    {
     "name": "stdout",
     "output_type": "stream",
     "text": [
      "[0.9502793786615584, 0.6489044338385268, 0.07896123123192056, 0.27613725200094685, 0.16017186707719278, 0.5882327899003803, 0.552095086652632, 0.8231710665592555, 0.018850993756785117, 0.9371906592003292, 0.009127078433834868, 0.8169514939171134, 0.0808069470042374, 0.7375705077008241, 0.9589434299012154, 0.8830576340985039, 0.5388683535159571, 0.6661376860029673, 0.9547808334558365, 0.813868845950106]"
     ]
    }
   ],
   "source": [
    "a = rand(20);\n",
    "show(a)"
   ]
  },
  {
   "cell_type": "code",
   "execution_count": 2,
   "metadata": {},
   "outputs": [
    {
     "data": {
      "text/plain": [
       "Array{Float64,1}"
      ]
     },
     "execution_count": 2,
     "metadata": {},
     "output_type": "execute_result"
    }
   ],
   "source": [
    "typeof(a)"
   ]
  },
  {
   "cell_type": "markdown",
   "metadata": {},
   "source": [
    "The `rand` function can be used to sample from an arbitrary set of numbers. Here we sample three values from the values 1 through 20."
   ]
  },
  {
   "cell_type": "code",
   "execution_count": 3,
   "metadata": {},
   "outputs": [
    {
     "data": {
      "text/plain": [
       "3-element Array{Int64,1}:\n",
       "  5\n",
       " 15\n",
       " 12"
      ]
     },
     "execution_count": 3,
     "metadata": {},
     "output_type": "execute_result"
    }
   ],
   "source": [
    "rand(1:20, 3)"
   ]
  },
  {
   "cell_type": "markdown",
   "metadata": {},
   "source": [
    "Here we use indexing to get the first three elements of __a__."
   ]
  },
  {
   "cell_type": "code",
   "execution_count": 4,
   "metadata": {},
   "outputs": [
    {
     "data": {
      "text/plain": [
       "3-element Array{Float64,1}:\n",
       " 0.9502793786615584 \n",
       " 0.6489044338385268 \n",
       " 0.07896123123192056"
      ]
     },
     "execution_count": 4,
     "metadata": {},
     "output_type": "execute_result"
    }
   ],
   "source": [
    "a[1:3]"
   ]
  },
  {
   "cell_type": "markdown",
   "metadata": {},
   "source": [
    "The __end__ keyword can be used to go to the last element along the dimension. The following will get the elements of __a__ starting from index 14 to the end."
   ]
  },
  {
   "cell_type": "code",
   "execution_count": 5,
   "metadata": {},
   "outputs": [
    {
     "data": {
      "text/plain": [
       "7-element Array{Float64,1}:\n",
       " 0.7375705077008241\n",
       " 0.9589434299012154\n",
       " 0.8830576340985039\n",
       " 0.5388683535159571\n",
       " 0.6661376860029673\n",
       " 0.9547808334558365\n",
       " 0.813868845950106 "
      ]
     },
     "execution_count": 5,
     "metadata": {},
     "output_type": "execute_result"
    }
   ],
   "source": [
    "a[14:end]"
   ]
  },
  {
   "cell_type": "markdown",
   "metadata": {},
   "source": [
    "You can use a stride index to get skip over elements in the array. For example to get every 2nd element of __a__ starting with the second element."
   ]
  },
  {
   "cell_type": "code",
   "execution_count": 6,
   "metadata": {},
   "outputs": [
    {
     "name": "stdout",
     "output_type": "stream",
     "text": [
      "[0.9502793786615584, 0.6489044338385268, 0.07896123123192056, 0.27613725200094685, 0.16017186707719278, 0.5882327899003803, 0.552095086652632, 0.8231710665592555, 0.018850993756785117, 0.9371906592003292, 0.009127078433834868, 0.8169514939171134, 0.0808069470042374, 0.7375705077008241, 0.9589434299012154, 0.8830576340985039, 0.5388683535159571, 0.6661376860029673, 0.9547808334558365, 0.813868845950106]"
     ]
    }
   ],
   "source": [
    "show(a)"
   ]
  },
  {
   "cell_type": "code",
   "execution_count": 7,
   "metadata": {},
   "outputs": [
    {
     "name": "stdout",
     "output_type": "stream",
     "text": [
      "[0.6489044338385268, 0.27613725200094685, 0.5882327899003803, 0.8231710665592555, 0.9371906592003292, 0.8169514939171134, 0.7375705077008241, 0.8830576340985039, 0.6661376860029673, 0.813868845950106]"
     ]
    }
   ],
   "source": [
    "show(a[2:2:end])"
   ]
  },
  {
   "cell_type": "markdown",
   "metadata": {},
   "source": [
    "You can use `length` to get the number of elements in the array:"
   ]
  },
  {
   "cell_type": "code",
   "execution_count": 8,
   "metadata": {},
   "outputs": [
    {
     "data": {
      "text/plain": [
       "20"
      ]
     },
     "execution_count": 8,
     "metadata": {},
     "output_type": "execute_result"
    }
   ],
   "source": [
    "length(a)"
   ]
  },
  {
   "cell_type": "markdown",
   "metadata": {},
   "source": [
    "There are a few very  useful functions Julia provides that are easy to understand in the context of one dimensional arrays: `map`, `filter`, `reduce`, `mapreduce`."
   ]
  },
  {
   "cell_type": "code",
   "execution_count": 9,
   "metadata": {},
   "outputs": [
    {
     "name": "stdout",
     "output_type": "stream",
     "text": [
      "[-0.09087650081447488, 0.309385718103435, 0.645389177402225, -0.44654574569972055, -1.5621250770077366, 0.5494123853169575, 0.45797836123914576, -0.4224191599812829, 0.2511982073362174, -1.2411314116266987, -0.8393720726627579, -1.2405491123080576, -0.5224046873071889, -0.6877102127875346, 0.6279727478559269]"
     ]
    }
   ],
   "source": [
    "a = randn(15)\n",
    "show(a)"
   ]
  },
  {
   "cell_type": "markdown",
   "metadata": {},
   "source": [
    "The `map` function will apply a function elemenwise to an array. Here we take the exponential of every element of __a__. The first argument to `map` is the function you want to apply to every element in the second object. The function can be an anonymous function, a user-defined function, a built-in function, etc."
   ]
  },
  {
   "cell_type": "code",
   "execution_count": 10,
   "metadata": {},
   "outputs": [
    {
     "name": "stdout",
     "output_type": "stream",
     "text": [
      "[0.9131304748059139, 1.362587843953529, 1.9067289407108685, 0.6398344898393181, 0.20968999001367045, 1.7322348321244125, 1.5808747945196868, 0.6554592395223409, 1.2855648674683333, 0.28905699041970806, 0.4319816913964958, 0.28922535712342895, 0.5930926294914288, 0.5027258874524138, 1.8738080448421146]"
     ]
    }
   ],
   "source": [
    "exp_a = map(exp, a)\n",
    "show(exp_a)"
   ]
  },
  {
   "cell_type": "markdown",
   "metadata": {},
   "source": [
    "The `filter` function will only return elements that satisfy a specified condition. Here we return elements of __a__ greater than zero."
   ]
  },
  {
   "cell_type": "code",
   "execution_count": 11,
   "metadata": {},
   "outputs": [
    {
     "name": "stdout",
     "output_type": "stream",
     "text": [
      "[0.309385718103435, 0.645389177402225, 0.5494123853169575, 0.45797836123914576, 0.2511982073362174, 0.6279727478559269]"
     ]
    }
   ],
   "source": [
    "filt_a = filter(x -> x > 0, a)\n",
    "show((filt_a))"
   ]
  },
  {
   "cell_type": "markdown",
   "metadata": {},
   "source": [
    "You can apply a reduction operation using `reduce`. Here we apply `reduce` to an array using the multiplication operator:"
   ]
  },
  {
   "cell_type": "code",
   "execution_count": 12,
   "metadata": {},
   "outputs": [
    {
     "data": {
      "text/plain": [
       "-9.853679363380804e-5"
      ]
     },
     "execution_count": 12,
     "metadata": {},
     "output_type": "execute_result"
    }
   ],
   "source": [
    "red_a = reduce(*, a)"
   ]
  },
  {
   "cell_type": "markdown",
   "metadata": {},
   "source": [
    "You can easily combine the `map` and `reduce` functions in Julia by using the `mapreduce` function. In what follows, the first argument does the map (i.e. square each element in __a__), and the second argument specifies the type of reduction to be applied (i.e. sum), and the last argument specifies what the `mapreduce` is being applied to."
   ]
  },
  {
   "cell_type": "code",
   "execution_count": 13,
   "metadata": {},
   "outputs": [
    {
     "data": {
      "text/plain": [
       "8.8373962685682"
      ]
     },
     "execution_count": 13,
     "metadata": {},
     "output_type": "execute_result"
    }
   ],
   "source": [
    "eucnormsq = mapreduce(x -> x ^ 2, +, a)"
   ]
  },
  {
   "cell_type": "markdown",
   "metadata": {},
   "source": [
    "There is also a useful `|>` operator that can be used to pass the result of one function as input to another function. For example, we can rewrite the above expression for __eucnormsq__ using this \"pipe-greater-than\" syntax:"
   ]
  },
  {
   "cell_type": "code",
   "execution_count": 14,
   "metadata": {},
   "outputs": [
    {
     "data": {
      "text/plain": [
       "8.8373962685682"
      ]
     },
     "execution_count": 14,
     "metadata": {},
     "output_type": "execute_result"
    }
   ],
   "source": [
    "eucnormsq = map(x -> x ^ 2, a) |> sum"
   ]
  },
  {
   "cell_type": "markdown",
   "metadata": {},
   "source": [
    "What we first did above was apply the mapping to __a__ (i.e. squaring each element of __a__) and then we passed the result of `map` as input into the `sum` function which summed up the squared elements. Other useful functions, that I think are worth mentioning, that work on single dimensional arrays are `push!` and `pop!`."
   ]
  },
  {
   "cell_type": "markdown",
   "metadata": {},
   "source": [
    "In Julia, you'll likely often be working with multidimensional arrays. Multidimensional arrays have a fixed size."
   ]
  },
  {
   "cell_type": "code",
   "execution_count": 15,
   "metadata": {},
   "outputs": [
    {
     "data": {
      "text/plain": [
       "2×3 Array{Int64,2}:\n",
       " 1  2  3\n",
       " 4  5  6"
      ]
     },
     "execution_count": 15,
     "metadata": {},
     "output_type": "execute_result"
    }
   ],
   "source": [
    "A = [1 2 3; 4 5 6]"
   ]
  },
  {
   "cell_type": "markdown",
   "metadata": {},
   "source": [
    "Generating random matrices and indexing works the same as before. Below we generate an 8 by 10 matrix of random numbers each distributed according to a standard normal distribution."
   ]
  },
  {
   "cell_type": "code",
   "execution_count": 16,
   "metadata": {},
   "outputs": [
    {
     "data": {
      "text/plain": [
       "8×10 Array{Float64,2}:\n",
       "  0.187882   1.98988    -0.391685  …  0.222676    0.450649  -0.762168 \n",
       " -0.179144  -1.38998     0.207925     0.135873   -1.93039   -0.581057 \n",
       " -0.154895   1.28376     0.568639     0.110747   -0.429426  -0.0925819\n",
       "  0.842184   0.340546   -0.379539     0.274593    0.341614   0.373682 \n",
       " -0.535877  -0.210729   -0.596742     0.534008    0.945624   1.08506  \n",
       " -1.34526    0.390527   -0.480117  …  0.619854   -0.584752  -0.265408 \n",
       " -0.65545    0.0505797   1.35169      0.0459197  -0.114564  -1.40022  \n",
       " -0.909184  -0.189127   -0.120878     0.294521   -0.688271   0.150616 "
      ]
     },
     "execution_count": 16,
     "metadata": {},
     "output_type": "execute_result"
    }
   ],
   "source": [
    "A = randn(8, 10)"
   ]
  },
  {
   "cell_type": "markdown",
   "metadata": {},
   "source": [
    "If we wanted all the rows but only columns 6 through 10 from our matrix __A__:"
   ]
  },
  {
   "cell_type": "code",
   "execution_count": 17,
   "metadata": {},
   "outputs": [
    {
     "data": {
      "text/plain": [
       "8×5 Array{Float64,2}:\n",
       "  0.390114   -1.08683   0.222676    0.450649  -0.762168 \n",
       "  0.18279    -0.220802  0.135873   -1.93039   -0.581057 \n",
       " -0.478474    1.05734   0.110747   -0.429426  -0.0925819\n",
       " -0.349286   -0.568616  0.274593    0.341614   0.373682 \n",
       " -0.0299098  -1.39258   0.534008    0.945624   1.08506  \n",
       "  2.02454    -1.3943    0.619854   -0.584752  -0.265408 \n",
       " -1.19623     0.824063  0.0459197  -0.114564  -1.40022  \n",
       " -0.649258   -1.46184   0.294521   -0.688271   0.150616 "
      ]
     },
     "execution_count": 17,
     "metadata": {},
     "output_type": "execute_result"
    }
   ],
   "source": [
    "A[:, 6:10]"
   ]
  },
  {
   "cell_type": "markdown",
   "metadata": {},
   "source": [
    "If you wanted rows two through four and only columns 1, 4, and 8 through 10 of __A__:"
   ]
  },
  {
   "cell_type": "code",
   "execution_count": 18,
   "metadata": {},
   "outputs": [
    {
     "data": {
      "text/plain": [
       "3×5 Array{Float64,2}:\n",
       " -0.179144   1.07754  0.135873  -1.93039   -0.581057 \n",
       " -0.154895  -1.66101  0.110747  -0.429426  -0.0925819\n",
       "  0.842184   0.95858  0.274593   0.341614   0.373682 "
      ]
     },
     "execution_count": 18,
     "metadata": {},
     "output_type": "execute_result"
    }
   ],
   "source": [
    "A[2:4, union(1, 4, 8:10)]"
   ]
  },
  {
   "cell_type": "markdown",
   "metadata": {},
   "source": [
    "You can also use boolean indexing to extract elements. Here a random 8 x 10 matrix of booleans is generated:"
   ]
  },
  {
   "cell_type": "code",
   "execution_count": 19,
   "metadata": {},
   "outputs": [
    {
     "data": {
      "text/plain": [
       "8×10 Array{Bool,2}:\n",
       " 0  1  0  1  0  1  1  1  1  0\n",
       " 1  0  0  1  0  0  0  0  0  1\n",
       " 1  0  1  0  0  1  1  1  0  0\n",
       " 0  0  1  1  1  1  1  1  1  1\n",
       " 1  1  0  0  1  0  1  0  1  0\n",
       " 0  1  0  0  1  0  1  0  0  1\n",
       " 1  0  1  0  1  1  1  0  0  0\n",
       " 1  0  1  0  0  0  0  0  1  0"
      ]
     },
     "execution_count": 19,
     "metadata": {},
     "output_type": "execute_result"
    }
   ],
   "source": [
    "mask = rand(Bool, 8, 10)"
   ]
  },
  {
   "cell_type": "markdown",
   "metadata": {},
   "source": [
    "The following statment will return the elements of __A__ that correspond to the elemnts of *mask* that have an entry of *true*."
   ]
  },
  {
   "cell_type": "code",
   "execution_count": 20,
   "metadata": {},
   "outputs": [
    {
     "data": {
      "text/plain": [
       "39-element Array{Float64,1}:\n",
       " -0.1791437248201305 \n",
       " -0.15489458207326007\n",
       " -0.5358771376623253 \n",
       " -0.6554500287715558 \n",
       " -0.9091840883192736 \n",
       "  1.9898761893432797 \n",
       " -0.21072893782665658\n",
       "  0.39052720443909555\n",
       "  0.5686386314913191 \n",
       " -0.37953942050208317\n",
       "  1.3516922291012283 \n",
       " -0.12087781544665728\n",
       "  0.5886737291316595 \n",
       "  ⋮                  \n",
       " -1.3943018968029302 \n",
       "  0.8240625161550317 \n",
       "  0.22267637976410337\n",
       "  0.11074709537884922\n",
       "  0.27459299085864264\n",
       "  0.4506487195739312 \n",
       "  0.3416143141996625 \n",
       "  0.9456239663485425 \n",
       " -0.6882708510961195 \n",
       " -0.5810567708994436 \n",
       "  0.3736822346782938 \n",
       " -0.26540757247811403"
      ]
     },
     "execution_count": 20,
     "metadata": {},
     "output_type": "execute_result"
    }
   ],
   "source": [
    "A[mask]"
   ]
  },
  {
   "cell_type": "markdown",
   "metadata": {},
   "source": [
    "Similarly if you wanted to return the elements of __A__ that were, say, greater than zero you could do something like the following:"
   ]
  },
  {
   "cell_type": "code",
   "execution_count": 21,
   "metadata": {},
   "outputs": [
    {
     "data": {
      "text/plain": [
       "36-element Array{Float64,1}:\n",
       " 0.18788202245308927\n",
       " 0.842184190650599  \n",
       " 1.9898761893432797 \n",
       " 1.28376194788543   \n",
       " 0.3405464475196761 \n",
       " 0.39052720443909555\n",
       " 0.05057968438875279\n",
       " 0.2079253031701892 \n",
       " 0.5686386314913191 \n",
       " 1.3516922291012283 \n",
       " 0.5886737291316595 \n",
       " 1.0775425259285203 \n",
       " 0.9585795084341849 \n",
       " ⋮                  \n",
       " 0.11074709537884922\n",
       " 0.27459299085864264\n",
       " 0.5340075467021094 \n",
       " 0.6198543175023281 \n",
       " 0.04591969230670784\n",
       " 0.29452105359253977\n",
       " 0.4506487195739312 \n",
       " 0.3416143141996625 \n",
       " 0.9456239663485425 \n",
       " 0.3736822346782938 \n",
       " 1.0850612793377061 \n",
       " 0.15061556113513877"
      ]
     },
     "execution_count": 21,
     "metadata": {},
     "output_type": "execute_result"
    }
   ],
   "source": [
    "A[A .> 0]"
   ]
  },
  {
   "cell_type": "markdown",
   "metadata": {},
   "source": [
    "Note the dot notation used above which is necessary here to do an element-wise comparison."
   ]
  },
  {
   "cell_type": "markdown",
   "metadata": {},
   "source": [
    "One thing to be aware of when you do an assignment with arrays is that the new array is actually a *view* of the original array."
   ]
  },
  {
   "cell_type": "code",
   "execution_count": 22,
   "metadata": {},
   "outputs": [
    {
     "data": {
      "text/plain": [
       "8×10 Array{Float64,2}:\n",
       "  0.187882   1.98988    -0.391685  …  0.222676    0.450649  -0.762168 \n",
       " -0.179144  -1.38998     0.207925     0.135873   -1.93039   -0.581057 \n",
       " -0.154895   1.28376     0.568639     0.110747   -0.429426  -0.0925819\n",
       "  0.842184   0.340546   -0.379539     0.274593    0.341614   0.373682 \n",
       " -0.535877  -0.210729   -0.596742     0.534008    0.945624   1.08506  \n",
       " -1.34526    0.390527   -0.480117  …  0.619854   -0.584752  -0.265408 \n",
       " -0.65545    0.0505797   1.35169      0.0459197  -0.114564  -1.40022  \n",
       " -0.909184  -0.189127   -0.120878     0.294521   -0.688271   0.150616 "
      ]
     },
     "execution_count": 22,
     "metadata": {},
     "output_type": "execute_result"
    }
   ],
   "source": [
    "B = A"
   ]
  },
  {
   "cell_type": "code",
   "execution_count": 23,
   "metadata": {},
   "outputs": [
    {
     "data": {
      "text/plain": [
       "true"
      ]
     },
     "execution_count": 23,
     "metadata": {},
     "output_type": "execute_result"
    }
   ],
   "source": [
    "isequal(B, A)"
   ]
  },
  {
   "cell_type": "markdown",
   "metadata": {},
   "source": [
    "The `===` tests if __B__ and __A__ point to the same location in memory:"
   ]
  },
  {
   "cell_type": "code",
   "execution_count": 24,
   "metadata": {},
   "outputs": [
    {
     "data": {
      "text/plain": [
       "true"
      ]
     },
     "execution_count": 24,
     "metadata": {},
     "output_type": "execute_result"
    }
   ],
   "source": [
    "B === A"
   ]
  },
  {
   "cell_type": "markdown",
   "metadata": {},
   "source": [
    "Now let's change some elements of __B__. What do you think will happen to __A__?"
   ]
  },
  {
   "cell_type": "code",
   "execution_count": 25,
   "metadata": {},
   "outputs": [],
   "source": [
    "B[1, 1:end] .= 999;"
   ]
  },
  {
   "cell_type": "code",
   "execution_count": 26,
   "metadata": {},
   "outputs": [
    {
     "data": {
      "text/plain": [
       "8×10 Array{Float64,2}:\n",
       " 999.0       999.0        999.0       999.0       …  999.0       999.0      \n",
       "  -0.179144   -1.38998      0.207925    1.07754       -1.93039    -0.581057 \n",
       "  -0.154895    1.28376      0.568639   -1.66101       -0.429426   -0.0925819\n",
       "   0.842184    0.340546    -0.379539    0.95858        0.341614    0.373682 \n",
       "  -0.535877   -0.210729    -0.596742    0.96938        0.945624    1.08506  \n",
       "  -1.34526     0.390527    -0.480117   -0.538183  …   -0.584752   -0.265408 \n",
       "  -0.65545     0.0505797    1.35169     1.38384       -0.114564   -1.40022  \n",
       "  -0.909184   -0.189127    -0.120878   -2.21054       -0.688271    0.150616 "
      ]
     },
     "execution_count": 26,
     "metadata": {},
     "output_type": "execute_result"
    }
   ],
   "source": [
    "B"
   ]
  },
  {
   "cell_type": "markdown",
   "metadata": {},
   "source": [
    "Note that even though we changed the elements of __B__ the elements of the original array __A__ also changed."
   ]
  },
  {
   "cell_type": "code",
   "execution_count": 27,
   "metadata": {},
   "outputs": [
    {
     "data": {
      "text/plain": [
       "8×10 Array{Float64,2}:\n",
       " 999.0       999.0        999.0       999.0       …  999.0       999.0      \n",
       "  -0.179144   -1.38998      0.207925    1.07754       -1.93039    -0.581057 \n",
       "  -0.154895    1.28376      0.568639   -1.66101       -0.429426   -0.0925819\n",
       "   0.842184    0.340546    -0.379539    0.95858        0.341614    0.373682 \n",
       "  -0.535877   -0.210729    -0.596742    0.96938        0.945624    1.08506  \n",
       "  -1.34526     0.390527    -0.480117   -0.538183  …   -0.584752   -0.265408 \n",
       "  -0.65545     0.0505797    1.35169     1.38384       -0.114564   -1.40022  \n",
       "  -0.909184   -0.189127    -0.120878   -2.21054       -0.688271    0.150616 "
      ]
     },
     "execution_count": 27,
     "metadata": {},
     "output_type": "execute_result"
    }
   ],
   "source": [
    "A"
   ]
  },
  {
   "cell_type": "markdown",
   "metadata": {},
   "source": [
    "If you want to avoid this behavior then you can use the `copy` function to make a copy of the original array:"
   ]
  },
  {
   "cell_type": "code",
   "execution_count": 28,
   "metadata": {},
   "outputs": [],
   "source": [
    "C = copy(A);"
   ]
  },
  {
   "cell_type": "code",
   "execution_count": 29,
   "metadata": {},
   "outputs": [
    {
     "data": {
      "text/plain": [
       "true"
      ]
     },
     "execution_count": 29,
     "metadata": {},
     "output_type": "execute_result"
    }
   ],
   "source": [
    "isequal(C, A)"
   ]
  },
  {
   "cell_type": "code",
   "execution_count": 30,
   "metadata": {},
   "outputs": [
    {
     "data": {
      "text/plain": [
       "false"
      ]
     },
     "execution_count": 30,
     "metadata": {},
     "output_type": "execute_result"
    }
   ],
   "source": [
    "C === A"
   ]
  },
  {
   "cell_type": "markdown",
   "metadata": {},
   "source": [
    "What the above shows is that __C__ points to a different location in memory than __A__, so you can change __C__ without affecting __A__."
   ]
  },
  {
   "cell_type": "markdown",
   "metadata": {},
   "source": [
    "Let's move on and look at some basic functions and operations that you can with arrays."
   ]
  },
  {
   "cell_type": "markdown",
   "metadata": {},
   "source": [
    "To check the dimension of an array you can use the `ndims` function:"
   ]
  },
  {
   "cell_type": "code",
   "execution_count": 31,
   "metadata": {},
   "outputs": [
    {
     "data": {
      "text/plain": [
       "8×10 Array{Float64,2}:\n",
       "  0.602441  2.63243     -0.354204   …   0.128718  -0.462093   0.0201338\n",
       "  0.300617  0.0349001   -0.0521646      0.428311  -0.551617  -0.129815 \n",
       "  0.15071   1.12909     -2.16815        1.10208    0.744446  -1.08608  \n",
       "  0.551117  0.0866609    0.850275       0.173404   1.34914    2.20036  \n",
       "  0.546104  1.20459     -2.58967       -0.757207   1.23035    0.912463 \n",
       "  1.70966   1.95799     -1.28433    …   1.42438   -0.207948  -0.0488128\n",
       " -0.697557  0.659376    -0.137753      -1.26174    2.02935    0.648953 \n",
       " -0.26325   0.00588833   0.363996       0.79115   -0.301912  -0.148045 "
      ]
     },
     "execution_count": 31,
     "metadata": {},
     "output_type": "execute_result"
    }
   ],
   "source": [
    "A = randn(8, 10)"
   ]
  },
  {
   "cell_type": "code",
   "execution_count": 32,
   "metadata": {},
   "outputs": [
    {
     "data": {
      "text/plain": [
       "2"
      ]
     },
     "execution_count": 32,
     "metadata": {},
     "output_type": "execute_result"
    }
   ],
   "source": [
    "ndims(A)"
   ]
  },
  {
   "cell_type": "markdown",
   "metadata": {},
   "source": [
    "To get the number of rows and columns use `size`:"
   ]
  },
  {
   "cell_type": "code",
   "execution_count": 33,
   "metadata": {},
   "outputs": [
    {
     "data": {
      "text/plain": [
       "(8, 10)"
      ]
     },
     "execution_count": 33,
     "metadata": {},
     "output_type": "execute_result"
    }
   ],
   "source": [
    "size(A)"
   ]
  },
  {
   "cell_type": "markdown",
   "metadata": {},
   "source": [
    "Ae before `length` returns the number of elements in the matrix."
   ]
  },
  {
   "cell_type": "code",
   "execution_count": 34,
   "metadata": {},
   "outputs": [
    {
     "data": {
      "text/plain": [
       "80"
      ]
     },
     "execution_count": 34,
     "metadata": {},
     "output_type": "execute_result"
    }
   ],
   "source": [
    "length(A)"
   ]
  },
  {
   "cell_type": "markdown",
   "metadata": {},
   "source": [
    "The `reshape` function will change the shape of the array:"
   ]
  },
  {
   "cell_type": "code",
   "execution_count": 35,
   "metadata": {},
   "outputs": [
    {
     "data": {
      "text/plain": [
       "8×10 Array{Float64,2}:\n",
       "  0.602441  2.63243     -0.354204   …   0.128718  -0.462093   0.0201338\n",
       "  0.300617  0.0349001   -0.0521646      0.428311  -0.551617  -0.129815 \n",
       "  0.15071   1.12909     -2.16815        1.10208    0.744446  -1.08608  \n",
       "  0.551117  0.0866609    0.850275       0.173404   1.34914    2.20036  \n",
       "  0.546104  1.20459     -2.58967       -0.757207   1.23035    0.912463 \n",
       "  1.70966   1.95799     -1.28433    …   1.42438   -0.207948  -0.0488128\n",
       " -0.697557  0.659376    -0.137753      -1.26174    2.02935    0.648953 \n",
       " -0.26325   0.00588833   0.363996       0.79115   -0.301912  -0.148045 "
      ]
     },
     "execution_count": 35,
     "metadata": {},
     "output_type": "execute_result"
    }
   ],
   "source": [
    "A"
   ]
  },
  {
   "cell_type": "code",
   "execution_count": 36,
   "metadata": {},
   "outputs": [
    {
     "data": {
      "text/plain": [
       "2×40 Array{Float64,2}:\n",
       " 0.602441  0.15071   0.546104  -0.697557  …  -1.08608   0.912463    0.648953\n",
       " 0.300617  0.551117  1.70966   -0.26325       2.20036  -0.0488128  -0.148045"
      ]
     },
     "execution_count": 36,
     "metadata": {},
     "output_type": "execute_result"
    }
   ],
   "source": [
    "C = reshape(A, 2, 40)"
   ]
  },
  {
   "cell_type": "code",
   "execution_count": 37,
   "metadata": {},
   "outputs": [
    {
     "data": {
      "text/plain": [
       "(2, 40)"
      ]
     },
     "execution_count": 37,
     "metadata": {},
     "output_type": "execute_result"
    }
   ],
   "source": [
    "size(C)"
   ]
  },
  {
   "cell_type": "markdown",
   "metadata": {},
   "source": [
    "There are a few ways to initialize arrays. Here we use constructor notation along with the **undef** keyword to initialize an array to nothing in particular (some undefined strings or some undefined integers):"
   ]
  },
  {
   "cell_type": "code",
   "execution_count": 38,
   "metadata": {},
   "outputs": [
    {
     "data": {
      "text/plain": [
       "5×5 Array{String,2}:\n",
       " #undef  #undef  #undef  #undef  #undef\n",
       " #undef  #undef  #undef  #undef  #undef\n",
       " #undef  #undef  #undef  #undef  #undef\n",
       " #undef  #undef  #undef  #undef  #undef\n",
       " #undef  #undef  #undef  #undef  #undef"
      ]
     },
     "execution_count": 38,
     "metadata": {},
     "output_type": "execute_result"
    }
   ],
   "source": [
    "InitStringArray = Array{String}(undef, 5, 5)"
   ]
  },
  {
   "cell_type": "code",
   "execution_count": 39,
   "metadata": {},
   "outputs": [
    {
     "data": {
      "text/plain": [
       "5×5 Array{Int64,2}:\n",
       " 140051130359280  140051130359600  …  140051130360240  140051130360560\n",
       " 140051130359344  140051130359664     140051130360304  140051130360624\n",
       " 140051130359408  140051130359728     140051130360368  140051130360688\n",
       " 140051130359472  140051130359792     140051130360432  140051130360752\n",
       " 140051130359536  140051130359856     140051130360496  140051130360816"
      ]
     },
     "execution_count": 39,
     "metadata": {},
     "output_type": "execute_result"
    }
   ],
   "source": [
    "InitIntArray = Array{Int64}(undef, 5, 5)"
   ]
  },
  {
   "cell_type": "markdown",
   "metadata": {},
   "source": [
    "The `zeros` function is available to create a matrix of zeros; the `fill` function can create a matrix with an arbitrary element."
   ]
  },
  {
   "cell_type": "code",
   "execution_count": 40,
   "metadata": {},
   "outputs": [
    {
     "data": {
      "text/plain": [
       "4×5 Array{Float64,2}:\n",
       " 0.0  0.0  0.0  0.0  0.0\n",
       " 0.0  0.0  0.0  0.0  0.0\n",
       " 0.0  0.0  0.0  0.0  0.0\n",
       " 0.0  0.0  0.0  0.0  0.0"
      ]
     },
     "execution_count": 40,
     "metadata": {},
     "output_type": "execute_result"
    }
   ],
   "source": [
    "zeros(4, 5)"
   ]
  },
  {
   "cell_type": "code",
   "execution_count": 41,
   "metadata": {},
   "outputs": [
    {
     "data": {
      "text/plain": [
       "4×5 Array{String,2}:\n",
       " \"foo\"  \"foo\"  \"foo\"  \"foo\"  \"foo\"\n",
       " \"foo\"  \"foo\"  \"foo\"  \"foo\"  \"foo\"\n",
       " \"foo\"  \"foo\"  \"foo\"  \"foo\"  \"foo\"\n",
       " \"foo\"  \"foo\"  \"foo\"  \"foo\"  \"foo\""
      ]
     },
     "execution_count": 41,
     "metadata": {},
     "output_type": "execute_result"
    }
   ],
   "source": [
    "fill(\"foo\", 4, 5)"
   ]
  },
  {
   "cell_type": "markdown",
   "metadata": {},
   "source": [
    "You can use the following constructor notation to create an identity matrix:"
   ]
  },
  {
   "cell_type": "code",
   "execution_count": 42,
   "metadata": {},
   "outputs": [
    {
     "data": {
      "text/plain": [
       "5×5 Array{Float64,2}:\n",
       " 1.0  0.0  0.0  0.0  0.0\n",
       " 0.0  1.0  0.0  0.0  0.0\n",
       " 0.0  0.0  1.0  0.0  0.0\n",
       " 0.0  0.0  0.0  1.0  0.0\n",
       " 0.0  0.0  0.0  0.0  1.0"
      ]
     },
     "execution_count": 42,
     "metadata": {},
     "output_type": "execute_result"
    }
   ],
   "source": [
    "using LinearAlgebra #this package contains linear algebra functionality\n",
    "\n",
    "Imatfirst = Array{Float64}(I, 5, 5)"
   ]
  },
  {
   "cell_type": "markdown",
   "metadata": {},
   "source": [
    "To create a sparse version of the identity matrix you can use the `Diagonal` function. The `Diagonal` function creates a diagonal matrix given an input matrix."
   ]
  },
  {
   "cell_type": "code",
   "execution_count": 43,
   "metadata": {},
   "outputs": [
    {
     "data": {
      "text/plain": [
       "5×5 Diagonal{Float64,Array{Float64,1}}:\n",
       " 1.0   ⋅    ⋅    ⋅    ⋅ \n",
       "  ⋅   1.0   ⋅    ⋅    ⋅ \n",
       "  ⋅    ⋅   1.0   ⋅    ⋅ \n",
       "  ⋅    ⋅    ⋅   1.0   ⋅ \n",
       "  ⋅    ⋅    ⋅    ⋅   1.0"
      ]
     },
     "execution_count": 43,
     "metadata": {},
     "output_type": "execute_result"
    }
   ],
   "source": [
    "Imatsec = Diagonal(ones(5, 5))"
   ]
  },
  {
   "cell_type": "markdown",
   "metadata": {},
   "source": [
    "You can see the sparse version takes up less space:"
   ]
  },
  {
   "cell_type": "code",
   "execution_count": 44,
   "metadata": {},
   "outputs": [
    {
     "data": {
      "text/latex": [
       "\\begin{tabular}\n",
       "{l | r | l}\n",
       "name & size & summary \\\\\n",
       "\\hline\n",
       "A & 680 bytes & 8×10 Array\\{Float64,2\\} \\\\\n",
       "B & 680 bytes & 8×10 Array\\{Float64,2\\} \\\\\n",
       "Base &  & Module \\\\\n",
       "C & 680 bytes & 2×40 Array\\{Float64,2\\} \\\\\n",
       "Core &  & Module \\\\\n",
       "Imatfirst & 240 bytes & 5×5 Array\\{Float64,2\\} \\\\\n",
       "Imatsec & 88 bytes & 5×5 Diagonal\\{Float64,Array\\{Float64,1\\}\\} \\\\\n",
       "InitIntArray & 240 bytes & 5×5 Array\\{Int64,2\\} \\\\\n",
       "InitStringArray & 240 bytes & 5×5 Array\\{String,2\\} \\\\\n",
       "Main &  & Module \\\\\n",
       "a & 160 bytes & 15-element Array\\{Float64,1\\} \\\\\n",
       "eucnormsq & 8 bytes & Float64 \\\\\n",
       "exp\\_a & 160 bytes & 15-element Array\\{Float64,1\\} \\\\\n",
       "filt\\_a & 88 bytes & 6-element Array\\{Float64,1\\} \\\\\n",
       "mask & 120 bytes & 8×10 Array\\{Bool,2\\} \\\\\n",
       "red\\_a & 8 bytes & Float64 \\\\\n",
       "\\end{tabular}\n"
      ],
      "text/markdown": [
       "| name            |      size | summary                                |\n",
       "|:--------------- | ---------:|:-------------------------------------- |\n",
       "| A               | 680 bytes | 8×10 Array{Float64,2}                  |\n",
       "| B               | 680 bytes | 8×10 Array{Float64,2}                  |\n",
       "| Base            |           | Module                                 |\n",
       "| C               | 680 bytes | 2×40 Array{Float64,2}                  |\n",
       "| Core            |           | Module                                 |\n",
       "| Imatfirst       | 240 bytes | 5×5 Array{Float64,2}                   |\n",
       "| Imatsec         |  88 bytes | 5×5 Diagonal{Float64,Array{Float64,1}} |\n",
       "| InitIntArray    | 240 bytes | 5×5 Array{Int64,2}                     |\n",
       "| InitStringArray | 240 bytes | 5×5 Array{String,2}                    |\n",
       "| Main            |           | Module                                 |\n",
       "| a               | 160 bytes | 15-element Array{Float64,1}            |\n",
       "| eucnormsq       |   8 bytes | Float64                                |\n",
       "| exp_a           | 160 bytes | 15-element Array{Float64,1}            |\n",
       "| filt_a          |  88 bytes | 6-element Array{Float64,1}             |\n",
       "| mask            | 120 bytes | 8×10 Array{Bool,2}                     |\n",
       "| red_a           |   8 bytes | Float64                                |\n"
      ],
      "text/plain": [
       "  name                 size summary                               \n",
       "  ––––––––––––––– ––––––––– ––––––––––––––––––––––––––––––––––––––\n",
       "  A               680 bytes 8×10 Array{Float64,2}                 \n",
       "  B               680 bytes 8×10 Array{Float64,2}                 \n",
       "  Base                      Module                                \n",
       "  C               680 bytes 2×40 Array{Float64,2}                 \n",
       "  Core                      Module                                \n",
       "  Imatfirst       240 bytes 5×5 Array{Float64,2}                  \n",
       "  Imatsec          88 bytes 5×5 Diagonal{Float64,Array{Float64,1}}\n",
       "  InitIntArray    240 bytes 5×5 Array{Int64,2}                    \n",
       "  InitStringArray 240 bytes 5×5 Array{String,2}                   \n",
       "  Main                      Module                                \n",
       "  a               160 bytes 15-element Array{Float64,1}           \n",
       "  eucnormsq         8 bytes Float64                               \n",
       "  exp_a           160 bytes 15-element Array{Float64,1}           \n",
       "  filt_a           88 bytes 6-element Array{Float64,1}            \n",
       "  mask            120 bytes 8×10 Array{Bool,2}                    \n",
       "  red_a             8 bytes Float64                               "
      ]
     },
     "execution_count": 44,
     "metadata": {},
     "output_type": "execute_result"
    }
   ],
   "source": [
    "varinfo() # see what objects are in your session"
   ]
  },
  {
   "cell_type": "markdown",
   "metadata": {},
   "source": [
    "As mentioned before, if you want to do element-wise operations on an array you use dot notation. To demonstrate let's first generate a random matrix."
   ]
  },
  {
   "cell_type": "code",
   "execution_count": 45,
   "metadata": {},
   "outputs": [
    {
     "data": {
      "text/plain": [
       "4×5 Array{Float64,2}:\n",
       " -0.253533  -1.02351    -0.458424  -0.25999    0.245817\n",
       " -1.24669    0.742885   -0.832631   0.434332   1.06566 \n",
       " -1.23018    0.252181   -0.205416   0.133172  -2.81548 \n",
       " -0.124236   0.0964811  -1.38302    1.48817   -0.652766"
      ]
     },
     "execution_count": 45,
     "metadata": {},
     "output_type": "execute_result"
    }
   ],
   "source": [
    "A = randn(4, 5)"
   ]
  },
  {
   "cell_type": "markdown",
   "metadata": {},
   "source": [
    "Now we square every element of __A__ using the dot syntax:"
   ]
  },
  {
   "cell_type": "code",
   "execution_count": 46,
   "metadata": {},
   "outputs": [
    {
     "data": {
      "text/plain": [
       "4×5 Array{Float64,2}:\n",
       " 0.0642792  1.04757    0.210153   0.0675947  0.0604261\n",
       " 1.55424    0.551878   0.693274   0.188644   1.13563  \n",
       " 1.51334    0.0635955  0.0421957  0.0177348  7.92692  \n",
       " 0.0154347  0.0093086  1.91275    2.21465    0.426104 "
      ]
     },
     "execution_count": 46,
     "metadata": {},
     "output_type": "execute_result"
    }
   ],
   "source": [
    "A.^2"
   ]
  },
  {
   "cell_type": "markdown",
   "metadata": {},
   "source": [
    "Similarly we can do element-wise division between two matrices. Below we can create a new random matrix __B__ then divide the elements of __A__ by their corresponding elements in __B__."
   ]
  },
  {
   "cell_type": "code",
   "execution_count": 47,
   "metadata": {},
   "outputs": [
    {
     "data": {
      "text/plain": [
       "4×5 Array{Float64,2}:\n",
       " -0.111426   0.302788   0.813317   -0.33638    0.184128\n",
       " -0.792704  -0.700075   0.0621022   0.613906   0.378331\n",
       " -0.290877   1.50201   -0.931566    0.52897    1.14763 \n",
       " -0.816456   0.624224  -1.51396     1.28557   -0.445204"
      ]
     },
     "execution_count": 47,
     "metadata": {},
     "output_type": "execute_result"
    }
   ],
   "source": [
    "B =  randn(4, 5)"
   ]
  },
  {
   "cell_type": "code",
   "execution_count": 48,
   "metadata": {},
   "outputs": [
    {
     "data": {
      "text/plain": [
       "4×5 Array{Float64,2}:\n",
       " 2.27536   -3.38028    -0.563648  0.772905   1.33503\n",
       " 1.57271   -1.06115   -13.4074    0.707489   2.81674\n",
       " 4.22921    0.167896    0.220506  0.251757  -2.45331\n",
       " 0.152165   0.154562    0.913514  1.1576     1.46622"
      ]
     },
     "execution_count": 48,
     "metadata": {},
     "output_type": "execute_result"
    }
   ],
   "source": [
    "A ./ B"
   ]
  },
  {
   "cell_type": "markdown",
   "metadata": {},
   "source": [
    "There are a lot of basic functions that can be applied to arrays: `sum`, `mean`, `sort`, etc."
   ]
  },
  {
   "cell_type": "code",
   "execution_count": 49,
   "metadata": {},
   "outputs": [
    {
     "data": {
      "text/plain": [
       "3×4 Array{Int64,2}:\n",
       " 1  -1   2  3\n",
       " 4  -3   1  0\n",
       " 7  -3  -3  2"
      ]
     },
     "execution_count": 49,
     "metadata": {},
     "output_type": "execute_result"
    }
   ],
   "source": [
    "A = [1 -1 2 3; 4 -3 1 0; 7 -3 -3 2]"
   ]
  },
  {
   "cell_type": "markdown",
   "metadata": {},
   "source": [
    "To sum all the elements of **A**:"
   ]
  },
  {
   "cell_type": "code",
   "execution_count": 50,
   "metadata": {},
   "outputs": [
    {
     "data": {
      "text/plain": [
       "3×4 Array{Int64,2}:\n",
       " 1  -1   2  3\n",
       " 4  -3   1  0\n",
       " 7  -3  -3  2"
      ]
     },
     "execution_count": 50,
     "metadata": {},
     "output_type": "execute_result"
    }
   ],
   "source": [
    "A"
   ]
  },
  {
   "cell_type": "code",
   "execution_count": 51,
   "metadata": {},
   "outputs": [
    {
     "data": {
      "text/plain": [
       "10"
      ]
     },
     "execution_count": 51,
     "metadata": {},
     "output_type": "execute_result"
    }
   ],
   "source": [
    "sum(A)"
   ]
  },
  {
   "cell_type": "code",
   "execution_count": 52,
   "metadata": {},
   "outputs": [
    {
     "data": {
      "text/plain": [
       "1×4 Array{Int64,2}:\n",
       " 12  -7  0  5"
      ]
     },
     "execution_count": 52,
     "metadata": {},
     "output_type": "execute_result"
    }
   ],
   "source": [
    "sum(A, dims = 1) #sums each column"
   ]
  },
  {
   "cell_type": "code",
   "execution_count": 53,
   "metadata": {},
   "outputs": [
    {
     "data": {
      "text/plain": [
       "3×1 Array{Int64,2}:\n",
       " 5\n",
       " 2\n",
       " 3"
      ]
     },
     "execution_count": 53,
     "metadata": {},
     "output_type": "execute_result"
    }
   ],
   "source": [
    "sum(A, dims = 2) #sums each row"
   ]
  },
  {
   "cell_type": "markdown",
   "metadata": {},
   "source": [
    "The `sort` function will sort the array along the indicated dimension."
   ]
  },
  {
   "cell_type": "code",
   "execution_count": 54,
   "metadata": {},
   "outputs": [
    {
     "data": {
      "text/plain": [
       "3×4 Array{Int64,2}:\n",
       " 1  -1   2  3\n",
       " 4  -3   1  0\n",
       " 7  -3  -3  2"
      ]
     },
     "execution_count": 54,
     "metadata": {},
     "output_type": "execute_result"
    }
   ],
   "source": [
    "A"
   ]
  },
  {
   "cell_type": "code",
   "execution_count": 55,
   "metadata": {},
   "outputs": [
    {
     "data": {
      "text/plain": [
       "3×4 Array{Int64,2}:\n",
       " 1  -3  -3  0\n",
       " 4  -3   1  2\n",
       " 7  -1   2  3"
      ]
     },
     "execution_count": 55,
     "metadata": {},
     "output_type": "execute_result"
    }
   ],
   "source": [
    "sort(A, dims = 1) #sort each column in ascending order"
   ]
  },
  {
   "cell_type": "code",
   "execution_count": 56,
   "metadata": {},
   "outputs": [
    {
     "data": {
      "text/plain": [
       "3×4 Array{Int64,2}:\n",
       " 7  -1   2  3\n",
       " 4  -3   1  2\n",
       " 1  -3  -3  0"
      ]
     },
     "execution_count": 56,
     "metadata": {},
     "output_type": "execute_result"
    }
   ],
   "source": [
    "sort(A, dims= 1, rev=true) #sort each column in descending order"
   ]
  },
  {
   "cell_type": "code",
   "execution_count": 57,
   "metadata": {},
   "outputs": [
    {
     "data": {
      "text/plain": [
       "3×4 Array{Int64,2}:\n",
       " -1   1  2  3\n",
       " -3   0  1  4\n",
       " -3  -3  2  7"
      ]
     },
     "execution_count": 57,
     "metadata": {},
     "output_type": "execute_result"
    }
   ],
   "source": [
    "sort(A, dims = 2) #sort each row in ascending order"
   ]
  },
  {
   "cell_type": "markdown",
   "metadata": {},
   "source": [
    "# Exercise 3\n",
    "* Create a 5 by 8 random array called *B* using **randn**.\n",
    "* Find the elements of *B* that are less than 0.2.\n",
    "* Retrieve the number of rows and columns of *B*.\n",
    "* Multiply every element of *B* by 3 and assign that to a new array called *C*.\n",
    "* Sort each row of *C* in ascending order."
   ]
  },
  {
   "cell_type": "code",
   "execution_count": null,
   "metadata": {},
   "outputs": [],
   "source": []
  },
  {
   "cell_type": "markdown",
   "metadata": {},
   "source": [
    "In this lesson we covered:\n",
    "* Single and multi-dimensional arrays.\n",
    "* Array indexing.\n",
    "* Applying functions to arrays."
   ]
  }
 ],
 "metadata": {
  "kernelspec": {
   "display_name": "Julia 1.6.3",
   "language": "julia",
   "name": "julia-1.6"
  },
  "language_info": {
   "file_extension": ".jl",
   "mimetype": "application/julia",
   "name": "julia",
   "version": "1.6.3"
  }
 },
 "nbformat": 4,
 "nbformat_minor": 4
}

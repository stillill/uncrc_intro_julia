{
 "cells": [
  {
   "cell_type": "markdown",
   "metadata": {},
   "source": [
    "# V. Programming Flows"
   ]
  },
  {
   "cell_type": "markdown",
   "metadata": {},
   "source": [
    "You can implement basic control structures in your code. Here we'll cover the most important ones: the __if__ statement, the __for__ loop, and the __while__ loop."
   ]
  },
  {
   "cell_type": "markdown",
   "metadata": {},
   "source": [
    "The basic structure of the **if** statement is <br>\n",
    "<br>\n",
    "__if__ *expression* <br>\n",
    "&nbsp;&nbsp;&nbsp;&nbsp;&nbsp;*statements* <br>\n",
    "__end__ <br>"
   ]
  },
  {
   "cell_type": "code",
   "execution_count": null,
   "metadata": {},
   "outputs": [],
   "source": [
    "a = 4; b = 3;\n",
    "\n",
    "if a > b\n",
    "    println( \"a is greater than b\" )\n",
    "end"
   ]
  },
  {
   "cell_type": "markdown",
   "metadata": {},
   "source": [
    "You can add an additional branch using __else__:"
   ]
  },
  {
   "cell_type": "code",
   "execution_count": null,
   "metadata": {},
   "outputs": [],
   "source": [
    "if a > b\n",
    "    println( \"a is greater than b\" )\n",
    "else\n",
    "    println( \"b is greater than or equal to a\" )\n",
    "end\n"
   ]
  },
  {
   "cell_type": "markdown",
   "metadata": {},
   "source": [
    "A nice alternative to the __if-else__ construct is the __ternary__ operator which has the following syntax:\n",
    "\n",
    "x ? y : z\n",
    "\n",
    "The above can be interpreted as _\"if x is true do y otherwise do z\"_. Rewriting the above __if-else__ statement using the ternary operator becomes:"
   ]
  },
  {
   "cell_type": "code",
   "execution_count": null,
   "metadata": {},
   "outputs": [],
   "source": [
    "a > b ? println( \"a is greater than b\" ) : println( \"b is greater than or equal to a\" )"
   ]
  },
  {
   "cell_type": "markdown",
   "metadata": {},
   "source": [
    "If you need more than two branches you can add (multiple) __elseif__ statements:"
   ]
  },
  {
   "cell_type": "code",
   "execution_count": null,
   "metadata": {},
   "outputs": [],
   "source": [
    "a = 2; b = 4;\n",
    "\n",
    "if a > b\n",
    "    println( \"a is greater than b\" )\n",
    "elseif b > a\n",
    "    println( \"b is greater than a\" )\n",
    "else\n",
    "    println( \"a and b are equal\" )\n",
    "end"
   ]
  },
  {
   "cell_type": "markdown",
   "metadata": {},
   "source": [
    "Here is the ternary version of the above __if-elseif-else__ statement though I would not recommend doing this sort of thing since it's difficult to read."
   ]
  },
  {
   "cell_type": "code",
   "execution_count": null,
   "metadata": {},
   "outputs": [],
   "source": [
    "a > b ? println( \"a is greater than b\" ) : (b > a ? println( \" b is greater than a\" ) : println( \"a and b are equal\" ))"
   ]
  },
  {
   "cell_type": "markdown",
   "metadata": {},
   "source": [
    "We'll next look at the __for__ loop and for that we'll use Julia's *Distributions.jl* package to generate some randomn numbers from the Poisson distribution."
   ]
  },
  {
   "cell_type": "code",
   "execution_count": null,
   "metadata": {},
   "outputs": [],
   "source": [
    "#using Pkg; Pkg.add( \"Distributions\" )\n",
    "using Random, Distributions\n",
    "\n",
    "#=\n",
    "First set the seed\n",
    "Then generate 20 random numbers from a Poisson distribution with rate parameter 2 \n",
    "And multiply by 1 or -1 element-wise.\n",
    "=#\n",
    "\n",
    "Random.seed!( 723 ) # Setting the seed\n",
    "x = rand( Poisson( 2 ), 20 ) .* rand([ -1, 1 ], 20 ); \n",
    "#x = [-4, -3, 1, 1, 1, 5, -5, -3, -3, 2, -2, 0, 2, 0, -2, -4, -3, -2, 2, 2];"
   ]
  },
  {
   "cell_type": "code",
   "execution_count": null,
   "metadata": {},
   "outputs": [],
   "source": [
    "show( x )"
   ]
  },
  {
   "cell_type": "markdown",
   "metadata": {},
   "source": [
    "The basic structure of the **for** loop is <br>\n",
    "<br>\n",
    "__for__ *variable = expression* <br>\n",
    "&nbsp;&nbsp;&nbsp;&nbsp;&nbsp;*statements* <br>\n",
    "__end__ <br>"
   ]
  },
  {
   "cell_type": "markdown",
   "metadata": {},
   "source": [
    "The __for__ loop is convenient for iterating over a block of code."
   ]
  },
  {
   "cell_type": "code",
   "execution_count": null,
   "metadata": {},
   "outputs": [],
   "source": [
    "for j = 1 : length( x )\n",
    "    if x[ j ] > 0\n",
    "        println( \"Element $j of x is greater than 0\" )\n",
    "    elseif x[j] < 0\n",
    "        println( \"Element $j of x is less than 0\" )\n",
    "    else\n",
    "       println( \"Element $j of x is equal to 0\" ) \n",
    "    end\n",
    "end"
   ]
  },
  {
   "cell_type": "markdown",
   "metadata": {},
   "source": [
    "With for loops you can use the __in__ keyword in the __for__ statement."
   ]
  },
  {
   "cell_type": "code",
   "execution_count": null,
   "metadata": {},
   "outputs": [],
   "source": [
    "letters = [ 'a', 'b', 'c', 'd', 'e', 'f', 'g' ]\n",
    "for el in letters\n",
    "    println(el)\n",
    "end"
   ]
  },
  {
   "cell_type": "markdown",
   "metadata": {},
   "source": [
    "Nested __for__ loops can be done as in other programming languages:"
   ]
  },
  {
   "cell_type": "code",
   "execution_count": null,
   "metadata": {},
   "outputs": [],
   "source": [
    "for i in 1 : 5\n",
    "    for j in 1 : 6\n",
    "        println(\"The product of i = \", i, \" and j = \", j, \" is \", i * j)\n",
    "    end\n",
    "end"
   ]
  },
  {
   "cell_type": "markdown",
   "metadata": {},
   "source": [
    "However Julia does offer the following convenient syntax to do nested __for__ loops that allows for less typing:"
   ]
  },
  {
   "cell_type": "code",
   "execution_count": null,
   "metadata": {},
   "outputs": [],
   "source": [
    "for i in 1 : 5, j in 1 : 6\n",
    "    println( \"The product of i = \", i, \" and j = \", j, \" is \", i * j )\n",
    "end"
   ]
  },
  {
   "cell_type": "markdown",
   "metadata": {},
   "source": [
    "Like Python, Julia offers a __zip__ function to simultaneously traverse through pairs from two sequences."
   ]
  },
  {
   "cell_type": "code",
   "execution_count": null,
   "metadata": {},
   "outputs": [],
   "source": [
    "for ( a, b ) in zip( 1 : 5, 6 : 10 )\n",
    "    println( \"$a times $b is \", a * b )\n",
    "end"
   ]
  },
  {
   "cell_type": "markdown",
   "metadata": {},
   "source": [
    "Related to the __for__ loop is something called an *array comprehension*. It can be a convenient syntax for doing something iteratively. \n",
    "\n",
    "Let's suppose we wanted to create a new array called __y__ which was equal to the exponentiation of each element of the array __x__. We could use a __for__ loop to do this."
   ]
  },
  {
   "cell_type": "code",
   "execution_count": null,
   "metadata": {},
   "outputs": [],
   "source": [
    "y = Array{ Float64 }( undef, length( x ) )\n",
    "for j in 1 : length( x )\n",
    "    y[ j ] = exp( x[ j ] )\n",
    "end"
   ]
  },
  {
   "cell_type": "code",
   "execution_count": null,
   "metadata": {},
   "outputs": [],
   "source": [
    "show( y )"
   ]
  },
  {
   "cell_type": "markdown",
   "metadata": {},
   "source": [
    "Julia also has array comprehensions built into it. To do something like the above for loop using an array comprehension you would do:"
   ]
  },
  {
   "cell_type": "code",
   "execution_count": null,
   "metadata": {},
   "outputs": [],
   "source": [
    "z = [ exp( el ) for el in x ]\n",
    "show(z)"
   ]
  },
  {
   "cell_type": "markdown",
   "metadata": {},
   "source": [
    "Note you could've also done the same thing using dot notation:"
   ]
  },
  {
   "cell_type": "code",
   "execution_count": null,
   "metadata": {},
   "outputs": [],
   "source": [
    "u = exp.( x )\n",
    "show( u )"
   ]
  },
  {
   "cell_type": "markdown",
   "metadata": {},
   "source": [
    "Or you could've also used the `map` function:"
   ]
  },
  {
   "cell_type": "code",
   "execution_count": null,
   "metadata": {},
   "outputs": [],
   "source": [
    "v = map( exp, x )\n",
    "show( v )"
   ]
  },
  {
   "cell_type": "markdown",
   "metadata": {},
   "source": [
    "The last control structure we'll cover here is the __while__ loop. It's basic structure is <br>\n",
    "<br>\n",
    "__while__ *expression* <br>\n",
    "&nbsp;&nbsp;&nbsp;&nbsp;&nbsp;*statements* <br>\n",
    "__end__ <br>\n",
    "\n",
    "The __while__ loop is used to iterate over a block of code while the *expression* is __true__."
   ]
  },
  {
   "cell_type": "code",
   "execution_count": null,
   "metadata": {},
   "outputs": [],
   "source": [
    "count = 20\n",
    "while count > 0\n",
    "    println( x[ count ] )\n",
    "    count -= 1\n",
    "end"
   ]
  },
  {
   "cell_type": "markdown",
   "metadata": {},
   "source": [
    "# Exercise 4\n",
    "* Generate a one-dimensional array of 30 numbers using rand called *a*.\n",
    "* Use a for loop to create a new array called *b* that is the log of each element of *a*.\n",
    "* Use an array comprehension to create a new array called *c* that is the square of element of *b*."
   ]
  },
  {
   "cell_type": "code",
   "execution_count": null,
   "metadata": {},
   "outputs": [],
   "source": []
  },
  {
   "cell_type": "markdown",
   "metadata": {},
   "source": [
    "In this lesson we covered: <br\\>\n",
    "* Common programming flows: if statement, for loops, while loops\n",
    "* Array comprehensions"
   ]
  }
 ],
 "metadata": {
  "kernelspec": {
   "display_name": "Julia 1.3.0",
   "language": "julia",
   "name": "julia-1.3"
  },
  "language_info": {
   "file_extension": ".jl",
   "mimetype": "application/julia",
   "name": "julia",
   "version": "1.3.0"
  }
 },
 "nbformat": 4,
 "nbformat_minor": 4
}

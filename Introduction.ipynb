{
 "cells": [
  {
   "cell_type": "markdown",
   "metadata": {},
   "source": [
    "## Julia: what is it?"
   ]
  },
  {
   "cell_type": "markdown",
   "metadata": {},
   "source": [
    "- High-level dynamic programming language with a focus on scientific computing.\n",
    "- Open source (MIT License). Developed at MIT. First appeared in 2012. Creators later founded Julia Computing.\n",
    "- Interactive capability, high performance, within 2x speed of C, C++, Fortran.\n",
    "- Aims to solve the \"two language\" problem allowing one language for both prototyping and final deployment."
   ]
  },
  {
   "cell_type": "markdown",
   "metadata": {},
   "source": [
    "## Some key language design features:\n",
    "- An extensive built-in type system.\n",
    "- Multiple dispatch which leverages types to select function implementations enabling code specialization against run-time types.\n",
    "- A type inference algorithm allowing types often to be inferred making type declaration optional.\n",
    "- JIT compilation using the LLVM compiler framework, i.e. every statement is run using compiled functions which are either compiled right before they are used, or cached compilations from before.\n",
    "- Metaprogramming for code generation.\n",
    "- Easy interoperatbility with other languages such as C (call directly), R (RCall.jl), and Python (PyCall.jl).\n",
    "- UTF-8 support which allows for using Greek symbols in your code."
   ]
  },
  {
   "cell_type": "markdown",
   "metadata": {},
   "source": [
    "## Ways to run Julia:\n",
    "\n",
    "* Download the Julia binaries for your platform and use the REPL: https://julialang.org/downloads/\n",
    "* Use Jupyter notebook (what we're doing today): https://github.com/JuliaLang/IJulia.jl\n",
    "* You can use the Juno IDE for Julia (https://junolab.org/). For this I suggest just downloading JuliaPro (free): https://juliacomputing.com/products/juliapro/. Be aware that the Julia IDE of the future will most likely be VSCode: https://www.julia-vscode.org/."
   ]
  },
  {
   "cell_type": "markdown",
   "metadata": {},
   "source": [
    "## Additional Resources:\n",
    "\n",
    "* Julia Docs: https://docs.julialang.org/\n",
    "* Julia Cheat Sheet: https://juliadocs.github.io/Julia-Cheat-Sheet/\n",
    "* Explore Julia Packge Ecosystem: https://juliaobserver.com/packages\n",
    "* A thorough Julia tutorial for economists: https://julia.quantecon.org/index_toc.html "
   ]
  },
  {
   "cell_type": "markdown",
   "metadata": {},
   "source": [
    "## Outline for today:\n",
    "*  Getting started <br>\n",
    "* Basic data structures <br>\n",
    "* Working with arrays <br>\n",
    "* Programming flows <br>\n",
    "* Functions <br>\n",
    "* Types and multiple dispatch <br>\n",
    "\n",
    "We start with covering the very basics of Julia and using Julia as a calculator. Then we'll move into covering some fundamental data structures, programming flows, and writing functions in Julia.  We end with covering some of the unique features of Julia in more detail; namely it's type system and multiple dispatch."
   ]
  },
  {
   "cell_type": "markdown",
   "metadata": {},
   "source": [
    "# I. Getting started"
   ]
  },
  {
   "cell_type": "markdown",
   "metadata": {},
   "source": [
    "Let's create a variable called __a__ and assign it a value of 2:"
   ]
  },
  {
   "cell_type": "code",
   "execution_count": 1,
   "metadata": {},
   "outputs": [
    {
     "data": {
      "text/plain": [
       "2"
      ]
     },
     "execution_count": 1,
     "metadata": {},
     "output_type": "execute_result"
    }
   ],
   "source": [
    "a = 2"
   ]
  },
  {
   "cell_type": "markdown",
   "metadata": {},
   "source": [
    "Here __=__ is the usual assignment operator."
   ]
  },
  {
   "cell_type": "markdown",
   "metadata": {},
   "source": [
    "You can do basic arithmetic as you'd expect:"
   ]
  },
  {
   "cell_type": "code",
   "execution_count": 2,
   "metadata": {},
   "outputs": [
    {
     "data": {
      "text/plain": [
       "6.4"
      ]
     },
     "execution_count": 2,
     "metadata": {},
     "output_type": "execute_result"
    }
   ],
   "source": [
    "b = a * 3.2"
   ]
  },
  {
   "cell_type": "code",
   "execution_count": 3,
   "metadata": {},
   "outputs": [
    {
     "data": {
      "text/plain": [
       "5"
      ]
     },
     "execution_count": 3,
     "metadata": {},
     "output_type": "execute_result"
    }
   ],
   "source": [
    "a = a + 3"
   ]
  },
  {
   "cell_type": "markdown",
   "metadata": {},
   "source": [
    "The increment and decrement operators are available in Julia, so instead of using the above expression to add three to __a__ you could do:"
   ]
  },
  {
   "cell_type": "code",
   "execution_count": 4,
   "metadata": {},
   "outputs": [
    {
     "data": {
      "text/plain": [
       "5"
      ]
     },
     "execution_count": 4,
     "metadata": {},
     "output_type": "execute_result"
    }
   ],
   "source": [
    "a = 2;\n",
    "a += 3"
   ]
  },
  {
   "cell_type": "markdown",
   "metadata": {},
   "source": [
    "And to subtract three from __a__ using the decrement operator:"
   ]
  },
  {
   "cell_type": "code",
   "execution_count": 5,
   "metadata": {},
   "outputs": [
    {
     "data": {
      "text/plain": [
       "2"
      ]
     },
     "execution_count": 5,
     "metadata": {},
     "output_type": "execute_result"
    }
   ],
   "source": [
    "a -= 3;\n",
    "a"
   ]
  },
  {
   "cell_type": "markdown",
   "metadata": {},
   "source": [
    "__*__ can actually be called using function syntax:"
   ]
  },
  {
   "cell_type": "code",
   "execution_count": 6,
   "metadata": {},
   "outputs": [
    {
     "data": {
      "text/plain": [
       "6.4"
      ]
     },
     "execution_count": 6,
     "metadata": {},
     "output_type": "execute_result"
    }
   ],
   "source": [
    "*(a, 3.2)"
   ]
  },
  {
   "cell_type": "markdown",
   "metadata": {},
   "source": [
    "Above we called the function __*__ and passed it two arguments: __a__ and the number 3.2. You can do the same thing with other basic arithmetic operators, i.e."
   ]
  },
  {
   "cell_type": "code",
   "execution_count": 7,
   "metadata": {},
   "outputs": [
    {
     "data": {
      "text/plain": [
       "12.2"
      ]
     },
     "execution_count": 7,
     "metadata": {},
     "output_type": "execute_result"
    }
   ],
   "source": [
    "+(4, 8.2)"
   ]
  },
  {
   "cell_type": "markdown",
   "metadata": {},
   "source": [
    "Let's raise __a__ to the third power:"
   ]
  },
  {
   "cell_type": "code",
   "execution_count": 8,
   "metadata": {},
   "outputs": [
    {
     "data": {
      "text/plain": [
       "8"
      ]
     },
     "execution_count": 8,
     "metadata": {},
     "output_type": "execute_result"
    }
   ],
   "source": [
    "c = a ^ 3"
   ]
  },
  {
   "cell_type": "markdown",
   "metadata": {},
   "source": [
    "If you wanted to suppress the result, insert a \";\" after the command."
   ]
  },
  {
   "cell_type": "code",
   "execution_count": 9,
   "metadata": {},
   "outputs": [],
   "source": [
    "c = a ^ 3;"
   ]
  },
  {
   "cell_type": "markdown",
   "metadata": {},
   "source": [
    "You can assign multiple variables on a single line by separating them with a \";\""
   ]
  },
  {
   "cell_type": "code",
   "execution_count": 10,
   "metadata": {},
   "outputs": [],
   "source": [
    "d = 9.7; e = 4; f = 10;"
   ]
  },
  {
   "cell_type": "code",
   "execution_count": 11,
   "metadata": {},
   "outputs": [
    {
     "data": {
      "text/plain": [
       "9.7"
      ]
     },
     "execution_count": 11,
     "metadata": {},
     "output_type": "execute_result"
    }
   ],
   "source": [
    "d"
   ]
  },
  {
   "cell_type": "markdown",
   "metadata": {},
   "source": [
    "Arithmetic operations follow normal operational rules:"
   ]
  },
  {
   "cell_type": "code",
   "execution_count": 12,
   "metadata": {},
   "outputs": [
    {
     "data": {
      "text/plain": [
       "25.7"
      ]
     },
     "execution_count": 12,
     "metadata": {},
     "output_type": "execute_result"
    }
   ],
   "source": [
    "a * c + d"
   ]
  },
  {
   "cell_type": "code",
   "execution_count": 13,
   "metadata": {},
   "outputs": [
    {
     "data": {
      "text/plain": [
       "102"
      ]
     },
     "execution_count": 13,
     "metadata": {},
     "output_type": "execute_result"
    }
   ],
   "source": [
    "a + f ^ 2"
   ]
  },
  {
   "cell_type": "code",
   "execution_count": 14,
   "metadata": {},
   "outputs": [
    {
     "data": {
      "text/plain": [
       "144"
      ]
     },
     "execution_count": 14,
     "metadata": {},
     "output_type": "execute_result"
    }
   ],
   "source": [
    "( a + f ) ^ 2"
   ]
  },
  {
   "cell_type": "markdown",
   "metadata": {},
   "source": [
    "You can also create string variables:"
   ]
  },
  {
   "cell_type": "code",
   "execution_count": 15,
   "metadata": {},
   "outputs": [
    {
     "data": {
      "text/plain": [
       "\"This is a string\""
      ]
     },
     "execution_count": 15,
     "metadata": {},
     "output_type": "execute_result"
    }
   ],
   "source": [
    "mystr = \"This is a string\""
   ]
  },
  {
   "cell_type": "markdown",
   "metadata": {},
   "source": [
    "If you want to create a single character string use single quotes:"
   ]
  },
  {
   "cell_type": "code",
   "execution_count": 16,
   "metadata": {},
   "outputs": [],
   "source": [
    "mychar = 'a';"
   ]
  },
  {
   "cell_type": "markdown",
   "metadata": {},
   "source": [
    "To concatenate strings you can use the __*__ operator:"
   ]
  },
  {
   "cell_type": "code",
   "execution_count": 17,
   "metadata": {},
   "outputs": [
    {
     "data": {
      "text/plain": [
       "\"This is a string This is a string\""
      ]
     },
     "execution_count": 17,
     "metadata": {},
     "output_type": "execute_result"
    }
   ],
   "source": [
    "mystr * ' ' * mystr"
   ]
  },
  {
   "cell_type": "markdown",
   "metadata": {},
   "source": [
    "As you can see from above what __*__ does depends on the arguments that it is given to operate on. This is an important idea\n",
    "in Julia that we'll revisit later, i.e. the behavior of a function can be made to behave differently depending on the argument types it is passed. \n",
    "\n",
    "In the parlance of Julia, __*__ is generic function with multiple methods where each method defines a behavior type."
   ]
  },
  {
   "cell_type": "markdown",
   "metadata": {},
   "source": [
    "You can also use the `string` function for concatenation:"
   ]
  },
  {
   "cell_type": "code",
   "execution_count": 18,
   "metadata": {},
   "outputs": [
    {
     "data": {
      "text/plain": [
       "\"This is a string This is a string\""
      ]
     },
     "execution_count": 18,
     "metadata": {},
     "output_type": "execute_result"
    }
   ],
   "source": [
    "string(\"This is a string\",\" This is a string\")"
   ]
  },
  {
   "cell_type": "markdown",
   "metadata": {},
   "source": [
    "There are a handful of useful string-based functions built into Julia. We'll cover a few here. You can use `findfirst` to __find the index of the first occurence__ of a character in a string. Here we find the index of the first occurence of the character 'a' in the string \"Julia is a great programming language\"."
   ]
  },
  {
   "cell_type": "code",
   "execution_count": 19,
   "metadata": {},
   "outputs": [
    {
     "data": {
      "text/plain": [
       "5"
      ]
     },
     "execution_count": 19,
     "metadata": {},
     "output_type": "execute_result"
    }
   ],
   "source": [
    "findfirst('a', \"Julia is a great programming language\")"
   ]
  },
  {
   "cell_type": "markdown",
   "metadata": {},
   "source": [
    "If you want to start the search for the first index of a given character starting from a specified offset use the `findnext` function. The following will start looking for the first occurence of 'a' starting at index 12 (which is the 'g' in \"great\") and so it finds the index for the 'a' in the word \"great\" which corresponds to the first occurence of the 'a' character when starting the search from the offset position of 12."
   ]
  },
  {
   "cell_type": "code",
   "execution_count": 20,
   "metadata": {},
   "outputs": [
    {
     "data": {
      "text/plain": [
       "15"
      ]
     },
     "execution_count": 20,
     "metadata": {},
     "output_type": "execute_result"
    }
   ],
   "source": [
    "findnext('a', \"Julia is a great programming language\", 12) "
   ]
  },
  {
   "cell_type": "markdown",
   "metadata": {},
   "source": [
    "You can use `findfirst` and `findnext` to do a search based on substrings as well. In this case you get the range of indices for the substring. The below example shows that the first appearance of \"gr\" in \"Julia is a great programming language\" occupies positions 12 through 13."
   ]
  },
  {
   "cell_type": "code",
   "execution_count": 21,
   "metadata": {},
   "outputs": [
    {
     "data": {
      "text/plain": [
       "12:13"
      ]
     },
     "execution_count": 21,
     "metadata": {},
     "output_type": "execute_result"
    }
   ],
   "source": [
    "findfirst(\"gr\", \"Julia is a great programming language\")"
   ]
  },
  {
   "cell_type": "markdown",
   "metadata": {},
   "source": [
    "Here we find the next occurence of \"gr\" when starting the search at position 14. This will be the \"gr\" in \"programming\" occupying indices 21 through 22."
   ]
  },
  {
   "cell_type": "code",
   "execution_count": 22,
   "metadata": {},
   "outputs": [
    {
     "data": {
      "text/plain": [
       "21:22"
      ]
     },
     "execution_count": 22,
     "metadata": {},
     "output_type": "execute_result"
    }
   ],
   "source": [
    "findnext(\"gr\", \"Julia is a great programming language\", 14)"
   ]
  },
  {
   "cell_type": "markdown",
   "metadata": {},
   "source": [
    "The `occursin` function is used to determine (__true__ or __false__) whether a specified substring is in a given string expression."
   ]
  },
  {
   "cell_type": "code",
   "execution_count": 23,
   "metadata": {},
   "outputs": [
    {
     "data": {
      "text/plain": [
       "true"
      ]
     },
     "execution_count": 23,
     "metadata": {},
     "output_type": "execute_result"
    }
   ],
   "source": [
    "occursin(\"lan\", \"Julia is a great programming language\")"
   ]
  },
  {
   "cell_type": "markdown",
   "metadata": {},
   "source": [
    "If you are familiar with regular expressions, Julia has Perl-compatible regular expressions built-in. Regular expressions are a way to match arbitrary character patterns and they can be used to match on arbitrary character patterns within strings via Julia's `match` function. By default, `match` will __find the first match__ but you can provide an offset to start the search from an aribirary index. The regular expression pattern you want to match on is placed in double quotes and preceeded by `r`.\n",
    "\n",
    "Here we match on the character \"gra\" followed by any number of lowercase letters up until a space."
   ]
  },
  {
   "cell_type": "code",
   "execution_count": 24,
   "metadata": {},
   "outputs": [],
   "source": [
    "mymatch = match(r\"gra[a-z]*\", \"Julia is a great programming language\");"
   ]
  },
  {
   "cell_type": "code",
   "execution_count": 25,
   "metadata": {},
   "outputs": [
    {
     "data": {
      "text/plain": [
       "RegexMatch(\"gramming\")"
      ]
     },
     "execution_count": 25,
     "metadata": {},
     "output_type": "execute_result"
    }
   ],
   "source": [
    "mymatch"
   ]
  },
  {
   "cell_type": "markdown",
   "metadata": {},
   "source": [
    "You can access attributes about the match using \".\" syntax on the variable name. To get the matched pattern itself:"
   ]
  },
  {
   "cell_type": "code",
   "execution_count": 26,
   "metadata": {},
   "outputs": [
    {
     "data": {
      "text/plain": [
       "\"gramming\""
      ]
     },
     "execution_count": 26,
     "metadata": {},
     "output_type": "execute_result"
    }
   ],
   "source": [
    "mymatch.match"
   ]
  },
  {
   "cell_type": "markdown",
   "metadata": {},
   "source": [
    "To get the starting position of the matching pattern:"
   ]
  },
  {
   "cell_type": "code",
   "execution_count": 27,
   "metadata": {},
   "outputs": [
    {
     "data": {
      "text/plain": [
       "21"
      ]
     },
     "execution_count": 27,
     "metadata": {},
     "output_type": "execute_result"
    }
   ],
   "source": [
    "mymatch.offset"
   ]
  },
  {
   "cell_type": "markdown",
   "metadata": {},
   "source": [
    "You can use the `length` function to find the length (or number of characters in this case) of a string."
   ]
  },
  {
   "cell_type": "code",
   "execution_count": 28,
   "metadata": {},
   "outputs": [
    {
     "data": {
      "text/plain": [
       "22"
      ]
     },
     "execution_count": 28,
     "metadata": {},
     "output_type": "execute_result"
    }
   ],
   "source": [
    "length(\"This has 22 characters\")"
   ]
  },
  {
   "cell_type": "markdown",
   "metadata": {},
   "source": [
    "In Julia, everything has a type. To check the type of a variable use the `typeof` command."
   ]
  },
  {
   "cell_type": "code",
   "execution_count": 29,
   "metadata": {},
   "outputs": [
    {
     "data": {
      "text/plain": [
       "Char"
      ]
     },
     "execution_count": 29,
     "metadata": {},
     "output_type": "execute_result"
    }
   ],
   "source": [
    "typeof( mychar )"
   ]
  },
  {
   "cell_type": "code",
   "execution_count": 30,
   "metadata": {},
   "outputs": [
    {
     "data": {
      "text/plain": [
       "String"
      ]
     },
     "execution_count": 30,
     "metadata": {},
     "output_type": "execute_result"
    }
   ],
   "source": [
    "typeof( mystr )"
   ]
  },
  {
   "cell_type": "code",
   "execution_count": 31,
   "metadata": {},
   "outputs": [
    {
     "data": {
      "text/plain": [
       "Int64"
      ]
     },
     "execution_count": 31,
     "metadata": {},
     "output_type": "execute_result"
    }
   ],
   "source": [
    "typeof( a )"
   ]
  },
  {
   "cell_type": "code",
   "execution_count": 32,
   "metadata": {},
   "outputs": [
    {
     "data": {
      "text/plain": [
       "Float64"
      ]
     },
     "execution_count": 32,
     "metadata": {},
     "output_type": "execute_result"
    }
   ],
   "source": [
    "typeof( b )"
   ]
  },
  {
   "cell_type": "markdown",
   "metadata": {},
   "source": [
    "So __mychar__ is a character, __mystr__ is a string, __a__ is a 64-bit integer and __b__ is a 64-bit float. We see that Julia figures out the type for you and associates variables with a specific type. We'll talk more about Julia's type system and how it leverages its type system later."
   ]
  },
  {
   "cell_type": "markdown",
   "metadata": {},
   "source": [
    "Beware these are all different different types in Julia:"
   ]
  },
  {
   "cell_type": "code",
   "execution_count": 33,
   "metadata": {},
   "outputs": [
    {
     "data": {
      "text/plain": [
       "Int64"
      ]
     },
     "execution_count": 33,
     "metadata": {},
     "output_type": "execute_result"
    }
   ],
   "source": [
    "typeof(3)"
   ]
  },
  {
   "cell_type": "code",
   "execution_count": 34,
   "metadata": {},
   "outputs": [
    {
     "data": {
      "text/plain": [
       "Int32"
      ]
     },
     "execution_count": 34,
     "metadata": {},
     "output_type": "execute_result"
    }
   ],
   "source": [
    "typeof(Int32(3))"
   ]
  },
  {
   "cell_type": "code",
   "execution_count": 35,
   "metadata": {},
   "outputs": [
    {
     "data": {
      "text/plain": [
       "Float64"
      ]
     },
     "execution_count": 35,
     "metadata": {},
     "output_type": "execute_result"
    }
   ],
   "source": [
    "typeof(3.0)"
   ]
  },
  {
   "cell_type": "code",
   "execution_count": 36,
   "metadata": {},
   "outputs": [
    {
     "data": {
      "text/plain": [
       "String"
      ]
     },
     "execution_count": 36,
     "metadata": {},
     "output_type": "execute_result"
    }
   ],
   "source": [
    "typeof(\"3\")"
   ]
  },
  {
   "cell_type": "markdown",
   "metadata": {},
   "source": [
    "As we can see, Julia can infer types automatically."
   ]
  },
  {
   "cell_type": "markdown",
   "metadata": {},
   "source": [
    "If you want to convert a string to some other type you can use the `parse` function:"
   ]
  },
  {
   "cell_type": "code",
   "execution_count": 37,
   "metadata": {},
   "outputs": [
    {
     "data": {
      "text/plain": [
       "3"
      ]
     },
     "execution_count": 37,
     "metadata": {},
     "output_type": "execute_result"
    }
   ],
   "source": [
    "parse(Int64, \"3\")"
   ]
  },
  {
   "cell_type": "markdown",
   "metadata": {},
   "source": [
    "If Julia can not do the conversion it will throw an error:"
   ]
  },
  {
   "cell_type": "code",
   "execution_count": 38,
   "metadata": {},
   "outputs": [
    {
     "ename": "ArgumentError",
     "evalue": "ArgumentError: cannot parse \"Julia\" as Float64",
     "output_type": "error",
     "traceback": [
      "ArgumentError: cannot parse \"Julia\" as Float64",
      "",
      "Stacktrace:",
      " [1] _parse_failure(::Type, ::String, ::Int64, ::Int64) at ./parse.jl:370 (repeats 2 times)",
      " [2] #tryparse_internal#348 at ./parse.jl:366 [inlined]",
      " [3] tryparse_internal at ./parse.jl:364 [inlined]",
      " [4] #parse#349 at ./parse.jl:376 [inlined]",
      " [5] parse(::Type{Float64}, ::String) at ./parse.jl:376",
      " [6] top-level scope at In[38]:1"
     ]
    }
   ],
   "source": [
    "parse(Float64, \"Julia\")"
   ]
  },
  {
   "cell_type": "markdown",
   "metadata": {},
   "source": [
    "Interestingly, Julia also has a built-in **Rational** type:"
   ]
  },
  {
   "cell_type": "code",
   "execution_count": 39,
   "metadata": {},
   "outputs": [
    {
     "data": {
      "text/plain": [
       "3//2"
      ]
     },
     "execution_count": 39,
     "metadata": {},
     "output_type": "execute_result"
    }
   ],
   "source": [
    "frac = 3//2"
   ]
  },
  {
   "cell_type": "code",
   "execution_count": 40,
   "metadata": {},
   "outputs": [
    {
     "data": {
      "text/plain": [
       "Rational{Int64}"
      ]
     },
     "execution_count": 40,
     "metadata": {},
     "output_type": "execute_result"
    }
   ],
   "source": [
    "typeof(frac)"
   ]
  },
  {
   "cell_type": "markdown",
   "metadata": {},
   "source": [
    "Some important types to be familiar with are logical types (i.e. true, false):"
   ]
  },
  {
   "cell_type": "code",
   "execution_count": 41,
   "metadata": {},
   "outputs": [],
   "source": [
    "a = true; b = false;"
   ]
  },
  {
   "cell_type": "code",
   "execution_count": 42,
   "metadata": {},
   "outputs": [
    {
     "data": {
      "text/plain": [
       "Bool"
      ]
     },
     "execution_count": 42,
     "metadata": {},
     "output_type": "execute_result"
    }
   ],
   "source": [
    "typeof(a)"
   ]
  },
  {
   "cell_type": "markdown",
   "metadata": {},
   "source": [
    "You can use the `println` command to print statements:"
   ]
  },
  {
   "cell_type": "code",
   "execution_count": 43,
   "metadata": {},
   "outputs": [
    {
     "name": "stdout",
     "output_type": "stream",
     "text": [
      "The sum of 3/2 and 1/2 is 2//1.\n"
     ]
    }
   ],
   "source": [
    "println(\"The sum of 3/2 and 1/2 is $(frac + 1//2).\")"
   ]
  },
  {
   "cell_type": "markdown",
   "metadata": {},
   "source": [
    "Note the use of the __$__ to encapsulate an expression that you'd want to be evaluated."
   ]
  },
  {
   "cell_type": "markdown",
   "metadata": {},
   "source": [
    "You can use `convert` to convert types:"
   ]
  },
  {
   "cell_type": "code",
   "execution_count": 44,
   "metadata": {},
   "outputs": [
    {
     "data": {
      "text/plain": [
       "2"
      ]
     },
     "execution_count": 44,
     "metadata": {},
     "output_type": "execute_result"
    }
   ],
   "source": [
    "convert(Int64, 2.0)"
   ]
  },
  {
   "cell_type": "markdown",
   "metadata": {},
   "source": [
    "Above we converted the float 2.0 to an __Int64__."
   ]
  },
  {
   "cell_type": "markdown",
   "metadata": {},
   "source": [
    "If you need to round numbers:"
   ]
  },
  {
   "cell_type": "code",
   "execution_count": 45,
   "metadata": {},
   "outputs": [
    {
     "data": {
      "text/plain": [
       "4.0"
      ]
     },
     "execution_count": 45,
     "metadata": {},
     "output_type": "execute_result"
    }
   ],
   "source": [
    "round(3.8)"
   ]
  },
  {
   "cell_type": "markdown",
   "metadata": {},
   "source": [
    "You can add a second __digits__ argument to specify the number of decimal digits:"
   ]
  },
  {
   "cell_type": "code",
   "execution_count": 46,
   "metadata": {},
   "outputs": [
    {
     "data": {
      "text/plain": [
       "3.88"
      ]
     },
     "execution_count": 46,
     "metadata": {},
     "output_type": "execute_result"
    }
   ],
   "source": [
    "round(3.8798, digits = 2)"
   ]
  },
  {
   "cell_type": "code",
   "execution_count": 47,
   "metadata": {},
   "outputs": [
    {
     "name": "stdout",
     "output_type": "stream",
     "text": [
      "search: \u001b[0m\u001b[1mr\u001b[22m\u001b[0m\u001b[1mo\u001b[22m\u001b[0m\u001b[1mu\u001b[22m\u001b[0m\u001b[1mn\u001b[22m\u001b[0m\u001b[1md\u001b[22m \u001b[0m\u001b[1mr\u001b[22m\u001b[0m\u001b[1mo\u001b[22m\u001b[0m\u001b[1mu\u001b[22m\u001b[0m\u001b[1mn\u001b[22m\u001b[0m\u001b[1md\u001b[22ming \u001b[0m\u001b[1mR\u001b[22m\u001b[0m\u001b[1mo\u001b[22m\u001b[0m\u001b[1mu\u001b[22m\u001b[0m\u001b[1mn\u001b[22m\u001b[0m\u001b[1md\u001b[22mUp \u001b[0m\u001b[1mR\u001b[22m\u001b[0m\u001b[1mo\u001b[22m\u001b[0m\u001b[1mu\u001b[22m\u001b[0m\u001b[1mn\u001b[22m\u001b[0m\u001b[1md\u001b[22mDown \u001b[0m\u001b[1mR\u001b[22m\u001b[0m\u001b[1mo\u001b[22m\u001b[0m\u001b[1mu\u001b[22m\u001b[0m\u001b[1mn\u001b[22m\u001b[0m\u001b[1md\u001b[22mToZero \u001b[0m\u001b[1mR\u001b[22m\u001b[0m\u001b[1mo\u001b[22m\u001b[0m\u001b[1mu\u001b[22m\u001b[0m\u001b[1mn\u001b[22m\u001b[0m\u001b[1md\u001b[22mingMode \u001b[0m\u001b[1mR\u001b[22m\u001b[0m\u001b[1mo\u001b[22m\u001b[0m\u001b[1mu\u001b[22m\u001b[0m\u001b[1mn\u001b[22m\u001b[0m\u001b[1md\u001b[22mNearest\n",
      "\n"
     ]
    },
    {
     "data": {
      "text/latex": [
       "\\begin{verbatim}\n",
       "round(z::Complex[, RoundingModeReal, [RoundingModeImaginary]])\n",
       "round(z::Complex[, RoundingModeReal, [RoundingModeImaginary]]; digits=, base=10)\n",
       "round(z::Complex[, RoundingModeReal, [RoundingModeImaginary]]; sigdigits=, base=10)\n",
       "\\end{verbatim}\n",
       "Return the nearest integral value of the same type as the complex-valued \\texttt{z} to \\texttt{z}, breaking ties using the specified \\href{@ref}{\\texttt{RoundingMode}}s. The first \\href{@ref}{\\texttt{RoundingMode}} is used for rounding the real components while the second is used for rounding the imaginary components.\n",
       "\n",
       "\\section{Example}\n",
       "\\begin{verbatim}\n",
       "julia> round(3.14 + 4.5im)\n",
       "3.0 + 4.0im\n",
       "\\end{verbatim}\n",
       "\\rule{\\textwidth}{1pt}\n",
       "\\begin{verbatim}\n",
       "round([T,] x, [r::RoundingMode])\n",
       "round(x, [r::RoundingMode]; digits::Integer=0, base = 10)\n",
       "round(x, [r::RoundingMode]; sigdigits::Integer, base = 10)\n",
       "\\end{verbatim}\n",
       "Rounds the number \\texttt{x}.\n",
       "\n",
       "Without keyword arguments, \\texttt{x} is rounded to an integer value, returning a value of type \\texttt{T}, or of the same type of \\texttt{x} if no \\texttt{T} is provided. An \\href{@ref}{\\texttt{InexactError}} will be thrown if the value is not representable by \\texttt{T}, similar to \\href{@ref}{\\texttt{convert}}.\n",
       "\n",
       "If the \\texttt{digits} keyword argument is provided, it rounds to the specified number of digits after the decimal place (or before if negative), in base \\texttt{base}.\n",
       "\n",
       "If the \\texttt{sigdigits} keyword argument is provided, it rounds to the specified number of significant digits, in base \\texttt{base}.\n",
       "\n",
       "The \\href{@ref}{\\texttt{RoundingMode}} \\texttt{r} controls the direction of the rounding; the default is \\href{@ref}{\\texttt{RoundNearest}}, which rounds to the nearest integer, with ties (fractional values of 0.5) being rounded to the nearest even integer. Note that \\texttt{round} may give incorrect results if the global rounding mode is changed (see \\href{@ref}{\\texttt{rounding}}).\n",
       "\n",
       "\\section{Examples}\n",
       "\\begin{verbatim}\n",
       "julia> round(1.7)\n",
       "2.0\n",
       "\n",
       "julia> round(Int, 1.7)\n",
       "2\n",
       "\n",
       "julia> round(1.5)\n",
       "2.0\n",
       "\n",
       "julia> round(2.5)\n",
       "2.0\n",
       "\n",
       "julia> round(pi; digits=2)\n",
       "3.14\n",
       "\n",
       "julia> round(pi; digits=3, base=2)\n",
       "3.125\n",
       "\n",
       "julia> round(123.456; sigdigits=2)\n",
       "120.0\n",
       "\n",
       "julia> round(357.913; sigdigits=4, base=2)\n",
       "352.0\n",
       "\\end{verbatim}\n",
       "\\begin{quote}\n",
       "\\textbf{note}\n",
       "\n",
       "Note\n",
       "\n",
       "Rounding to specified digits in bases other than 2 can be inexact when operating on binary floating point numbers. For example, the \\href{@ref}{\\texttt{Float64}} value represented by \\texttt{1.15} is actually \\emph{less} than 1.15, yet will be rounded to 1.2.\n",
       "\n",
       "\\section{Examples}\n",
       "\\begin{verbatim}\n",
       "julia> x = 1.15\n",
       "1.15\n",
       "\n",
       "julia> @sprintf \"%.20f\" x\n",
       "\"1.14999999999999991118\"\n",
       "\n",
       "julia> x < 115//100\n",
       "true\n",
       "\n",
       "julia> round(x, digits=1)\n",
       "1.2\n",
       "\\end{verbatim}\n",
       "\\end{quote}\n",
       "\\section{Extensions}\n",
       "To extend \\texttt{round} to new numeric types, it is typically sufficient to define \\texttt{Base.round(x::NewType, r::RoundingMode)}.\n",
       "\n",
       "\\rule{\\textwidth}{1pt}\n",
       "\\begin{verbatim}\n",
       "round(dt::TimeType, p::Period, [r::RoundingMode]) -> TimeType\n",
       "\\end{verbatim}\n",
       "Return the \\texttt{Date} or \\texttt{DateTime} nearest to \\texttt{dt} at resolution \\texttt{p}. By default (\\texttt{RoundNearestTiesUp}), ties (e.g., rounding 9:30 to the nearest hour) will be rounded up.\n",
       "\n",
       "For convenience, \\texttt{p} may be a type instead of a value: \\texttt{round(dt, Dates.Hour)} is a shortcut for \\texttt{round(dt, Dates.Hour(1))}.\n",
       "\n",
       "\\begin{verbatim}\n",
       "julia> round(Date(1985, 8, 16), Dates.Month)\n",
       "1985-08-01\n",
       "\n",
       "julia> round(DateTime(2013, 2, 13, 0, 31, 20), Dates.Minute(15))\n",
       "2013-02-13T00:30:00\n",
       "\n",
       "julia> round(DateTime(2016, 8, 6, 12, 0, 0), Dates.Day)\n",
       "2016-08-07T00:00:00\n",
       "\\end{verbatim}\n",
       "Valid rounding modes for \\texttt{round(::TimeType, ::Period, ::RoundingMode)} are \\texttt{RoundNearestTiesUp} (default), \\texttt{RoundDown} (\\texttt{floor}), and \\texttt{RoundUp} (\\texttt{ceil}).\n",
       "\n",
       "\\rule{\\textwidth}{1pt}\n",
       "\\begin{verbatim}\n",
       "round(x::Period, precision::T, [r::RoundingMode]) where T <: Union{TimePeriod, Week, Day} -> T\n",
       "\\end{verbatim}\n",
       "Round \\texttt{x} to the nearest multiple of \\texttt{precision}. If \\texttt{x} and \\texttt{precision} are different subtypes of \\texttt{Period}, the return value will have the same type as \\texttt{precision}. By default (\\texttt{RoundNearestTiesUp}), ties (e.g., rounding 90 minutes to the nearest hour) will be rounded up.\n",
       "\n",
       "For convenience, \\texttt{precision} may be a type instead of a value: \\texttt{round(x, Dates.Hour)} is a shortcut for \\texttt{round(x, Dates.Hour(1))}.\n",
       "\n",
       "\\begin{verbatim}\n",
       "julia> round(Dates.Day(16), Dates.Week)\n",
       "2 weeks\n",
       "\n",
       "julia> round(Dates.Minute(44), Dates.Minute(15))\n",
       "45 minutes\n",
       "\n",
       "julia> round(Dates.Hour(36), Dates.Day)\n",
       "2 days\n",
       "\\end{verbatim}\n",
       "Valid rounding modes for \\texttt{round(::Period, ::T, ::RoundingMode)} are \\texttt{RoundNearestTiesUp} (default), \\texttt{RoundDown} (\\texttt{floor}), and \\texttt{RoundUp} (\\texttt{ceil}).\n",
       "\n",
       "Rounding to a \\texttt{precision} of \\texttt{Month}s or \\texttt{Year}s is not supported, as these \\texttt{Period}s are of inconsistent length.\n",
       "\n"
      ],
      "text/markdown": [
       "```\n",
       "round(z::Complex[, RoundingModeReal, [RoundingModeImaginary]])\n",
       "round(z::Complex[, RoundingModeReal, [RoundingModeImaginary]]; digits=, base=10)\n",
       "round(z::Complex[, RoundingModeReal, [RoundingModeImaginary]]; sigdigits=, base=10)\n",
       "```\n",
       "\n",
       "Return the nearest integral value of the same type as the complex-valued `z` to `z`, breaking ties using the specified [`RoundingMode`](@ref)s. The first [`RoundingMode`](@ref) is used for rounding the real components while the second is used for rounding the imaginary components.\n",
       "\n",
       "# Example\n",
       "\n",
       "```jldoctest\n",
       "julia> round(3.14 + 4.5im)\n",
       "3.0 + 4.0im\n",
       "```\n",
       "\n",
       "---\n",
       "\n",
       "```\n",
       "round([T,] x, [r::RoundingMode])\n",
       "round(x, [r::RoundingMode]; digits::Integer=0, base = 10)\n",
       "round(x, [r::RoundingMode]; sigdigits::Integer, base = 10)\n",
       "```\n",
       "\n",
       "Rounds the number `x`.\n",
       "\n",
       "Without keyword arguments, `x` is rounded to an integer value, returning a value of type `T`, or of the same type of `x` if no `T` is provided. An [`InexactError`](@ref) will be thrown if the value is not representable by `T`, similar to [`convert`](@ref).\n",
       "\n",
       "If the `digits` keyword argument is provided, it rounds to the specified number of digits after the decimal place (or before if negative), in base `base`.\n",
       "\n",
       "If the `sigdigits` keyword argument is provided, it rounds to the specified number of significant digits, in base `base`.\n",
       "\n",
       "The [`RoundingMode`](@ref) `r` controls the direction of the rounding; the default is [`RoundNearest`](@ref), which rounds to the nearest integer, with ties (fractional values of 0.5) being rounded to the nearest even integer. Note that `round` may give incorrect results if the global rounding mode is changed (see [`rounding`](@ref)).\n",
       "\n",
       "# Examples\n",
       "\n",
       "```jldoctest\n",
       "julia> round(1.7)\n",
       "2.0\n",
       "\n",
       "julia> round(Int, 1.7)\n",
       "2\n",
       "\n",
       "julia> round(1.5)\n",
       "2.0\n",
       "\n",
       "julia> round(2.5)\n",
       "2.0\n",
       "\n",
       "julia> round(pi; digits=2)\n",
       "3.14\n",
       "\n",
       "julia> round(pi; digits=3, base=2)\n",
       "3.125\n",
       "\n",
       "julia> round(123.456; sigdigits=2)\n",
       "120.0\n",
       "\n",
       "julia> round(357.913; sigdigits=4, base=2)\n",
       "352.0\n",
       "```\n",
       "\n",
       "!!! note\n",
       "    Rounding to specified digits in bases other than 2 can be inexact when operating on binary floating point numbers. For example, the [`Float64`](@ref) value represented by `1.15` is actually *less* than 1.15, yet will be rounded to 1.2.\n",
       "\n",
       "    # Examples\n",
       "\n",
       "    ```jldoctest; setup = :(using Printf)\n",
       "    julia> x = 1.15\n",
       "    1.15\n",
       "\n",
       "    julia> @sprintf \"%.20f\" x\n",
       "    \"1.14999999999999991118\"\n",
       "\n",
       "    julia> x < 115//100\n",
       "    true\n",
       "\n",
       "    julia> round(x, digits=1)\n",
       "    1.2\n",
       "    ```\n",
       "\n",
       "\n",
       "# Extensions\n",
       "\n",
       "To extend `round` to new numeric types, it is typically sufficient to define `Base.round(x::NewType, r::RoundingMode)`.\n",
       "\n",
       "---\n",
       "\n",
       "```\n",
       "round(dt::TimeType, p::Period, [r::RoundingMode]) -> TimeType\n",
       "```\n",
       "\n",
       "Return the `Date` or `DateTime` nearest to `dt` at resolution `p`. By default (`RoundNearestTiesUp`), ties (e.g., rounding 9:30 to the nearest hour) will be rounded up.\n",
       "\n",
       "For convenience, `p` may be a type instead of a value: `round(dt, Dates.Hour)` is a shortcut for `round(dt, Dates.Hour(1))`.\n",
       "\n",
       "```jldoctest\n",
       "julia> round(Date(1985, 8, 16), Dates.Month)\n",
       "1985-08-01\n",
       "\n",
       "julia> round(DateTime(2013, 2, 13, 0, 31, 20), Dates.Minute(15))\n",
       "2013-02-13T00:30:00\n",
       "\n",
       "julia> round(DateTime(2016, 8, 6, 12, 0, 0), Dates.Day)\n",
       "2016-08-07T00:00:00\n",
       "```\n",
       "\n",
       "Valid rounding modes for `round(::TimeType, ::Period, ::RoundingMode)` are `RoundNearestTiesUp` (default), `RoundDown` (`floor`), and `RoundUp` (`ceil`).\n",
       "\n",
       "---\n",
       "\n",
       "```\n",
       "round(x::Period, precision::T, [r::RoundingMode]) where T <: Union{TimePeriod, Week, Day} -> T\n",
       "```\n",
       "\n",
       "Round `x` to the nearest multiple of `precision`. If `x` and `precision` are different subtypes of `Period`, the return value will have the same type as `precision`. By default (`RoundNearestTiesUp`), ties (e.g., rounding 90 minutes to the nearest hour) will be rounded up.\n",
       "\n",
       "For convenience, `precision` may be a type instead of a value: `round(x, Dates.Hour)` is a shortcut for `round(x, Dates.Hour(1))`.\n",
       "\n",
       "```jldoctest\n",
       "julia> round(Dates.Day(16), Dates.Week)\n",
       "2 weeks\n",
       "\n",
       "julia> round(Dates.Minute(44), Dates.Minute(15))\n",
       "45 minutes\n",
       "\n",
       "julia> round(Dates.Hour(36), Dates.Day)\n",
       "2 days\n",
       "```\n",
       "\n",
       "Valid rounding modes for `round(::Period, ::T, ::RoundingMode)` are `RoundNearestTiesUp` (default), `RoundDown` (`floor`), and `RoundUp` (`ceil`).\n",
       "\n",
       "Rounding to a `precision` of `Month`s or `Year`s is not supported, as these `Period`s are of inconsistent length.\n"
      ],
      "text/plain": [
       "\u001b[36m  round(z::Complex[, RoundingModeReal, [RoundingModeImaginary]])\u001b[39m\n",
       "\u001b[36m  round(z::Complex[, RoundingModeReal, [RoundingModeImaginary]]; digits=, base=10)\u001b[39m\n",
       "\u001b[36m  round(z::Complex[, RoundingModeReal, [RoundingModeImaginary]]; sigdigits=, base=10)\u001b[39m\n",
       "\n",
       "  Return the nearest integral value of the same type as the complex-valued \u001b[36mz\u001b[39m\n",
       "  to \u001b[36mz\u001b[39m, breaking ties using the specified \u001b[36mRoundingMode\u001b[39ms. The first\n",
       "  \u001b[36mRoundingMode\u001b[39m is used for rounding the real components while the second is\n",
       "  used for rounding the imaginary components.\n",
       "\n",
       "\u001b[1m  Example\u001b[22m\n",
       "\u001b[1m  ≡≡≡≡≡≡≡≡≡\u001b[22m\n",
       "\n",
       "\u001b[36m  julia> round(3.14 + 4.5im)\u001b[39m\n",
       "\u001b[36m  3.0 + 4.0im\u001b[39m\n",
       "\n",
       "  ────────────────────────────────────────────────────────────────────────────\n",
       "\n",
       "\u001b[36m  round([T,] x, [r::RoundingMode])\u001b[39m\n",
       "\u001b[36m  round(x, [r::RoundingMode]; digits::Integer=0, base = 10)\u001b[39m\n",
       "\u001b[36m  round(x, [r::RoundingMode]; sigdigits::Integer, base = 10)\u001b[39m\n",
       "\n",
       "  Rounds the number \u001b[36mx\u001b[39m.\n",
       "\n",
       "  Without keyword arguments, \u001b[36mx\u001b[39m is rounded to an integer value, returning a\n",
       "  value of type \u001b[36mT\u001b[39m, or of the same type of \u001b[36mx\u001b[39m if no \u001b[36mT\u001b[39m is provided. An\n",
       "  \u001b[36mInexactError\u001b[39m will be thrown if the value is not representable by \u001b[36mT\u001b[39m, similar\n",
       "  to \u001b[36mconvert\u001b[39m.\n",
       "\n",
       "  If the \u001b[36mdigits\u001b[39m keyword argument is provided, it rounds to the specified\n",
       "  number of digits after the decimal place (or before if negative), in base\n",
       "  \u001b[36mbase\u001b[39m.\n",
       "\n",
       "  If the \u001b[36msigdigits\u001b[39m keyword argument is provided, it rounds to the specified\n",
       "  number of significant digits, in base \u001b[36mbase\u001b[39m.\n",
       "\n",
       "  The \u001b[36mRoundingMode\u001b[39m \u001b[36mr\u001b[39m controls the direction of the rounding; the default is\n",
       "  \u001b[36mRoundNearest\u001b[39m, which rounds to the nearest integer, with ties (fractional\n",
       "  values of 0.5) being rounded to the nearest even integer. Note that \u001b[36mround\u001b[39m\n",
       "  may give incorrect results if the global rounding mode is changed (see\n",
       "  \u001b[36mrounding\u001b[39m).\n",
       "\n",
       "\u001b[1m  Examples\u001b[22m\n",
       "\u001b[1m  ≡≡≡≡≡≡≡≡≡≡\u001b[22m\n",
       "\n",
       "\u001b[36m  julia> round(1.7)\u001b[39m\n",
       "\u001b[36m  2.0\u001b[39m\n",
       "\u001b[36m  \u001b[39m\n",
       "\u001b[36m  julia> round(Int, 1.7)\u001b[39m\n",
       "\u001b[36m  2\u001b[39m\n",
       "\u001b[36m  \u001b[39m\n",
       "\u001b[36m  julia> round(1.5)\u001b[39m\n",
       "\u001b[36m  2.0\u001b[39m\n",
       "\u001b[36m  \u001b[39m\n",
       "\u001b[36m  julia> round(2.5)\u001b[39m\n",
       "\u001b[36m  2.0\u001b[39m\n",
       "\u001b[36m  \u001b[39m\n",
       "\u001b[36m  julia> round(pi; digits=2)\u001b[39m\n",
       "\u001b[36m  3.14\u001b[39m\n",
       "\u001b[36m  \u001b[39m\n",
       "\u001b[36m  julia> round(pi; digits=3, base=2)\u001b[39m\n",
       "\u001b[36m  3.125\u001b[39m\n",
       "\u001b[36m  \u001b[39m\n",
       "\u001b[36m  julia> round(123.456; sigdigits=2)\u001b[39m\n",
       "\u001b[36m  120.0\u001b[39m\n",
       "\u001b[36m  \u001b[39m\n",
       "\u001b[36m  julia> round(357.913; sigdigits=4, base=2)\u001b[39m\n",
       "\u001b[36m  352.0\u001b[39m\n",
       "\n",
       "\u001b[36m\u001b[1m  │ \u001b[22m\u001b[39m\u001b[36m\u001b[1mNote\u001b[22m\u001b[39m\n",
       "\u001b[36m\u001b[1m  │\u001b[22m\u001b[39m\n",
       "\u001b[36m\u001b[1m  │\u001b[22m\u001b[39m  Rounding to specified digits in bases other than 2 can be inexact\n",
       "\u001b[36m\u001b[1m  │\u001b[22m\u001b[39m  when operating on binary floating point numbers. For example, the\n",
       "\u001b[36m\u001b[1m  │\u001b[22m\u001b[39m  \u001b[36mFloat64\u001b[39m value represented by \u001b[36m1.15\u001b[39m is actually \u001b[4mless\u001b[24m than 1.15, yet\n",
       "\u001b[36m\u001b[1m  │\u001b[22m\u001b[39m  will be rounded to 1.2.\n",
       "\u001b[36m\u001b[1m  │\u001b[22m\u001b[39m\n",
       "\u001b[36m\u001b[1m  │\u001b[22m\u001b[39m\u001b[1m  Examples\u001b[22m\n",
       "\u001b[36m\u001b[1m  │\u001b[22m\u001b[39m\u001b[1m  ≡≡≡≡≡≡≡≡≡≡\u001b[22m\n",
       "\u001b[36m\u001b[1m  │\u001b[22m\u001b[39m\n",
       "\u001b[36m\u001b[1m  │\u001b[22m\u001b[39m\u001b[36m  julia> x = 1.15\u001b[39m\n",
       "\u001b[36m\u001b[1m  │\u001b[22m\u001b[39m\u001b[36m  1.15\u001b[39m\n",
       "\u001b[36m\u001b[1m  │\u001b[22m\u001b[39m\u001b[36m  \u001b[39m\n",
       "\u001b[36m\u001b[1m  │\u001b[22m\u001b[39m\u001b[36m  julia> @sprintf \"%.20f\" x\u001b[39m\n",
       "\u001b[36m\u001b[1m  │\u001b[22m\u001b[39m\u001b[36m  \"1.14999999999999991118\"\u001b[39m\n",
       "\u001b[36m\u001b[1m  │\u001b[22m\u001b[39m\u001b[36m  \u001b[39m\n",
       "\u001b[36m\u001b[1m  │\u001b[22m\u001b[39m\u001b[36m  julia> x < 115//100\u001b[39m\n",
       "\u001b[36m\u001b[1m  │\u001b[22m\u001b[39m\u001b[36m  true\u001b[39m\n",
       "\u001b[36m\u001b[1m  │\u001b[22m\u001b[39m\u001b[36m  \u001b[39m\n",
       "\u001b[36m\u001b[1m  │\u001b[22m\u001b[39m\u001b[36m  julia> round(x, digits=1)\u001b[39m\n",
       "\u001b[36m\u001b[1m  │\u001b[22m\u001b[39m\u001b[36m  1.2\u001b[39m\n",
       "\n",
       "\u001b[1m  Extensions\u001b[22m\n",
       "\u001b[1m  ≡≡≡≡≡≡≡≡≡≡≡≡\u001b[22m\n",
       "\n",
       "  To extend \u001b[36mround\u001b[39m to new numeric types, it is typically sufficient to define\n",
       "  \u001b[36mBase.round(x::NewType, r::RoundingMode)\u001b[39m.\n",
       "\n",
       "  ────────────────────────────────────────────────────────────────────────────\n",
       "\n",
       "\u001b[36m  round(dt::TimeType, p::Period, [r::RoundingMode]) -> TimeType\u001b[39m\n",
       "\n",
       "  Return the \u001b[36mDate\u001b[39m or \u001b[36mDateTime\u001b[39m nearest to \u001b[36mdt\u001b[39m at resolution \u001b[36mp\u001b[39m. By default\n",
       "  (\u001b[36mRoundNearestTiesUp\u001b[39m), ties (e.g., rounding 9:30 to the nearest hour) will be\n",
       "  rounded up.\n",
       "\n",
       "  For convenience, \u001b[36mp\u001b[39m may be a type instead of a value: \u001b[36mround(dt, Dates.Hour)\u001b[39m\n",
       "  is a shortcut for \u001b[36mround(dt, Dates.Hour(1))\u001b[39m.\n",
       "\n",
       "\u001b[36m  julia> round(Date(1985, 8, 16), Dates.Month)\u001b[39m\n",
       "\u001b[36m  1985-08-01\u001b[39m\n",
       "\u001b[36m  \u001b[39m\n",
       "\u001b[36m  julia> round(DateTime(2013, 2, 13, 0, 31, 20), Dates.Minute(15))\u001b[39m\n",
       "\u001b[36m  2013-02-13T00:30:00\u001b[39m\n",
       "\u001b[36m  \u001b[39m\n",
       "\u001b[36m  julia> round(DateTime(2016, 8, 6, 12, 0, 0), Dates.Day)\u001b[39m\n",
       "\u001b[36m  2016-08-07T00:00:00\u001b[39m\n",
       "\n",
       "  Valid rounding modes for \u001b[36mround(::TimeType, ::Period, ::RoundingMode)\u001b[39m are\n",
       "  \u001b[36mRoundNearestTiesUp\u001b[39m (default), \u001b[36mRoundDown\u001b[39m (\u001b[36mfloor\u001b[39m), and \u001b[36mRoundUp\u001b[39m (\u001b[36mceil\u001b[39m).\n",
       "\n",
       "  ────────────────────────────────────────────────────────────────────────────\n",
       "\n",
       "\u001b[36m  round(x::Period, precision::T, [r::RoundingMode]) where T <: Union{TimePeriod, Week, Day} -> T\u001b[39m\n",
       "\n",
       "  Round \u001b[36mx\u001b[39m to the nearest multiple of \u001b[36mprecision\u001b[39m. If \u001b[36mx\u001b[39m and \u001b[36mprecision\u001b[39m are\n",
       "  different subtypes of \u001b[36mPeriod\u001b[39m, the return value will have the same type as\n",
       "  \u001b[36mprecision\u001b[39m. By default (\u001b[36mRoundNearestTiesUp\u001b[39m), ties (e.g., rounding 90 minutes\n",
       "  to the nearest hour) will be rounded up.\n",
       "\n",
       "  For convenience, \u001b[36mprecision\u001b[39m may be a type instead of a value: \u001b[36mround(x,\n",
       "  Dates.Hour)\u001b[39m is a shortcut for \u001b[36mround(x, Dates.Hour(1))\u001b[39m.\n",
       "\n",
       "\u001b[36m  julia> round(Dates.Day(16), Dates.Week)\u001b[39m\n",
       "\u001b[36m  2 weeks\u001b[39m\n",
       "\u001b[36m  \u001b[39m\n",
       "\u001b[36m  julia> round(Dates.Minute(44), Dates.Minute(15))\u001b[39m\n",
       "\u001b[36m  45 minutes\u001b[39m\n",
       "\u001b[36m  \u001b[39m\n",
       "\u001b[36m  julia> round(Dates.Hour(36), Dates.Day)\u001b[39m\n",
       "\u001b[36m  2 days\u001b[39m\n",
       "\n",
       "  Valid rounding modes for \u001b[36mround(::Period, ::T, ::RoundingMode)\u001b[39m are\n",
       "  \u001b[36mRoundNearestTiesUp\u001b[39m (default), \u001b[36mRoundDown\u001b[39m (\u001b[36mfloor\u001b[39m), and \u001b[36mRoundUp\u001b[39m (\u001b[36mceil\u001b[39m).\n",
       "\n",
       "  Rounding to a \u001b[36mprecision\u001b[39m of \u001b[36mMonth\u001b[39ms or \u001b[36mYear\u001b[39ms is not supported, as these\n",
       "  \u001b[36mPeriod\u001b[39ms are of inconsistent length."
      ]
     },
     "execution_count": 47,
     "metadata": {},
     "output_type": "execute_result"
    }
   ],
   "source": [
    "?round"
   ]
  },
  {
   "cell_type": "markdown",
   "metadata": {},
   "source": [
    "It's possible to run shell commands in Julia by typing \";\"."
   ]
  },
  {
   "cell_type": "code",
   "execution_count": 48,
   "metadata": {},
   "outputs": [
    {
     "name": "stdout",
     "output_type": "stream",
     "text": [
      "Arrays.ipynb\n",
      "Basic_Data_Struct.ipynb\n",
      "extras\n",
      "Functions.ipynb\n",
      "Introduction.ipynb\n",
      "Programming_Flows.ipynb\n",
      "Types_hierarchy_multipledisp.ipynb\n"
     ]
    }
   ],
   "source": [
    ";ls"
   ]
  },
  {
   "cell_type": "code",
   "execution_count": 49,
   "metadata": {},
   "outputs": [
    {
     "name": "stdout",
     "output_type": "stream",
     "text": [
      "/proj/its/deep/ITS_RC/Work/Training_Courses/Julia/Lectures/Intro/uncrc_intro_julia\n"
     ]
    }
   ],
   "source": [
    ";pwd"
   ]
  },
  {
   "cell_type": "markdown",
   "metadata": {},
   "source": [
    "To comment out a line of code in Julia use __#__:"
   ]
  },
  {
   "cell_type": "code",
   "execution_count": 50,
   "metadata": {},
   "outputs": [],
   "source": [
    "#This is a comment."
   ]
  },
  {
   "cell_type": "markdown",
   "metadata": {},
   "source": [
    "For multi-line comments:"
   ]
  },
  {
   "cell_type": "code",
   "execution_count": 51,
   "metadata": {},
   "outputs": [],
   "source": [
    "#=\n",
    "This is\n",
    "an example of\n",
    "a multiline\n",
    "comment.\n",
    "=#"
   ]
  },
  {
   "cell_type": "markdown",
   "metadata": {},
   "source": [
    "Note that Julia has built-in constants such as \"pi\":"
   ]
  },
  {
   "cell_type": "code",
   "execution_count": 52,
   "metadata": {},
   "outputs": [
    {
     "data": {
      "text/plain": [
       "π = 3.1415926535897..."
      ]
     },
     "execution_count": 52,
     "metadata": {},
     "output_type": "execute_result"
    }
   ],
   "source": [
    "pi"
   ]
  },
  {
   "cell_type": "markdown",
   "metadata": {},
   "source": [
    "Julia also allows you to use greek symbols for variable names:"
   ]
  },
  {
   "cell_type": "code",
   "execution_count": 53,
   "metadata": {},
   "outputs": [
    {
     "data": {
      "text/plain": [
       "1.8"
      ]
     },
     "execution_count": 53,
     "metadata": {},
     "output_type": "execute_result"
    }
   ],
   "source": [
    "Δ = 1.8 #\\Delta = 1.8"
   ]
  },
  {
   "cell_type": "markdown",
   "metadata": {},
   "source": [
    "And you can also leave out operators when doing arithmetic with a numeric literal and a variable:"
   ]
  },
  {
   "cell_type": "code",
   "execution_count": 54,
   "metadata": {},
   "outputs": [
    {
     "data": {
      "text/plain": [
       "3.6"
      ]
     },
     "execution_count": 54,
     "metadata": {},
     "output_type": "execute_result"
    }
   ],
   "source": [
    "2Δ"
   ]
  },
  {
   "cell_type": "markdown",
   "metadata": {},
   "source": [
    "Above we multiplied $\\Delta$ by 2. Below we calculate 3 times __a__ plus 6 times __c__ without explicitly using the __+__ or __*__ operators in our expression:"
   ]
  },
  {
   "cell_type": "code",
   "execution_count": 55,
   "metadata": {},
   "outputs": [
    {
     "data": {
      "text/plain": [
       "54.4"
      ]
     },
     "execution_count": 55,
     "metadata": {},
     "output_type": "execute_result"
    }
   ],
   "source": [
    "a = 2; c = 8;\n",
    "expr = 3.2a + 6c"
   ]
  },
  {
   "cell_type": "markdown",
   "metadata": {},
   "source": [
    "Julia has the usual logical operations with short-circuiting: **&&** and **||**: <br>\n",
    "* a __&&__ b is true if both are true and is false otherwise.\n",
    "* a __||__ b is true if at least one is true and is false otherwise."
   ]
  },
  {
   "cell_type": "markdown",
   "metadata": {},
   "source": [
    "The __~__ can be used to negate a boolean type."
   ]
  },
  {
   "cell_type": "code",
   "execution_count": 56,
   "metadata": {},
   "outputs": [
    {
     "data": {
      "text/plain": [
       "false"
      ]
     },
     "execution_count": 56,
     "metadata": {},
     "output_type": "execute_result"
    }
   ],
   "source": [
    "a = true; ~a"
   ]
  },
  {
   "cell_type": "markdown",
   "metadata": {},
   "source": [
    "Numeric comparison operators are also available:\n",
    "* __==__ for equality\n",
    "* __!=__ for inequality\n",
    "* __<__ for less than\n",
    "* __<=__ for less than or equal\n",
    "* __>__ for greater than\n",
    "* __>=__ for greater than or equal"
   ]
  },
  {
   "cell_type": "markdown",
   "metadata": {},
   "source": [
    "Performing logic and numeric comparisons will be necessary later when we learn basic programming constructs."
   ]
  },
  {
   "cell_type": "code",
   "execution_count": 57,
   "metadata": {},
   "outputs": [
    {
     "data": {
      "text/plain": [
       "false"
      ]
     },
     "execution_count": 57,
     "metadata": {},
     "output_type": "execute_result"
    }
   ],
   "source": [
    "a = 2; b = 3; d = 33\n",
    "a > b  #Is a greather than b?"
   ]
  },
  {
   "cell_type": "code",
   "execution_count": 58,
   "metadata": {},
   "outputs": [
    {
     "data": {
      "text/plain": [
       "true"
      ]
     },
     "execution_count": 58,
     "metadata": {},
     "output_type": "execute_result"
    }
   ],
   "source": [
    "d < 44 #Is d less than 44?"
   ]
  },
  {
   "cell_type": "code",
   "execution_count": 59,
   "metadata": {},
   "outputs": [
    {
     "data": {
      "text/plain": [
       "true"
      ]
     },
     "execution_count": 59,
     "metadata": {},
     "output_type": "execute_result"
    }
   ],
   "source": [
    "(a > b ) || ( d < 44)  #Is a greater than b or d less than 44?"
   ]
  },
  {
   "cell_type": "code",
   "execution_count": 60,
   "metadata": {},
   "outputs": [
    {
     "data": {
      "text/plain": [
       "false"
      ]
     },
     "execution_count": 60,
     "metadata": {},
     "output_type": "execute_result"
    }
   ],
   "source": [
    "(a > b ) && ( d < 44)  #Is a greater than b and d less than 44?"
   ]
  },
  {
   "cell_type": "code",
   "execution_count": 61,
   "metadata": {},
   "outputs": [
    {
     "data": {
      "text/plain": [
       "false"
      ]
     },
     "execution_count": 61,
     "metadata": {},
     "output_type": "execute_result"
    }
   ],
   "source": [
    "a == b  #Is a equal to b?"
   ]
  },
  {
   "cell_type": "code",
   "execution_count": 62,
   "metadata": {},
   "outputs": [
    {
     "data": {
      "text/plain": [
       "true"
      ]
     },
     "execution_count": 62,
     "metadata": {},
     "output_type": "execute_result"
    }
   ],
   "source": [
    "(a + 1) == b #Is a+1 equal to b?"
   ]
  },
  {
   "cell_type": "code",
   "execution_count": 63,
   "metadata": {},
   "outputs": [
    {
     "data": {
      "text/plain": [
       "true"
      ]
     },
     "execution_count": 63,
     "metadata": {},
     "output_type": "execute_result"
    }
   ],
   "source": [
    "~(d != 33) #negation of does d not equal 33?"
   ]
  },
  {
   "cell_type": "markdown",
   "metadata": {},
   "source": [
    "# Exercise 1\n",
    "* Create a variable __a__ that is equal to 21.\n",
    "* Add 30 to __a__ and assign it to a variable __b__.\n",
    "* Raise __b__ to the second power and assign it to a variable __c__.\n",
    "* Check the type of __c__ and check if __c__ is greater than 2103."
   ]
  },
  {
   "cell_type": "code",
   "execution_count": null,
   "metadata": {},
   "outputs": [],
   "source": []
  },
  {
   "cell_type": "markdown",
   "metadata": {},
   "source": [
    "In this lesson we covered:\n",
    "* What Julia is and some advantages and disadvantages of the language.\n",
    "* How to create variables, assign values to them, check their types, and do basic numeric operations.\n",
    "* The notion of a funcion and methods associated with a function.\n",
    "* How to use Julia's help documentation.\n",
    "* Inserting comments into your code.\n",
    "* Logic and numeric comparisons."
   ]
  },
  {
   "cell_type": "code",
   "execution_count": null,
   "metadata": {},
   "outputs": [],
   "source": []
  }
 ],
 "metadata": {
  "@webio": {
   "lastCommId": null,
   "lastKernelId": null
  },
  "kernelspec": {
   "display_name": "Julia 1.3.0",
   "language": "julia",
   "name": "julia-1.3"
  },
  "language_info": {
   "file_extension": ".jl",
   "mimetype": "application/julia",
   "name": "julia",
   "version": "1.3.0"
  }
 },
 "nbformat": 4,
 "nbformat_minor": 4
}

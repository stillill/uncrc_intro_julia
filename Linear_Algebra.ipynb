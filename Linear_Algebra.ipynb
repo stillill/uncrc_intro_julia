{
 "cells": [
  {
   "cell_type": "markdown",
   "metadata": {},
   "source": [
    "# V. Linear Algebra"
   ]
  },
  {
   "cell_type": "markdown",
   "metadata": {},
   "source": [
    "Now that we've been introduced to Julia arrays, we can look at some basic linear algrebra operations in Julia. Julia has a **LinearAlgebra** package that contains many of essential linear algebra operations you'll want to do. Linear algebra functions in Julia are to a large extent implemented by calling functions from LAPACK."
   ]
  },
  {
   "cell_type": "code",
   "execution_count": 1,
   "metadata": {},
   "outputs": [],
   "source": [
    "using LinearAlgebra"
   ]
  },
  {
   "cell_type": "markdown",
   "metadata": {},
   "source": [
    "Let's first create some random arrays and a random vector to work with:"
   ]
  },
  {
   "cell_type": "code",
   "execution_count": 11,
   "metadata": {},
   "outputs": [],
   "source": [
    "A = randn(8,8);\n",
    "B = randn(8,3);\n",
    "v = randn(8,1);\n",
    "w = randn(8,1);"
   ]
  },
  {
   "cell_type": "markdown",
   "metadata": {},
   "source": [
    "You can use the multiply operator to multiply matrices and vectors:"
   ]
  },
  {
   "cell_type": "code",
   "execution_count": 12,
   "metadata": {},
   "outputs": [
    {
     "data": {
      "text/plain": [
       "8×1 Array{Float64,2}:\n",
       " -4.659438217239041 \n",
       " -1.8688054045391562\n",
       " -0.8210596362206699\n",
       " -2.30235682452069  \n",
       "  0.9495053597879912\n",
       " -0.5003580981232412\n",
       "  4.045320482613729 \n",
       " -7.033342299261197 "
      ]
     },
     "execution_count": 12,
     "metadata": {},
     "output_type": "execute_result"
    }
   ],
   "source": [
    "A*v"
   ]
  },
  {
   "cell_type": "code",
   "execution_count": 13,
   "metadata": {},
   "outputs": [
    {
     "data": {
      "text/plain": [
       "8×3 Array{Float64,2}:\n",
       "  6.05091    3.91974    1.48498  \n",
       "  2.95341   -1.24385    0.354237 \n",
       "  1.91332    4.47564    0.481249 \n",
       "  0.575859   4.30372    0.422932 \n",
       " -1.55417   -1.72894    0.0501023\n",
       "  0.369909  -0.862408   0.492843 \n",
       " -7.02702    1.90045   -5.33709  \n",
       " -1.90988    8.22072   -2.88065  "
      ]
     },
     "execution_count": 13,
     "metadata": {},
     "output_type": "execute_result"
    }
   ],
   "source": [
    "A*B"
   ]
  },
  {
   "cell_type": "markdown",
   "metadata": {},
   "source": [
    "To take the transpose you use `'`:"
   ]
  },
  {
   "cell_type": "code",
   "execution_count": 18,
   "metadata": {},
   "outputs": [
    {
     "data": {
      "text/plain": [
       "1×8 Array{Float64,2}:\n",
       " 0.367599  0.495664  -5.17797  -5.35866  0.159453  5.50909  4.85541  5.06532"
      ]
     },
     "execution_count": 18,
     "metadata": {},
     "output_type": "execute_result"
    }
   ],
   "source": [
    "v'*A"
   ]
  },
  {
   "cell_type": "markdown",
   "metadata": {},
   "source": [
    "To take the innerproduct of two vectors you can use the `dot` function or the `*` operator. If using the latter you will need to make sure the dimensions match accordingly."
   ]
  },
  {
   "cell_type": "code",
   "execution_count": 15,
   "metadata": {},
   "outputs": [
    {
     "data": {
      "text/plain": [
       "3.104129272516866"
      ]
     },
     "execution_count": 15,
     "metadata": {},
     "output_type": "execute_result"
    }
   ],
   "source": [
    "dot(v,w)"
   ]
  },
  {
   "cell_type": "code",
   "execution_count": 19,
   "metadata": {},
   "outputs": [
    {
     "data": {
      "text/plain": [
       "1×1 Array{Float64,2}:\n",
       " 3.104129272516866"
      ]
     },
     "execution_count": 19,
     "metadata": {},
     "output_type": "execute_result"
    }
   ],
   "source": [
    "v'w"
   ]
  },
  {
   "cell_type": "markdown",
   "metadata": {},
   "source": [
    "And to solve a system of linear equations you can use the `\\` operator. Here we solve **Ax = v**:"
   ]
  },
  {
   "cell_type": "code",
   "execution_count": 26,
   "metadata": {},
   "outputs": [
    {
     "data": {
      "text/plain": [
       "8×1 Array{Float64,2}:\n",
       "  1.5850363029711358 \n",
       "  0.7016304082084386 \n",
       "  0.0623563900544387 \n",
       " -0.40086803060098725\n",
       " -0.3377974111946968 \n",
       "  1.963271617876579  \n",
       " -2.0093562771923814 \n",
       "  0.6883473931855648 "
      ]
     },
     "execution_count": 26,
     "metadata": {},
     "output_type": "execute_result"
    }
   ],
   "source": [
    "A\\v"
   ]
  },
  {
   "cell_type": "markdown",
   "metadata": {},
   "source": [
    "Other common operations such as taking the trace of a matrix, finding the rank of matrix, eigenvalues and eigenvectors, etc. are also easily accomplished in Julia. We'll look at a few examples. To get the trace and rank you can use the `tr` and `rank` functions respectively:"
   ]
  },
  {
   "cell_type": "code",
   "execution_count": 31,
   "metadata": {},
   "outputs": [
    {
     "data": {
      "text/plain": [
       "4.656871686379769"
      ]
     },
     "execution_count": 31,
     "metadata": {},
     "output_type": "execute_result"
    }
   ],
   "source": [
    "tr(A)"
   ]
  },
  {
   "cell_type": "code",
   "execution_count": 32,
   "metadata": {},
   "outputs": [
    {
     "data": {
      "text/plain": [
       "3"
      ]
     },
     "execution_count": 32,
     "metadata": {},
     "output_type": "execute_result"
    }
   ],
   "source": [
    "rank(B)"
   ]
  },
  {
   "cell_type": "markdown",
   "metadata": {},
   "source": [
    "The `eigvals` and `eigvecs` functions will calculate the eigenvalues and eigenvectors:"
   ]
  },
  {
   "cell_type": "code",
   "execution_count": 35,
   "metadata": {},
   "outputs": [
    {
     "data": {
      "text/plain": [
       "8-element Array{Float64,1}:\n",
       "  0.04921852657414185\n",
       "  1.4215233334036006 \n",
       "  2.034503086476858  \n",
       "  4.6263932951396205 \n",
       "  6.129907178149791  \n",
       " 13.798016134945087  \n",
       " 20.246791483834805  \n",
       " 29.8669986490669    "
      ]
     },
     "execution_count": 35,
     "metadata": {},
     "output_type": "execute_result"
    }
   ],
   "source": [
    "eigvals(A'A)"
   ]
  },
  {
   "cell_type": "code",
   "execution_count": 36,
   "metadata": {},
   "outputs": [
    {
     "data": {
      "text/plain": [
       "8×8 Array{Float64,2}:\n",
       " -0.422254    -0.0341334  -0.484933   …   0.72895     0.10971      0.115116 \n",
       " -0.00232326  -0.579646   -0.230148      -0.23812     0.504286    -0.0381479\n",
       "  0.127949    -0.597298    0.0964477      0.0478865  -0.00593683   0.557544 \n",
       "  0.0391483    0.29141    -0.693791      -0.42214    -0.180198     0.430835 \n",
       "  0.206298    -0.275408    0.0370444      0.227042   -0.73994      0.1217   \n",
       " -0.426193    -0.363114   -0.224178   …  -0.352595   -0.381626    -0.447485 \n",
       "  0.755391    -0.0754987  -0.400688       0.178831    0.0507449   -0.382963 \n",
       " -0.0947533   -0.0880841  -0.0951059      0.153571   -0.073675    -0.356517 "
      ]
     },
     "execution_count": 36,
     "metadata": {},
     "output_type": "execute_result"
    }
   ],
   "source": [
    "eigvecs(A'A)"
   ]
  },
  {
   "cell_type": "markdown",
   "metadata": {},
   "source": [
    "And then to get the inverse of a matrix Julia has the `inv` function."
   ]
  },
  {
   "cell_type": "code",
   "execution_count": 45,
   "metadata": {},
   "outputs": [
    {
     "data": {
      "text/plain": [
       "8×8 Array{Float64,2}:\n",
       " -0.192531      0.0274894  -0.670174  …  -0.38506    0.0562087  -0.310835 \n",
       "  0.00800724    0.147805    0.151367      0.321187   0.341794    0.014903 \n",
       "  0.191294      0.351814    0.133138      0.435469   0.176944    0.185541 \n",
       " -0.000972039  -0.488478    0.175925      0.214262  -0.0856834   0.0525221\n",
       "  0.34645       0.0297079   0.405503      0.389272   0.0197971   0.0967576\n",
       " -0.382562      0.386837   -0.572978  …  -0.280542   0.0870372  -0.508552 \n",
       "  0.831749     -0.597363    1.00014       1.12941    0.238248    0.441054 \n",
       " -0.240271      0.0488974  -0.276015      0.154106  -0.153066    0.135296 "
      ]
     },
     "execution_count": 45,
     "metadata": {},
     "output_type": "execute_result"
    }
   ],
   "source": [
    "inv(A)"
   ]
  },
  {
   "cell_type": "markdown",
   "metadata": {},
   "source": [
    "The `det` function will return the determinant:"
   ]
  },
  {
   "cell_type": "code",
   "execution_count": 54,
   "metadata": {},
   "outputs": [
    {
     "data": {
      "text/plain": [
       "-3.0"
      ]
     },
     "execution_count": 54,
     "metadata": {},
     "output_type": "execute_result"
    }
   ],
   "source": [
    "det(A)"
   ]
  },
  {
   "cell_type": "markdown",
   "metadata": {},
   "source": [
    "Now that we've covered some of the basic linear algebra operations let's move on to discuss more advance topics in linear algebra."
   ]
  },
  {
   "cell_type": "code",
   "execution_count": null,
   "metadata": {},
   "outputs": [],
   "source": []
  },
  {
   "cell_type": "code",
   "execution_count": null,
   "metadata": {},
   "outputs": [],
   "source": []
  },
  {
   "cell_type": "code",
   "execution_count": null,
   "metadata": {},
   "outputs": [],
   "source": []
  },
  {
   "cell_type": "code",
   "execution_count": 59,
   "metadata": {},
   "outputs": [
    {
     "data": {
      "text/plain": [
       "2×2 LowerTriangular{Int64,Array{Int64,2}}:\n",
       " 1  ⋅\n",
       " 2  1"
      ]
     },
     "execution_count": 59,
     "metadata": {},
     "output_type": "execute_result"
    }
   ],
   "source": [
    "LowerTriangular(A)"
   ]
  },
  {
   "cell_type": "code",
   "execution_count": null,
   "metadata": {},
   "outputs": [],
   "source": []
  }
 ],
 "metadata": {
  "kernelspec": {
   "display_name": "Julia 1.3.0",
   "language": "julia",
   "name": "julia-1.3"
  },
  "language_info": {
   "file_extension": ".jl",
   "mimetype": "application/julia",
   "name": "julia",
   "version": "1.3.0"
  }
 },
 "nbformat": 4,
 "nbformat_minor": 4
}

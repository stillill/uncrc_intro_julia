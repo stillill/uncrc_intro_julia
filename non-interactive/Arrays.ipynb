{
 "cells": [
  {
   "cell_type": "markdown",
   "metadata": {},
   "source": [
    "# IV. Working with arrays"
   ]
  },
  {
   "cell_type": "markdown",
   "metadata": {},
   "source": [
    "Julia has built-in functions that can be used to create arrays of random numbers. We can use the `rand` function to generate random floats between 0 and 1."
   ]
  },
  {
   "cell_type": "code",
   "execution_count": 1,
   "metadata": {},
   "outputs": [
    {
     "name": "stdout",
     "output_type": "stream",
     "text": [
      "[0.44877900696307305, 0.7936704262800842, 0.9267158138387337, 0.36708606095755325, 0.7119153020028728, 0.4414998373061967, 0.6452066504155047, 0.1246123564332724, 0.9441049562365382, 0.23049116043559081, 0.4966664892376971, 0.3388561092306317, 0.6288411408836008, 0.22396957401674822, 0.46604838387518477, 0.8365740584878163, 0.4200569611135525, 0.19012284206307917, 0.08485042672308629, 0.45788906989978706]"
     ]
    }
   ],
   "source": [
    "a = rand( 20 );\n",
    "show( a )"
   ]
  },
  {
   "cell_type": "code",
   "execution_count": 2,
   "metadata": {},
   "outputs": [
    {
     "data": {
      "text/plain": [
       "Array{Float64,1}"
      ]
     },
     "execution_count": 2,
     "metadata": {},
     "output_type": "execute_result"
    }
   ],
   "source": [
    "typeof( a )"
   ]
  },
  {
   "cell_type": "markdown",
   "metadata": {},
   "source": [
    "Here we use indexing to get the first three elements of __a__."
   ]
  },
  {
   "cell_type": "code",
   "execution_count": 3,
   "metadata": {},
   "outputs": [
    {
     "data": {
      "text/plain": [
       "3-element Array{Float64,1}:\n",
       " 0.44877900696307305\n",
       " 0.7936704262800842 \n",
       " 0.9267158138387337 "
      ]
     },
     "execution_count": 3,
     "metadata": {},
     "output_type": "execute_result"
    }
   ],
   "source": [
    "a[ 1 : 3 ]"
   ]
  },
  {
   "cell_type": "markdown",
   "metadata": {},
   "source": [
    "And to get the fourteenth element through the last element __a__:"
   ]
  },
  {
   "cell_type": "code",
   "execution_count": 4,
   "metadata": {},
   "outputs": [
    {
     "data": {
      "text/plain": [
       "7-element Array{Float64,1}:\n",
       " 0.22396957401674822\n",
       " 0.46604838387518477\n",
       " 0.8365740584878163 \n",
       " 0.4200569611135525 \n",
       " 0.19012284206307917\n",
       " 0.08485042672308629\n",
       " 0.45788906989978706"
      ]
     },
     "execution_count": 4,
     "metadata": {},
     "output_type": "execute_result"
    }
   ],
   "source": [
    "a[ 14 : end ]"
   ]
  },
  {
   "cell_type": "markdown",
   "metadata": {},
   "source": [
    "You can use a stride index to get skip over elements in the array. For example to get every other element of __a__ starting with the second element."
   ]
  },
  {
   "cell_type": "code",
   "execution_count": 5,
   "metadata": {},
   "outputs": [
    {
     "name": "stdout",
     "output_type": "stream",
     "text": [
      "[0.7936704262800842, 0.36708606095755325, 0.4414998373061967, 0.1246123564332724, 0.23049116043559081, 0.3388561092306317, 0.22396957401674822, 0.8365740584878163, 0.19012284206307917, 0.45788906989978706]"
     ]
    }
   ],
   "source": [
    "show( a[ 2 : 2 : end ] )"
   ]
  },
  {
   "cell_type": "markdown",
   "metadata": {},
   "source": [
    "Unlike tuples, arrays are mutable; so we can add and remove elements; `pop!` removes the last element and `push!` can be used to append elements."
   ]
  },
  {
   "cell_type": "code",
   "execution_count": 6,
   "metadata": {},
   "outputs": [
    {
     "data": {
      "text/plain": [
       "0.45788906989978706"
      ]
     },
     "execution_count": 6,
     "metadata": {},
     "output_type": "execute_result"
    }
   ],
   "source": [
    "pop!( a )"
   ]
  },
  {
   "cell_type": "markdown",
   "metadata": {},
   "source": [
    "Now, as expected, the array a has 19 elements instead of 20:"
   ]
  },
  {
   "cell_type": "code",
   "execution_count": 7,
   "metadata": {},
   "outputs": [
    {
     "data": {
      "text/plain": [
       "19"
      ]
     },
     "execution_count": 7,
     "metadata": {},
     "output_type": "execute_result"
    }
   ],
   "source": [
    "length( a )"
   ]
  },
  {
   "cell_type": "code",
   "execution_count": 8,
   "metadata": {},
   "outputs": [
    {
     "name": "stdout",
     "output_type": "stream",
     "text": [
      "[0.44877900696307305, 0.7936704262800842, 0.9267158138387337, 0.36708606095755325, 0.7119153020028728, 0.4414998373061967, 0.6452066504155047, 0.1246123564332724, 0.9441049562365382, 0.23049116043559081, 0.4966664892376971, 0.3388561092306317, 0.6288411408836008, 0.22396957401674822, 0.46604838387518477, 0.8365740584878163, 0.4200569611135525, 0.19012284206307917, 0.08485042672308629]"
     ]
    }
   ],
   "source": [
    "show( a )"
   ]
  },
  {
   "cell_type": "code",
   "execution_count": 9,
   "metadata": {},
   "outputs": [
    {
     "name": "stdout",
     "output_type": "stream",
     "text": [
      "[0.44877900696307305, 0.7936704262800842, 0.9267158138387337, 0.36708606095755325, 0.7119153020028728, 0.4414998373061967, 0.6452066504155047, 0.1246123564332724, 0.9441049562365382, 0.23049116043559081, 0.4966664892376971, 0.3388561092306317, 0.6288411408836008, 0.22396957401674822, 0.46604838387518477, 0.8365740584878163, 0.4200569611135525, 0.19012284206307917, 0.08485042672308629, 0.8666020569988877]"
     ]
    }
   ],
   "source": [
    "show( push!( a, rand() ) )"
   ]
  },
  {
   "cell_type": "markdown",
   "metadata": {},
   "source": [
    "Julia provides set operations that can be applied to arrays. Let's look at three fundamental ones: `union`, `intersect`, and `setdiff`."
   ]
  },
  {
   "cell_type": "code",
   "execution_count": 10,
   "metadata": {},
   "outputs": [],
   "source": [
    "a = [ 1, 2, 3, 4, 5, 6 ]; b = [ 4, 5, 6, 7, 8, 9 ];"
   ]
  },
  {
   "cell_type": "code",
   "execution_count": 11,
   "metadata": {},
   "outputs": [
    {
     "name": "stdout",
     "output_type": "stream",
     "text": [
      "[1, 2, 3, 4, 5, 6, 7, 8, 9]"
     ]
    }
   ],
   "source": [
    "show( union( a, b ) )"
   ]
  },
  {
   "cell_type": "code",
   "execution_count": 12,
   "metadata": {},
   "outputs": [
    {
     "name": "stdout",
     "output_type": "stream",
     "text": [
      "[4, 5, 6]"
     ]
    }
   ],
   "source": [
    "show( intersect( a, b ) )"
   ]
  },
  {
   "cell_type": "code",
   "execution_count": 13,
   "metadata": {},
   "outputs": [
    {
     "name": "stdout",
     "output_type": "stream",
     "text": [
      "[1, 2, 3]"
     ]
    }
   ],
   "source": [
    "show( setdiff( a, b ) ) #returns the elements of a that are not in b"
   ]
  },
  {
   "cell_type": "code",
   "execution_count": 14,
   "metadata": {},
   "outputs": [
    {
     "name": "stdout",
     "output_type": "stream",
     "text": [
      "[7, 8, 9]"
     ]
    }
   ],
   "source": [
    "show( setdiff( b, a ) ) #returns the elements of b that are not in a"
   ]
  },
  {
   "cell_type": "markdown",
   "metadata": {},
   "source": [
    "There are a few very  useful functions Julia provides that are easy to understand in the context of one dimensional arrays: `map`, `filter`, `reduce`, `mapreduce`."
   ]
  },
  {
   "cell_type": "code",
   "execution_count": 15,
   "metadata": {},
   "outputs": [
    {
     "name": "stdout",
     "output_type": "stream",
     "text": [
      "[-0.08736943654326527, 1.2008428824882467, -1.0380568433458843, -1.4424867534562946, 1.0182011983903962, 1.1744290705623008, -0.7319175597411494, 0.8134710472817097, 1.0813557913013216, 1.1326299890309812, -0.9191339605060089, -0.3851286518569696, 0.4890783294842087, 1.6625284383497025, 1.0762105248921472]"
     ]
    }
   ],
   "source": [
    "a = randn( 15 )\n",
    "show( a )"
   ]
  },
  {
   "cell_type": "markdown",
   "metadata": {},
   "source": [
    "The `map` function will apply a function elemenwise to an array. Here we take the exponential of every element of __a__. The first argument to `map` is the function you want to apply to every element in the second object. The function can be an anonymous function, a user-defined function, a built-in function, etc."
   ]
  },
  {
   "cell_type": "code",
   "execution_count": 16,
   "metadata": {},
   "outputs": [
    {
     "name": "stdout",
     "output_type": "stream",
     "text": [
      "[0.9163385041635332, 3.3229165708710955, 0.3541421675056936, 0.23633930972630873, 2.7682108206656215, 3.236294720360645, 0.48098578624405935, 2.255724138852515, 2.948674629620445, 3.1038087582394454, 0.39886432380585657, 0.6803631005975936, 1.630812455317214, 5.272625513245217, 2.933541877502713]"
     ]
    }
   ],
   "source": [
    "exp_a = map( exp, a )\n",
    "show( exp_a )"
   ]
  },
  {
   "cell_type": "markdown",
   "metadata": {},
   "source": [
    "The `filter` function will only return elements that satisfy a specified condition. Here we return elements of __a__ greater than zero."
   ]
  },
  {
   "cell_type": "code",
   "execution_count": 17,
   "metadata": {},
   "outputs": [
    {
     "name": "stdout",
     "output_type": "stream",
     "text": [
      "[1.2008428824882467, 1.0182011983903962, 1.1744290705623008, 0.8134710472817097, 1.0813557913013216, 1.1326299890309812, 0.4890783294842087, 1.6625284383497025, 1.0762105248921472]"
     ]
    }
   ],
   "source": [
    "filt_a = filter( x -> x > 0, a )\n",
    "show( filt_a )"
   ]
  },
  {
   "cell_type": "markdown",
   "metadata": {},
   "source": [
    "You can apply a reduction operation using `reduce`. Here we apply `reduce` to an array using the multiplication operator:"
   ]
  },
  {
   "cell_type": "code",
   "execution_count": 18,
   "metadata": {},
   "outputs": [
    {
     "data": {
      "text/plain": [
       "0.042435507793560784"
      ]
     },
     "execution_count": 18,
     "metadata": {},
     "output_type": "execute_result"
    }
   ],
   "source": [
    "red_a = reduce( *, a )"
   ]
  },
  {
   "cell_type": "markdown",
   "metadata": {},
   "source": [
    "You can easily combine the `map` and `reduce` functions in Julia by using the `mapreduce` function. In what follows, the first argument does the map (i.e. square each element in __a__), and the second argument specifies the type of reduction to be applied (i.e. sum), and the last argument specifies what the `mapreduce` is being applied to."
   ]
  },
  {
   "cell_type": "code",
   "execution_count": 19,
   "metadata": {},
   "outputs": [
    {
     "data": {
      "text/plain": [
       "15.828182741838235"
      ]
     },
     "execution_count": 19,
     "metadata": {},
     "output_type": "execute_result"
    }
   ],
   "source": [
    "eucnormsq = mapreduce( x -> x .^ 2, +, a )"
   ]
  },
  {
   "cell_type": "markdown",
   "metadata": {},
   "source": [
    "There is also a useful `|>` operator that can be used to pass the result of one function as input to another function. For example, we can rewrite the above expression for __eucnormsq__ using this \"pipe-greater-than\" syntax:"
   ]
  },
  {
   "cell_type": "code",
   "execution_count": 20,
   "metadata": {},
   "outputs": [
    {
     "data": {
      "text/plain": [
       "15.828182741838235"
      ]
     },
     "execution_count": 20,
     "metadata": {},
     "output_type": "execute_result"
    }
   ],
   "source": [
    "eucnormsq = map( x -> x .^ 2, a ) |> sum"
   ]
  },
  {
   "cell_type": "markdown",
   "metadata": {},
   "source": [
    "What we did above first was to apply the mapping to __a__ (i.e. squaring each element of __a__) and then we passed the result of `map` as input into the `sum` function which summed up the squared elements."
   ]
  },
  {
   "cell_type": "markdown",
   "metadata": {},
   "source": [
    "In Julia, you'll likely often be working with multidimensional arrays."
   ]
  },
  {
   "cell_type": "code",
   "execution_count": 21,
   "metadata": {},
   "outputs": [
    {
     "data": {
      "text/plain": [
       "2×3 Array{Int64,2}:\n",
       " 1  2  3\n",
       " 4  5  6"
      ]
     },
     "execution_count": 21,
     "metadata": {},
     "output_type": "execute_result"
    }
   ],
   "source": [
    "A = [ 1 2 3; 4 5 6 ]"
   ]
  },
  {
   "cell_type": "markdown",
   "metadata": {},
   "source": [
    "Generating random matrices and indexing works the same as before. Below we generate an 8 by 10 matrix of random numbers each distributed according to a standard normal distribution."
   ]
  },
  {
   "cell_type": "code",
   "execution_count": 22,
   "metadata": {},
   "outputs": [
    {
     "data": {
      "text/plain": [
       "8×10 Array{Float64,2}:\n",
       " -0.588199    0.508736  -0.315687   …  -1.52769   -1.38732     0.437243\n",
       " -1.85296    -0.746307   0.802075      -0.22689   -0.0348382   0.53243 \n",
       " -0.422392    0.338332  -0.521169       0.689905  -0.0516263   1.08575 \n",
       "  0.0647098  -0.103786  -0.79385        0.372748  -0.501954   -0.579264\n",
       " -1.13567    -0.820341  -0.0477963     -0.211086   0.525189   -1.32521 \n",
       " -0.569856   -0.503512  -0.669074   …   0.665823  -0.0617773  -0.817578\n",
       " -1.77331    -1.28219   -0.637752       1.47413   -1.48747     0.567045\n",
       "  0.627725    0.190829  -0.0993516     -0.445241  -0.488682   -0.490446"
      ]
     },
     "execution_count": 22,
     "metadata": {},
     "output_type": "execute_result"
    }
   ],
   "source": [
    "A = randn( 8, 10 )"
   ]
  },
  {
   "cell_type": "markdown",
   "metadata": {},
   "source": [
    "If we wanted all the rows but only columns 6 through 10 from our matrix __A__:"
   ]
  },
  {
   "cell_type": "code",
   "execution_count": 23,
   "metadata": {},
   "outputs": [
    {
     "data": {
      "text/plain": [
       "8×5 Array{Float64,2}:\n",
       "  0.151813   1.09543    -1.52769   -1.38732     0.437243\n",
       " -1.02472   -0.497236   -0.22689   -0.0348382   0.53243 \n",
       " -1.31035    0.0910516   0.689905  -0.0516263   1.08575 \n",
       "  0.380908   0.730425    0.372748  -0.501954   -0.579264\n",
       " -2.34779   -1.40642    -0.211086   0.525189   -1.32521 \n",
       "  0.712119  -0.602732    0.665823  -0.0617773  -0.817578\n",
       " -0.983387  -0.771777    1.47413   -1.48747     0.567045\n",
       " -2.41868   -0.131703   -0.445241  -0.488682   -0.490446"
      ]
     },
     "execution_count": 23,
     "metadata": {},
     "output_type": "execute_result"
    }
   ],
   "source": [
    "A[ :, 6:10 ]"
   ]
  },
  {
   "cell_type": "markdown",
   "metadata": {},
   "source": [
    "If you wanted rows two through four and only columns 1, 4, and 8 through 10 of __A__:"
   ]
  },
  {
   "cell_type": "code",
   "execution_count": 24,
   "metadata": {},
   "outputs": [
    {
     "data": {
      "text/plain": [
       "3×5 Array{Float64,2}:\n",
       " -1.85296     0.583753  -0.22689   -0.0348382   0.53243 \n",
       " -0.422392    0.841061   0.689905  -0.0516263   1.08575 \n",
       "  0.0647098  -1.55177    0.372748  -0.501954   -0.579264"
      ]
     },
     "execution_count": 24,
     "metadata": {},
     "output_type": "execute_result"
    }
   ],
   "source": [
    "A[ 2:4, union( 1, 4, 8:10 ) ]"
   ]
  },
  {
   "cell_type": "markdown",
   "metadata": {},
   "source": [
    "You can also use boolean indexing to extract elements. Here a random 8 x 10 matrix of booleans is generated:"
   ]
  },
  {
   "cell_type": "code",
   "execution_count": 25,
   "metadata": {},
   "outputs": [
    {
     "data": {
      "text/plain": [
       "8×10 Array{Bool,2}:\n",
       " 0  0  0  0  1  0  1  1  1  0\n",
       " 0  1  1  0  1  1  1  1  1  0\n",
       " 0  0  1  0  0  1  1  0  0  0\n",
       " 0  1  1  0  0  1  0  1  0  0\n",
       " 1  0  1  0  1  0  0  1  1  1\n",
       " 0  0  1  1  1  1  0  0  1  0\n",
       " 0  1  1  0  1  1  0  0  1  1\n",
       " 1  0  0  0  0  1  1  0  1  0"
      ]
     },
     "execution_count": 25,
     "metadata": {},
     "output_type": "execute_result"
    }
   ],
   "source": [
    "mask = rand( Bool, 8, 10 )"
   ]
  },
  {
   "cell_type": "markdown",
   "metadata": {},
   "source": [
    "The following statment will return the elements of __A__ that correspond to the elemnts of *mask* that have an entry of *true*."
   ]
  },
  {
   "cell_type": "code",
   "execution_count": 26,
   "metadata": {},
   "outputs": [
    {
     "data": {
      "text/plain": [
       "39-element Array{Float64,1}:\n",
       " -1.1356743070076596  \n",
       "  0.6277245374664063  \n",
       " -0.7463070930743725  \n",
       " -0.10378602521262978 \n",
       " -1.2821932036013308  \n",
       "  0.8020746619228268  \n",
       " -0.5211687702121729  \n",
       " -0.7938495316505502  \n",
       " -0.04779625050838757 \n",
       " -0.6690740711978157  \n",
       " -0.6377516240447425  \n",
       "  0.35167560741310283 \n",
       " -0.5218183184121616  \n",
       "  ⋮                   \n",
       " -1.5276915073206048  \n",
       " -0.2268895543743474  \n",
       "  0.37274831589572605 \n",
       " -0.21108560701288182 \n",
       " -1.3873192039687594  \n",
       " -0.03483820536834337 \n",
       "  0.525188860085896   \n",
       " -0.061777314536231406\n",
       " -1.4874721879837254  \n",
       " -0.48868235563773477 \n",
       " -1.325212748162028   \n",
       "  0.5670453050900165  "
      ]
     },
     "execution_count": 26,
     "metadata": {},
     "output_type": "execute_result"
    }
   ],
   "source": [
    "A[ mask ]"
   ]
  },
  {
   "cell_type": "markdown",
   "metadata": {},
   "source": [
    "Similarly if you wanted to return the elements of __A__ that were, say, greater than zero you could do something like the following:"
   ]
  },
  {
   "cell_type": "code",
   "execution_count": 27,
   "metadata": {},
   "outputs": [
    {
     "data": {
      "text/plain": [
       "29-element Array{Float64,1}:\n",
       " 0.06470982293838486\n",
       " 0.6277245374664063 \n",
       " 0.5087361180948782 \n",
       " 0.33833179717318645\n",
       " 0.19082879476359424\n",
       " 0.8020746619228268 \n",
       " 0.5837529013771592 \n",
       " 0.8410608269101094 \n",
       " 0.35167560741310283\n",
       " 1.4923986716798805 \n",
       " 1.1685512854634479 \n",
       " 0.1923467107514815 \n",
       " 1.7017634086965716 \n",
       " ⋮                  \n",
       " 1.0954318301352897 \n",
       " 0.09105160727135597\n",
       " 0.7304253988727584 \n",
       " 0.6899049520938172 \n",
       " 0.37274831589572605\n",
       " 0.6658225044980725 \n",
       " 1.4741252922268775 \n",
       " 0.525188860085896  \n",
       " 0.43724263459727586\n",
       " 0.5324300136334096 \n",
       " 1.0857491605689906 \n",
       " 0.5670453050900165 "
      ]
     },
     "execution_count": 27,
     "metadata": {},
     "output_type": "execute_result"
    }
   ],
   "source": [
    "A[ A .> 0 ]"
   ]
  },
  {
   "cell_type": "markdown",
   "metadata": {},
   "source": [
    "Note the dot notation used above which is necessary here to do an element-wise comparison."
   ]
  },
  {
   "cell_type": "markdown",
   "metadata": {},
   "source": [
    "One thing to be aware of when you do an assignment with arrays is that the new array is actually a *view* of the original array."
   ]
  },
  {
   "cell_type": "code",
   "execution_count": 28,
   "metadata": {},
   "outputs": [
    {
     "data": {
      "text/plain": [
       "8×10 Array{Float64,2}:\n",
       " -0.588199    0.508736  -0.315687   …  -1.52769   -1.38732     0.437243\n",
       " -1.85296    -0.746307   0.802075      -0.22689   -0.0348382   0.53243 \n",
       " -0.422392    0.338332  -0.521169       0.689905  -0.0516263   1.08575 \n",
       "  0.0647098  -0.103786  -0.79385        0.372748  -0.501954   -0.579264\n",
       " -1.13567    -0.820341  -0.0477963     -0.211086   0.525189   -1.32521 \n",
       " -0.569856   -0.503512  -0.669074   …   0.665823  -0.0617773  -0.817578\n",
       " -1.77331    -1.28219   -0.637752       1.47413   -1.48747     0.567045\n",
       "  0.627725    0.190829  -0.0993516     -0.445241  -0.488682   -0.490446"
      ]
     },
     "execution_count": 28,
     "metadata": {},
     "output_type": "execute_result"
    }
   ],
   "source": [
    "B = A"
   ]
  },
  {
   "cell_type": "code",
   "execution_count": 29,
   "metadata": {},
   "outputs": [
    {
     "data": {
      "text/plain": [
       "true"
      ]
     },
     "execution_count": 29,
     "metadata": {},
     "output_type": "execute_result"
    }
   ],
   "source": [
    "isequal( B, A )"
   ]
  },
  {
   "cell_type": "markdown",
   "metadata": {},
   "source": [
    "The `===` tests if __B__ and __A__ point to the same location in memory:"
   ]
  },
  {
   "cell_type": "code",
   "execution_count": 30,
   "metadata": {},
   "outputs": [
    {
     "data": {
      "text/plain": [
       "true"
      ]
     },
     "execution_count": 30,
     "metadata": {},
     "output_type": "execute_result"
    }
   ],
   "source": [
    "B === A"
   ]
  },
  {
   "cell_type": "markdown",
   "metadata": {},
   "source": [
    "Now let's change some elements of __B__. What do you think will happen to __A__?"
   ]
  },
  {
   "cell_type": "code",
   "execution_count": 31,
   "metadata": {},
   "outputs": [],
   "source": [
    "B[ 1, 1:end ] .= 999;"
   ]
  },
  {
   "cell_type": "code",
   "execution_count": 32,
   "metadata": {},
   "outputs": [
    {
     "data": {
      "text/plain": [
       "8×10 Array{Float64,2}:\n",
       " 999.0        999.0       999.0        …  999.0       999.0        999.0     \n",
       "  -1.85296     -0.746307    0.802075       -0.22689    -0.0348382    0.53243 \n",
       "  -0.422392     0.338332   -0.521169        0.689905   -0.0516263    1.08575 \n",
       "   0.0647098   -0.103786   -0.79385         0.372748   -0.501954    -0.579264\n",
       "  -1.13567     -0.820341   -0.0477963      -0.211086    0.525189    -1.32521 \n",
       "  -0.569856    -0.503512   -0.669074   …    0.665823   -0.0617773   -0.817578\n",
       "  -1.77331     -1.28219    -0.637752        1.47413    -1.48747      0.567045\n",
       "   0.627725     0.190829   -0.0993516      -0.445241   -0.488682    -0.490446"
      ]
     },
     "execution_count": 32,
     "metadata": {},
     "output_type": "execute_result"
    }
   ],
   "source": [
    "B"
   ]
  },
  {
   "cell_type": "markdown",
   "metadata": {},
   "source": [
    "Note that even though we changed the elements of __B__ the elements of the original array __A__ also changed."
   ]
  },
  {
   "cell_type": "code",
   "execution_count": 33,
   "metadata": {},
   "outputs": [
    {
     "data": {
      "text/plain": [
       "8×10 Array{Float64,2}:\n",
       " 999.0        999.0       999.0        …  999.0       999.0        999.0     \n",
       "  -1.85296     -0.746307    0.802075       -0.22689    -0.0348382    0.53243 \n",
       "  -0.422392     0.338332   -0.521169        0.689905   -0.0516263    1.08575 \n",
       "   0.0647098   -0.103786   -0.79385         0.372748   -0.501954    -0.579264\n",
       "  -1.13567     -0.820341   -0.0477963      -0.211086    0.525189    -1.32521 \n",
       "  -0.569856    -0.503512   -0.669074   …    0.665823   -0.0617773   -0.817578\n",
       "  -1.77331     -1.28219    -0.637752        1.47413    -1.48747      0.567045\n",
       "   0.627725     0.190829   -0.0993516      -0.445241   -0.488682    -0.490446"
      ]
     },
     "execution_count": 33,
     "metadata": {},
     "output_type": "execute_result"
    }
   ],
   "source": [
    "A"
   ]
  },
  {
   "cell_type": "markdown",
   "metadata": {},
   "source": [
    "If you want to avoid this behavior then you can use the `copy` function to make a copy of the original array:"
   ]
  },
  {
   "cell_type": "code",
   "execution_count": 34,
   "metadata": {},
   "outputs": [],
   "source": [
    "C = copy( A );"
   ]
  },
  {
   "cell_type": "code",
   "execution_count": 35,
   "metadata": {},
   "outputs": [
    {
     "data": {
      "text/plain": [
       "true"
      ]
     },
     "execution_count": 35,
     "metadata": {},
     "output_type": "execute_result"
    }
   ],
   "source": [
    "isequal( C, A )"
   ]
  },
  {
   "cell_type": "code",
   "execution_count": 36,
   "metadata": {},
   "outputs": [
    {
     "data": {
      "text/plain": [
       "false"
      ]
     },
     "execution_count": 36,
     "metadata": {},
     "output_type": "execute_result"
    }
   ],
   "source": [
    "C === A"
   ]
  },
  {
   "cell_type": "markdown",
   "metadata": {},
   "source": [
    "What the above shows is that __C__ points to a different location in memory than __A__, so you can change __C__ without affecting __A__."
   ]
  },
  {
   "cell_type": "markdown",
   "metadata": {},
   "source": [
    "Let's move on and look at some basic functions and operations that you can with arrays."
   ]
  },
  {
   "cell_type": "markdown",
   "metadata": {},
   "source": [
    "To check the dimension of an array you can use the `ndims` function:"
   ]
  },
  {
   "cell_type": "code",
   "execution_count": 37,
   "metadata": {},
   "outputs": [
    {
     "data": {
      "text/plain": [
       "8×10 Array{Float64,2}:\n",
       " -1.95188     -0.0816066    0.4384    …  -1.07196   -0.0778129  -0.38467 \n",
       "  1.17609     -1.29499      0.577672     -1.25547   -1.8293     -0.493723\n",
       "  0.138667     0.284758     0.424024      0.33914    0.326522    0.255978\n",
       " -0.684507     0.00122526  -0.192306      0.316041   0.878248    1.58922 \n",
       " -0.00497321  -1.98451      0.721935      0.295627  -1.16123     0.360864\n",
       "  1.35618     -1.04538      0.667371  …   0.782706  -2.55182     0.150979\n",
       " -0.528216     0.37271      0.528102      2.02898   -1.25974     0.425167\n",
       "  0.0312497    0.424725    -0.886063     -0.2991     0.0482524  -1.63073 "
      ]
     },
     "execution_count": 37,
     "metadata": {},
     "output_type": "execute_result"
    }
   ],
   "source": [
    "A = randn( 8, 10 )"
   ]
  },
  {
   "cell_type": "code",
   "execution_count": 38,
   "metadata": {},
   "outputs": [
    {
     "data": {
      "text/plain": [
       "2"
      ]
     },
     "execution_count": 38,
     "metadata": {},
     "output_type": "execute_result"
    }
   ],
   "source": [
    "ndims( A )"
   ]
  },
  {
   "cell_type": "markdown",
   "metadata": {},
   "source": [
    "To get the number of rows and columns use `size`:"
   ]
  },
  {
   "cell_type": "code",
   "execution_count": 39,
   "metadata": {},
   "outputs": [
    {
     "data": {
      "text/plain": [
       "(8, 10)"
      ]
     },
     "execution_count": 39,
     "metadata": {},
     "output_type": "execute_result"
    }
   ],
   "source": [
    "size( A )"
   ]
  },
  {
   "cell_type": "markdown",
   "metadata": {},
   "source": [
    "The `reshape` function will change the shape of the array:"
   ]
  },
  {
   "cell_type": "code",
   "execution_count": 40,
   "metadata": {},
   "outputs": [
    {
     "data": {
      "text/plain": [
       "8×10 Array{Float64,2}:\n",
       " -1.95188     -0.0816066    0.4384    …  -1.07196   -0.0778129  -0.38467 \n",
       "  1.17609     -1.29499      0.577672     -1.25547   -1.8293     -0.493723\n",
       "  0.138667     0.284758     0.424024      0.33914    0.326522    0.255978\n",
       " -0.684507     0.00122526  -0.192306      0.316041   0.878248    1.58922 \n",
       " -0.00497321  -1.98451      0.721935      0.295627  -1.16123     0.360864\n",
       "  1.35618     -1.04538      0.667371  …   0.782706  -2.55182     0.150979\n",
       " -0.528216     0.37271      0.528102      2.02898   -1.25974     0.425167\n",
       "  0.0312497    0.424725    -0.886063     -0.2991     0.0482524  -1.63073 "
      ]
     },
     "execution_count": 40,
     "metadata": {},
     "output_type": "execute_result"
    }
   ],
   "source": [
    "A"
   ]
  },
  {
   "cell_type": "code",
   "execution_count": 41,
   "metadata": {},
   "outputs": [
    {
     "data": {
      "text/plain": [
       "2×40 Array{Float64,2}:\n",
       " -1.95188   0.138667  -0.00497321  …  0.255978  0.360864   0.425167\n",
       "  1.17609  -0.684507   1.35618        1.58922   0.150979  -1.63073 "
      ]
     },
     "execution_count": 41,
     "metadata": {},
     "output_type": "execute_result"
    }
   ],
   "source": [
    "C = reshape( A, 2, 40 ) "
   ]
  },
  {
   "cell_type": "code",
   "execution_count": 42,
   "metadata": {},
   "outputs": [
    {
     "data": {
      "text/plain": [
       "(2, 40)"
      ]
     },
     "execution_count": 42,
     "metadata": {},
     "output_type": "execute_result"
    }
   ],
   "source": [
    "size( C )"
   ]
  },
  {
   "cell_type": "code",
   "execution_count": 43,
   "metadata": {},
   "outputs": [
    {
     "data": {
      "text/plain": [
       "5×5 Array{Float64,2}:\n",
       " 0.203911  -0.279593  -0.181858   0.467662    0.113495\n",
       " 0.273492  -0.231788  -2.03255    0.0105262  -1.17258 \n",
       " 0.9423     1.54596    0.634344   0.261695   -0.565768\n",
       " 1.75327   -0.504753   0.998413  -0.599146   -0.161763\n",
       " 1.53071    0.314562   1.22407    1.71312    -0.575229"
      ]
     },
     "execution_count": 43,
     "metadata": {},
     "output_type": "execute_result"
    }
   ],
   "source": [
    "A = randn( 5, 5 )"
   ]
  },
  {
   "cell_type": "markdown",
   "metadata": {},
   "source": [
    "To extract the diagonal elements of __A__:"
   ]
  },
  {
   "cell_type": "code",
   "execution_count": 44,
   "metadata": {},
   "outputs": [
    {
     "data": {
      "text/plain": [
       "5-element Array{Float64,1}:\n",
       "  0.20391145583121495\n",
       " -0.23178837489855234\n",
       "  0.6343436963409214 \n",
       " -0.5991463837762768 \n",
       " -0.5752289732868803 "
      ]
     },
     "execution_count": 44,
     "metadata": {},
     "output_type": "execute_result"
    }
   ],
   "source": [
    "using LinearAlgebra #this package contains the diag function and other linear algebra routines\n",
    "\n",
    "diag( A )"
   ]
  },
  {
   "cell_type": "markdown",
   "metadata": {},
   "source": [
    "You can use the following constructor notation to create an identity matrix:"
   ]
  },
  {
   "cell_type": "code",
   "execution_count": 45,
   "metadata": {},
   "outputs": [
    {
     "data": {
      "text/plain": [
       "5×5 Array{Float64,2}:\n",
       " 1.0  0.0  0.0  0.0  0.0\n",
       " 0.0  1.0  0.0  0.0  0.0\n",
       " 0.0  0.0  1.0  0.0  0.0\n",
       " 0.0  0.0  0.0  1.0  0.0\n",
       " 0.0  0.0  0.0  0.0  1.0"
      ]
     },
     "execution_count": 45,
     "metadata": {},
     "output_type": "execute_result"
    }
   ],
   "source": [
    "Imatfirst = Array{ Float64 }( I, 5, 5 )"
   ]
  },
  {
   "cell_type": "markdown",
   "metadata": {},
   "source": [
    "You can also use **undef** to initialize an array to nothing in particular (some undefined strings or some undefined integers):"
   ]
  },
  {
   "cell_type": "code",
   "execution_count": 46,
   "metadata": {},
   "outputs": [
    {
     "data": {
      "text/plain": [
       "5×5 Array{String,2}:\n",
       " #undef  #undef  #undef  #undef  #undef\n",
       " #undef  #undef  #undef  #undef  #undef\n",
       " #undef  #undef  #undef  #undef  #undef\n",
       " #undef  #undef  #undef  #undef  #undef\n",
       " #undef  #undef  #undef  #undef  #undef"
      ]
     },
     "execution_count": 46,
     "metadata": {},
     "output_type": "execute_result"
    }
   ],
   "source": [
    "InitStringArray = Array{ String }( undef, 5, 5 )"
   ]
  },
  {
   "cell_type": "code",
   "execution_count": 47,
   "metadata": {},
   "outputs": [
    {
     "data": {
      "text/plain": [
       "5×5 Array{Int64,2}:\n",
       " 139828469329792  139828469332656  …  139828469332656  139828469314256\n",
       " 139828469664624  139828469329792     139828469314256  139828469314256\n",
       " 139828469314256  139828469664624     139828469664240  139828469331728\n",
       " 139828470532352  139828469329792     139828469314256  139828469314256\n",
       " 139828469332656  139828470362352     139828469314256  139828469314256"
      ]
     },
     "execution_count": 47,
     "metadata": {},
     "output_type": "execute_result"
    }
   ],
   "source": [
    "InitIntArray = Array{ Int64 }( undef, 5, 5 )"
   ]
  },
  {
   "cell_type": "markdown",
   "metadata": {},
   "source": [
    "And the `zeros` function will create a matrix of zeros:"
   ]
  },
  {
   "cell_type": "code",
   "execution_count": 48,
   "metadata": {},
   "outputs": [
    {
     "data": {
      "text/plain": [
       "4×5 Array{Float64,2}:\n",
       " 0.0  0.0  0.0  0.0  0.0\n",
       " 0.0  0.0  0.0  0.0  0.0\n",
       " 0.0  0.0  0.0  0.0  0.0\n",
       " 0.0  0.0  0.0  0.0  0.0"
      ]
     },
     "execution_count": 48,
     "metadata": {},
     "output_type": "execute_result"
    }
   ],
   "source": [
    "zeros( 4, 5 )"
   ]
  },
  {
   "cell_type": "markdown",
   "metadata": {},
   "source": [
    "Instead of the `zeros` function another option is to use the `fill` function:"
   ]
  },
  {
   "cell_type": "code",
   "execution_count": 49,
   "metadata": {},
   "outputs": [
    {
     "data": {
      "text/plain": [
       "5×5 Array{Float64,2}:\n",
       " 0.0  0.0  0.0  0.0  0.0\n",
       " 0.0  0.0  0.0  0.0  0.0\n",
       " 0.0  0.0  0.0  0.0  0.0\n",
       " 0.0  0.0  0.0  0.0  0.0\n",
       " 0.0  0.0  0.0  0.0  0.0"
      ]
     },
     "execution_count": 49,
     "metadata": {},
     "output_type": "execute_result"
    }
   ],
   "source": [
    "fill( 0.0, ( 5, 5 ) )"
   ]
  },
  {
   "cell_type": "markdown",
   "metadata": {},
   "source": [
    "You can use `fill` to fill the array with any arbitray value (not just zeros)."
   ]
  },
  {
   "cell_type": "code",
   "execution_count": 50,
   "metadata": {},
   "outputs": [
    {
     "data": {
      "text/plain": [
       "5×5 Array{String,2}:\n",
       " \"foo\"  \"foo\"  \"foo\"  \"foo\"  \"foo\"\n",
       " \"foo\"  \"foo\"  \"foo\"  \"foo\"  \"foo\"\n",
       " \"foo\"  \"foo\"  \"foo\"  \"foo\"  \"foo\"\n",
       " \"foo\"  \"foo\"  \"foo\"  \"foo\"  \"foo\"\n",
       " \"foo\"  \"foo\"  \"foo\"  \"foo\"  \"foo\""
      ]
     },
     "execution_count": 50,
     "metadata": {},
     "output_type": "execute_result"
    }
   ],
   "source": [
    "fill( \"foo\", ( 5, 5 ) )"
   ]
  },
  {
   "cell_type": "markdown",
   "metadata": {},
   "source": [
    "The __ones__ function will create a matrix of ones:"
   ]
  },
  {
   "cell_type": "code",
   "execution_count": 51,
   "metadata": {},
   "outputs": [
    {
     "data": {
      "text/plain": [
       "5×5 Array{Float64,2}:\n",
       " 1.0  1.0  1.0  1.0  1.0\n",
       " 1.0  1.0  1.0  1.0  1.0\n",
       " 1.0  1.0  1.0  1.0  1.0\n",
       " 1.0  1.0  1.0  1.0  1.0\n",
       " 1.0  1.0  1.0  1.0  1.0"
      ]
     },
     "execution_count": 51,
     "metadata": {},
     "output_type": "execute_result"
    }
   ],
   "source": [
    "ones( 5, 5 )"
   ]
  },
  {
   "cell_type": "markdown",
   "metadata": {},
   "source": [
    "You can use also the `Diagonal` function with the `ones` function to create an identity matrix:"
   ]
  },
  {
   "cell_type": "code",
   "execution_count": 52,
   "metadata": {},
   "outputs": [
    {
     "data": {
      "text/plain": [
       "5×5 Diagonal{Float64,Array{Float64,1}}:\n",
       " 1.0   ⋅    ⋅    ⋅    ⋅ \n",
       "  ⋅   1.0   ⋅    ⋅    ⋅ \n",
       "  ⋅    ⋅   1.0   ⋅    ⋅ \n",
       "  ⋅    ⋅    ⋅   1.0   ⋅ \n",
       "  ⋅    ⋅    ⋅    ⋅   1.0"
      ]
     },
     "execution_count": 52,
     "metadata": {},
     "output_type": "execute_result"
    }
   ],
   "source": [
    "Imatsec = Diagonal( ones( 5, 5 ) )"
   ]
  },
  {
   "cell_type": "markdown",
   "metadata": {},
   "source": [
    "We can see that the second method of creating the identity matrix is more storage-efficient:"
   ]
  },
  {
   "cell_type": "code",
   "execution_count": 53,
   "metadata": {},
   "outputs": [
    {
     "data": {
      "text/latex": [
       "\\begin{tabular}\n",
       "{l | r | l}\n",
       "name & size & summary \\\\\n",
       "\\hline\n",
       "A & 240 bytes & 5×5 Array\\{Float64,2\\} \\\\\n",
       "B & 680 bytes & 8×10 Array\\{Float64,2\\} \\\\\n",
       "Base &  & Module \\\\\n",
       "C & 680 bytes & 2×40 Array\\{Float64,2\\} \\\\\n",
       "Core &  & Module \\\\\n",
       "Imatfirst & 240 bytes & 5×5 Array\\{Float64,2\\} \\\\\n",
       "Imatsec & 88 bytes & 5×5 Diagonal\\{Float64,Array\\{Float64,1\\}\\} \\\\\n",
       "InitIntArray & 240 bytes & 5×5 Array\\{Int64,2\\} \\\\\n",
       "InitStringArray & 240 bytes & 5×5 Array\\{String,2\\} \\\\\n",
       "Main &  & Module \\\\\n",
       "a & 160 bytes & 15-element Array\\{Float64,1\\} \\\\\n",
       "b & 88 bytes & 6-element Array\\{Int64,1\\} \\\\\n",
       "eucnormsq & 8 bytes & Float64 \\\\\n",
       "exp\\_a & 160 bytes & 15-element Array\\{Float64,1\\} \\\\\n",
       "filt\\_a & 112 bytes & 9-element Array\\{Float64,1\\} \\\\\n",
       "mask & 120 bytes & 8×10 Array\\{Bool,2\\} \\\\\n",
       "red\\_a & 8 bytes & Float64 \\\\\n",
       "\\end{tabular}\n"
      ],
      "text/markdown": [
       "| name            |      size | summary                                |\n",
       "|:--------------- | ---------:|:-------------------------------------- |\n",
       "| A               | 240 bytes | 5×5 Array{Float64,2}                   |\n",
       "| B               | 680 bytes | 8×10 Array{Float64,2}                  |\n",
       "| Base            |           | Module                                 |\n",
       "| C               | 680 bytes | 2×40 Array{Float64,2}                  |\n",
       "| Core            |           | Module                                 |\n",
       "| Imatfirst       | 240 bytes | 5×5 Array{Float64,2}                   |\n",
       "| Imatsec         |  88 bytes | 5×5 Diagonal{Float64,Array{Float64,1}} |\n",
       "| InitIntArray    | 240 bytes | 5×5 Array{Int64,2}                     |\n",
       "| InitStringArray | 240 bytes | 5×5 Array{String,2}                    |\n",
       "| Main            |           | Module                                 |\n",
       "| a               | 160 bytes | 15-element Array{Float64,1}            |\n",
       "| b               |  88 bytes | 6-element Array{Int64,1}               |\n",
       "| eucnormsq       |   8 bytes | Float64                                |\n",
       "| exp_a           | 160 bytes | 15-element Array{Float64,1}            |\n",
       "| filt_a          | 112 bytes | 9-element Array{Float64,1}             |\n",
       "| mask            | 120 bytes | 8×10 Array{Bool,2}                     |\n",
       "| red_a           |   8 bytes | Float64                                |\n"
      ],
      "text/plain": [
       "  name                 size summary                               \n",
       "  ––––––––––––––– ––––––––– ––––––––––––––––––––––––––––––––––––––\n",
       "  A               240 bytes 5×5 Array{Float64,2}                  \n",
       "  B               680 bytes 8×10 Array{Float64,2}                 \n",
       "  Base                      Module                                \n",
       "  C               680 bytes 2×40 Array{Float64,2}                 \n",
       "  Core                      Module                                \n",
       "  Imatfirst       240 bytes 5×5 Array{Float64,2}                  \n",
       "  Imatsec          88 bytes 5×5 Diagonal{Float64,Array{Float64,1}}\n",
       "  InitIntArray    240 bytes 5×5 Array{Int64,2}                    \n",
       "  InitStringArray 240 bytes 5×5 Array{String,2}                   \n",
       "  Main                      Module                                \n",
       "  a               160 bytes 15-element Array{Float64,1}           \n",
       "  b                88 bytes 6-element Array{Int64,1}              \n",
       "  eucnormsq         8 bytes Float64                               \n",
       "  exp_a           160 bytes 15-element Array{Float64,1}           \n",
       "  filt_a          112 bytes 9-element Array{Float64,1}            \n",
       "  mask            120 bytes 8×10 Array{Bool,2}                    \n",
       "  red_a             8 bytes Float64                               "
      ]
     },
     "execution_count": 53,
     "metadata": {},
     "output_type": "execute_result"
    }
   ],
   "source": [
    "InteractiveUtils.varinfo()"
   ]
  },
  {
   "cell_type": "markdown",
   "metadata": {},
   "source": [
    "And to create a diagonal matrix use `diagm`:"
   ]
  },
  {
   "cell_type": "code",
   "execution_count": 54,
   "metadata": {},
   "outputs": [
    {
     "data": {
      "text/plain": [
       "4×4 Array{Int64,2}:\n",
       " 1  0  0  0\n",
       " 0  2  0  0\n",
       " 0  0  8  0\n",
       " 0  0  0  9"
      ]
     },
     "execution_count": 54,
     "metadata": {},
     "output_type": "execute_result"
    }
   ],
   "source": [
    "diagm( 0 => [ 1, 2, 8, 9 ] )"
   ]
  },
  {
   "cell_type": "markdown",
   "metadata": {},
   "source": [
    "The first argument in `diagm` specifies the offset. So if wanted the diagonal to be offset by -1:"
   ]
  },
  {
   "cell_type": "code",
   "execution_count": 55,
   "metadata": {},
   "outputs": [
    {
     "data": {
      "text/plain": [
       "5×5 Array{Int64,2}:\n",
       " 0  0  0  0  0\n",
       " 1  0  0  0  0\n",
       " 0  2  0  0  0\n",
       " 0  0  8  0  0\n",
       " 0  0  0  9  0"
      ]
     },
     "execution_count": 55,
     "metadata": {},
     "output_type": "execute_result"
    }
   ],
   "source": [
    "diagm( -1 => [ 1, 2, 8, 9 ] )"
   ]
  },
  {
   "cell_type": "markdown",
   "metadata": {},
   "source": [
    "As mentioned before, if you want to do element-wise operations on an array you use dot notation. To demonstrate let's first generate a random matrix."
   ]
  },
  {
   "cell_type": "code",
   "execution_count": 56,
   "metadata": {},
   "outputs": [
    {
     "data": {
      "text/plain": [
       "4×5 Array{Float64,2}:\n",
       " -2.58148    -0.0831368   0.656043    0.718383  -0.126448\n",
       "  0.572138   -1.6537     -0.0901001   1.28999    0.665111\n",
       " -0.333823    1.36829     1.37602    -0.565062   0.473332\n",
       " -0.0761523   1.05702    -0.340291    0.243984  -2.2076  "
      ]
     },
     "execution_count": 56,
     "metadata": {},
     "output_type": "execute_result"
    }
   ],
   "source": [
    "A = randn( 4, 5 )"
   ]
  },
  {
   "cell_type": "markdown",
   "metadata": {},
   "source": [
    "Now we square every element of __A__:"
   ]
  },
  {
   "cell_type": "code",
   "execution_count": 57,
   "metadata": {},
   "outputs": [
    {
     "data": {
      "text/plain": [
       "4×5 Array{Float64,2}:\n",
       " 6.66404     0.00691172  0.430392    0.516074   0.0159892\n",
       " 0.327342    2.73473     0.00811804  1.66406    0.442373 \n",
       " 0.111438    1.87221     1.89344     0.319295   0.224044 \n",
       " 0.00579917  1.1173      0.115798    0.0595284  4.87348  "
      ]
     },
     "execution_count": 57,
     "metadata": {},
     "output_type": "execute_result"
    }
   ],
   "source": [
    "A.^2"
   ]
  },
  {
   "cell_type": "markdown",
   "metadata": {},
   "source": [
    "Similarly we can do element-wise division between two matrices. Below we can create a new random matrix __B__ then divide the elements of __A__ by their corresponding elements in __B__."
   ]
  },
  {
   "cell_type": "code",
   "execution_count": 58,
   "metadata": {},
   "outputs": [
    {
     "data": {
      "text/plain": [
       "4×5 Array{Float64,2}:\n",
       "  0.886945    0.226192  -1.07142     1.80518   -0.388993\n",
       " -0.491382   -0.460997   1.17666    -1.11152    1.60572 \n",
       " -0.0956587  -0.273964  -0.0120846  -0.194455  -1.30249 \n",
       "  1.11621     1.53942   -0.253041   -1.13783    1.01172 "
      ]
     },
     "execution_count": 58,
     "metadata": {},
     "output_type": "execute_result"
    }
   ],
   "source": [
    "B =  randn( 4, 5 )"
   ]
  },
  {
   "cell_type": "code",
   "execution_count": 59,
   "metadata": {},
   "outputs": [
    {
     "data": {
      "text/plain": [
       "4×5 Array{Float64,2}:\n",
       " -2.91053    -0.36755     -0.612311    0.397956   0.325066\n",
       " -1.16435     3.58723     -0.0765728  -1.16056    0.414215\n",
       "  3.48973    -4.9944    -113.865       2.90587   -0.363406\n",
       " -0.0682238   0.686638     1.3448     -0.214429  -2.18202 "
      ]
     },
     "execution_count": 59,
     "metadata": {},
     "output_type": "execute_result"
    }
   ],
   "source": [
    "A ./ B"
   ]
  },
  {
   "cell_type": "markdown",
   "metadata": {},
   "source": [
    "There are a lot of basic functions that can be applied to arrays: `sum`, `mean`, `sort`, etc."
   ]
  },
  {
   "cell_type": "code",
   "execution_count": 60,
   "metadata": {},
   "outputs": [
    {
     "data": {
      "text/plain": [
       "3×4 Array{Int64,2}:\n",
       " 1  -1   2  3\n",
       " 4  -3   1  0\n",
       " 7  -3  -3  2"
      ]
     },
     "execution_count": 60,
     "metadata": {},
     "output_type": "execute_result"
    }
   ],
   "source": [
    "A = [ [ 1 -1 2 3 ]; [ 4 -3 1 0 ]; [ 7 -3 -3 2 ] ]"
   ]
  },
  {
   "cell_type": "markdown",
   "metadata": {},
   "source": [
    "To sum all the elements of **A**:"
   ]
  },
  {
   "cell_type": "code",
   "execution_count": 61,
   "metadata": {},
   "outputs": [
    {
     "data": {
      "text/plain": [
       "10"
      ]
     },
     "execution_count": 61,
     "metadata": {},
     "output_type": "execute_result"
    }
   ],
   "source": [
    "sum( A )"
   ]
  },
  {
   "cell_type": "code",
   "execution_count": 62,
   "metadata": {},
   "outputs": [
    {
     "data": {
      "text/plain": [
       "1×4 Array{Int64,2}:\n",
       " 12  -7  0  5"
      ]
     },
     "execution_count": 62,
     "metadata": {},
     "output_type": "execute_result"
    }
   ],
   "source": [
    "sum( A, dims = 1 ) #sums each column"
   ]
  },
  {
   "cell_type": "code",
   "execution_count": 63,
   "metadata": {},
   "outputs": [
    {
     "data": {
      "text/plain": [
       "3×1 Array{Int64,2}:\n",
       " 5\n",
       " 2\n",
       " 3"
      ]
     },
     "execution_count": 63,
     "metadata": {},
     "output_type": "execute_result"
    }
   ],
   "source": [
    "sum( A, dims = 2 ) #sums each row"
   ]
  },
  {
   "cell_type": "code",
   "execution_count": 64,
   "metadata": {},
   "outputs": [
    {
     "data": {
      "text/plain": [
       "3×4 Array{Int64,2}:\n",
       " 1  -1   2  3\n",
       " 4  -3   1  0\n",
       " 7  -3  -3  2"
      ]
     },
     "execution_count": 64,
     "metadata": {},
     "output_type": "execute_result"
    }
   ],
   "source": [
    "A"
   ]
  },
  {
   "cell_type": "markdown",
   "metadata": {},
   "source": [
    "The `sort` function will sort the array along the indicated dimension."
   ]
  },
  {
   "cell_type": "code",
   "execution_count": 65,
   "metadata": {},
   "outputs": [
    {
     "data": {
      "text/plain": [
       "3×4 Array{Int64,2}:\n",
       " 1  -3  -3  0\n",
       " 4  -3   1  2\n",
       " 7  -1   2  3"
      ]
     },
     "execution_count": 65,
     "metadata": {},
     "output_type": "execute_result"
    }
   ],
   "source": [
    "sort( A, dims = 1 ) #sort each column in ascending order"
   ]
  },
  {
   "cell_type": "code",
   "execution_count": 66,
   "metadata": {},
   "outputs": [
    {
     "data": {
      "text/plain": [
       "3×4 Array{Int64,2}:\n",
       " 7  -1   2  3\n",
       " 4  -3   1  2\n",
       " 1  -3  -3  0"
      ]
     },
     "execution_count": 66,
     "metadata": {},
     "output_type": "execute_result"
    }
   ],
   "source": [
    "sort( A, dims= 1, rev=true ) #sort each column in descending order"
   ]
  },
  {
   "cell_type": "code",
   "execution_count": 67,
   "metadata": {},
   "outputs": [
    {
     "data": {
      "text/plain": [
       "3×4 Array{Int64,2}:\n",
       " -1   1  2  3\n",
       " -3   0  1  4\n",
       " -3  -3  2  7"
      ]
     },
     "execution_count": 67,
     "metadata": {},
     "output_type": "execute_result"
    }
   ],
   "source": [
    "sort( A, dims = 2 ) #sort each row in ascending order"
   ]
  },
  {
   "cell_type": "markdown",
   "metadata": {},
   "source": [
    "Finally concatenating arrays is a very common operation. You can use the built-ins `hcat` and `vcat` to concatenate arrays. The `vcat` function will concatenate the arrays column wise (i.e. along dimension 1); `hcat` will concatenate arrays row wise (i.e. along dimension 2)."
   ]
  },
  {
   "cell_type": "code",
   "execution_count": 68,
   "metadata": {},
   "outputs": [
    {
     "data": {
      "text/plain": [
       "2×2 Array{Int64,2}:\n",
       " 1  2\n",
       " 3  4"
      ]
     },
     "execution_count": 68,
     "metadata": {},
     "output_type": "execute_result"
    }
   ],
   "source": [
    "A = [ 1 2; 3 4 ]"
   ]
  },
  {
   "cell_type": "code",
   "execution_count": 69,
   "metadata": {},
   "outputs": [
    {
     "data": {
      "text/plain": [
       "3×2 Array{Int64,2}:\n",
       " 5   6\n",
       " 7   8\n",
       " 9  10"
      ]
     },
     "execution_count": 69,
     "metadata": {},
     "output_type": "execute_result"
    }
   ],
   "source": [
    "B = [ 5 6; 7 8; 9 10 ]"
   ]
  },
  {
   "cell_type": "code",
   "execution_count": 70,
   "metadata": {},
   "outputs": [
    {
     "data": {
      "text/plain": [
       "2×1 Array{Float64,2}:\n",
       " 0.32589722558465933\n",
       " 0.4199911856392345 "
      ]
     },
     "execution_count": 70,
     "metadata": {},
     "output_type": "execute_result"
    }
   ],
   "source": [
    "C = randn( 2, 1 )"
   ]
  },
  {
   "cell_type": "code",
   "execution_count": 71,
   "metadata": {},
   "outputs": [
    {
     "data": {
      "text/plain": [
       "5×2 Array{Int64,2}:\n",
       " 1   2\n",
       " 3   4\n",
       " 5   6\n",
       " 7   8\n",
       " 9  10"
      ]
     },
     "execution_count": 71,
     "metadata": {},
     "output_type": "execute_result"
    }
   ],
   "source": [
    "vcat( A, B )  #stacks A on top of B"
   ]
  },
  {
   "cell_type": "code",
   "execution_count": 72,
   "metadata": {},
   "outputs": [
    {
     "data": {
      "text/plain": [
       "2×5 Array{Float64,2}:\n",
       " 1.0  2.0  0.325897  1.0  2.0\n",
       " 3.0  4.0  0.419991  3.0  4.0"
      ]
     },
     "execution_count": 72,
     "metadata": {},
     "output_type": "execute_result"
    }
   ],
   "source": [
    "hcat( A, C, A ) #horizontally binds A to C to A"
   ]
  },
  {
   "cell_type": "markdown",
   "metadata": {},
   "source": [
    "# Exercise 3\n",
    "* Create a 5 by 8 random array called *B* using **randn**.\n",
    "* Find the elements of *B* that are less than 0.2.\n",
    "* Retrieve the number of rows and columns of *B*.\n",
    "* Multiply every element of *B* by 3 and assign that to a new array called *C*.\n",
    "* Sort each row of *C* in ascending order."
   ]
  },
  {
   "cell_type": "code",
   "execution_count": null,
   "metadata": {},
   "outputs": [],
   "source": []
  },
  {
   "cell_type": "markdown",
   "metadata": {},
   "source": [
    "In this lesson we covered:\n",
    "* Single and multi-dimensional arrays.\n",
    "* Array indexing.\n",
    "* Applying functions to arrays."
   ]
  }
 ],
 "metadata": {
  "kernelspec": {
   "display_name": "Julia 1.3.0",
   "language": "julia",
   "name": "julia-1.3"
  },
  "language_info": {
   "file_extension": ".jl",
   "mimetype": "application/julia",
   "name": "julia",
   "version": "1.3.0"
  }
 },
 "nbformat": 4,
 "nbformat_minor": 4
}

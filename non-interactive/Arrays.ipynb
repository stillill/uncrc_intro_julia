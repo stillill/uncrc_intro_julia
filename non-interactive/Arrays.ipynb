{
 "cells": [
  {
   "cell_type": "markdown",
   "metadata": {},
   "source": [
    "# III. Working with arrays"
   ]
  },
  {
   "cell_type": "markdown",
   "metadata": {},
   "source": [
    "Julia has built-in functions that can be used to create arrays of random numbers. We can use the `rand` function to generate random floats between 0 and 1."
   ]
  },
  {
   "cell_type": "code",
   "execution_count": 1,
   "metadata": {},
   "outputs": [
    {
     "name": "stdout",
     "output_type": "stream",
     "text": [
      "[0.13492353595056983, 0.3616613546040821, 0.33037984725495817, 0.45527587317404494, 0.5902375734729657, 0.151989414230288, 0.25065880206638647, 0.04314980177844219, 0.27242082504181653, 0.28572285305544654, 0.2652364704171979, 0.3488129187576403, 0.8899066473492709, 0.19430386913967657, 0.6368815093471398, 0.011579575248139795, 0.11789255437986901, 0.7788698128484988, 0.7273067020090653, 0.3808014404213913]"
     ]
    }
   ],
   "source": [
    "a = rand( 20 );\n",
    "show( a )"
   ]
  },
  {
   "cell_type": "code",
   "execution_count": 2,
   "metadata": {},
   "outputs": [
    {
     "data": {
      "text/plain": [
       "Array{Float64,1}"
      ]
     },
     "execution_count": 2,
     "metadata": {},
     "output_type": "execute_result"
    }
   ],
   "source": [
    "typeof( a )"
   ]
  },
  {
   "cell_type": "markdown",
   "metadata": {},
   "source": [
    "Here we use indexing to get the first three elements of __a__."
   ]
  },
  {
   "cell_type": "code",
   "execution_count": 3,
   "metadata": {},
   "outputs": [
    {
     "data": {
      "text/plain": [
       "3-element Array{Float64,1}:\n",
       " 0.13492353595056983\n",
       " 0.3616613546040821 \n",
       " 0.33037984725495817"
      ]
     },
     "execution_count": 3,
     "metadata": {},
     "output_type": "execute_result"
    }
   ],
   "source": [
    "a[ 1 : 3 ]"
   ]
  },
  {
   "cell_type": "markdown",
   "metadata": {},
   "source": [
    "And to get the fourteenth element through the last element __a__:"
   ]
  },
  {
   "cell_type": "code",
   "execution_count": 4,
   "metadata": {},
   "outputs": [
    {
     "data": {
      "text/plain": [
       "7-element Array{Float64,1}:\n",
       " 0.19430386913967657 \n",
       " 0.6368815093471398  \n",
       " 0.011579575248139795\n",
       " 0.11789255437986901 \n",
       " 0.7788698128484988  \n",
       " 0.7273067020090653  \n",
       " 0.3808014404213913  "
      ]
     },
     "execution_count": 4,
     "metadata": {},
     "output_type": "execute_result"
    }
   ],
   "source": [
    "a[ 14 : end ]"
   ]
  },
  {
   "cell_type": "markdown",
   "metadata": {},
   "source": [
    "You can use a stride index to get skip over elements in the array. For example to get every other element of __a__ starting with the second element."
   ]
  },
  {
   "cell_type": "code",
   "execution_count": 5,
   "metadata": {},
   "outputs": [
    {
     "name": "stdout",
     "output_type": "stream",
     "text": [
      "[0.3616613546040821, 0.45527587317404494, 0.151989414230288, 0.04314980177844219, 0.28572285305544654, 0.3488129187576403, 0.19430386913967657, 0.011579575248139795, 0.7788698128484988, 0.3808014404213913]"
     ]
    }
   ],
   "source": [
    "show( a[ 2 : 2 : end ] )"
   ]
  },
  {
   "cell_type": "markdown",
   "metadata": {},
   "source": [
    "Unlike tuples, arrays are mutable; so we can add and remove elements; `pop!` removes the last element and `push!` can be used to append elements."
   ]
  },
  {
   "cell_type": "code",
   "execution_count": 6,
   "metadata": {},
   "outputs": [
    {
     "data": {
      "text/plain": [
       "0.3808014404213913"
      ]
     },
     "execution_count": 6,
     "metadata": {},
     "output_type": "execute_result"
    }
   ],
   "source": [
    "pop!( a )"
   ]
  },
  {
   "cell_type": "markdown",
   "metadata": {},
   "source": [
    "Now, as expected, the array a has 19 elements instead of 20:"
   ]
  },
  {
   "cell_type": "code",
   "execution_count": 7,
   "metadata": {},
   "outputs": [
    {
     "data": {
      "text/plain": [
       "19"
      ]
     },
     "execution_count": 7,
     "metadata": {},
     "output_type": "execute_result"
    }
   ],
   "source": [
    "length( a )"
   ]
  },
  {
   "cell_type": "code",
   "execution_count": 8,
   "metadata": {},
   "outputs": [
    {
     "name": "stdout",
     "output_type": "stream",
     "text": [
      "[0.13492353595056983, 0.3616613546040821, 0.33037984725495817, 0.45527587317404494, 0.5902375734729657, 0.151989414230288, 0.25065880206638647, 0.04314980177844219, 0.27242082504181653, 0.28572285305544654, 0.2652364704171979, 0.3488129187576403, 0.8899066473492709, 0.19430386913967657, 0.6368815093471398, 0.011579575248139795, 0.11789255437986901, 0.7788698128484988, 0.7273067020090653]"
     ]
    }
   ],
   "source": [
    "show( a )"
   ]
  },
  {
   "cell_type": "code",
   "execution_count": 9,
   "metadata": {},
   "outputs": [
    {
     "name": "stdout",
     "output_type": "stream",
     "text": [
      "[0.13492353595056983, 0.3616613546040821, 0.33037984725495817, 0.45527587317404494, 0.5902375734729657, 0.151989414230288, 0.25065880206638647, 0.04314980177844219, 0.27242082504181653, 0.28572285305544654, 0.2652364704171979, 0.3488129187576403, 0.8899066473492709, 0.19430386913967657, 0.6368815093471398, 0.011579575248139795, 0.11789255437986901, 0.7788698128484988, 0.7273067020090653, 0.06754629689440073]"
     ]
    }
   ],
   "source": [
    "show( push!( a, rand() ) )"
   ]
  },
  {
   "cell_type": "markdown",
   "metadata": {},
   "source": [
    "Julia provides set operations that can be applied to arrays. Let's look at three fundamental ones: `union`, `intersect`, and `setdiff`."
   ]
  },
  {
   "cell_type": "code",
   "execution_count": 10,
   "metadata": {},
   "outputs": [],
   "source": [
    "a = [ 1, 2, 3, 4, 5, 6 ]; b = [ 4, 5, 6, 7, 8, 9 ];"
   ]
  },
  {
   "cell_type": "code",
   "execution_count": 11,
   "metadata": {},
   "outputs": [
    {
     "name": "stdout",
     "output_type": "stream",
     "text": [
      "[1, 2, 3, 4, 5, 6, 7, 8, 9]"
     ]
    }
   ],
   "source": [
    "show( union( a, b ) )"
   ]
  },
  {
   "cell_type": "code",
   "execution_count": 12,
   "metadata": {},
   "outputs": [
    {
     "name": "stdout",
     "output_type": "stream",
     "text": [
      "[4, 5, 6]"
     ]
    }
   ],
   "source": [
    "show( intersect( a, b ) )"
   ]
  },
  {
   "cell_type": "code",
   "execution_count": 13,
   "metadata": {},
   "outputs": [
    {
     "name": "stdout",
     "output_type": "stream",
     "text": [
      "[1, 2, 3]"
     ]
    }
   ],
   "source": [
    "show( setdiff( a, b ) ) #returns the elements of a that are not in b"
   ]
  },
  {
   "cell_type": "code",
   "execution_count": 14,
   "metadata": {},
   "outputs": [
    {
     "name": "stdout",
     "output_type": "stream",
     "text": [
      "[7, 8, 9]"
     ]
    }
   ],
   "source": [
    "show( setdiff( b, a ) ) #returns the elements of b that are not in a"
   ]
  },
  {
   "cell_type": "markdown",
   "metadata": {},
   "source": [
    "There are a few very  useful functions Julia provides that are easy to understand in the context of one dimensional arrays: `map`, `filter`, `reduce`, `mapreduce`."
   ]
  },
  {
   "cell_type": "code",
   "execution_count": 15,
   "metadata": {},
   "outputs": [
    {
     "name": "stdout",
     "output_type": "stream",
     "text": [
      "[0.3865734808693367, -0.30787100340919277, 0.07184901592615978, -0.12393733880877482, -0.10024496255345881, 0.31011315034497594, -1.6561974510858837, 0.06812118072651457, -0.5955123853347581, 0.8441942037104464, 0.34327631941647785, 0.2182667249169342, 0.40480897675582417, 0.12291334480102721, 0.7626899004621648]"
     ]
    }
   ],
   "source": [
    "a = randn( 15 )\n",
    "show( a )"
   ]
  },
  {
   "cell_type": "markdown",
   "metadata": {},
   "source": [
    "The `map` function will apply a function elemenwise to an array. Here we take the exponential of every element of __a__. The first argument to `map` is the function you want to apply to every element in the second object. The function can be an anonymous function, a user-defined function, a built-in function, etc."
   ]
  },
  {
   "cell_type": "code",
   "execution_count": 16,
   "metadata": {},
   "outputs": [
    {
     "name": "stdout",
     "output_type": "stream",
     "text": [
      "[1.4719285516822687, 0.7350101256944266, 1.0744931004704004, 0.8834351962501834, 0.9046157938974881, 1.3635793948824861, 0.19086336926359637, 1.0704950239838427, 0.5512800256887811, 2.3261026942690424, 1.4095581964181432, 1.2439188075160545, 1.4990161257821475, 1.1307864281788296, 2.144035713449181]"
     ]
    }
   ],
   "source": [
    "exp_a = map( exp, a )\n",
    "show( exp_a )"
   ]
  },
  {
   "cell_type": "markdown",
   "metadata": {},
   "source": [
    "The `filter` function will only return elements that satisfy a specified condition. Here we return elements of __a__ greater than zero."
   ]
  },
  {
   "cell_type": "code",
   "execution_count": 17,
   "metadata": {},
   "outputs": [
    {
     "name": "stdout",
     "output_type": "stream",
     "text": [
      "[0.3865734808693367, 0.07184901592615978, 0.31011315034497594, 0.06812118072651457, 0.8441942037104464, 0.34327631941647785, 0.2182667249169342, 0.40480897675582417, 0.12291334480102721, 0.7626899004621648]"
     ]
    }
   ],
   "source": [
    "filt_a = filter( x -> x > 0, a )\n",
    "show( filt_a )"
   ]
  },
  {
   "cell_type": "markdown",
   "metadata": {},
   "source": [
    "You can apply a reduction operation using `reduce`. Here we apply `reduce` to an array using the multiplication operator:"
   ]
  },
  {
   "cell_type": "code",
   "execution_count": 18,
   "metadata": {},
   "outputs": [
    {
     "data": {
      "text/plain": [
       "-5.313278299194209e-9"
      ]
     },
     "execution_count": 18,
     "metadata": {},
     "output_type": "execute_result"
    }
   ],
   "source": [
    "red_a = reduce( *, a )"
   ]
  },
  {
   "cell_type": "markdown",
   "metadata": {},
   "source": [
    "You can easily combine the `map` and `reduce` functions in Julia by using the `mapreduce` function. In what follows, the first argument does the map (i.e. square each element in __a__), and the second argument specifies the type of reduction to be applied (i.e. sum), and the last argument specifies what the `mapreduce` is being applied to."
   ]
  },
  {
   "cell_type": "code",
   "execution_count": 19,
   "metadata": {},
   "outputs": [
    {
     "data": {
      "text/plain": [
       "5.112047798276117"
      ]
     },
     "execution_count": 19,
     "metadata": {},
     "output_type": "execute_result"
    }
   ],
   "source": [
    "eucnormsq = mapreduce( x -> x ^ 2, +, a )"
   ]
  },
  {
   "cell_type": "markdown",
   "metadata": {},
   "source": [
    "There is also a useful `|>` operator that can be used to pass the result of one function as input to another function. For example, we can rewrite the above expression for __eucnormsq__ using this \"pipe-greater-than\" syntax:"
   ]
  },
  {
   "cell_type": "code",
   "execution_count": 20,
   "metadata": {},
   "outputs": [
    {
     "data": {
      "text/plain": [
       "5.112047798276117"
      ]
     },
     "execution_count": 20,
     "metadata": {},
     "output_type": "execute_result"
    }
   ],
   "source": [
    "eucnormsq = map( x -> x ^ 2, a ) |> sum"
   ]
  },
  {
   "cell_type": "markdown",
   "metadata": {},
   "source": [
    "What we did above first was to apply the mapping to __a__ (i.e. squaring each element of __a__) and then we passed the result of `map` as input into the `sum` function which summed up the squared elements."
   ]
  },
  {
   "cell_type": "markdown",
   "metadata": {},
   "source": [
    "In Julia, you'll likely often be working with multidimensional arrays."
   ]
  },
  {
   "cell_type": "code",
   "execution_count": 21,
   "metadata": {},
   "outputs": [
    {
     "data": {
      "text/plain": [
       "2×3 Array{Int64,2}:\n",
       " 1  2  3\n",
       " 4  5  6"
      ]
     },
     "execution_count": 21,
     "metadata": {},
     "output_type": "execute_result"
    }
   ],
   "source": [
    "A = [ 1 2 3; 4 5 6 ]"
   ]
  },
  {
   "cell_type": "markdown",
   "metadata": {},
   "source": [
    "Generating random matrices and indexing works the same as before. Below we generate an 8 by 10 matrix of random numbers each distributed according to a standard normal distribution."
   ]
  },
  {
   "cell_type": "code",
   "execution_count": 22,
   "metadata": {},
   "outputs": [
    {
     "data": {
      "text/plain": [
       "8×10 Array{Float64,2}:\n",
       "  0.477991   -0.199791    1.4432    …   1.3439     -0.996449    0.93196  \n",
       "  1.14903    -0.173009    0.241412      0.0451831   0.703688    0.883861 \n",
       "  1.39793     0.847757    1.89612       2.6343     -0.405119    0.964984 \n",
       "  0.0913294   0.757207    1.05318      -1.0988     -0.202924    0.680431 \n",
       " -0.966571    0.66074     0.495949      1.12713    -0.0859766  -1.30234  \n",
       " -0.260985    0.0583227   0.779808  …   0.284318    0.427866   -1.30364  \n",
       " -0.0304193   0.452116    0.265134      0.100958   -1.71289    -1.48798  \n",
       " -1.67281     2.81933    -0.857127      0.827343    0.846928   -0.0330998"
      ]
     },
     "execution_count": 22,
     "metadata": {},
     "output_type": "execute_result"
    }
   ],
   "source": [
    "A = randn( 8, 10 )"
   ]
  },
  {
   "cell_type": "markdown",
   "metadata": {},
   "source": [
    "If we wanted all the rows but only columns 6 through 10 from our matrix __A__:"
   ]
  },
  {
   "cell_type": "code",
   "execution_count": 23,
   "metadata": {},
   "outputs": [
    {
     "data": {
      "text/plain": [
       "8×5 Array{Float64,2}:\n",
       "  0.445823    0.413033   1.3439     -0.996449    0.93196  \n",
       " -0.436674   -0.827785   0.0451831   0.703688    0.883861 \n",
       "  1.46062     0.591493   2.6343     -0.405119    0.964984 \n",
       " -0.0107746  -0.866847  -1.0988     -0.202924    0.680431 \n",
       "  0.747915    0.570118   1.12713    -0.0859766  -1.30234  \n",
       " -0.501059   -0.644488   0.284318    0.427866   -1.30364  \n",
       " -1.75689    -1.28531    0.100958   -1.71289    -1.48798  \n",
       "  0.0628369  -0.486666   0.827343    0.846928   -0.0330998"
      ]
     },
     "execution_count": 23,
     "metadata": {},
     "output_type": "execute_result"
    }
   ],
   "source": [
    "A[ :, 6:10 ]"
   ]
  },
  {
   "cell_type": "markdown",
   "metadata": {},
   "source": [
    "If you wanted rows two through four and only columns 1, 4, and 8 through 10 of __A__:"
   ]
  },
  {
   "cell_type": "code",
   "execution_count": 24,
   "metadata": {},
   "outputs": [
    {
     "data": {
      "text/plain": [
       "3×5 Array{Float64,2}:\n",
       " 1.14903    -0.341152   0.0451831   0.703688  0.883861\n",
       " 1.39793     0.33189    2.6343     -0.405119  0.964984\n",
       " 0.0913294  -2.94939   -1.0988     -0.202924  0.680431"
      ]
     },
     "execution_count": 24,
     "metadata": {},
     "output_type": "execute_result"
    }
   ],
   "source": [
    "A[ 2:4, union( 1, 4, 8:10 ) ]"
   ]
  },
  {
   "cell_type": "markdown",
   "metadata": {},
   "source": [
    "You can also use boolean indexing to extract elements. Here a random 8 x 10 matrix of booleans is generated:"
   ]
  },
  {
   "cell_type": "code",
   "execution_count": 25,
   "metadata": {},
   "outputs": [
    {
     "data": {
      "text/plain": [
       "8×10 Array{Bool,2}:\n",
       " 1  0  1  1  1  1  0  0  1  1\n",
       " 1  1  1  0  0  0  0  0  1  1\n",
       " 0  0  1  1  1  1  0  1  0  1\n",
       " 0  0  1  1  0  1  1  1  1  1\n",
       " 0  1  1  0  1  0  0  0  0  1\n",
       " 1  1  1  0  1  0  0  1  1  0\n",
       " 1  1  1  0  0  0  1  1  0  1\n",
       " 1  0  1  1  0  0  0  1  0  1"
      ]
     },
     "execution_count": 25,
     "metadata": {},
     "output_type": "execute_result"
    }
   ],
   "source": [
    "mask = rand( Bool, 8, 10 )"
   ]
  },
  {
   "cell_type": "markdown",
   "metadata": {},
   "source": [
    "The following statment will return the elements of __A__ that correspond to the elemnts of *mask* that have an entry of *true*."
   ]
  },
  {
   "cell_type": "code",
   "execution_count": 26,
   "metadata": {},
   "outputs": [
    {
     "data": {
      "text/plain": [
       "46-element Array{Float64,1}:\n",
       "  0.4779906004617154  \n",
       "  1.1490289539040839  \n",
       " -0.2609850573252249  \n",
       " -0.030419300252597852\n",
       " -1.6728100680182765  \n",
       " -0.17300938984719688 \n",
       "  0.6607398127465368  \n",
       "  0.05832272832829405 \n",
       "  0.4521161170395089  \n",
       "  1.4432018651443566  \n",
       "  0.24141208261687264 \n",
       "  1.8961186681134268  \n",
       "  1.0531800212437652  \n",
       "  ⋮                   \n",
       "  0.8273434782364287  \n",
       " -0.9964485157153411  \n",
       "  0.7036880203603155  \n",
       " -0.20292419629678163 \n",
       "  0.4278656131968131  \n",
       "  0.9319602970345279  \n",
       "  0.8838607801670021  \n",
       "  0.9649839781962076  \n",
       "  0.6804312721084427  \n",
       " -1.3023382725579222  \n",
       " -1.487981704231936   \n",
       " -0.033099768327865216"
      ]
     },
     "execution_count": 26,
     "metadata": {},
     "output_type": "execute_result"
    }
   ],
   "source": [
    "A[ mask ]"
   ]
  },
  {
   "cell_type": "markdown",
   "metadata": {},
   "source": [
    "Similarly if you wanted to return the elements of __A__ that were, say, greater than zero you could do something like the following:"
   ]
  },
  {
   "cell_type": "code",
   "execution_count": 27,
   "metadata": {},
   "outputs": [
    {
     "data": {
      "text/plain": [
       "45-element Array{Float64,1}:\n",
       " 0.4779906004617154 \n",
       " 1.1490289539040839 \n",
       " 1.3979272377244707 \n",
       " 0.09132939704719677\n",
       " 0.8477573545239118 \n",
       " 0.7572072146997421 \n",
       " 0.6607398127465368 \n",
       " 0.05832272832829405\n",
       " 0.4521161170395089 \n",
       " 2.8193296060387536 \n",
       " 1.4432018651443566 \n",
       " 0.24141208261687264\n",
       " 1.8961186681134268 \n",
       " ⋮                  \n",
       " 2.6343049336168654 \n",
       " 1.1271288569792839 \n",
       " 0.28431807056508257\n",
       " 0.10095838214604047\n",
       " 0.8273434782364287 \n",
       " 0.7036880203603155 \n",
       " 0.4278656131968131 \n",
       " 0.8469278365525964 \n",
       " 0.9319602970345279 \n",
       " 0.8838607801670021 \n",
       " 0.9649839781962076 \n",
       " 0.6804312721084427 "
      ]
     },
     "execution_count": 27,
     "metadata": {},
     "output_type": "execute_result"
    }
   ],
   "source": [
    "A[ A .> 0 ]"
   ]
  },
  {
   "cell_type": "markdown",
   "metadata": {},
   "source": [
    "Note the dot notation used above which is necessary here to do an element-wise comparison."
   ]
  },
  {
   "cell_type": "markdown",
   "metadata": {},
   "source": [
    "One thing to be aware of when you do an assignment with arrays is that the new array is actually a *view* of the original array."
   ]
  },
  {
   "cell_type": "code",
   "execution_count": 28,
   "metadata": {},
   "outputs": [
    {
     "data": {
      "text/plain": [
       "8×10 Array{Float64,2}:\n",
       "  0.477991   -0.199791    1.4432    …   1.3439     -0.996449    0.93196  \n",
       "  1.14903    -0.173009    0.241412      0.0451831   0.703688    0.883861 \n",
       "  1.39793     0.847757    1.89612       2.6343     -0.405119    0.964984 \n",
       "  0.0913294   0.757207    1.05318      -1.0988     -0.202924    0.680431 \n",
       " -0.966571    0.66074     0.495949      1.12713    -0.0859766  -1.30234  \n",
       " -0.260985    0.0583227   0.779808  …   0.284318    0.427866   -1.30364  \n",
       " -0.0304193   0.452116    0.265134      0.100958   -1.71289    -1.48798  \n",
       " -1.67281     2.81933    -0.857127      0.827343    0.846928   -0.0330998"
      ]
     },
     "execution_count": 28,
     "metadata": {},
     "output_type": "execute_result"
    }
   ],
   "source": [
    "B = A"
   ]
  },
  {
   "cell_type": "code",
   "execution_count": 29,
   "metadata": {},
   "outputs": [
    {
     "data": {
      "text/plain": [
       "true"
      ]
     },
     "execution_count": 29,
     "metadata": {},
     "output_type": "execute_result"
    }
   ],
   "source": [
    "isequal( B, A )"
   ]
  },
  {
   "cell_type": "markdown",
   "metadata": {},
   "source": [
    "The `===` tests if __B__ and __A__ point to the same location in memory:"
   ]
  },
  {
   "cell_type": "code",
   "execution_count": 30,
   "metadata": {},
   "outputs": [
    {
     "data": {
      "text/plain": [
       "true"
      ]
     },
     "execution_count": 30,
     "metadata": {},
     "output_type": "execute_result"
    }
   ],
   "source": [
    "B === A"
   ]
  },
  {
   "cell_type": "markdown",
   "metadata": {},
   "source": [
    "Now let's change some elements of __B__. What do you think will happen to __A__?"
   ]
  },
  {
   "cell_type": "code",
   "execution_count": 31,
   "metadata": {},
   "outputs": [],
   "source": [
    "B[ 1, 1:end ] .= 999;"
   ]
  },
  {
   "cell_type": "code",
   "execution_count": 32,
   "metadata": {},
   "outputs": [
    {
     "data": {
      "text/plain": [
       "8×10 Array{Float64,2}:\n",
       " 999.0        999.0        999.0       …  999.0        999.0      \n",
       "   1.14903     -0.173009     0.241412       0.703688     0.883861 \n",
       "   1.39793      0.847757     1.89612       -0.405119     0.964984 \n",
       "   0.0913294    0.757207     1.05318       -0.202924     0.680431 \n",
       "  -0.966571     0.66074      0.495949      -0.0859766   -1.30234  \n",
       "  -0.260985     0.0583227    0.779808  …    0.427866    -1.30364  \n",
       "  -0.0304193    0.452116     0.265134      -1.71289     -1.48798  \n",
       "  -1.67281      2.81933     -0.857127       0.846928    -0.0330998"
      ]
     },
     "execution_count": 32,
     "metadata": {},
     "output_type": "execute_result"
    }
   ],
   "source": [
    "B"
   ]
  },
  {
   "cell_type": "markdown",
   "metadata": {},
   "source": [
    "Note that even though we changed the elements of __B__ the elements of the original array __A__ also changed."
   ]
  },
  {
   "cell_type": "code",
   "execution_count": 33,
   "metadata": {},
   "outputs": [
    {
     "data": {
      "text/plain": [
       "8×10 Array{Float64,2}:\n",
       " 999.0        999.0        999.0       …  999.0        999.0      \n",
       "   1.14903     -0.173009     0.241412       0.703688     0.883861 \n",
       "   1.39793      0.847757     1.89612       -0.405119     0.964984 \n",
       "   0.0913294    0.757207     1.05318       -0.202924     0.680431 \n",
       "  -0.966571     0.66074      0.495949      -0.0859766   -1.30234  \n",
       "  -0.260985     0.0583227    0.779808  …    0.427866    -1.30364  \n",
       "  -0.0304193    0.452116     0.265134      -1.71289     -1.48798  \n",
       "  -1.67281      2.81933     -0.857127       0.846928    -0.0330998"
      ]
     },
     "execution_count": 33,
     "metadata": {},
     "output_type": "execute_result"
    }
   ],
   "source": [
    "A"
   ]
  },
  {
   "cell_type": "markdown",
   "metadata": {},
   "source": [
    "If you want to avoid this behavior then you can use the `copy` function to make a copy of the original array:"
   ]
  },
  {
   "cell_type": "code",
   "execution_count": 34,
   "metadata": {},
   "outputs": [],
   "source": [
    "C = copy( A );"
   ]
  },
  {
   "cell_type": "code",
   "execution_count": 35,
   "metadata": {},
   "outputs": [
    {
     "data": {
      "text/plain": [
       "true"
      ]
     },
     "execution_count": 35,
     "metadata": {},
     "output_type": "execute_result"
    }
   ],
   "source": [
    "isequal( C, A )"
   ]
  },
  {
   "cell_type": "code",
   "execution_count": 36,
   "metadata": {},
   "outputs": [
    {
     "data": {
      "text/plain": [
       "false"
      ]
     },
     "execution_count": 36,
     "metadata": {},
     "output_type": "execute_result"
    }
   ],
   "source": [
    "C === A"
   ]
  },
  {
   "cell_type": "markdown",
   "metadata": {},
   "source": [
    "What the above shows is that __C__ points to a different location in memory than __A__, so you can change __C__ without affecting __A__."
   ]
  },
  {
   "cell_type": "markdown",
   "metadata": {},
   "source": [
    "Let's move on and look at some basic functions and operations that you can with arrays."
   ]
  },
  {
   "cell_type": "markdown",
   "metadata": {},
   "source": [
    "To check the dimension of an array you can use the `ndims` function:"
   ]
  },
  {
   "cell_type": "code",
   "execution_count": 37,
   "metadata": {},
   "outputs": [
    {
     "data": {
      "text/plain": [
       "8×10 Array{Float64,2}:\n",
       " -0.467513   -0.380963   0.383493  …   0.420136   0.275116   -1.49788  \n",
       "  0.173303   -0.279121  -0.272067      0.487355   1.13166    -0.10425  \n",
       "  1.27625     1.21316    0.273529     -0.912226  -0.0200588  -0.559369 \n",
       "  1.88922     0.858852   1.03317       0.128306   2.41678    -0.0133431\n",
       "  0.0797212  -0.204386  -0.19577      -0.120651  -0.339679    0.0574646\n",
       "  0.277614   -0.655177  -1.2291    …   0.863544  -0.275151    0.0885445\n",
       "  2.2218      0.232466   0.978386     -1.23424   -1.64764     0.895178 \n",
       " -0.933427    0.113479  -0.91557       0.560163  -0.648473    1.5168   "
      ]
     },
     "execution_count": 37,
     "metadata": {},
     "output_type": "execute_result"
    }
   ],
   "source": [
    "A = randn( 8, 10 )"
   ]
  },
  {
   "cell_type": "code",
   "execution_count": 38,
   "metadata": {},
   "outputs": [
    {
     "data": {
      "text/plain": [
       "2"
      ]
     },
     "execution_count": 38,
     "metadata": {},
     "output_type": "execute_result"
    }
   ],
   "source": [
    "ndims( A )"
   ]
  },
  {
   "cell_type": "markdown",
   "metadata": {},
   "source": [
    "To get the number of rows and columns use `size`:"
   ]
  },
  {
   "cell_type": "code",
   "execution_count": 39,
   "metadata": {},
   "outputs": [
    {
     "data": {
      "text/plain": [
       "(8, 10)"
      ]
     },
     "execution_count": 39,
     "metadata": {},
     "output_type": "execute_result"
    }
   ],
   "source": [
    "size( A )"
   ]
  },
  {
   "cell_type": "markdown",
   "metadata": {},
   "source": [
    "The `reshape` function will change the shape of the array:"
   ]
  },
  {
   "cell_type": "code",
   "execution_count": 40,
   "metadata": {},
   "outputs": [
    {
     "data": {
      "text/plain": [
       "8×10 Array{Float64,2}:\n",
       " -0.467513   -0.380963   0.383493  …   0.420136   0.275116   -1.49788  \n",
       "  0.173303   -0.279121  -0.272067      0.487355   1.13166    -0.10425  \n",
       "  1.27625     1.21316    0.273529     -0.912226  -0.0200588  -0.559369 \n",
       "  1.88922     0.858852   1.03317       0.128306   2.41678    -0.0133431\n",
       "  0.0797212  -0.204386  -0.19577      -0.120651  -0.339679    0.0574646\n",
       "  0.277614   -0.655177  -1.2291    …   0.863544  -0.275151    0.0885445\n",
       "  2.2218      0.232466   0.978386     -1.23424   -1.64764     0.895178 \n",
       " -0.933427    0.113479  -0.91557       0.560163  -0.648473    1.5168   "
      ]
     },
     "execution_count": 40,
     "metadata": {},
     "output_type": "execute_result"
    }
   ],
   "source": [
    "A"
   ]
  },
  {
   "cell_type": "code",
   "execution_count": 41,
   "metadata": {},
   "outputs": [
    {
     "data": {
      "text/plain": [
       "2×40 Array{Float64,2}:\n",
       " -0.467513  1.27625  0.0797212   2.2218    …  -0.559369   0.0574646  0.895178\n",
       "  0.173303  1.88922  0.277614   -0.933427     -0.0133431  0.0885445  1.5168  "
      ]
     },
     "execution_count": 41,
     "metadata": {},
     "output_type": "execute_result"
    }
   ],
   "source": [
    "C = reshape( A, 2, 40 )"
   ]
  },
  {
   "cell_type": "code",
   "execution_count": 42,
   "metadata": {},
   "outputs": [
    {
     "data": {
      "text/plain": [
       "(2, 40)"
      ]
     },
     "execution_count": 42,
     "metadata": {},
     "output_type": "execute_result"
    }
   ],
   "source": [
    "size( C )"
   ]
  },
  {
   "cell_type": "code",
   "execution_count": 43,
   "metadata": {},
   "outputs": [
    {
     "data": {
      "text/plain": [
       "5×5 Array{Float64,2}:\n",
       " -0.0708218   0.599349  -0.459466  -1.03224    0.748768\n",
       " -0.632277   -0.282738  -1.29403   -0.83848   -0.606101\n",
       "  0.264445    0.377428   0.743642  -0.72129   -2.16191 \n",
       "  1.18843    -0.4593     1.61646    0.577156   0.292473\n",
       " -0.53152    -0.10628   -0.19545   -1.53822   -0.75184 "
      ]
     },
     "execution_count": 43,
     "metadata": {},
     "output_type": "execute_result"
    }
   ],
   "source": [
    "A = randn( 5, 5 )"
   ]
  },
  {
   "cell_type": "markdown",
   "metadata": {},
   "source": [
    "To extract the diagonal elements of __A__:"
   ]
  },
  {
   "cell_type": "code",
   "execution_count": 44,
   "metadata": {},
   "outputs": [
    {
     "data": {
      "text/plain": [
       "5-element Array{Float64,1}:\n",
       " -0.07082178661879042\n",
       " -0.28273845074040893\n",
       "  0.7436423438909697 \n",
       "  0.5771563779374547 \n",
       " -0.7518400621645667 "
      ]
     },
     "execution_count": 44,
     "metadata": {},
     "output_type": "execute_result"
    }
   ],
   "source": [
    "using LinearAlgebra #this package contains the diag function and other linear algebra routines\n",
    "\n",
    "diag( A )"
   ]
  },
  {
   "cell_type": "markdown",
   "metadata": {},
   "source": [
    "You can use the following constructor notation to create an identity matrix:"
   ]
  },
  {
   "cell_type": "code",
   "execution_count": 45,
   "metadata": {},
   "outputs": [
    {
     "data": {
      "text/plain": [
       "5×5 Array{Float64,2}:\n",
       " 1.0  0.0  0.0  0.0  0.0\n",
       " 0.0  1.0  0.0  0.0  0.0\n",
       " 0.0  0.0  1.0  0.0  0.0\n",
       " 0.0  0.0  0.0  1.0  0.0\n",
       " 0.0  0.0  0.0  0.0  1.0"
      ]
     },
     "execution_count": 45,
     "metadata": {},
     "output_type": "execute_result"
    }
   ],
   "source": [
    "Imatfirst = Array{ Float64 }( I, 5, 5 )"
   ]
  },
  {
   "cell_type": "markdown",
   "metadata": {},
   "source": [
    "You can also use **undef** to initialize an array to nothing in particular (some undefined strings or some undefined integers):"
   ]
  },
  {
   "cell_type": "code",
   "execution_count": 46,
   "metadata": {},
   "outputs": [
    {
     "data": {
      "text/plain": [
       "5×5 Array{String,2}:\n",
       " #undef  #undef  #undef  #undef  #undef\n",
       " #undef  #undef  #undef  #undef  #undef\n",
       " #undef  #undef  #undef  #undef  #undef\n",
       " #undef  #undef  #undef  #undef  #undef\n",
       " #undef  #undef  #undef  #undef  #undef"
      ]
     },
     "execution_count": 46,
     "metadata": {},
     "output_type": "execute_result"
    }
   ],
   "source": [
    "InitStringArray = Array{ String }( undef, 5, 5 )"
   ]
  },
  {
   "cell_type": "code",
   "execution_count": 47,
   "metadata": {},
   "outputs": [
    {
     "data": {
      "text/plain": [
       "5×5 Array{Int64,2}:\n",
       " 139751752706928  139751752706928  139751752356560  139751752372096  0\n",
       " 139751752356560  139751752356560  139751752356560  139751467142480  0\n",
       " 139751752706928  139751752374960  139751752356560  139751752356560  0\n",
       " 139751752356560  139751752374960  139751752839776                0  0\n",
       " 139751752374032  139751752356560  139751752356560                0  0"
      ]
     },
     "execution_count": 47,
     "metadata": {},
     "output_type": "execute_result"
    }
   ],
   "source": [
    "InitIntArray = Array{ Int64 }( undef, 5, 5 )"
   ]
  },
  {
   "cell_type": "markdown",
   "metadata": {},
   "source": [
    "And the `zeros` function will create a matrix of zeros:"
   ]
  },
  {
   "cell_type": "code",
   "execution_count": 48,
   "metadata": {},
   "outputs": [
    {
     "data": {
      "text/plain": [
       "4×5 Array{Float64,2}:\n",
       " 0.0  0.0  0.0  0.0  0.0\n",
       " 0.0  0.0  0.0  0.0  0.0\n",
       " 0.0  0.0  0.0  0.0  0.0\n",
       " 0.0  0.0  0.0  0.0  0.0"
      ]
     },
     "execution_count": 48,
     "metadata": {},
     "output_type": "execute_result"
    }
   ],
   "source": [
    "zeros( 4, 5 )"
   ]
  },
  {
   "cell_type": "markdown",
   "metadata": {},
   "source": [
    "Instead of the `zeros` function another option is to use the `fill` function:"
   ]
  },
  {
   "cell_type": "code",
   "execution_count": 49,
   "metadata": {},
   "outputs": [
    {
     "data": {
      "text/plain": [
       "5×5 Array{Float64,2}:\n",
       " 0.0  0.0  0.0  0.0  0.0\n",
       " 0.0  0.0  0.0  0.0  0.0\n",
       " 0.0  0.0  0.0  0.0  0.0\n",
       " 0.0  0.0  0.0  0.0  0.0\n",
       " 0.0  0.0  0.0  0.0  0.0"
      ]
     },
     "execution_count": 49,
     "metadata": {},
     "output_type": "execute_result"
    }
   ],
   "source": [
    "fill( 0.0, ( 5, 5 ) )"
   ]
  },
  {
   "cell_type": "markdown",
   "metadata": {},
   "source": [
    "You can use `fill` to fill the array with any arbitray value (not just zeros)."
   ]
  },
  {
   "cell_type": "code",
   "execution_count": 50,
   "metadata": {},
   "outputs": [
    {
     "data": {
      "text/plain": [
       "5×5 Array{String,2}:\n",
       " \"foo\"  \"foo\"  \"foo\"  \"foo\"  \"foo\"\n",
       " \"foo\"  \"foo\"  \"foo\"  \"foo\"  \"foo\"\n",
       " \"foo\"  \"foo\"  \"foo\"  \"foo\"  \"foo\"\n",
       " \"foo\"  \"foo\"  \"foo\"  \"foo\"  \"foo\"\n",
       " \"foo\"  \"foo\"  \"foo\"  \"foo\"  \"foo\""
      ]
     },
     "execution_count": 50,
     "metadata": {},
     "output_type": "execute_result"
    }
   ],
   "source": [
    "fill( \"foo\", ( 5, 5 ) )"
   ]
  },
  {
   "cell_type": "markdown",
   "metadata": {},
   "source": [
    "The __ones__ function will create a matrix of ones:"
   ]
  },
  {
   "cell_type": "code",
   "execution_count": 51,
   "metadata": {},
   "outputs": [
    {
     "data": {
      "text/plain": [
       "5×5 Array{Float64,2}:\n",
       " 1.0  1.0  1.0  1.0  1.0\n",
       " 1.0  1.0  1.0  1.0  1.0\n",
       " 1.0  1.0  1.0  1.0  1.0\n",
       " 1.0  1.0  1.0  1.0  1.0\n",
       " 1.0  1.0  1.0  1.0  1.0"
      ]
     },
     "execution_count": 51,
     "metadata": {},
     "output_type": "execute_result"
    }
   ],
   "source": [
    "ones( 5, 5 )"
   ]
  },
  {
   "cell_type": "markdown",
   "metadata": {},
   "source": [
    "You can use also the `Diagonal` function with the `ones` function to create an identity matrix:"
   ]
  },
  {
   "cell_type": "code",
   "execution_count": 52,
   "metadata": {},
   "outputs": [
    {
     "data": {
      "text/plain": [
       "5×5 Diagonal{Float64,Array{Float64,1}}:\n",
       " 1.0   ⋅    ⋅    ⋅    ⋅ \n",
       "  ⋅   1.0   ⋅    ⋅    ⋅ \n",
       "  ⋅    ⋅   1.0   ⋅    ⋅ \n",
       "  ⋅    ⋅    ⋅   1.0   ⋅ \n",
       "  ⋅    ⋅    ⋅    ⋅   1.0"
      ]
     },
     "execution_count": 52,
     "metadata": {},
     "output_type": "execute_result"
    }
   ],
   "source": [
    "Imatsec = Diagonal( ones( 5, 5 ) )"
   ]
  },
  {
   "cell_type": "markdown",
   "metadata": {},
   "source": [
    "We can see that the second method of creating the identity matrix is more storage-efficient:"
   ]
  },
  {
   "cell_type": "code",
   "execution_count": 53,
   "metadata": {},
   "outputs": [
    {
     "data": {
      "text/latex": [
       "\\begin{tabular}\n",
       "{l | r | l}\n",
       "name & size & summary \\\\\n",
       "\\hline\n",
       "A & 240 bytes & 5×5 Array\\{Float64,2\\} \\\\\n",
       "B & 680 bytes & 8×10 Array\\{Float64,2\\} \\\\\n",
       "Base &  & Module \\\\\n",
       "C & 680 bytes & 2×40 Array\\{Float64,2\\} \\\\\n",
       "Core &  & Module \\\\\n",
       "Imatfirst & 240 bytes & 5×5 Array\\{Float64,2\\} \\\\\n",
       "Imatsec & 88 bytes & 5×5 Diagonal\\{Float64,Array\\{Float64,1\\}\\} \\\\\n",
       "InitIntArray & 240 bytes & 5×5 Array\\{Int64,2\\} \\\\\n",
       "InitStringArray & 240 bytes & 5×5 Array\\{String,2\\} \\\\\n",
       "Main &  & Module \\\\\n",
       "a & 160 bytes & 15-element Array\\{Float64,1\\} \\\\\n",
       "b & 88 bytes & 6-element Array\\{Int64,1\\} \\\\\n",
       "eucnormsq & 8 bytes & Float64 \\\\\n",
       "exp\\_a & 160 bytes & 15-element Array\\{Float64,1\\} \\\\\n",
       "filt\\_a & 120 bytes & 10-element Array\\{Float64,1\\} \\\\\n",
       "mask & 120 bytes & 8×10 Array\\{Bool,2\\} \\\\\n",
       "red\\_a & 8 bytes & Float64 \\\\\n",
       "\\end{tabular}\n"
      ],
      "text/markdown": [
       "| name            |      size | summary                                |\n",
       "|:--------------- | ---------:|:-------------------------------------- |\n",
       "| A               | 240 bytes | 5×5 Array{Float64,2}                   |\n",
       "| B               | 680 bytes | 8×10 Array{Float64,2}                  |\n",
       "| Base            |           | Module                                 |\n",
       "| C               | 680 bytes | 2×40 Array{Float64,2}                  |\n",
       "| Core            |           | Module                                 |\n",
       "| Imatfirst       | 240 bytes | 5×5 Array{Float64,2}                   |\n",
       "| Imatsec         |  88 bytes | 5×5 Diagonal{Float64,Array{Float64,1}} |\n",
       "| InitIntArray    | 240 bytes | 5×5 Array{Int64,2}                     |\n",
       "| InitStringArray | 240 bytes | 5×5 Array{String,2}                    |\n",
       "| Main            |           | Module                                 |\n",
       "| a               | 160 bytes | 15-element Array{Float64,1}            |\n",
       "| b               |  88 bytes | 6-element Array{Int64,1}               |\n",
       "| eucnormsq       |   8 bytes | Float64                                |\n",
       "| exp_a           | 160 bytes | 15-element Array{Float64,1}            |\n",
       "| filt_a          | 120 bytes | 10-element Array{Float64,1}            |\n",
       "| mask            | 120 bytes | 8×10 Array{Bool,2}                     |\n",
       "| red_a           |   8 bytes | Float64                                |\n"
      ],
      "text/plain": [
       "  name                 size summary                               \n",
       "  ––––––––––––––– ––––––––– ––––––––––––––––––––––––––––––––––––––\n",
       "  A               240 bytes 5×5 Array{Float64,2}                  \n",
       "  B               680 bytes 8×10 Array{Float64,2}                 \n",
       "  Base                      Module                                \n",
       "  C               680 bytes 2×40 Array{Float64,2}                 \n",
       "  Core                      Module                                \n",
       "  Imatfirst       240 bytes 5×5 Array{Float64,2}                  \n",
       "  Imatsec          88 bytes 5×5 Diagonal{Float64,Array{Float64,1}}\n",
       "  InitIntArray    240 bytes 5×5 Array{Int64,2}                    \n",
       "  InitStringArray 240 bytes 5×5 Array{String,2}                   \n",
       "  Main                      Module                                \n",
       "  a               160 bytes 15-element Array{Float64,1}           \n",
       "  b                88 bytes 6-element Array{Int64,1}              \n",
       "  eucnormsq         8 bytes Float64                               \n",
       "  exp_a           160 bytes 15-element Array{Float64,1}           \n",
       "  filt_a          120 bytes 10-element Array{Float64,1}           \n",
       "  mask            120 bytes 8×10 Array{Bool,2}                    \n",
       "  red_a             8 bytes Float64                               "
      ]
     },
     "execution_count": 53,
     "metadata": {},
     "output_type": "execute_result"
    }
   ],
   "source": [
    "InteractiveUtils.varinfo()"
   ]
  },
  {
   "cell_type": "markdown",
   "metadata": {},
   "source": [
    "And to create a diagonal matrix use `diagm`:"
   ]
  },
  {
   "cell_type": "code",
   "execution_count": 54,
   "metadata": {},
   "outputs": [
    {
     "data": {
      "text/plain": [
       "4×4 Array{Int64,2}:\n",
       " 1  0  0  0\n",
       " 0  2  0  0\n",
       " 0  0  8  0\n",
       " 0  0  0  9"
      ]
     },
     "execution_count": 54,
     "metadata": {},
     "output_type": "execute_result"
    }
   ],
   "source": [
    "diagm( 0 => [ 1, 2, 8, 9 ] )"
   ]
  },
  {
   "cell_type": "markdown",
   "metadata": {},
   "source": [
    "The first argument in `diagm` specifies the offset. So if wanted the diagonal to be offset by -1:"
   ]
  },
  {
   "cell_type": "code",
   "execution_count": 55,
   "metadata": {},
   "outputs": [
    {
     "data": {
      "text/plain": [
       "5×5 Array{Int64,2}:\n",
       " 0  0  0  0  0\n",
       " 1  0  0  0  0\n",
       " 0  2  0  0  0\n",
       " 0  0  8  0  0\n",
       " 0  0  0  9  0"
      ]
     },
     "execution_count": 55,
     "metadata": {},
     "output_type": "execute_result"
    }
   ],
   "source": [
    "diagm( -1 => [ 1, 2, 8, 9 ] )"
   ]
  },
  {
   "cell_type": "markdown",
   "metadata": {},
   "source": [
    "As mentioned before, if you want to do element-wise operations on an array you use dot notation. To demonstrate let's first generate a random matrix."
   ]
  },
  {
   "cell_type": "code",
   "execution_count": 56,
   "metadata": {},
   "outputs": [
    {
     "data": {
      "text/plain": [
       "4×5 Array{Float64,2}:\n",
       "  0.76591    0.385117    2.00326    0.118398   0.108468 \n",
       " -0.550899   0.0551669  -0.782166  -0.836905   0.74461  \n",
       " -0.700863  -1.59515    -0.672414  -0.235647  -0.406396 \n",
       "  0.274919   0.42225     0.062825  -0.447235   0.0153915"
      ]
     },
     "execution_count": 56,
     "metadata": {},
     "output_type": "execute_result"
    }
   ],
   "source": [
    "A = randn( 4, 5 )"
   ]
  },
  {
   "cell_type": "markdown",
   "metadata": {},
   "source": [
    "Now we square every element of __A__ using the dot syntax:"
   ]
  },
  {
   "cell_type": "code",
   "execution_count": 57,
   "metadata": {},
   "outputs": [
    {
     "data": {
      "text/plain": [
       "4×5 Array{Float64,2}:\n",
       " 0.586618   0.148315    4.01306     0.0140181  0.0117654  \n",
       " 0.30349    0.00304339  0.611784    0.70041    0.554444   \n",
       " 0.491209   2.54452     0.45214     0.0555293  0.165157   \n",
       " 0.0755803  0.178295    0.00394698  0.200019   0.000236899"
      ]
     },
     "execution_count": 57,
     "metadata": {},
     "output_type": "execute_result"
    }
   ],
   "source": [
    "A.^2"
   ]
  },
  {
   "cell_type": "markdown",
   "metadata": {},
   "source": [
    "Similarly we can do element-wise division between two matrices. Below we can create a new random matrix __B__ then divide the elements of __A__ by their corresponding elements in __B__."
   ]
  },
  {
   "cell_type": "code",
   "execution_count": 58,
   "metadata": {},
   "outputs": [
    {
     "data": {
      "text/plain": [
       "4×5 Array{Float64,2}:\n",
       "  0.672032   0.479321   1.28393    0.533865  -0.627303\n",
       " -1.04185    0.328471  -0.385019  -0.732564   1.02231 \n",
       "  0.87989    0.150005  -0.401088  -0.123529   0.213244\n",
       "  0.150085  -1.71791   -0.122684   3.00457   -0.860433"
      ]
     },
     "execution_count": 58,
     "metadata": {},
     "output_type": "execute_result"
    }
   ],
   "source": [
    "B =  randn( 4, 5 )"
   ]
  },
  {
   "cell_type": "code",
   "execution_count": 59,
   "metadata": {},
   "outputs": [
    {
     "data": {
      "text/plain": [
       "4×5 Array{Float64,2}:\n",
       "  1.13969     0.803462   1.56026    0.221775  -0.172912 \n",
       "  0.528768    0.167951   2.0315     1.14243    0.728359 \n",
       " -0.796535  -10.634      1.67647    1.90762   -1.90578  \n",
       "  1.83176    -0.245793  -0.512087  -0.148851  -0.0178881"
      ]
     },
     "execution_count": 59,
     "metadata": {},
     "output_type": "execute_result"
    }
   ],
   "source": [
    "A ./ B"
   ]
  },
  {
   "cell_type": "markdown",
   "metadata": {},
   "source": [
    "There are a lot of basic functions that can be applied to arrays: `sum`, `mean`, `sort`, etc."
   ]
  },
  {
   "cell_type": "code",
   "execution_count": 60,
   "metadata": {},
   "outputs": [
    {
     "data": {
      "text/plain": [
       "3×4 Array{Int64,2}:\n",
       " 1  -1   2  3\n",
       " 4  -3   1  0\n",
       " 7  -3  -3  2"
      ]
     },
     "execution_count": 60,
     "metadata": {},
     "output_type": "execute_result"
    }
   ],
   "source": [
    "A = [ [ 1 -1 2 3 ]; [ 4 -3 1 0 ]; [ 7 -3 -3 2 ] ]"
   ]
  },
  {
   "cell_type": "markdown",
   "metadata": {},
   "source": [
    "To sum all the elements of **A**:"
   ]
  },
  {
   "cell_type": "code",
   "execution_count": 61,
   "metadata": {},
   "outputs": [
    {
     "data": {
      "text/plain": [
       "10"
      ]
     },
     "execution_count": 61,
     "metadata": {},
     "output_type": "execute_result"
    }
   ],
   "source": [
    "sum( A )"
   ]
  },
  {
   "cell_type": "code",
   "execution_count": 62,
   "metadata": {},
   "outputs": [
    {
     "data": {
      "text/plain": [
       "1×4 Array{Int64,2}:\n",
       " 12  -7  0  5"
      ]
     },
     "execution_count": 62,
     "metadata": {},
     "output_type": "execute_result"
    }
   ],
   "source": [
    "sum( A, dims = 1 ) #sums each column"
   ]
  },
  {
   "cell_type": "code",
   "execution_count": 63,
   "metadata": {},
   "outputs": [
    {
     "data": {
      "text/plain": [
       "3×1 Array{Int64,2}:\n",
       " 5\n",
       " 2\n",
       " 3"
      ]
     },
     "execution_count": 63,
     "metadata": {},
     "output_type": "execute_result"
    }
   ],
   "source": [
    "sum( A, dims = 2 ) #sums each row"
   ]
  },
  {
   "cell_type": "code",
   "execution_count": 64,
   "metadata": {},
   "outputs": [
    {
     "data": {
      "text/plain": [
       "3×4 Array{Int64,2}:\n",
       " 1  -1   2  3\n",
       " 4  -3   1  0\n",
       " 7  -3  -3  2"
      ]
     },
     "execution_count": 64,
     "metadata": {},
     "output_type": "execute_result"
    }
   ],
   "source": [
    "A"
   ]
  },
  {
   "cell_type": "markdown",
   "metadata": {},
   "source": [
    "The `sort` function will sort the array along the indicated dimension."
   ]
  },
  {
   "cell_type": "code",
   "execution_count": 65,
   "metadata": {},
   "outputs": [
    {
     "data": {
      "text/plain": [
       "3×4 Array{Int64,2}:\n",
       " 1  -3  -3  0\n",
       " 4  -3   1  2\n",
       " 7  -1   2  3"
      ]
     },
     "execution_count": 65,
     "metadata": {},
     "output_type": "execute_result"
    }
   ],
   "source": [
    "sort( A, dims = 1 ) #sort each column in ascending order"
   ]
  },
  {
   "cell_type": "code",
   "execution_count": 66,
   "metadata": {},
   "outputs": [
    {
     "data": {
      "text/plain": [
       "3×4 Array{Int64,2}:\n",
       " 7  -1   2  3\n",
       " 4  -3   1  2\n",
       " 1  -3  -3  0"
      ]
     },
     "execution_count": 66,
     "metadata": {},
     "output_type": "execute_result"
    }
   ],
   "source": [
    "sort( A, dims= 1, rev=true ) #sort each column in descending order"
   ]
  },
  {
   "cell_type": "code",
   "execution_count": 67,
   "metadata": {},
   "outputs": [
    {
     "data": {
      "text/plain": [
       "3×4 Array{Int64,2}:\n",
       " 1  -1   2  3\n",
       " 4  -3   1  0\n",
       " 7  -3  -3  2"
      ]
     },
     "execution_count": 67,
     "metadata": {},
     "output_type": "execute_result"
    }
   ],
   "source": [
    "A"
   ]
  },
  {
   "cell_type": "code",
   "execution_count": 68,
   "metadata": {},
   "outputs": [
    {
     "data": {
      "text/plain": [
       "3×4 Array{Int64,2}:\n",
       " -1   1  2  3\n",
       " -3   0  1  4\n",
       " -3  -3  2  7"
      ]
     },
     "execution_count": 68,
     "metadata": {},
     "output_type": "execute_result"
    }
   ],
   "source": [
    "sort( A, dims = 2 ) #sort each row in ascending order"
   ]
  },
  {
   "cell_type": "markdown",
   "metadata": {},
   "source": [
    "Finally concatenating arrays is a very common operation. You can use the built-ins `hcat` and `vcat` to concatenate arrays. The `vcat` function will concatenate the arrays column wise (i.e. along dimension 1); `hcat` will concatenate arrays row wise (i.e. along dimension 2)."
   ]
  },
  {
   "cell_type": "code",
   "execution_count": 69,
   "metadata": {},
   "outputs": [
    {
     "data": {
      "text/plain": [
       "2×2 Array{Int64,2}:\n",
       " 1  2\n",
       " 3  4"
      ]
     },
     "execution_count": 69,
     "metadata": {},
     "output_type": "execute_result"
    }
   ],
   "source": [
    "A = [ 1 2; 3 4 ]"
   ]
  },
  {
   "cell_type": "code",
   "execution_count": 70,
   "metadata": {},
   "outputs": [
    {
     "data": {
      "text/plain": [
       "3×2 Array{Int64,2}:\n",
       " 5   6\n",
       " 7   8\n",
       " 9  10"
      ]
     },
     "execution_count": 70,
     "metadata": {},
     "output_type": "execute_result"
    }
   ],
   "source": [
    "B = [ 5 6; 7 8; 9 10 ]"
   ]
  },
  {
   "cell_type": "code",
   "execution_count": 71,
   "metadata": {},
   "outputs": [
    {
     "data": {
      "text/plain": [
       "2×1 Array{Float64,2}:\n",
       " 1.7355615224469705\n",
       " 0.6616088518522533"
      ]
     },
     "execution_count": 71,
     "metadata": {},
     "output_type": "execute_result"
    }
   ],
   "source": [
    "C = randn( 2, 1 )"
   ]
  },
  {
   "cell_type": "code",
   "execution_count": 72,
   "metadata": {},
   "outputs": [
    {
     "data": {
      "text/plain": [
       "5×2 Array{Int64,2}:\n",
       " 1   2\n",
       " 3   4\n",
       " 5   6\n",
       " 7   8\n",
       " 9  10"
      ]
     },
     "execution_count": 72,
     "metadata": {},
     "output_type": "execute_result"
    }
   ],
   "source": [
    "vcat( A, B )  #stacks A on top of B"
   ]
  },
  {
   "cell_type": "code",
   "execution_count": 73,
   "metadata": {},
   "outputs": [
    {
     "data": {
      "text/plain": [
       "2×5 Array{Float64,2}:\n",
       " 1.0  2.0  1.73556   1.0  2.0\n",
       " 3.0  4.0  0.661609  3.0  4.0"
      ]
     },
     "execution_count": 73,
     "metadata": {},
     "output_type": "execute_result"
    }
   ],
   "source": [
    "hcat( A, C, A ) #horizontally binds A to C to A"
   ]
  },
  {
   "cell_type": "markdown",
   "metadata": {},
   "source": [
    "# Exercise 3\n",
    "* Create a 5 by 8 random array called *B* using **randn**.\n",
    "* Find the elements of *B* that are less than 0.2.\n",
    "* Retrieve the number of rows and columns of *B*.\n",
    "* Multiply every element of *B* by 3 and assign that to a new array called *C*.\n",
    "* Sort each row of *C* in ascending order."
   ]
  },
  {
   "cell_type": "code",
   "execution_count": null,
   "metadata": {},
   "outputs": [],
   "source": []
  },
  {
   "cell_type": "markdown",
   "metadata": {},
   "source": [
    "In this lesson we covered:\n",
    "* Single and multi-dimensional arrays.\n",
    "* Array indexing.\n",
    "* Applying functions to arrays."
   ]
  }
 ],
 "metadata": {
  "kernelspec": {
   "display_name": "Julia 1.3.0",
   "language": "julia",
   "name": "julia-1.3"
  },
  "language_info": {
   "file_extension": ".jl",
   "mimetype": "application/julia",
   "name": "julia",
   "version": "1.3.0"
  }
 },
 "nbformat": 4,
 "nbformat_minor": 4
}
